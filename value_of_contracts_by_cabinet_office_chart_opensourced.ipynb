{
  "nbformat": 4,
  "nbformat_minor": 0,
  "metadata": {
    "colab": {
      "name": "value_of_contracts_by_cabinet_office_chart_opensourced.ipynb",
      "provenance": [],
      "collapsed_sections": [],
      "include_colab_link": true
    },
    "kernelspec": {
      "name": "python3",
      "display_name": "Python 3"
    }
  },
  "cells": [
    {
      "cell_type": "markdown",
      "metadata": {
        "id": "view-in-github",
        "colab_type": "text"
      },
      "source": [
        "<a href=\"https://colab.research.google.com/github/spendnetwork/charts/blob/master/value_of_contracts_by_cabinet_office_chart_opensourced.ipynb\" target=\"_parent\"><img src=\"https://colab.research.google.com/assets/colab-badge.svg\" alt=\"Open In Colab\"/></a>"
      ]
    },
    {
      "cell_type": "code",
      "metadata": {
        "id": "tqc2iXLl8hTN",
        "colab_type": "code",
        "colab": {}
      },
      "source": [
        "import pandas as pd\n",
        "import altair as alt"
      ],
      "execution_count": 0,
      "outputs": []
    },
    {
      "cell_type": "code",
      "metadata": {
        "id": "dfMVbVJs7f-3",
        "colab_type": "code",
        "colab": {}
      },
      "source": [
        "url = 'https://raw.githubusercontent.com/dorahomoki/hello-world/master/contracts_by_buyer_cabinet_office.csv?token=9fcbd8d8883fdd886e2c3ddc09534633cef0f350'\n",
        "df = pd.read_csv(url)\n",
        "#print(df)"
      ],
      "execution_count": 0,
      "outputs": []
    },
    {
      "cell_type": "code",
      "metadata": {
        "id": "ocvP41ZMahE8",
        "colab_type": "code",
        "colab": {}
      },
      "source": [
        "df['releasedate']=pd.to_datetime(df['releasedate']).dt.strftime('%m/%d/%Y')"
      ],
      "execution_count": 0,
      "outputs": []
    },
    {
      "cell_type": "code",
      "metadata": {
        "id": "3UEM3xRs8tMF",
        "colab_type": "code",
        "colab": {}
      },
      "source": [
        "df1=(df.groupby('releasedate').agg({'ocid': ['count'], 'aw_value': 'sum'}))\n",
        "#df1.head()"
      ],
      "execution_count": 0,
      "outputs": []
    },
    {
      "cell_type": "code",
      "metadata": {
        "id": "DqsTJ_0lJFMl",
        "colab_type": "code",
        "colab": {}
      },
      "source": [
        "df1.columns = df1.columns.map('_'.join)\n",
        "df1 = df1.reset_index()\n",
        "#df1.head()"
      ],
      "execution_count": 0,
      "outputs": []
    },
    {
      "cell_type": "code",
      "metadata": {
        "id": "o74MSUwJZzgX",
        "colab_type": "code",
        "colab": {}
      },
      "source": [
        "#df1['releasedate']=pd.to_datetime(df1['releasedate'].dt.strftime('%m/%d/%Y'))\n",
        "#df1['releasedate']=pd.to_datetime(df1['releasedate']).dt.strftime('%m/%d/%Y') \n",
        "#df1.head()"
      ],
      "execution_count": 0,
      "outputs": []
    },
    {
      "cell_type": "code",
      "metadata": {
        "id": "km6J-8euyboY",
        "colab_type": "code",
        "outputId": "948b7c79-b9d8-4ac9-a9ae-6a629bfe3a1e",
        "colab": {
          "base_uri": "https://localhost:8080/",
          "height": 350
        }
      },
      "source": [
        "        chart = (\n",
        "            alt.Chart(df1, width=1200, height=250, title=\"Total value of of contracts by Cabinet Office\")\n",
        "                .mark_bar(color='#91D739')\n",
        "                .encode(\n",
        "                alt.X(\n",
        "                    \"yearmonth(releasedate):O\",\n",
        "                    ## xAxis title must be \"Source: https://openopps.com\"\n",
        "                    axis=alt.Axis(title=\"Source: https://openopps.com\", grid=False, \n",
        "                labelFont='Helvetica', \n",
        "                labelFontSize=12, \n",
        "                labelAngle=0, \n",
        "                titleAlign='left',\n",
        "                titleAnchor='start',\n",
        "                titleFont='Helvetica',\n",
        "                titleFontSize= 11,\n",
        "                titleFontWeight= 300,\n",
        "                titleX= -0,\n",
        "                titleY= 30)\n",
        "                ),\n",
        "                alt.Y(\"sum(aw_value_sum):Q\",\n",
        "                      axis=alt.Axis(title=\"\",\n",
        "                                    format=\"$,.0s\"),\n",
        "                      ),\n",
        "                tooltip=[\n",
        "                    alt.Tooltip('sum(aw_value_sum):Q', title=\"Total value\", format=\"$,.4r\"),\n",
        "                    alt.Tooltip('sum(ocid_count):Q', title=\"Total contracts\")\n",
        "                ],\n",
        "                  # suppress the legend for now.\n",
        "            )\n",
        "        )\n",
        "\n",
        "        text = (\n",
        "            chart.mark_text(align=\"center\", baseline=\"bottom\")\n",
        "                .encode(text=alt.Text('sum(aw_value_sum):Q', format='$,.1s'))\n",
        "        )\n",
        "\n",
        "        (chart+text).configure_view(\n",
        "          strokeWidth=0\n",
        "        ).configure_title(fontSize=18, anchor='start',\n",
        "                color= \"#91D739\", font='Helvetica', fontWeight=400)\n"
      ],
      "execution_count": 0,
      "outputs": [
        {
          "output_type": "execute_result",
          "data": {
            "text/plain": [
              "alt.LayerChart(...)"
            ],
            "text/html": [
              "\n",
              "<div id=\"altair-viz-ca683ed5971b47579aba60909e6eec2e\"></div>\n",
              "<script type=\"text/javascript\">\n",
              "  (function(spec, embedOpt){\n",
              "    const outputDiv = document.getElementById(\"altair-viz-ca683ed5971b47579aba60909e6eec2e\");\n",
              "    const paths = {\n",
              "      \"vega\": \"https://cdn.jsdelivr.net/npm//vega@5?noext\",\n",
              "      \"vega-lib\": \"https://cdn.jsdelivr.net/npm//vega-lib?noext\",\n",
              "      \"vega-lite\": \"https://cdn.jsdelivr.net/npm//vega-lite@4.0.2?noext\",\n",
              "      \"vega-embed\": \"https://cdn.jsdelivr.net/npm//vega-embed@6?noext\",\n",
              "    };\n",
              "\n",
              "    function loadScript(lib) {\n",
              "      return new Promise(function(resolve, reject) {\n",
              "        var s = document.createElement('script');\n",
              "        s.src = paths[lib];\n",
              "        s.async = true;\n",
              "        s.onload = () => resolve(paths[lib]);\n",
              "        s.onerror = () => reject(`Error loading script: ${paths[lib]}`);\n",
              "        document.getElementsByTagName(\"head\")[0].appendChild(s);\n",
              "      });\n",
              "    }\n",
              "\n",
              "    function showError(err) {\n",
              "      outputDiv.innerHTML = `<div class=\"error\" style=\"color:red;\">${err}</div>`;\n",
              "      throw err;\n",
              "    }\n",
              "\n",
              "    function displayChart(vegaEmbed) {\n",
              "      vegaEmbed(outputDiv, spec, embedOpt)\n",
              "        .catch(err => showError(`Javascript Error: ${err.message}<br>This usually means there's a typo in your chart specification. See the javascript console for the full traceback.`));\n",
              "    }\n",
              "\n",
              "    if(typeof define === \"function\" && define.amd) {\n",
              "      requirejs.config({paths});\n",
              "      require([\"vega-embed\"], displayChart, err => showError(`Error loading script: ${err.message}`));\n",
              "    } else if (typeof vegaEmbed === \"function\") {\n",
              "      displayChart(vegaEmbed);\n",
              "    } else {\n",
              "      loadScript(\"vega\")\n",
              "        .then(() => loadScript(\"vega-lite\"))\n",
              "        .then(() => loadScript(\"vega-embed\"))\n",
              "        .catch(showError)\n",
              "        .then(() => displayChart(vegaEmbed));\n",
              "    }\n",
              "  })({\"config\": {\"view\": {\"continuousWidth\": 400, \"continuousHeight\": 300, \"strokeWidth\": 0}, \"title\": {\"anchor\": \"start\", \"color\": \"#91D739\", \"font\": \"Helvetica\", \"fontSize\": 18, \"fontWeight\": 400}}, \"layer\": [{\"mark\": {\"type\": \"bar\", \"color\": \"#91D739\"}, \"encoding\": {\"tooltip\": [{\"type\": \"quantitative\", \"aggregate\": \"sum\", \"field\": \"aw_value_sum\", \"format\": \"$,.4r\", \"title\": \"Total value\"}, {\"type\": \"quantitative\", \"aggregate\": \"sum\", \"field\": \"ocid_count\", \"title\": \"Total contracts\"}], \"x\": {\"type\": \"ordinal\", \"axis\": {\"grid\": false, \"labelAngle\": 0, \"labelFont\": \"Helvetica\", \"labelFontSize\": 12, \"title\": \"Source: https://openopps.com\", \"titleAlign\": \"left\", \"titleAnchor\": \"start\", \"titleFont\": \"Helvetica\", \"titleFontSize\": 11, \"titleFontWeight\": 300, \"titleX\": 0, \"titleY\": 30}, \"field\": \"releasedate\", \"timeUnit\": \"yearmonth\"}, \"y\": {\"type\": \"quantitative\", \"aggregate\": \"sum\", \"axis\": {\"format\": \"$,.0s\", \"title\": \"\"}, \"field\": \"aw_value_sum\"}}, \"height\": 250, \"title\": \"Total value of of contracts by Cabinet Office\", \"width\": 1200}, {\"mark\": {\"type\": \"text\", \"align\": \"center\", \"baseline\": \"bottom\"}, \"encoding\": {\"text\": {\"type\": \"quantitative\", \"aggregate\": \"sum\", \"field\": \"aw_value_sum\", \"format\": \"$,.1s\"}, \"tooltip\": [{\"type\": \"quantitative\", \"aggregate\": \"sum\", \"field\": \"aw_value_sum\", \"format\": \"$,.4r\", \"title\": \"Total value\"}, {\"type\": \"quantitative\", \"aggregate\": \"sum\", \"field\": \"ocid_count\", \"title\": \"Total contracts\"}], \"x\": {\"type\": \"ordinal\", \"axis\": {\"grid\": false, \"labelAngle\": 0, \"labelFont\": \"Helvetica\", \"labelFontSize\": 12, \"title\": \"Source: https://openopps.com\", \"titleAlign\": \"left\", \"titleAnchor\": \"start\", \"titleFont\": \"Helvetica\", \"titleFontSize\": 11, \"titleFontWeight\": 300, \"titleX\": 0, \"titleY\": 30}, \"field\": \"releasedate\", \"timeUnit\": \"yearmonth\"}, \"y\": {\"type\": \"quantitative\", \"aggregate\": \"sum\", \"axis\": {\"format\": \"$,.0s\", \"title\": \"\"}, \"field\": \"aw_value_sum\"}}, \"height\": 250, \"title\": \"Total value of of contracts by Cabinet Office\", \"width\": 1200}], \"data\": {\"name\": \"data-8b0c1942d17913121569245191db7c86\"}, \"$schema\": \"https://vega.github.io/schema/vega-lite/v4.0.2.json\", \"datasets\": {\"data-8b0c1942d17913121569245191db7c86\": [{\"releasedate\": \"01/06/2017\", \"ocid_count\": 3, \"aw_value_sum\": 2135722.0}, {\"releasedate\": \"01/07/2017\", \"ocid_count\": 10, \"aw_value_sum\": 186100000.0}, {\"releasedate\": \"01/07/2019\", \"ocid_count\": 1, \"aw_value_sum\": 998000.0}, {\"releasedate\": \"01/08/2019\", \"ocid_count\": 1, \"aw_value_sum\": 44475.72}, {\"releasedate\": \"01/10/2019\", \"ocid_count\": 3, \"aw_value_sum\": 3924000.0}, {\"releasedate\": \"01/11/2017\", \"ocid_count\": 28, \"aw_value_sum\": 0.0}, {\"releasedate\": \"01/11/2018\", \"ocid_count\": 2, \"aw_value_sum\": 722440.0}, {\"releasedate\": \"01/16/2019\", \"ocid_count\": 1, \"aw_value_sum\": 60000.0}, {\"releasedate\": \"01/18/2019\", \"ocid_count\": 1, \"aw_value_sum\": 4500000.0}, {\"releasedate\": \"01/20/2017\", \"ocid_count\": 1, \"aw_value_sum\": 3200000.0}, {\"releasedate\": \"01/21/2019\", \"ocid_count\": 1, \"aw_value_sum\": 136108.0}, {\"releasedate\": \"01/24/2017\", \"ocid_count\": 3, \"aw_value_sum\": 104806.0}, {\"releasedate\": \"01/25/2017\", \"ocid_count\": 5, \"aw_value_sum\": 950000000.0}, {\"releasedate\": \"01/25/2019\", \"ocid_count\": 1, \"aw_value_sum\": 90000.0}, {\"releasedate\": \"01/28/2017\", \"ocid_count\": 2, \"aw_value_sum\": 0.0}, {\"releasedate\": \"01/28/2019\", \"ocid_count\": 5, \"aw_value_sum\": 3747471.75}, {\"releasedate\": \"01/30/2019\", \"ocid_count\": 10, \"aw_value_sum\": 1410000.0}, {\"releasedate\": \"01/31/2018\", \"ocid_count\": 1, \"aw_value_sum\": 550000.0}, {\"releasedate\": \"02/03/2018\", \"ocid_count\": 1, \"aw_value_sum\": 15000000000.0}, {\"releasedate\": \"02/06/2018\", \"ocid_count\": 7, \"aw_value_sum\": 48000000.0}, {\"releasedate\": \"02/07/2018\", \"ocid_count\": 6, \"aw_value_sum\": 0.0}, {\"releasedate\": \"02/07/2019\", \"ocid_count\": 1, \"aw_value_sum\": 199800.0}, {\"releasedate\": \"02/14/2019\", \"ocid_count\": 2, \"aw_value_sum\": 3095075.0}, {\"releasedate\": \"02/15/2018\", \"ocid_count\": 1, \"aw_value_sum\": 19600.0}, {\"releasedate\": \"02/15/2019\", \"ocid_count\": 1, \"aw_value_sum\": 54560.0}, {\"releasedate\": \"02/20/2018\", \"ocid_count\": 1, \"aw_value_sum\": 9000.0}, {\"releasedate\": \"02/21/2017\", \"ocid_count\": 67, \"aw_value_sum\": 0.0}, {\"releasedate\": \"02/22/2019\", \"ocid_count\": 22, \"aw_value_sum\": 10828544.499999998}, {\"releasedate\": \"02/25/2017\", \"ocid_count\": 1, \"aw_value_sum\": 345000000.0}, {\"releasedate\": \"02/26/2019\", \"ocid_count\": 12, \"aw_value_sum\": 5488200.0}, {\"releasedate\": \"02/27/2019\", \"ocid_count\": 14, \"aw_value_sum\": 529000000.0}, {\"releasedate\": \"03/01/2018\", \"ocid_count\": 2, \"aw_value_sum\": 1053550.0}, {\"releasedate\": \"03/01/2019\", \"ocid_count\": 1, \"aw_value_sum\": 250000.0}, {\"releasedate\": \"03/05/2019\", \"ocid_count\": 2, \"aw_value_sum\": 3091000.0}, {\"releasedate\": \"03/06/2018\", \"ocid_count\": 1, \"aw_value_sum\": 328900.0}, {\"releasedate\": \"03/08/2019\", \"ocid_count\": 2, \"aw_value_sum\": 100253.0}, {\"releasedate\": \"03/10/2018\", \"ocid_count\": 7, \"aw_value_sum\": 9100000000.0}, {\"releasedate\": \"03/12/2019\", \"ocid_count\": 1, \"aw_value_sum\": 16800.64}, {\"releasedate\": \"03/13/2018\", \"ocid_count\": 1, \"aw_value_sum\": 765000.0}, {\"releasedate\": \"03/13/2019\", \"ocid_count\": 1, \"aw_value_sum\": 21525.0}, {\"releasedate\": \"03/14/2019\", \"ocid_count\": 4, \"aw_value_sum\": 846000.0}, {\"releasedate\": \"03/15/2017\", \"ocid_count\": 18, \"aw_value_sum\": 5760000000.0}, {\"releasedate\": \"03/15/2019\", \"ocid_count\": 2, \"aw_value_sum\": 248250.0}, {\"releasedate\": \"03/16/2017\", \"ocid_count\": 2, \"aw_value_sum\": 54095.6}, {\"releasedate\": \"03/19/2019\", \"ocid_count\": 1, \"aw_value_sum\": 350000.0}, {\"releasedate\": \"03/21/2017\", \"ocid_count\": 1, \"aw_value_sum\": 69488.0}, {\"releasedate\": \"03/22/2017\", \"ocid_count\": 2, \"aw_value_sum\": 741682.0}, {\"releasedate\": \"03/23/2018\", \"ocid_count\": 1, \"aw_value_sum\": 161460.0}, {\"releasedate\": \"03/25/2019\", \"ocid_count\": 2, \"aw_value_sum\": 78381.88}, {\"releasedate\": \"03/26/2019\", \"ocid_count\": 1, \"aw_value_sum\": 520000.0}, {\"releasedate\": \"03/28/2019\", \"ocid_count\": 1, \"aw_value_sum\": 672807.0}, {\"releasedate\": \"03/29/2019\", \"ocid_count\": 1, \"aw_value_sum\": 1000000.0}, {\"releasedate\": \"03/30/2017\", \"ocid_count\": 8, \"aw_value_sum\": 0.0}, {\"releasedate\": \"04/02/2019\", \"ocid_count\": 34, \"aw_value_sum\": 9809173.459999993}, {\"releasedate\": \"04/04/2019\", \"ocid_count\": 1, \"aw_value_sum\": 68300.0}, {\"releasedate\": \"04/07/2017\", \"ocid_count\": 13, \"aw_value_sum\": 8640000000.0}, {\"releasedate\": \"04/09/2019\", \"ocid_count\": 5, \"aw_value_sum\": 1186200.0}, {\"releasedate\": \"04/11/2019\", \"ocid_count\": 1, \"aw_value_sum\": 37464.0}, {\"releasedate\": \"04/12/2018\", \"ocid_count\": 1, \"aw_value_sum\": 1500000000.0}, {\"releasedate\": \"04/12/2019\", \"ocid_count\": 1, \"aw_value_sum\": 98150.0}, {\"releasedate\": \"04/15/2019\", \"ocid_count\": 1, \"aw_value_sum\": 14028.0}, {\"releasedate\": \"04/17/2018\", \"ocid_count\": 1, \"aw_value_sum\": 30000000.0}, {\"releasedate\": \"04/17/2019\", \"ocid_count\": 2, \"aw_value_sum\": 357000.0}, {\"releasedate\": \"04/18/2019\", \"ocid_count\": 1, \"aw_value_sum\": 250000.0}, {\"releasedate\": \"04/22/2017\", \"ocid_count\": 8, \"aw_value_sum\": 880000000.0}, {\"releasedate\": \"04/23/2018\", \"ocid_count\": 2, \"aw_value_sum\": 523700.0}, {\"releasedate\": \"04/23/2019\", \"ocid_count\": 1, \"aw_value_sum\": 71300.0}, {\"releasedate\": \"04/24/2019\", \"ocid_count\": 10, \"aw_value_sum\": 7412000.0}, {\"releasedate\": \"04/25/2018\", \"ocid_count\": 1, \"aw_value_sum\": 6000000.0}, {\"releasedate\": \"04/25/2019\", \"ocid_count\": 1, \"aw_value_sum\": 41192.17}, {\"releasedate\": \"04/26/2018\", \"ocid_count\": 3, \"aw_value_sum\": 4208560.0}, {\"releasedate\": \"04/26/2019\", \"ocid_count\": 1, \"aw_value_sum\": 72500.0}, {\"releasedate\": \"04/29/2019\", \"ocid_count\": 6, \"aw_value_sum\": 10040000.0}, {\"releasedate\": \"04/30/2019\", \"ocid_count\": 1, \"aw_value_sum\": 19800.0}, {\"releasedate\": \"05/01/2019\", \"ocid_count\": 1, \"aw_value_sum\": 1500000.0}, {\"releasedate\": \"05/02/2017\", \"ocid_count\": 13, \"aw_value_sum\": 2575131.6}, {\"releasedate\": \"05/08/2019\", \"ocid_count\": 1, \"aw_value_sum\": 58995.0}, {\"releasedate\": \"05/09/2019\", \"ocid_count\": 1, \"aw_value_sum\": 30045.0}, {\"releasedate\": \"05/10/2017\", \"ocid_count\": 3, \"aw_value_sum\": 446245.44}, {\"releasedate\": \"05/13/2019\", \"ocid_count\": 10, \"aw_value_sum\": 85000.0}, {\"releasedate\": \"05/14/2018\", \"ocid_count\": 1, \"aw_value_sum\": 377200.0}, {\"releasedate\": \"05/14/2019\", \"ocid_count\": 7, \"aw_value_sum\": 3001172000.0}, {\"releasedate\": \"05/15/2017\", \"ocid_count\": 1, \"aw_value_sum\": 57850.0}, {\"releasedate\": \"05/15/2019\", \"ocid_count\": 2, \"aw_value_sum\": 1183000.0}, {\"releasedate\": \"05/20/2019\", \"ocid_count\": 1, \"aw_value_sum\": 39300.0}, {\"releasedate\": \"05/22/2019\", \"ocid_count\": 1, \"aw_value_sum\": 185000.0}, {\"releasedate\": \"05/23/2019\", \"ocid_count\": 1, \"aw_value_sum\": 39100.0}, {\"releasedate\": \"05/24/2019\", \"ocid_count\": 1, \"aw_value_sum\": 1713120.0}, {\"releasedate\": \"05/25/2018\", \"ocid_count\": 1, \"aw_value_sum\": 20000.0}, {\"releasedate\": \"05/28/2019\", \"ocid_count\": 2, \"aw_value_sum\": 34039996.0}, {\"releasedate\": \"05/29/2019\", \"ocid_count\": 1, \"aw_value_sum\": 113900.0}, {\"releasedate\": \"05/30/2019\", \"ocid_count\": 1, \"aw_value_sum\": 1000000.0}, {\"releasedate\": \"05/31/2019\", \"ocid_count\": 3, \"aw_value_sum\": 164503.5}, {\"releasedate\": \"06/01/2017\", \"ocid_count\": 2, \"aw_value_sum\": 2875000000.0}, {\"releasedate\": \"06/03/2019\", \"ocid_count\": 10, \"aw_value_sum\": 1998000.0}, {\"releasedate\": \"06/05/2019\", \"ocid_count\": 2, \"aw_value_sum\": 291050.88}, {\"releasedate\": \"06/06/2019\", \"ocid_count\": 1, \"aw_value_sum\": 24975.0}, {\"releasedate\": \"06/08/2018\", \"ocid_count\": 1, \"aw_value_sum\": 20000000.0}, {\"releasedate\": \"06/10/2019\", \"ocid_count\": 5, \"aw_value_sum\": 711000.0}, {\"releasedate\": \"06/11/2019\", \"ocid_count\": 1, \"aw_value_sum\": 7000.0}, {\"releasedate\": \"06/12/2017\", \"ocid_count\": 5, \"aw_value_sum\": 1178206.3900000001}, {\"releasedate\": \"06/13/2017\", \"ocid_count\": 1, \"aw_value_sum\": 28937.0}, {\"releasedate\": \"06/14/2017\", \"ocid_count\": 1, \"aw_value_sum\": 75270.0}, {\"releasedate\": \"06/15/2017\", \"ocid_count\": 3, \"aw_value_sum\": 0.0}, {\"releasedate\": \"06/18/2018\", \"ocid_count\": 10, \"aw_value_sum\": 910000.0}, {\"releasedate\": \"06/21/2019\", \"ocid_count\": 13, \"aw_value_sum\": 60500000.0}, {\"releasedate\": \"06/24/2017\", \"ocid_count\": 40, \"aw_value_sum\": 520000000.0}, {\"releasedate\": \"06/24/2019\", \"ocid_count\": 1, \"aw_value_sum\": 2152800.0}, {\"releasedate\": \"06/25/2019\", \"ocid_count\": 3, \"aw_value_sum\": 2043700.0}, {\"releasedate\": \"06/26/2018\", \"ocid_count\": 1, \"aw_value_sum\": 800000000.0}, {\"releasedate\": \"06/26/2019\", \"ocid_count\": 3, \"aw_value_sum\": 1120000.0}, {\"releasedate\": \"06/27/2017\", \"ocid_count\": 3, \"aw_value_sum\": 58200000.0}, {\"releasedate\": \"06/28/2017\", \"ocid_count\": 12, \"aw_value_sum\": 377000000.0}, {\"releasedate\": \"07/08/2019\", \"ocid_count\": 8, \"aw_value_sum\": 65000000.0}, {\"releasedate\": \"07/10/2019\", \"ocid_count\": 2, \"aw_value_sum\": 121260.0}, {\"releasedate\": \"07/15/2017\", \"ocid_count\": 6, \"aw_value_sum\": 84000000.0}, {\"releasedate\": \"07/16/2019\", \"ocid_count\": 1, \"aw_value_sum\": 400004.0}, {\"releasedate\": \"07/18/2017\", \"ocid_count\": 1, \"aw_value_sum\": 0.0}, {\"releasedate\": \"07/18/2018\", \"ocid_count\": 1, \"aw_value_sum\": 1500000.0}, {\"releasedate\": \"07/20/2018\", \"ocid_count\": 1, \"aw_value_sum\": 19620.0}, {\"releasedate\": \"07/22/2019\", \"ocid_count\": 3, \"aw_value_sum\": 506270.0}, {\"releasedate\": \"07/23/2019\", \"ocid_count\": 1, \"aw_value_sum\": 25959.12}, {\"releasedate\": \"07/24/2019\", \"ocid_count\": 1, \"aw_value_sum\": 25000.0}, {\"releasedate\": \"07/25/2019\", \"ocid_count\": 1, \"aw_value_sum\": 816850.0}, {\"releasedate\": \"07/30/2019\", \"ocid_count\": 2, \"aw_value_sum\": 36277.75}, {\"releasedate\": \"07/31/2019\", \"ocid_count\": 1, \"aw_value_sum\": 22000.0}, {\"releasedate\": \"08/01/2019\", \"ocid_count\": 2, \"aw_value_sum\": 4091384.0}, {\"releasedate\": \"08/02/2019\", \"ocid_count\": 6, \"aw_value_sum\": 3902315230.0}, {\"releasedate\": \"08/03/2017\", \"ocid_count\": 1, \"aw_value_sum\": 0.0}, {\"releasedate\": \"08/03/2018\", \"ocid_count\": 3, \"aw_value_sum\": 0.0}, {\"releasedate\": \"08/06/2018\", \"ocid_count\": 10, \"aw_value_sum\": 450000.0}, {\"releasedate\": \"08/08/2019\", \"ocid_count\": 1, \"aw_value_sum\": 49700.0}, {\"releasedate\": \"08/09/2017\", \"ocid_count\": 5, \"aw_value_sum\": 1500000000.0}, {\"releasedate\": \"08/10/2018\", \"ocid_count\": 3, \"aw_value_sum\": 29014400.0}, {\"releasedate\": \"08/11/2018\", \"ocid_count\": 2, \"aw_value_sum\": 12008000000.0}, {\"releasedate\": \"08/12/2017\", \"ocid_count\": 1, \"aw_value_sum\": 60000000.0}, {\"releasedate\": \"08/14/2019\", \"ocid_count\": 2, \"aw_value_sum\": 541000.0}, {\"releasedate\": \"08/16/2017\", \"ocid_count\": 2, \"aw_value_sum\": 4039000.0}, {\"releasedate\": \"08/16/2018\", \"ocid_count\": 1, \"aw_value_sum\": 258970.0}, {\"releasedate\": \"08/17/2018\", \"ocid_count\": 1, \"aw_value_sum\": 500000000.0}, {\"releasedate\": \"08/18/2017\", \"ocid_count\": 1, \"aw_value_sum\": 456940.0}, {\"releasedate\": \"08/19/2019\", \"ocid_count\": 18, \"aw_value_sum\": 9000000000.1}, {\"releasedate\": \"08/20/2019\", \"ocid_count\": 11, \"aw_value_sum\": 4290000000.0}, {\"releasedate\": \"08/21/2019\", \"ocid_count\": 2, \"aw_value_sum\": 114028450.0}, {\"releasedate\": \"08/22/2017\", \"ocid_count\": 1, \"aw_value_sum\": 64800.0}, {\"releasedate\": \"08/23/2017\", \"ocid_count\": 1, \"aw_value_sum\": 100000.0}, {\"releasedate\": \"08/27/2019\", \"ocid_count\": 4, \"aw_value_sum\": 219694.5}, {\"releasedate\": \"08/29/2017\", \"ocid_count\": 58, \"aw_value_sum\": 24940000000.0}, {\"releasedate\": \"09/03/2019\", \"ocid_count\": 1, \"aw_value_sum\": 200000.0}, {\"releasedate\": \"09/05/2019\", \"ocid_count\": 1, \"aw_value_sum\": 858377.02}, {\"releasedate\": \"09/06/2017\", \"ocid_count\": 2, \"aw_value_sum\": 197320000.0}, {\"releasedate\": \"09/06/2018\", \"ocid_count\": 3, \"aw_value_sum\": 165910.0}, {\"releasedate\": \"09/07/2017\", \"ocid_count\": 1, \"aw_value_sum\": 900000000.0}, {\"releasedate\": \"09/09/2019\", \"ocid_count\": 1, \"aw_value_sum\": 50000.0}, {\"releasedate\": \"09/10/2019\", \"ocid_count\": 1, \"aw_value_sum\": 11292000.0}, {\"releasedate\": \"09/12/2019\", \"ocid_count\": 3, \"aw_value_sum\": 4500000.0}, {\"releasedate\": \"09/13/2019\", \"ocid_count\": 1, \"aw_value_sum\": 37075.0}, {\"releasedate\": \"09/16/2019\", \"ocid_count\": 1, \"aw_value_sum\": 7000.0}, {\"releasedate\": \"09/19/2019\", \"ocid_count\": 10, \"aw_value_sum\": 2000000.0}, {\"releasedate\": \"09/24/2018\", \"ocid_count\": 3, \"aw_value_sum\": 161000.0}, {\"releasedate\": \"09/25/2019\", \"ocid_count\": 20, \"aw_value_sum\": 4257780.0}, {\"releasedate\": \"09/26/2017\", \"ocid_count\": 16, \"aw_value_sum\": 6400000000.0}, {\"releasedate\": \"09/26/2018\", \"ocid_count\": 1, \"aw_value_sum\": 2000000.0}, {\"releasedate\": \"09/26/2019\", \"ocid_count\": 80, \"aw_value_sum\": 6627640.0}, {\"releasedate\": \"09/27/2018\", \"ocid_count\": 1, \"aw_value_sum\": 57225.0}, {\"releasedate\": \"09/27/2019\", \"ocid_count\": 10, \"aw_value_sum\": 7412000.0}, {\"releasedate\": \"09/30/2019\", \"ocid_count\": 1, \"aw_value_sum\": 10000.0}, {\"releasedate\": \"10/01/2018\", \"ocid_count\": 1, \"aw_value_sum\": 240240.0}, {\"releasedate\": \"10/01/2019\", \"ocid_count\": 1, \"aw_value_sum\": 418945.6}, {\"releasedate\": \"10/02/2017\", \"ocid_count\": 1, \"aw_value_sum\": 74687.0}, {\"releasedate\": \"10/02/2019\", \"ocid_count\": 1, \"aw_value_sum\": 30000.0}, {\"releasedate\": \"10/04/2019\", \"ocid_count\": 1, \"aw_value_sum\": 81178.0}, {\"releasedate\": \"10/06/2017\", \"ocid_count\": 31, \"aw_value_sum\": 3035021900.0}, {\"releasedate\": \"10/10/2018\", \"ocid_count\": 1, \"aw_value_sum\": 10000000.0}, {\"releasedate\": \"10/10/2019\", \"ocid_count\": 28, \"aw_value_sum\": 1365000000.0}, {\"releasedate\": \"10/13/2017\", \"ocid_count\": 12, \"aw_value_sum\": 711000000.0}, {\"releasedate\": \"10/14/2019\", \"ocid_count\": 2, \"aw_value_sum\": 368000.0}, {\"releasedate\": \"10/15/2019\", \"ocid_count\": 1, \"aw_value_sum\": 49815.0}, {\"releasedate\": \"10/17/2017\", \"ocid_count\": 1, \"aw_value_sum\": 60000.0}, {\"releasedate\": \"10/17/2019\", \"ocid_count\": 10, \"aw_value_sum\": 1500000.0}, {\"releasedate\": \"10/19/2017\", \"ocid_count\": 1, \"aw_value_sum\": 53800.0}, {\"releasedate\": \"10/21/2019\", \"ocid_count\": 2, \"aw_value_sum\": 598000.0}, {\"releasedate\": \"10/23/2017\", \"ocid_count\": 30, \"aw_value_sum\": 4550000.0}, {\"releasedate\": \"10/23/2019\", \"ocid_count\": 1, \"aw_value_sum\": 42350.0}, {\"releasedate\": \"10/25/2019\", \"ocid_count\": 7, \"aw_value_sum\": 3144524560.0}, {\"releasedate\": \"10/26/2017\", \"ocid_count\": 1, \"aw_value_sum\": 31000000.0}, {\"releasedate\": \"10/26/2018\", \"ocid_count\": 9, \"aw_value_sum\": 3000000000.0}, {\"releasedate\": \"10/29/2019\", \"ocid_count\": 1, \"aw_value_sum\": 1400000.0}, {\"releasedate\": \"10/31/2018\", \"ocid_count\": 4, \"aw_value_sum\": 1200000000.0}, {\"releasedate\": \"10/31/2019\", \"ocid_count\": 2, \"aw_value_sum\": 1540000.0}, {\"releasedate\": \"11/04/2019\", \"ocid_count\": 1, \"aw_value_sum\": 39000.0}, {\"releasedate\": \"11/05/2019\", \"ocid_count\": 1, \"aw_value_sum\": 1732500.0}, {\"releasedate\": \"11/06/2018\", \"ocid_count\": 1, \"aw_value_sum\": 900000.0}, {\"releasedate\": \"11/06/2019\", \"ocid_count\": 1, \"aw_value_sum\": 749790.0}, {\"releasedate\": \"11/07/2019\", \"ocid_count\": 1, \"aw_value_sum\": 130048.49}, {\"releasedate\": \"11/08/2019\", \"ocid_count\": 1, \"aw_value_sum\": 12500.0}, {\"releasedate\": \"11/10/2017\", \"ocid_count\": 10, \"aw_value_sum\": 79500.0}, {\"releasedate\": \"11/11/2019\", \"ocid_count\": 80, \"aw_value_sum\": 2593100.0}, {\"releasedate\": \"11/15/2018\", \"ocid_count\": 10, \"aw_value_sum\": 39880000000.0}, {\"releasedate\": \"11/15/2019\", \"ocid_count\": 1, \"aw_value_sum\": 6976000.0}, {\"releasedate\": \"11/16/2018\", \"ocid_count\": 4, \"aw_value_sum\": 272000000.0}, {\"releasedate\": \"11/18/2019\", \"ocid_count\": 2, \"aw_value_sum\": 386930.0}, {\"releasedate\": \"11/19/2019\", \"ocid_count\": 1, \"aw_value_sum\": 255450.0}, {\"releasedate\": \"11/20/2019\", \"ocid_count\": 5, \"aw_value_sum\": 13783272.5}, {\"releasedate\": \"11/21/2018\", \"ocid_count\": 3, \"aw_value_sum\": 1909700.0}, {\"releasedate\": \"11/22/2018\", \"ocid_count\": 1, \"aw_value_sum\": 90000.0}, {\"releasedate\": \"11/23/2018\", \"ocid_count\": 1, \"aw_value_sum\": 0.0}, {\"releasedate\": \"11/25/2019\", \"ocid_count\": 1, \"aw_value_sum\": 56565.0}, {\"releasedate\": \"11/26/2018\", \"ocid_count\": 1, \"aw_value_sum\": 0.0}, {\"releasedate\": \"11/27/2018\", \"ocid_count\": 1, \"aw_value_sum\": 159679.64}, {\"releasedate\": \"11/28/2018\", \"ocid_count\": 1, \"aw_value_sum\": 116623.32}, {\"releasedate\": \"11/28/2019\", \"ocid_count\": 1, \"aw_value_sum\": 122387.5}, {\"releasedate\": \"11/29/2018\", \"ocid_count\": 1, \"aw_value_sum\": 4945023.07}, {\"releasedate\": \"11/29/2019\", \"ocid_count\": 1, \"aw_value_sum\": 17045.0}, {\"releasedate\": \"11/30/2018\", \"ocid_count\": 4, \"aw_value_sum\": 469074.0}, {\"releasedate\": \"12/03/2019\", \"ocid_count\": 1, \"aw_value_sum\": 72415.0}, {\"releasedate\": \"12/04/2019\", \"ocid_count\": 1, \"aw_value_sum\": 99930.0}, {\"releasedate\": \"12/05/2018\", \"ocid_count\": 10, \"aw_value_sum\": 1800000.0}, {\"releasedate\": \"12/06/2018\", \"ocid_count\": 3, \"aw_value_sum\": 10033450.0}, {\"releasedate\": \"12/07/2018\", \"ocid_count\": 2, \"aw_value_sum\": 245085.91999999998}, {\"releasedate\": \"12/09/2019\", \"ocid_count\": 5, \"aw_value_sum\": 5000299380.030001}, {\"releasedate\": \"12/11/2018\", \"ocid_count\": 2, \"aw_value_sum\": 170536.0}, {\"releasedate\": \"12/12/2017\", \"ocid_count\": 3, \"aw_value_sum\": 353120.0}, {\"releasedate\": \"12/13/2019\", \"ocid_count\": 1, \"aw_value_sum\": 20670.0}, {\"releasedate\": \"12/14/2018\", \"ocid_count\": 10, \"aw_value_sum\": 483872150.0}, {\"releasedate\": \"12/15/2017\", \"ocid_count\": 1, \"aw_value_sum\": 106250.0}, {\"releasedate\": \"12/18/2018\", \"ocid_count\": 2, \"aw_value_sum\": 176000.0}, {\"releasedate\": \"12/18/2019\", \"ocid_count\": 11, \"aw_value_sum\": 7280000000.0}, {\"releasedate\": \"12/19/2019\", \"ocid_count\": 1, \"aw_value_sum\": 13000.0}, {\"releasedate\": \"12/20/2019\", \"ocid_count\": 1, \"aw_value_sum\": 76050.0}, {\"releasedate\": \"12/21/2018\", \"ocid_count\": 1, \"aw_value_sum\": 52000.0}, {\"releasedate\": \"12/23/2019\", \"ocid_count\": 2, \"aw_value_sum\": 625600.0}, {\"releasedate\": \"12/31/2018\", \"ocid_count\": 1, \"aw_value_sum\": 268599.89}]}}, {\"mode\": \"vega-lite\"});\n",
              "</script>"
            ]
          },
          "metadata": {
            "tags": []
          },
          "execution_count": 46
        }
      ]
    }
  ]
}