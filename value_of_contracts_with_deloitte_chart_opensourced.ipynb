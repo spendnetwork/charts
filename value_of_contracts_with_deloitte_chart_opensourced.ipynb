{
  "nbformat": 4,
  "nbformat_minor": 0,
  "metadata": {
    "colab": {
      "name": "value_of_contracts_with_deloitte_chart_opensourced.ipynb",
      "provenance": [],
      "collapsed_sections": [],
      "include_colab_link": true
    },
    "kernelspec": {
      "name": "python3",
      "display_name": "Python 3"
    }
  },
  "cells": [
    {
      "cell_type": "markdown",
      "metadata": {
        "id": "view-in-github",
        "colab_type": "text"
      },
      "source": [
        "<a href=\"https://colab.research.google.com/github/spendnetwork/charts/blob/master/value_of_contracts_with_deloitte_chart_opensourced.ipynb\" target=\"_parent\"><img src=\"https://colab.research.google.com/assets/colab-badge.svg\" alt=\"Open In Colab\"/></a>"
      ]
    },
    {
      "cell_type": "code",
      "metadata": {
        "id": "tqc2iXLl8hTN",
        "colab_type": "code",
        "outputId": "9d561f94-79b7-4724-f120-6312f1acf74f",
        "colab": {
          "base_uri": "https://localhost:8080/",
          "height": 34
        }
      },
      "source": [
        "import pandas as pd\n",
        "import altair as alt"
      ],
      "execution_count": 0,
      "outputs": [
        {
          "output_type": "stream",
          "text": [
            "ERROR! Session/line number was not unique in database. History logging moved to new session 59\n"
          ],
          "name": "stdout"
        }
      ]
    },
    {
      "cell_type": "code",
      "metadata": {
        "id": "dfMVbVJs7f-3",
        "colab_type": "code",
        "colab": {}
      },
      "source": [
        "url = 'https://raw.githubusercontent.com/dorahomoki/hello-world/master/contracts_by_supplier_deloitte_raw(1).csv?token=9fcbd8d8883fdd886e2c3ddc09534633cef0f350'\n",
        "df = pd.read_csv(url)\n",
        "#print(df)"
      ],
      "execution_count": 0,
      "outputs": []
    },
    {
      "cell_type": "code",
      "metadata": {
        "id": "ocvP41ZMahE8",
        "colab_type": "code",
        "colab": {}
      },
      "source": [
        "df['releasedate']=pd.to_datetime(df['releasedate']).dt.strftime('%m/%d/%Y')"
      ],
      "execution_count": 0,
      "outputs": []
    },
    {
      "cell_type": "code",
      "metadata": {
        "id": "3UEM3xRs8tMF",
        "colab_type": "code",
        "colab": {}
      },
      "source": [
        "df1=(df.groupby('releasedate').agg({'ocid': ['count'], 'aw_value': 'sum'}))\n",
        "#df1.head()"
      ],
      "execution_count": 0,
      "outputs": []
    },
    {
      "cell_type": "code",
      "metadata": {
        "id": "DqsTJ_0lJFMl",
        "colab_type": "code",
        "colab": {}
      },
      "source": [
        "df1.columns = df1.columns.map('_'.join)\n",
        "df1 = df1.reset_index()\n",
        "#df1.head()"
      ],
      "execution_count": 0,
      "outputs": []
    },
    {
      "cell_type": "code",
      "metadata": {
        "id": "o74MSUwJZzgX",
        "colab_type": "code",
        "colab": {}
      },
      "source": [
        "#df1['releasedate']=pd.to_datetime(df1['releasedate'].dt.strftime('%m/%d/%Y'))\n",
        "#df1['releasedate']=pd.to_datetime(df1['releasedate']).dt.strftime('%m/%d/%Y') \n",
        "#df1.head()"
      ],
      "execution_count": 0,
      "outputs": []
    },
    {
      "cell_type": "code",
      "metadata": {
        "id": "abH8_1lUAtn4",
        "colab_type": "code",
        "outputId": "7d9cbc97-e329-47ad-c702-3dd557fb1e0c",
        "colab": {
          "base_uri": "https://localhost:8080/",
          "height": 350
        }
      },
      "source": [
        "        chart = (\n",
        "            alt.Chart(df1, width=1200, height=250, title=\"Total value of of contracts of Deloitte LLP\")\n",
        "                .mark_bar(color='#91D739')\n",
        "                .encode(\n",
        "                alt.X(\n",
        "                    \"yearmonth(releasedate):O\",\n",
        "                    ## xAxis title must be \"Source: https://openopps.com\"\n",
        "                    axis=alt.Axis(title=\"Source: https://openopps.com\", grid=False, \n",
        "                labelFont='Helvetica', \n",
        "                labelFontSize=12, \n",
        "                labelAngle=0, \n",
        "                titleAlign='left',\n",
        "                titleAnchor='start',\n",
        "                titleFont='Helvetica',\n",
        "                titleFontSize= 11,\n",
        "                titleFontWeight= 300,\n",
        "                titleX= -0,\n",
        "                titleY= 30)\n",
        "                ),\n",
        "                alt.Y(\"sum(aw_value_sum):Q\",\n",
        "                      axis=alt.Axis(title=\"\",\n",
        "                                    format=\"$,.0s\"),\n",
        "                      ),\n",
        "                tooltip=[\n",
        "                    alt.Tooltip('sum(aw_value_sum):Q', title=\"Total value\", format=\"$,.4r\"),\n",
        "                    alt.Tooltip('sum(ocid_count):Q', title=\"Total contracts\")\n",
        "                ],\n",
        "                  # suppress the legend for now.\n",
        "            )\n",
        "        )\n",
        "\n",
        "        text = (\n",
        "            chart.mark_text(align=\"center\", baseline=\"bottom\")\n",
        "                .encode(text=alt.Text('sum(aw_value_sum):Q', format='$,.1s'))\n",
        "        )\n",
        "\n",
        "        (chart+text).configure_view(\n",
        "          strokeWidth=0\n",
        "        ).configure_title(fontSize=18, anchor='start',\n",
        "                color= \"#91D739\", font='Helvetica', fontWeight=400)"
      ],
      "execution_count": 0,
      "outputs": [
        {
          "output_type": "execute_result",
          "data": {
            "text/plain": [
              "alt.LayerChart(...)"
            ],
            "text/html": [
              "\n",
              "<div id=\"altair-viz-ed406339fcb0468da5f5e00f4ee28935\"></div>\n",
              "<script type=\"text/javascript\">\n",
              "  (function(spec, embedOpt){\n",
              "    const outputDiv = document.getElementById(\"altair-viz-ed406339fcb0468da5f5e00f4ee28935\");\n",
              "    const paths = {\n",
              "      \"vega\": \"https://cdn.jsdelivr.net/npm//vega@5?noext\",\n",
              "      \"vega-lib\": \"https://cdn.jsdelivr.net/npm//vega-lib?noext\",\n",
              "      \"vega-lite\": \"https://cdn.jsdelivr.net/npm//vega-lite@4.0.2?noext\",\n",
              "      \"vega-embed\": \"https://cdn.jsdelivr.net/npm//vega-embed@6?noext\",\n",
              "    };\n",
              "\n",
              "    function loadScript(lib) {\n",
              "      return new Promise(function(resolve, reject) {\n",
              "        var s = document.createElement('script');\n",
              "        s.src = paths[lib];\n",
              "        s.async = true;\n",
              "        s.onload = () => resolve(paths[lib]);\n",
              "        s.onerror = () => reject(`Error loading script: ${paths[lib]}`);\n",
              "        document.getElementsByTagName(\"head\")[0].appendChild(s);\n",
              "      });\n",
              "    }\n",
              "\n",
              "    function showError(err) {\n",
              "      outputDiv.innerHTML = `<div class=\"error\" style=\"color:red;\">${err}</div>`;\n",
              "      throw err;\n",
              "    }\n",
              "\n",
              "    function displayChart(vegaEmbed) {\n",
              "      vegaEmbed(outputDiv, spec, embedOpt)\n",
              "        .catch(err => showError(`Javascript Error: ${err.message}<br>This usually means there's a typo in your chart specification. See the javascript console for the full traceback.`));\n",
              "    }\n",
              "\n",
              "    if(typeof define === \"function\" && define.amd) {\n",
              "      requirejs.config({paths});\n",
              "      require([\"vega-embed\"], displayChart, err => showError(`Error loading script: ${err.message}`));\n",
              "    } else if (typeof vegaEmbed === \"function\") {\n",
              "      displayChart(vegaEmbed);\n",
              "    } else {\n",
              "      loadScript(\"vega\")\n",
              "        .then(() => loadScript(\"vega-lite\"))\n",
              "        .then(() => loadScript(\"vega-embed\"))\n",
              "        .catch(showError)\n",
              "        .then(() => displayChart(vegaEmbed));\n",
              "    }\n",
              "  })({\"config\": {\"view\": {\"continuousWidth\": 400, \"continuousHeight\": 300, \"strokeWidth\": 0}, \"title\": {\"anchor\": \"start\", \"color\": \"#91D739\", \"font\": \"Helvetica\", \"fontSize\": 18, \"fontWeight\": 400}}, \"layer\": [{\"mark\": {\"type\": \"bar\", \"color\": \"#91D739\"}, \"encoding\": {\"tooltip\": [{\"type\": \"quantitative\", \"aggregate\": \"sum\", \"field\": \"aw_value_sum\", \"format\": \"$,.4r\", \"title\": \"Total value\"}, {\"type\": \"quantitative\", \"aggregate\": \"sum\", \"field\": \"ocid_count\", \"title\": \"Total contracts\"}], \"x\": {\"type\": \"ordinal\", \"axis\": {\"grid\": false, \"labelAngle\": 0, \"labelFont\": \"Helvetica\", \"labelFontSize\": 12, \"title\": \"Source: https://openopps.com\", \"titleAlign\": \"left\", \"titleAnchor\": \"start\", \"titleFont\": \"Helvetica\", \"titleFontSize\": 11, \"titleFontWeight\": 300, \"titleX\": 0, \"titleY\": 30}, \"field\": \"releasedate\", \"timeUnit\": \"yearmonth\"}, \"y\": {\"type\": \"quantitative\", \"aggregate\": \"sum\", \"axis\": {\"format\": \"$,.0s\", \"title\": \"\"}, \"field\": \"aw_value_sum\"}}, \"height\": 250, \"title\": \"Total value of of contracts of Deloitte LLP\", \"width\": 1200}, {\"mark\": {\"type\": \"text\", \"align\": \"center\", \"baseline\": \"bottom\"}, \"encoding\": {\"text\": {\"type\": \"quantitative\", \"aggregate\": \"sum\", \"field\": \"aw_value_sum\", \"format\": \"$,.1s\"}, \"tooltip\": [{\"type\": \"quantitative\", \"aggregate\": \"sum\", \"field\": \"aw_value_sum\", \"format\": \"$,.4r\", \"title\": \"Total value\"}, {\"type\": \"quantitative\", \"aggregate\": \"sum\", \"field\": \"ocid_count\", \"title\": \"Total contracts\"}], \"x\": {\"type\": \"ordinal\", \"axis\": {\"grid\": false, \"labelAngle\": 0, \"labelFont\": \"Helvetica\", \"labelFontSize\": 12, \"title\": \"Source: https://openopps.com\", \"titleAlign\": \"left\", \"titleAnchor\": \"start\", \"titleFont\": \"Helvetica\", \"titleFontSize\": 11, \"titleFontWeight\": 300, \"titleX\": 0, \"titleY\": 30}, \"field\": \"releasedate\", \"timeUnit\": \"yearmonth\"}, \"y\": {\"type\": \"quantitative\", \"aggregate\": \"sum\", \"axis\": {\"format\": \"$,.0s\", \"title\": \"\"}, \"field\": \"aw_value_sum\"}}, \"height\": 250, \"title\": \"Total value of of contracts of Deloitte LLP\", \"width\": 1200}], \"data\": {\"name\": \"data-23748b097b33c77388f7f8c8eb5142e0\"}, \"$schema\": \"https://vega.github.io/schema/vega-lite/v4.0.2.json\", \"datasets\": {\"data-23748b097b33c77388f7f8c8eb5142e0\": [{\"releasedate\": \"01/02/2018\", \"ocid_count\": 1, \"aw_value_sum\": 98504.0}, {\"releasedate\": \"01/02/2019\", \"ocid_count\": 4, \"aw_value_sum\": 1280000.0}, {\"releasedate\": \"01/04/2018\", \"ocid_count\": 24, \"aw_value_sum\": 1200000.0}, {\"releasedate\": \"01/04/2019\", \"ocid_count\": 1, \"aw_value_sum\": 32130.0}, {\"releasedate\": \"01/06/2017\", \"ocid_count\": 8, \"aw_value_sum\": 96000.0}, {\"releasedate\": \"01/08/2019\", \"ocid_count\": 2, \"aw_value_sum\": 196820.0}, {\"releasedate\": \"01/10/2018\", \"ocid_count\": 24, \"aw_value_sum\": 0.0}, {\"releasedate\": \"01/10/2019\", \"ocid_count\": 28, \"aw_value_sum\": 4366880.0}, {\"releasedate\": \"01/11/2017\", \"ocid_count\": 18, \"aw_value_sum\": 341946.0}, {\"releasedate\": \"01/15/2018\", \"ocid_count\": 48, \"aw_value_sum\": 87360000.0}, {\"releasedate\": \"01/15/2019\", \"ocid_count\": 1, \"aw_value_sum\": 9300000.0}, {\"releasedate\": \"01/17/2017\", \"ocid_count\": 29, \"aw_value_sum\": 16820000.0}, {\"releasedate\": \"01/17/2019\", \"ocid_count\": 1, \"aw_value_sum\": 710170.0}, {\"releasedate\": \"01/18/2017\", \"ocid_count\": 31, \"aw_value_sum\": 24919590.0}, {\"releasedate\": \"01/18/2018\", \"ocid_count\": 1, \"aw_value_sum\": 470000.0}, {\"releasedate\": \"01/19/2017\", \"ocid_count\": 2, \"aw_value_sum\": 5098600.0}, {\"releasedate\": \"01/20/2017\", \"ocid_count\": 12, \"aw_value_sum\": 20382276.0}, {\"releasedate\": \"01/21/2017\", \"ocid_count\": 8, \"aw_value_sum\": 2192000.0}, {\"releasedate\": \"01/22/2018\", \"ocid_count\": 22, \"aw_value_sum\": 0.0}, {\"releasedate\": \"01/23/2018\", \"ocid_count\": 22, \"aw_value_sum\": 0.0}, {\"releasedate\": \"01/24/2018\", \"ocid_count\": 12, \"aw_value_sum\": 2821368.0}, {\"releasedate\": \"01/26/2018\", \"ocid_count\": 7, \"aw_value_sum\": 13894083.0}, {\"releasedate\": \"01/27/2017\", \"ocid_count\": 7, \"aw_value_sum\": 3769920.0}, {\"releasedate\": \"01/28/2019\", \"ocid_count\": 29, \"aw_value_sum\": 13048579.0}, {\"releasedate\": \"01/29/2019\", \"ocid_count\": 10, \"aw_value_sum\": 2800000.0}, {\"releasedate\": \"01/30/2018\", \"ocid_count\": 32, \"aw_value_sum\": 124498256.0}, {\"releasedate\": \"01/31/2018\", \"ocid_count\": 13, \"aw_value_sum\": 2538960.0}, {\"releasedate\": \"01/31/2019\", \"ocid_count\": 1, \"aw_value_sum\": 99938.0}, {\"releasedate\": \"02/01/2017\", \"ocid_count\": 49, \"aw_value_sum\": 81600000.0}, {\"releasedate\": \"02/01/2018\", \"ocid_count\": 4, \"aw_value_sum\": 5847480.0}, {\"releasedate\": \"02/04/2019\", \"ocid_count\": 14, \"aw_value_sum\": 4295160.0}, {\"releasedate\": \"02/05/2019\", \"ocid_count\": 1, \"aw_value_sum\": 756000.0}, {\"releasedate\": \"02/06/2018\", \"ocid_count\": 9, \"aw_value_sum\": 29559966.0}, {\"releasedate\": \"02/08/2018\", \"ocid_count\": 1, \"aw_value_sum\": 69513.0}, {\"releasedate\": \"02/09/2018\", \"ocid_count\": 1, \"aw_value_sum\": 1933400.0}, {\"releasedate\": \"02/10/2018\", \"ocid_count\": 1, \"aw_value_sum\": 0.0}, {\"releasedate\": \"02/11/2019\", \"ocid_count\": 1, \"aw_value_sum\": 27800.0}, {\"releasedate\": \"02/12/2019\", \"ocid_count\": 7, \"aw_value_sum\": 0.0}, {\"releasedate\": \"02/13/2018\", \"ocid_count\": 24, \"aw_value_sum\": 7200000.0}, {\"releasedate\": \"02/13/2019\", \"ocid_count\": 11, \"aw_value_sum\": 3388110.0}, {\"releasedate\": \"02/15/2018\", \"ocid_count\": 1, \"aw_value_sum\": 240000.0}, {\"releasedate\": \"02/19/2018\", \"ocid_count\": 12, \"aw_value_sum\": 5053320.0}, {\"releasedate\": \"02/19/2019\", \"ocid_count\": 2, \"aw_value_sum\": 686340.0}, {\"releasedate\": \"02/21/2018\", \"ocid_count\": 3, \"aw_value_sum\": 1250000.0}, {\"releasedate\": \"02/21/2019\", \"ocid_count\": 41, \"aw_value_sum\": 2589360.0}, {\"releasedate\": \"02/22/2017\", \"ocid_count\": 28, \"aw_value_sum\": 1820000.0}, {\"releasedate\": \"02/22/2019\", \"ocid_count\": 1, \"aw_value_sum\": 684300.0}, {\"releasedate\": \"02/23/2017\", \"ocid_count\": 1, \"aw_value_sum\": 0.0}, {\"releasedate\": \"02/25/2019\", \"ocid_count\": 1, \"aw_value_sum\": 36000.0}, {\"releasedate\": \"02/26/2018\", \"ocid_count\": 29, \"aw_value_sum\": 72500000.0}, {\"releasedate\": \"02/26/2019\", \"ocid_count\": 1, \"aw_value_sum\": 2000000.0}, {\"releasedate\": \"02/27/2019\", \"ocid_count\": 7, \"aw_value_sum\": 433333.0}, {\"releasedate\": \"02/28/2018\", \"ocid_count\": 55, \"aw_value_sum\": 9238000.0}, {\"releasedate\": \"03/01/2019\", \"ocid_count\": 19, \"aw_value_sum\": 12535100.0}, {\"releasedate\": \"03/02/2018\", \"ocid_count\": 1, \"aw_value_sum\": 151200.0}, {\"releasedate\": \"03/04/2019\", \"ocid_count\": 32, \"aw_value_sum\": 15442829.0}, {\"releasedate\": \"03/05/2019\", \"ocid_count\": 2, \"aw_value_sum\": 800800.0}, {\"releasedate\": \"03/06/2018\", \"ocid_count\": 24, \"aw_value_sum\": 146415504.0}, {\"releasedate\": \"03/07/2019\", \"ocid_count\": 2, \"aw_value_sum\": 500100000.0}, {\"releasedate\": \"03/09/2017\", \"ocid_count\": 1, \"aw_value_sum\": 69956.97}, {\"releasedate\": \"03/10/2019\", \"ocid_count\": 3, \"aw_value_sum\": 6000000.0}, {\"releasedate\": \"03/11/2019\", \"ocid_count\": 1, \"aw_value_sum\": 2000000.0}, {\"releasedate\": \"03/12/2018\", \"ocid_count\": 1, \"aw_value_sum\": 12500.0}, {\"releasedate\": \"03/12/2019\", \"ocid_count\": 13, \"aw_value_sum\": 8844130.0}, {\"releasedate\": \"03/13/2019\", \"ocid_count\": 1, \"aw_value_sum\": 2000000.0}, {\"releasedate\": \"03/14/2017\", \"ocid_count\": 1, \"aw_value_sum\": 25000.0}, {\"releasedate\": \"03/14/2018\", \"ocid_count\": 51, \"aw_value_sum\": 6625580.1}, {\"releasedate\": \"03/15/2018\", \"ocid_count\": 37, \"aw_value_sum\": 6499845.099999996}, {\"releasedate\": \"03/16/2018\", \"ocid_count\": 2, \"aw_value_sum\": 396872.0}, {\"releasedate\": \"03/20/2018\", \"ocid_count\": 3, \"aw_value_sum\": 390000.0}, {\"releasedate\": \"03/20/2019\", \"ocid_count\": 36, \"aw_value_sum\": 9912000.0}, {\"releasedate\": \"03/21/2018\", \"ocid_count\": 22, \"aw_value_sum\": 0.0}, {\"releasedate\": \"03/21/2019\", \"ocid_count\": 10, \"aw_value_sum\": 200000.0}, {\"releasedate\": \"03/22/2017\", \"ocid_count\": 25, \"aw_value_sum\": 2206255.0}, {\"releasedate\": \"03/22/2018\", \"ocid_count\": 46, \"aw_value_sum\": 46000000.0}, {\"releasedate\": \"03/23/2018\", \"ocid_count\": 1, \"aw_value_sum\": 90000000.0}, {\"releasedate\": \"03/28/2018\", \"ocid_count\": 12, \"aw_value_sum\": 1448652.0}, {\"releasedate\": \"03/28/2019\", \"ocid_count\": 1, \"aw_value_sum\": 219990.0}, {\"releasedate\": \"04/01/2019\", \"ocid_count\": 1, \"aw_value_sum\": 4550000.0}, {\"releasedate\": \"04/02/2019\", \"ocid_count\": 48, \"aw_value_sum\": 48218352.0}, {\"releasedate\": \"04/04/2017\", \"ocid_count\": 4, \"aw_value_sum\": 500000.0}, {\"releasedate\": \"04/04/2019\", \"ocid_count\": 1, \"aw_value_sum\": 68300.0}, {\"releasedate\": \"04/05/2018\", \"ocid_count\": 25, \"aw_value_sum\": 16331880.0}, {\"releasedate\": \"04/06/2017\", \"ocid_count\": 1, \"aw_value_sum\": 2000000.0}, {\"releasedate\": \"04/09/2018\", \"ocid_count\": 2, \"aw_value_sum\": 400000.0}, {\"releasedate\": \"04/10/2017\", \"ocid_count\": 11, \"aw_value_sum\": 0.0}, {\"releasedate\": \"04/10/2018\", \"ocid_count\": 26, \"aw_value_sum\": 50268400.0}, {\"releasedate\": \"04/11/2019\", \"ocid_count\": 3, \"aw_value_sum\": 245000.0}, {\"releasedate\": \"04/14/2018\", \"ocid_count\": 16, \"aw_value_sum\": 160000000.0}, {\"releasedate\": \"04/15/2019\", \"ocid_count\": 44, \"aw_value_sum\": 12110660800.0}, {\"releasedate\": \"04/16/2019\", \"ocid_count\": 18, \"aw_value_sum\": 9448000.0}, {\"releasedate\": \"04/17/2019\", \"ocid_count\": 2, \"aw_value_sum\": 1300000.0}, {\"releasedate\": \"04/18/2017\", \"ocid_count\": 18, \"aw_value_sum\": 727636.0}, {\"releasedate\": \"04/19/2019\", \"ocid_count\": 1, \"aw_value_sum\": 95000000.0}, {\"releasedate\": \"04/20/2017\", \"ocid_count\": 3, \"aw_value_sum\": 0.0}, {\"releasedate\": \"04/21/2017\", \"ocid_count\": 5, \"aw_value_sum\": 50000.0}, {\"releasedate\": \"04/24/2019\", \"ocid_count\": 3, \"aw_value_sum\": 11867091.0}, {\"releasedate\": \"04/25/2019\", \"ocid_count\": 1, \"aw_value_sum\": 9000000.0}, {\"releasedate\": \"04/26/2019\", \"ocid_count\": 1, \"aw_value_sum\": 242200.0}, {\"releasedate\": \"05/01/2019\", \"ocid_count\": 16, \"aw_value_sum\": 0.0}, {\"releasedate\": \"05/02/2017\", \"ocid_count\": 7, \"aw_value_sum\": 1015000.0}, {\"releasedate\": \"05/02/2019\", \"ocid_count\": 24, \"aw_value_sum\": 360000000.0}, {\"releasedate\": \"05/03/2017\", \"ocid_count\": 2, \"aw_value_sum\": 60000000.0}, {\"releasedate\": \"05/03/2018\", \"ocid_count\": 25, \"aw_value_sum\": 49962.0}, {\"releasedate\": \"05/05/2017\", \"ocid_count\": 17, \"aw_value_sum\": 0.0}, {\"releasedate\": \"05/06/2017\", \"ocid_count\": 2, \"aw_value_sum\": 0.0}, {\"releasedate\": \"05/08/2017\", \"ocid_count\": 24, \"aw_value_sum\": 38400000.0}, {\"releasedate\": \"05/09/2017\", \"ocid_count\": 1, \"aw_value_sum\": 0.0}, {\"releasedate\": \"05/09/2019\", \"ocid_count\": 2, \"aw_value_sum\": 329682.0}, {\"releasedate\": \"05/10/2017\", \"ocid_count\": 7, \"aw_value_sum\": 905800.0}, {\"releasedate\": \"05/11/2017\", \"ocid_count\": 25, \"aw_value_sum\": 101357424.39999996}, {\"releasedate\": \"05/11/2018\", \"ocid_count\": 12, \"aw_value_sum\": 18000000.0}, {\"releasedate\": \"05/12/2018\", \"ocid_count\": 12, \"aw_value_sum\": 18000000.0}, {\"releasedate\": \"05/13/2019\", \"ocid_count\": 18, \"aw_value_sum\": 0.0}, {\"releasedate\": \"05/14/2018\", \"ocid_count\": 24, \"aw_value_sum\": 1200000.0}, {\"releasedate\": \"05/14/2019\", \"ocid_count\": 1, \"aw_value_sum\": 980000.0}, {\"releasedate\": \"05/15/2018\", \"ocid_count\": 1, \"aw_value_sum\": 273840.0}, {\"releasedate\": \"05/16/2018\", \"ocid_count\": 24, \"aw_value_sum\": 16657920.0}, {\"releasedate\": \"05/18/2018\", \"ocid_count\": 24, \"aw_value_sum\": 27600000.0}, {\"releasedate\": \"05/19/2017\", \"ocid_count\": 6, \"aw_value_sum\": 235000000.0}, {\"releasedate\": \"05/21/2018\", \"ocid_count\": 24, \"aw_value_sum\": 20992608.0}, {\"releasedate\": \"05/22/2018\", \"ocid_count\": 34, \"aw_value_sum\": 16391542.0}, {\"releasedate\": \"05/22/2019\", \"ocid_count\": 8, \"aw_value_sum\": 33600000.0}, {\"releasedate\": \"05/23/2018\", \"ocid_count\": 30, \"aw_value_sum\": 51452628.0}, {\"releasedate\": \"05/23/2019\", \"ocid_count\": 28, \"aw_value_sum\": 275800.0}, {\"releasedate\": \"05/24/2018\", \"ocid_count\": 4, \"aw_value_sum\": 400342.0}, {\"releasedate\": \"05/29/2018\", \"ocid_count\": 72, \"aw_value_sum\": 14352600.0}, {\"releasedate\": \"05/29/2019\", \"ocid_count\": 26, \"aw_value_sum\": 25481040.0}, {\"releasedate\": \"05/30/2019\", \"ocid_count\": 1, \"aw_value_sum\": 1000000.0}, {\"releasedate\": \"05/31/2017\", \"ocid_count\": 31, \"aw_value_sum\": 2284700.0}, {\"releasedate\": \"05/31/2018\", \"ocid_count\": 66, \"aw_value_sum\": 2500450000.200002}, {\"releasedate\": \"06/01/2018\", \"ocid_count\": 1, \"aw_value_sum\": 0.0}, {\"releasedate\": \"06/03/2019\", \"ocid_count\": 2, \"aw_value_sum\": 50000000.0}, {\"releasedate\": \"06/05/2017\", \"ocid_count\": 24, \"aw_value_sum\": 2400000.0}, {\"releasedate\": \"06/07/2019\", \"ocid_count\": 1, \"aw_value_sum\": 1500000.0}, {\"releasedate\": \"06/14/2018\", \"ocid_count\": 1, \"aw_value_sum\": 1538000.0}, {\"releasedate\": \"06/14/2019\", \"ocid_count\": 2, \"aw_value_sum\": 1650000.0}, {\"releasedate\": \"06/15/2017\", \"ocid_count\": 1, \"aw_value_sum\": 166240.0}, {\"releasedate\": \"06/17/2019\", \"ocid_count\": 2, \"aw_value_sum\": 184000.0}, {\"releasedate\": \"06/19/2019\", \"ocid_count\": 15, \"aw_value_sum\": 28467450.0}, {\"releasedate\": \"06/20/2019\", \"ocid_count\": 30, \"aw_value_sum\": 14500000.0}, {\"releasedate\": \"06/21/2018\", \"ocid_count\": 2, \"aw_value_sum\": 300000000.0}, {\"releasedate\": \"06/21/2019\", \"ocid_count\": 2, \"aw_value_sum\": 6000000.0}, {\"releasedate\": \"06/22/2017\", \"ocid_count\": 3, \"aw_value_sum\": 1500000.0}, {\"releasedate\": \"06/22/2018\", \"ocid_count\": 1, \"aw_value_sum\": 0.0}, {\"releasedate\": \"06/24/2017\", \"ocid_count\": 2, \"aw_value_sum\": 47500000.0}, {\"releasedate\": \"06/25/2019\", \"ocid_count\": 2, \"aw_value_sum\": 34000000.0}, {\"releasedate\": \"06/26/2018\", \"ocid_count\": 24, \"aw_value_sum\": 190800000.0}, {\"releasedate\": \"06/26/2019\", \"ocid_count\": 1, \"aw_value_sum\": 950000.0}, {\"releasedate\": \"06/27/2017\", \"ocid_count\": 1, \"aw_value_sum\": 200000.0}, {\"releasedate\": \"06/27/2018\", \"ocid_count\": 24, \"aw_value_sum\": 23965968.0}, {\"releasedate\": \"06/27/2019\", \"ocid_count\": 1, \"aw_value_sum\": 0.0}, {\"releasedate\": \"06/28/2018\", \"ocid_count\": 71, \"aw_value_sum\": 938000.0}, {\"releasedate\": \"06/28/2019\", \"ocid_count\": 1, \"aw_value_sum\": 48000.0}, {\"releasedate\": \"06/29/2018\", \"ocid_count\": 46, \"aw_value_sum\": 46000000.0}, {\"releasedate\": \"07/03/2019\", \"ocid_count\": 1, \"aw_value_sum\": 430000.0}, {\"releasedate\": \"07/04/2018\", \"ocid_count\": 1, \"aw_value_sum\": 111858.0}, {\"releasedate\": \"07/05/2018\", \"ocid_count\": 10, \"aw_value_sum\": 5400000.0}, {\"releasedate\": \"07/06/2017\", \"ocid_count\": 1, \"aw_value_sum\": 40000.0}, {\"releasedate\": \"07/06/2018\", \"ocid_count\": 24, \"aw_value_sum\": 6000000.0}, {\"releasedate\": \"07/07/2017\", \"ocid_count\": 6, \"aw_value_sum\": 450000.0}, {\"releasedate\": \"07/08/2019\", \"ocid_count\": 1, \"aw_value_sum\": 10000000.0}, {\"releasedate\": \"07/10/2018\", \"ocid_count\": 1, \"aw_value_sum\": 85000.0}, {\"releasedate\": \"07/11/2017\", \"ocid_count\": 1, \"aw_value_sum\": 0.0}, {\"releasedate\": \"07/12/2019\", \"ocid_count\": 1, \"aw_value_sum\": 354922.0}, {\"releasedate\": \"07/13/2017\", \"ocid_count\": 1, \"aw_value_sum\": 0.0}, {\"releasedate\": \"07/13/2018\", \"ocid_count\": 1, \"aw_value_sum\": 6030000.0}, {\"releasedate\": \"07/14/2018\", \"ocid_count\": 22, \"aw_value_sum\": 0.0}, {\"releasedate\": \"07/15/2019\", \"ocid_count\": 1, \"aw_value_sum\": 122400.0}, {\"releasedate\": \"07/18/2017\", \"ocid_count\": 1, \"aw_value_sum\": 0.0}, {\"releasedate\": \"07/18/2018\", \"ocid_count\": 27, \"aw_value_sum\": 18000000000.0}, {\"releasedate\": \"07/18/2019\", \"ocid_count\": 24, \"aw_value_sum\": 13800000.0}, {\"releasedate\": \"07/19/2017\", \"ocid_count\": 46, \"aw_value_sum\": 0.0}, {\"releasedate\": \"07/19/2019\", \"ocid_count\": 3, \"aw_value_sum\": 2773640.0}, {\"releasedate\": \"07/20/2017\", \"ocid_count\": 1, \"aw_value_sum\": 0.0}, {\"releasedate\": \"07/22/2019\", \"ocid_count\": 1, \"aw_value_sum\": 23029.0}, {\"releasedate\": \"07/23/2019\", \"ocid_count\": 2, \"aw_value_sum\": 1.0}, {\"releasedate\": \"07/24/2018\", \"ocid_count\": 1, \"aw_value_sum\": 35000.0}, {\"releasedate\": \"07/25/2018\", \"ocid_count\": 1, \"aw_value_sum\": 0.0}, {\"releasedate\": \"07/25/2019\", \"ocid_count\": 3, \"aw_value_sum\": 255000.0}, {\"releasedate\": \"07/26/2018\", \"ocid_count\": 11, \"aw_value_sum\": 29040000.0}, {\"releasedate\": \"07/28/2017\", \"ocid_count\": 1, \"aw_value_sum\": 500000.0}, {\"releasedate\": \"07/30/2018\", \"ocid_count\": 24, \"aw_value_sum\": 15578352.0}, {\"releasedate\": \"08/02/2017\", \"ocid_count\": 25, \"aw_value_sum\": 14034520.0}, {\"releasedate\": \"08/02/2018\", \"ocid_count\": 1, \"aw_value_sum\": 1.0}, {\"releasedate\": \"08/02/2019\", \"ocid_count\": 24, \"aw_value_sum\": 1800000.0}, {\"releasedate\": \"08/03/2018\", \"ocid_count\": 2, \"aw_value_sum\": 0.0}, {\"releasedate\": \"08/06/2018\", \"ocid_count\": 1, \"aw_value_sum\": 1.0}, {\"releasedate\": \"08/08/2019\", \"ocid_count\": 8, \"aw_value_sum\": 490049700.0}, {\"releasedate\": \"08/09/2017\", \"ocid_count\": 48, \"aw_value_sum\": 122400000.0}, {\"releasedate\": \"08/09/2018\", \"ocid_count\": 24, \"aw_value_sum\": 5866872.0}, {\"releasedate\": \"08/11/2017\", \"ocid_count\": 1, \"aw_value_sum\": 106130.0}, {\"releasedate\": \"08/12/2019\", \"ocid_count\": 4, \"aw_value_sum\": 5815228.0}, {\"releasedate\": \"08/13/2019\", \"ocid_count\": 2, \"aw_value_sum\": 1013000.0}, {\"releasedate\": \"08/14/2019\", \"ocid_count\": 8, \"aw_value_sum\": 5280000.0}, {\"releasedate\": \"08/15/2019\", \"ocid_count\": 1, \"aw_value_sum\": 2450000.0}, {\"releasedate\": \"08/17/2017\", \"ocid_count\": 2, \"aw_value_sum\": 5052720.0}, {\"releasedate\": \"08/18/2017\", \"ocid_count\": 2, \"aw_value_sum\": 95880.0}, {\"releasedate\": \"08/18/2018\", \"ocid_count\": 5, \"aw_value_sum\": 30000000.0}, {\"releasedate\": \"08/19/2019\", \"ocid_count\": 1, \"aw_value_sum\": 426150.0}, {\"releasedate\": \"08/20/2018\", \"ocid_count\": 1, \"aw_value_sum\": 41000.0}, {\"releasedate\": \"08/20/2019\", \"ocid_count\": 1, \"aw_value_sum\": 6000000.0}, {\"releasedate\": \"08/23/2019\", \"ocid_count\": 2, \"aw_value_sum\": 514659.0}, {\"releasedate\": \"08/27/2019\", \"ocid_count\": 1, \"aw_value_sum\": 250000.0}, {\"releasedate\": \"08/29/2018\", \"ocid_count\": 24, \"aw_value_sum\": 2378904.0}, {\"releasedate\": \"08/30/2018\", \"ocid_count\": 24, \"aw_value_sum\": 10759200.0}, {\"releasedate\": \"09/04/2017\", \"ocid_count\": 24, \"aw_value_sum\": 15385920.0}, {\"releasedate\": \"09/04/2018\", \"ocid_count\": 4, \"aw_value_sum\": 40000000.0}, {\"releasedate\": \"09/05/2017\", \"ocid_count\": 1, \"aw_value_sum\": 26680.0}, {\"releasedate\": \"09/05/2018\", \"ocid_count\": 24, \"aw_value_sum\": 74721420.0}, {\"releasedate\": \"09/05/2019\", \"ocid_count\": 2, \"aw_value_sum\": 1330500.0}, {\"releasedate\": \"09/06/2018\", \"ocid_count\": 24, \"aw_value_sum\": 11997000.0}, {\"releasedate\": \"09/07/2018\", \"ocid_count\": 48, \"aw_value_sum\": 13200000.0}, {\"releasedate\": \"09/08/2017\", \"ocid_count\": 4, \"aw_value_sum\": 18000000.0}, {\"releasedate\": \"09/09/2017\", \"ocid_count\": 11, \"aw_value_sum\": 660000.0}, {\"releasedate\": \"09/09/2019\", \"ocid_count\": 1, \"aw_value_sum\": 50000.0}, {\"releasedate\": \"09/10/2017\", \"ocid_count\": 11, \"aw_value_sum\": 5922290.0}, {\"releasedate\": \"09/10/2018\", \"ocid_count\": 24, \"aw_value_sum\": 4320000.0}, {\"releasedate\": \"09/11/2018\", \"ocid_count\": 3, \"aw_value_sum\": 300.0}, {\"releasedate\": \"09/13/2017\", \"ocid_count\": 29, \"aw_value_sum\": 214172395.0}, {\"releasedate\": \"09/14/2017\", \"ocid_count\": 26, \"aw_value_sum\": 7782216.0}, {\"releasedate\": \"09/14/2018\", \"ocid_count\": 24, \"aw_value_sum\": 4320000.0}, {\"releasedate\": \"09/18/2018\", \"ocid_count\": 1, \"aw_value_sum\": 0.0}, {\"releasedate\": \"09/19/2019\", \"ocid_count\": 26, \"aw_value_sum\": 9227972.0}, {\"releasedate\": \"09/20/2019\", \"ocid_count\": 26, \"aw_value_sum\": 20261800.0}, {\"releasedate\": \"09/21/2017\", \"ocid_count\": 22, \"aw_value_sum\": 0.0}, {\"releasedate\": \"09/23/2017\", \"ocid_count\": 9, \"aw_value_sum\": 0.0}, {\"releasedate\": \"09/26/2017\", \"ocid_count\": 25, \"aw_value_sum\": 16560159995.0}, {\"releasedate\": \"09/28/2017\", \"ocid_count\": 1, \"aw_value_sum\": 0.0}, {\"releasedate\": \"09/28/2018\", \"ocid_count\": 12, \"aw_value_sum\": 1896000.0}, {\"releasedate\": \"09/29/2017\", \"ocid_count\": 24, \"aw_value_sum\": 4800000.0}, {\"releasedate\": \"09/30/2019\", \"ocid_count\": 21, \"aw_value_sum\": 117605019.0}, {\"releasedate\": \"10/03/2017\", \"ocid_count\": 9, \"aw_value_sum\": 9000000.0}, {\"releasedate\": \"10/03/2019\", \"ocid_count\": 26, \"aw_value_sum\": 61152000.0}, {\"releasedate\": \"10/04/2019\", \"ocid_count\": 1, \"aw_value_sum\": 1500000.0}, {\"releasedate\": \"10/05/2018\", \"ocid_count\": 25, \"aw_value_sum\": 19275636.0}, {\"releasedate\": \"10/06/2017\", \"ocid_count\": 2, \"aw_value_sum\": 73500000.0}, {\"releasedate\": \"10/08/2019\", \"ocid_count\": 12, \"aw_value_sum\": 3120000.0}, {\"releasedate\": \"10/09/2018\", \"ocid_count\": 25, \"aw_value_sum\": 524280.0}, {\"releasedate\": \"10/11/2017\", \"ocid_count\": 29, \"aw_value_sum\": 0.0}, {\"releasedate\": \"10/12/2017\", \"ocid_count\": 1, \"aw_value_sum\": 79000.0}, {\"releasedate\": \"10/13/2017\", \"ocid_count\": 29, \"aw_value_sum\": 1918408.0}, {\"releasedate\": \"10/15/2018\", \"ocid_count\": 12, \"aw_value_sum\": 1910664.0}, {\"releasedate\": \"10/15/2019\", \"ocid_count\": 3, \"aw_value_sum\": 750000.0}, {\"releasedate\": \"10/16/2017\", \"ocid_count\": 29, \"aw_value_sum\": 12760000.0}, {\"releasedate\": \"10/17/2018\", \"ocid_count\": 1, \"aw_value_sum\": 0.0}, {\"releasedate\": \"10/18/2019\", \"ocid_count\": 2, \"aw_value_sum\": 1560000.0}, {\"releasedate\": \"10/19/2017\", \"ocid_count\": 1, \"aw_value_sum\": 100000.0}, {\"releasedate\": \"10/19/2018\", \"ocid_count\": 1, \"aw_value_sum\": 498990.0}, {\"releasedate\": \"10/21/2019\", \"ocid_count\": 2, \"aw_value_sum\": 1020540.0}, {\"releasedate\": \"10/23/2018\", \"ocid_count\": 1, \"aw_value_sum\": 498575.0}, {\"releasedate\": \"10/23/2019\", \"ocid_count\": 1, \"aw_value_sum\": 610350.0}, {\"releasedate\": \"10/24/2019\", \"ocid_count\": 1, \"aw_value_sum\": 60000000.0}, {\"releasedate\": \"10/25/2017\", \"ocid_count\": 3, \"aw_value_sum\": 49300.0}, {\"releasedate\": \"10/25/2018\", \"ocid_count\": 15, \"aw_value_sum\": 0.0}, {\"releasedate\": \"10/25/2019\", \"ocid_count\": 2, \"aw_value_sum\": 4524560.0}, {\"releasedate\": \"10/28/2019\", \"ocid_count\": 21, \"aw_value_sum\": 10060346.0}, {\"releasedate\": \"10/31/2017\", \"ocid_count\": 24, \"aw_value_sum\": 16999992.0}, {\"releasedate\": \"11/01/2019\", \"ocid_count\": 12, \"aw_value_sum\": 133824.0}, {\"releasedate\": \"11/05/2019\", \"ocid_count\": 11, \"aw_value_sum\": 2739550.0}, {\"releasedate\": \"11/08/2018\", \"ocid_count\": 2, \"aw_value_sum\": 180500.0}, {\"releasedate\": \"11/09/2018\", \"ocid_count\": 6, \"aw_value_sum\": 450200.0}, {\"releasedate\": \"11/11/2019\", \"ocid_count\": 4, \"aw_value_sum\": 320000.0}, {\"releasedate\": \"11/13/2018\", \"ocid_count\": 1, \"aw_value_sum\": 1397640.0}, {\"releasedate\": \"11/13/2019\", \"ocid_count\": 1, \"aw_value_sum\": 111000.0}, {\"releasedate\": \"11/14/2018\", \"ocid_count\": 1, \"aw_value_sum\": 5720797.0}, {\"releasedate\": \"11/15/2017\", \"ocid_count\": 1, \"aw_value_sum\": 280000.0}, {\"releasedate\": \"11/15/2019\", \"ocid_count\": 1, \"aw_value_sum\": 1168900.0}, {\"releasedate\": \"11/16/2017\", \"ocid_count\": 1, \"aw_value_sum\": 280000.0}, {\"releasedate\": \"11/18/2019\", \"ocid_count\": 1, \"aw_value_sum\": 218400.0}, {\"releasedate\": \"11/19/2019\", \"ocid_count\": 27, \"aw_value_sum\": 7180960.0}, {\"releasedate\": \"11/20/2019\", \"ocid_count\": 1, \"aw_value_sum\": 1500000.0}, {\"releasedate\": \"11/23/2018\", \"ocid_count\": 39, \"aw_value_sum\": 260264130.0}, {\"releasedate\": \"11/26/2018\", \"ocid_count\": 46, \"aw_value_sum\": 0.0}, {\"releasedate\": \"11/27/2019\", \"ocid_count\": 1, \"aw_value_sum\": 0.0}, {\"releasedate\": \"11/28/2018\", \"ocid_count\": 7, \"aw_value_sum\": 1250186.0}, {\"releasedate\": \"11/29/2017\", \"ocid_count\": 1, \"aw_value_sum\": 192568.0}, {\"releasedate\": \"12/01/2017\", \"ocid_count\": 24, \"aw_value_sum\": 2907840.0}, {\"releasedate\": \"12/04/2018\", \"ocid_count\": 46, \"aw_value_sum\": 6164000.0}, {\"releasedate\": \"12/05/2018\", \"ocid_count\": 1, \"aw_value_sum\": 83000.0}, {\"releasedate\": \"12/07/2017\", \"ocid_count\": 1, \"aw_value_sum\": 0.0}, {\"releasedate\": \"12/08/2017\", \"ocid_count\": 26, \"aw_value_sum\": 49200228.0}, {\"releasedate\": \"12/09/2019\", \"ocid_count\": 21, \"aw_value_sum\": 629958.0}, {\"releasedate\": \"12/10/2018\", \"ocid_count\": 1, \"aw_value_sum\": 50000.0}, {\"releasedate\": \"12/12/2019\", \"ocid_count\": 11, \"aw_value_sum\": 704000.0}, {\"releasedate\": \"12/14/2017\", \"ocid_count\": 22, \"aw_value_sum\": 0.0}, {\"releasedate\": \"12/14/2018\", \"ocid_count\": 1, \"aw_value_sum\": 75636.0}, {\"releasedate\": \"12/15/2017\", \"ocid_count\": 17, \"aw_value_sum\": 850000000.0}, {\"releasedate\": \"12/17/2018\", \"ocid_count\": 1, \"aw_value_sum\": 500000.0}, {\"releasedate\": \"12/18/2018\", \"ocid_count\": 15, \"aw_value_sum\": 31075610.0}, {\"releasedate\": \"12/19/2019\", \"ocid_count\": 1, \"aw_value_sum\": 371250.0}, {\"releasedate\": \"12/21/2017\", \"ocid_count\": 29, \"aw_value_sum\": 2646120.0}, {\"releasedate\": \"12/21/2018\", \"ocid_count\": 1, \"aw_value_sum\": 175800.0}, {\"releasedate\": \"12/22/2017\", \"ocid_count\": 24, \"aw_value_sum\": 13548000.0}, {\"releasedate\": \"12/23/2019\", \"ocid_count\": 1, \"aw_value_sum\": 375600.0}]}}, {\"mode\": \"vega-lite\"});\n",
              "</script>"
            ]
          },
          "metadata": {
            "tags": []
          },
          "execution_count": 8
        }
      ]
    }
  ]
}