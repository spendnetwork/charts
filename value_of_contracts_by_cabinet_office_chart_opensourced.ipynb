{
  "nbformat": 4,
  "nbformat_minor": 0,
  "metadata": {
    "colab": {
      "name": "value_of_contracts_by_cabinet_office_chart_opensourced.ipynb",
      "provenance": [],
      "collapsed_sections": [],
      "include_colab_link": true
    },
    "kernelspec": {
      "name": "python3",
      "display_name": "Python 3"
    }
  },
  "cells": [
    {
      "cell_type": "markdown",
      "metadata": {
        "id": "view-in-github",
        "colab_type": "text"
      },
      "source": [
        "<a href=\"https://colab.research.google.com/github/spendnetwork/charts/blob/master/value_of_contracts_by_cabinet_office_chart_opensourced.ipynb\" target=\"_parent\"><img src=\"https://colab.research.google.com/assets/colab-badge.svg\" alt=\"Open In Colab\"/></a>"
      ]
    },
    {
      "cell_type": "code",
      "metadata": {
        "id": "tqc2iXLl8hTN",
        "colab_type": "code",
        "colab": {}
      },
      "source": [
        "import pandas as pd\n",
        "import altair as alt"
      ],
      "execution_count": 0,
      "outputs": []
    },
    {
      "cell_type": "code",
      "metadata": {
        "id": "dfMVbVJs7f-3",
        "colab_type": "code",
        "colab": {}
      },
      "source": [
        "url = 'https://raw.githubusercontent.com/spendnetwork/charts/master/cabinet_office_contracts_data.csv'\n",
        "df = pd.read_csv(url)\n",
        "#print(df)"
      ],
      "execution_count": 0,
      "outputs": []
    },
    {
      "cell_type": "code",
      "metadata": {
        "id": "ocvP41ZMahE8",
        "colab_type": "code",
        "colab": {}
      },
      "source": [
        "df['releasedate']=pd.to_datetime(df['releasedate']).dt.strftime('%m/%d/%Y')"
      ],
      "execution_count": 0,
      "outputs": []
    },
    {
      "cell_type": "code",
      "metadata": {
        "id": "3UEM3xRs8tMF",
        "colab_type": "code",
        "colab": {}
      },
      "source": [
        "df1=(df.groupby('releasedate').agg({'ocid': ['count'], 'aw_value': 'sum'}))\n",
        "#df1.head()"
      ],
      "execution_count": 0,
      "outputs": []
    },
    {
      "cell_type": "code",
      "metadata": {
        "id": "DqsTJ_0lJFMl",
        "colab_type": "code",
        "colab": {}
      },
      "source": [
        "df1.columns = df1.columns.map('_'.join)\n",
        "df1 = df1.reset_index()\n",
        "#df1.head()"
      ],
      "execution_count": 0,
      "outputs": []
    },
    {
      "cell_type": "code",
      "metadata": {
        "id": "o74MSUwJZzgX",
        "colab_type": "code",
        "colab": {}
      },
      "source": [
        "#df1['releasedate']=pd.to_datetime(df1['releasedate'].dt.strftime('%m/%d/%Y'))\n",
        "#df1['releasedate']=pd.to_datetime(df1['releasedate']).dt.strftime('%m/%d/%Y') \n",
        "#df1.head()"
      ],
      "execution_count": 0,
      "outputs": []
    },
    {
      "cell_type": "code",
      "metadata": {
        "id": "km6J-8euyboY",
        "colab_type": "code",
        "outputId": "7fae83e7-90c8-4422-8108-a7f615056027",
        "colab": {
          "base_uri": "https://localhost:8080/",
          "height": 350
        }
      },
      "source": [
        "        chart = (\n",
        "            alt.Chart(df1, width=1200, height=250, title=\"Total value of of contracts by Cabinet Office\")\n",
        "                .mark_bar(color='#91D739')\n",
        "                .encode(\n",
        "                alt.X(\n",
        "                    \"yearmonth(releasedate):O\",\n",
        "                    ## xAxis title must be \"Source: https://openopps.com\"\n",
        "                    axis=alt.Axis(title=\"Source: https://openopps.com\", grid=False, \n",
        "                labelFont='Helvetica', \n",
        "                labelFontSize=12, \n",
        "                labelAngle=0, \n",
        "                titleAlign='left',\n",
        "                titleAnchor='start',\n",
        "                titleFont='Helvetica',\n",
        "                titleFontSize= 11,\n",
        "                titleFontWeight= 300,\n",
        "                titleX= -0,\n",
        "                titleY= 30)\n",
        "                ),\n",
        "                alt.Y(\"sum(aw_value_sum):Q\",\n",
        "                      axis=alt.Axis(title=\"\",\n",
        "                                    format=\"$,.0s\"),\n",
        "                      ),\n",
        "                tooltip=[\n",
        "                    alt.Tooltip('sum(aw_value_sum):Q', title=\"Total value\", format=\"$,.4r\"),\n",
        "                    alt.Tooltip('sum(ocid_count):Q', title=\"Total contracts\")\n",
        "                ],\n",
        "                  # suppress the legend for now.\n",
        "            )\n",
        "        )\n",
        "\n",
        "        text = (\n",
        "            chart.mark_text(align=\"center\", baseline=\"bottom\")\n",
        "                .encode(text=alt.Text('sum(aw_value_sum):Q', format='$,.1s'))\n",
        "        )\n",
        "\n",
        "        (chart+text).configure_view(\n",
        "          strokeWidth=0\n",
        "        ).configure_title(fontSize=18, anchor='start',\n",
        "                color= \"#91D739\", font='Helvetica', fontWeight=400)\n"
      ],
      "execution_count": 9,
      "outputs": [
        {
          "output_type": "execute_result",
          "data": {
            "text/plain": [
              "alt.LayerChart(...)"
            ],
            "text/html": [
              "\n",
              "<div id=\"altair-viz-b35c26d7132249a4bc0bc0a462c70d3d\"></div>\n",
              "<script type=\"text/javascript\">\n",
              "  (function(spec, embedOpt){\n",
              "    const outputDiv = document.getElementById(\"altair-viz-b35c26d7132249a4bc0bc0a462c70d3d\");\n",
              "    const paths = {\n",
              "      \"vega\": \"https://cdn.jsdelivr.net/npm//vega@5?noext\",\n",
              "      \"vega-lib\": \"https://cdn.jsdelivr.net/npm//vega-lib?noext\",\n",
              "      \"vega-lite\": \"https://cdn.jsdelivr.net/npm//vega-lite@4.0.2?noext\",\n",
              "      \"vega-embed\": \"https://cdn.jsdelivr.net/npm//vega-embed@6?noext\",\n",
              "    };\n",
              "\n",
              "    function loadScript(lib) {\n",
              "      return new Promise(function(resolve, reject) {\n",
              "        var s = document.createElement('script');\n",
              "        s.src = paths[lib];\n",
              "        s.async = true;\n",
              "        s.onload = () => resolve(paths[lib]);\n",
              "        s.onerror = () => reject(`Error loading script: ${paths[lib]}`);\n",
              "        document.getElementsByTagName(\"head\")[0].appendChild(s);\n",
              "      });\n",
              "    }\n",
              "\n",
              "    function showError(err) {\n",
              "      outputDiv.innerHTML = `<div class=\"error\" style=\"color:red;\">${err}</div>`;\n",
              "      throw err;\n",
              "    }\n",
              "\n",
              "    function displayChart(vegaEmbed) {\n",
              "      vegaEmbed(outputDiv, spec, embedOpt)\n",
              "        .catch(err => showError(`Javascript Error: ${err.message}<br>This usually means there's a typo in your chart specification. See the javascript console for the full traceback.`));\n",
              "    }\n",
              "\n",
              "    if(typeof define === \"function\" && define.amd) {\n",
              "      requirejs.config({paths});\n",
              "      require([\"vega-embed\"], displayChart, err => showError(`Error loading script: ${err.message}`));\n",
              "    } else if (typeof vegaEmbed === \"function\") {\n",
              "      displayChart(vegaEmbed);\n",
              "    } else {\n",
              "      loadScript(\"vega\")\n",
              "        .then(() => loadScript(\"vega-lite\"))\n",
              "        .then(() => loadScript(\"vega-embed\"))\n",
              "        .catch(showError)\n",
              "        .then(() => displayChart(vegaEmbed));\n",
              "    }\n",
              "  })({\"config\": {\"view\": {\"continuousWidth\": 400, \"continuousHeight\": 300, \"strokeWidth\": 0}, \"title\": {\"anchor\": \"start\", \"color\": \"#91D739\", \"font\": \"Helvetica\", \"fontSize\": 18, \"fontWeight\": 400}}, \"layer\": [{\"mark\": {\"type\": \"bar\", \"color\": \"#91D739\"}, \"encoding\": {\"tooltip\": [{\"type\": \"quantitative\", \"aggregate\": \"sum\", \"field\": \"aw_value_sum\", \"format\": \"$,.4r\", \"title\": \"Total value\"}, {\"type\": \"quantitative\", \"aggregate\": \"sum\", \"field\": \"ocid_count\", \"title\": \"Total contracts\"}], \"x\": {\"type\": \"ordinal\", \"axis\": {\"grid\": false, \"labelAngle\": 0, \"labelFont\": \"Helvetica\", \"labelFontSize\": 12, \"title\": \"Source: https://openopps.com\", \"titleAlign\": \"left\", \"titleAnchor\": \"start\", \"titleFont\": \"Helvetica\", \"titleFontSize\": 11, \"titleFontWeight\": 300, \"titleX\": 0, \"titleY\": 30}, \"field\": \"releasedate\", \"timeUnit\": \"yearmonth\"}, \"y\": {\"type\": \"quantitative\", \"aggregate\": \"sum\", \"axis\": {\"format\": \"$,.0s\", \"title\": \"\"}, \"field\": \"aw_value_sum\"}}, \"height\": 250, \"title\": \"Total value of of contracts by Cabinet Office\", \"width\": 1200}, {\"mark\": {\"type\": \"text\", \"align\": \"center\", \"baseline\": \"bottom\"}, \"encoding\": {\"text\": {\"type\": \"quantitative\", \"aggregate\": \"sum\", \"field\": \"aw_value_sum\", \"format\": \"$,.1s\"}, \"tooltip\": [{\"type\": \"quantitative\", \"aggregate\": \"sum\", \"field\": \"aw_value_sum\", \"format\": \"$,.4r\", \"title\": \"Total value\"}, {\"type\": \"quantitative\", \"aggregate\": \"sum\", \"field\": \"ocid_count\", \"title\": \"Total contracts\"}], \"x\": {\"type\": \"ordinal\", \"axis\": {\"grid\": false, \"labelAngle\": 0, \"labelFont\": \"Helvetica\", \"labelFontSize\": 12, \"title\": \"Source: https://openopps.com\", \"titleAlign\": \"left\", \"titleAnchor\": \"start\", \"titleFont\": \"Helvetica\", \"titleFontSize\": 11, \"titleFontWeight\": 300, \"titleX\": 0, \"titleY\": 30}, \"field\": \"releasedate\", \"timeUnit\": \"yearmonth\"}, \"y\": {\"type\": \"quantitative\", \"aggregate\": \"sum\", \"axis\": {\"format\": \"$,.0s\", \"title\": \"\"}, \"field\": \"aw_value_sum\"}}, \"height\": 250, \"title\": \"Total value of of contracts by Cabinet Office\", \"width\": 1200}], \"data\": {\"name\": \"data-85cf243344afb203a39a29684f1ed53e\"}, \"$schema\": \"https://vega.github.io/schema/vega-lite/v4.0.2.json\", \"datasets\": {\"data-85cf243344afb203a39a29684f1ed53e\": [{\"releasedate\": \"01/30/2019\", \"ocid_count\": 1, \"aw_value_sum\": 141000.0}, {\"releasedate\": \"02/22/2019\", \"ocid_count\": 2, \"aw_value_sum\": 746414.55}, {\"releasedate\": \"02/26/2019\", \"ocid_count\": 1, \"aw_value_sum\": 48820.0}, {\"releasedate\": \"04/02/2019\", \"ocid_count\": 3, \"aw_value_sum\": 738186.11}, {\"releasedate\": \"04/24/2019\", \"ocid_count\": 1, \"aw_value_sum\": 741200.0}, {\"releasedate\": \"05/13/2019\", \"ocid_count\": 1, \"aw_value_sum\": 8500.0}, {\"releasedate\": \"06/03/2019\", \"ocid_count\": 1, \"aw_value_sum\": 199800.0}, {\"releasedate\": \"06/18/2018\", \"ocid_count\": 1, \"aw_value_sum\": 91000.0}, {\"releasedate\": \"08/06/2018\", \"ocid_count\": 1, \"aw_value_sum\": 45000.0}, {\"releasedate\": \"08/20/2019\", \"ocid_count\": 1, \"aw_value_sum\": 390000000.0}, {\"releasedate\": \"09/19/2019\", \"ocid_count\": 1, \"aw_value_sum\": 200000.0}, {\"releasedate\": \"09/25/2019\", \"ocid_count\": 2, \"aw_value_sum\": 425778.0}, {\"releasedate\": \"09/26/2019\", \"ocid_count\": 8, \"aw_value_sum\": 662764.0}, {\"releasedate\": \"09/27/2019\", \"ocid_count\": 1, \"aw_value_sum\": 741200.0}, {\"releasedate\": \"10/17/2019\", \"ocid_count\": 1, \"aw_value_sum\": 150000.0}, {\"releasedate\": \"10/23/2017\", \"ocid_count\": 3, \"aw_value_sum\": 455000.0}, {\"releasedate\": \"11/10/2017\", \"ocid_count\": 1, \"aw_value_sum\": 7950.0}, {\"releasedate\": \"11/11/2019\", \"ocid_count\": 8, \"aw_value_sum\": 259310.0}, {\"releasedate\": \"12/05/2018\", \"ocid_count\": 1, \"aw_value_sum\": 180000.0}]}}, {\"mode\": \"vega-lite\"});\n",
              "</script>"
            ]
          },
          "metadata": {
            "tags": []
          },
          "execution_count": 9
        }
      ]
    }
  ]
}