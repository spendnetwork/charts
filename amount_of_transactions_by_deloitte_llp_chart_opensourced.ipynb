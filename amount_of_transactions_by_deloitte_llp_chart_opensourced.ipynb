{
  "nbformat": 4,
  "nbformat_minor": 0,
  "metadata": {
    "colab": {
      "name": "amount_of_transactions_by_deloitte_llp_chart_opensourced.ipynb",
      "provenance": [],
      "collapsed_sections": [],
      "authorship_tag": "ABX9TyOiKkGPSN1BTtBfZuLFqDLQ",
      "include_colab_link": true
    },
    "kernelspec": {
      "name": "python3",
      "display_name": "Python 3"
    }
  },
  "cells": [
    {
      "cell_type": "markdown",
      "metadata": {
        "id": "view-in-github",
        "colab_type": "text"
      },
      "source": [
        "<a href=\"https://colab.research.google.com/github/spendnetwork/charts/blob/master/amount_of_transactions_by_deloitte_llp_chart_opensourced.ipynb\" target=\"_parent\"><img src=\"https://colab.research.google.com/assets/colab-badge.svg\" alt=\"Open In Colab\"/></a>"
      ]
    },
    {
      "cell_type": "code",
      "metadata": {
        "id": "tqc2iXLl8hTN",
        "colab_type": "code",
        "colab": {}
      },
      "source": [
        "import pandas as pd\n",
        "import altair as alt\n",
        "from datetime import datetime, timedelta\n",
        "from dateutil.relativedelta import relativedelta"
      ],
      "execution_count": 0,
      "outputs": []
    },
    {
      "cell_type": "code",
      "metadata": {
        "id": "dfMVbVJs7f-3",
        "colab_type": "code",
        "outputId": "1ec9c514-8b7a-42d2-f581-6b2ac9e9f928",
        "colab": {
          "base_uri": "https://localhost:8080/",
          "height": 260
        }
      },
      "source": [
        "url = 'https://raw.githubusercontent.com/spendnetwork/charts/master/deloitte_spend.csv'\n",
        "df = pd.read_csv(url)\n",
        "print(df)"
      ],
      "execution_count": 2,
      "outputs": [
        {
          "output_type": "stream",
          "text": [
            "                             trans_id  ...    amount\n",
            "0          NWR004_NR_gov_2017_06_2142  ...  67575.00\n",
            "1         E5035_CLBC_gov_2018_04_3624  ...   2940.39\n",
            "2       FTRLUX_BWNHSFT_gov_2017_06_74  ...  58000.00\n",
            "3       FTRLUX_BWNHSFT_gov_2017_09_41  ...  33796.55\n",
            "4       FTRLUX_BWNHSFT_gov_2017_12_82  ...  77400.00\n",
            "...                               ...  ...       ...\n",
            "2036  NHTRX5NFT_GWASNT_gov_2017_05_26  ...  50000.00\n",
            "2037    FTRTEX_GHNHSFT_gov_2017_03_61  ...  82113.60\n",
            "2038        E0501_PCC_gov_2018_05_414  ...  44653.53\n",
            "2039     FTREMX_AUHNFT_gov_2017_06_62  ...  24262.20\n",
            "2040  NHTRX5NFT_GWASNT_gov_2017_03_16  ...  30000.00\n",
            "\n",
            "[2041 rows x 15 columns]\n"
          ],
          "name": "stdout"
        }
      ]
    },
    {
      "cell_type": "code",
      "metadata": {
        "id": "ocvP41ZMahE8",
        "colab_type": "code",
        "colab": {}
      },
      "source": [
        "df['date']=pd.to_datetime(df['date']).dt.strftime('%m/%d/%Y')"
      ],
      "execution_count": 0,
      "outputs": []
    },
    {
      "cell_type": "code",
      "metadata": {
        "id": "3UEM3xRs8tMF",
        "colab_type": "code",
        "colab": {}
      },
      "source": [
        "df1=(df.groupby('date').agg({'trans_id': ['count'], 'amount': 'sum'}))\n",
        "#df1.head()"
      ],
      "execution_count": 0,
      "outputs": []
    },
    {
      "cell_type": "code",
      "metadata": {
        "id": "DqsTJ_0lJFMl",
        "colab_type": "code",
        "colab": {}
      },
      "source": [
        "df1.columns = df1.columns.map('_'.join)\n",
        "df1 = df1.reset_index()\n",
        "#df1.head()"
      ],
      "execution_count": 0,
      "outputs": []
    },
    {
      "cell_type": "code",
      "metadata": {
        "id": "o74MSUwJZzgX",
        "colab_type": "code",
        "colab": {}
      },
      "source": [
        "#df1['releasedate']=pd.to_datetime(df1['releasedate'].dt.strftime('%m/%d/%Y'))\n",
        "#df1['releasedate']=pd.to_datetime(df1['releasedate']).dt.strftime('%m/%d/%Y') \n",
        "#df1.head()"
      ],
      "execution_count": 0,
      "outputs": []
    },
    {
      "cell_type": "code",
      "metadata": {
        "id": "JrSOkMCtdjFU",
        "colab_type": "code",
        "colab": {}
      },
      "source": [
        "def rolling_twelve_month_trend(df, colname, agg_type):        \n",
        "        df2=df1['date'] = pd.to_datetime(df1['date'])\n",
        "        p2mask = (df1['date'] > datetime.today() - relativedelta(years=1)) & (df1['date'] <= datetime.today())\n",
        "        p1mask = (df1['date'] > datetime.today() - relativedelta(years=2)) & (\n",
        "                    df1['date'] <= datetime.today() - relativedelta(years=1))\n",
        "        p2 = df.loc[p2mask]\n",
        "        p1 = df.loc[p1mask]\n",
        "\n",
        "        perc = None\n",
        "        if agg_type == 'sum':\n",
        "            perc = float(p2[colname].sum() - p1[colname].sum()) / abs(p1[colname].sum()) * 100\n",
        "        elif agg_type == 'mean':\n",
        "            perc = float(p2[colname].mean() - p1[colname].mean()) / abs(p1[colname].mean()) * 100\n",
        "        return perc\n",
        "  \n",
        "def which_caret(stat_value):\n",
        "        stat_value = int(stat_value)\n",
        "        ## returning html that deploys Font Awesome icons, can be changed according to icon set in use\n",
        "        if stat_value > 0:\n",
        "            caret = u\"\\u25B2\"\n",
        "        elif stat_value < 0:\n",
        "            caret = u\"\\u25BC\"\n",
        "        else:\n",
        "            caret = u\"\\u003D\"\n",
        "        return caret\n",
        "\n",
        "def inc_dec(stat_value):\n",
        "        stat_value = int(stat_value)\n",
        "        ## returning html that deploys Font Awesome icons, can be changed according to icon set in use\n",
        "        if stat_value > 0:\n",
        "            change = 'increase'\n",
        "        elif stat_value < 0:\n",
        "            change = 'decrease'\n",
        "        else:\n",
        "            change = 'change'\n",
        "        return change"
      ],
      "execution_count": 0,
      "outputs": []
    },
    {
      "cell_type": "code",
      "metadata": {
        "id": "m5kPNIBYdp5m",
        "colab_type": "code",
        "outputId": "8db2b4c4-625a-4955-d756-b6524e305b43",
        "colab": {
          "base_uri": "https://localhost:8080/",
          "height": 34
        }
      },
      "source": [
        "perc = rolling_twelve_month_trend(df1, 'amount_sum', 'sum')\n",
        "caret = which_caret(perc)\n",
        "change = inc_dec(perc)\n",
        "\n",
        "caret+str(perc)+change"
      ],
      "execution_count": 8,
      "outputs": [
        {
          "output_type": "execute_result",
          "data": {
            "text/plain": [
              "'▼-12.946713940360329decrease'"
            ]
          },
          "metadata": {
            "tags": []
          },
          "execution_count": 8
        }
      ]
    },
    {
      "cell_type": "code",
      "metadata": {
        "id": "km6J-8euyboY",
        "colab_type": "code",
        "outputId": "10afe058-7c64-45a9-eb7e-3896ed3747ad",
        "colab": {
          "base_uri": "https://localhost:8080/",
          "height": 388
        }
      },
      "source": [
        "        chart = (\n",
        "            alt.Chart(df1, width=1200, height=250, title=\"Total value of spend by Deloitte LLP\")\n",
        "                .mark_bar(color='#91D739')\n",
        "                .encode(\n",
        "                alt.X(\n",
        "                    \"yearmonth(date):O\",\n",
        "                    ## xAxis title must be \"Source: https://openopps.com\"\n",
        "                    axis=alt.Axis(title=\"Source: https://openopps.com\", grid=False, \n",
        "                labelFont='Helvetica', \n",
        "                labelFontSize=12, \n",
        "                labelAngle=0, \n",
        "                titleAlign='left',\n",
        "                titleAnchor='start',\n",
        "                titleFont='Helvetica',\n",
        "                titleFontSize= 11,\n",
        "                titleFontWeight= 300,\n",
        "                titleX= -0,\n",
        "                titleY= 30)\n",
        "                ),\n",
        "                alt.Y(\"sum(amount_sum):Q\",\n",
        "                      axis=alt.Axis(title=(caret +' '+ str(int(perc))+'% ' + change + ' this year in comparison with the previous year.' ),\n",
        "                                    format=\".2s\",\n",
        "                                    titleAlign= 'left',\n",
        "                                    titleAnchor='start',\n",
        "                                    titleAngle= 0,\n",
        "                                    titleFont= 'Helvetica',\n",
        "                                    titleFontSize= 12,\n",
        "                                    titleFontWeight= 400,\n",
        "                                    titleX= -0,\n",
        "                                    titleY= -30,),\n",
        "                      ),\n",
        "                tooltip=[\n",
        "                    alt.Tooltip('sum(amount_sum):Q', title=\"Total value\", format=\"$.4r\"),\n",
        "                    alt.Tooltip('sum(trans_id_count):Q', title=\"Total transactions\")\n",
        "                ],\n",
        "                  # suppress the legend for now.\n",
        "            )\n",
        "        )\n",
        "\n",
        "        text = (\n",
        "            chart.mark_text(align=\"center\", baseline=\"bottom\")\n",
        "                .encode(text=alt.Text('sum(amount_sum):N', format=\"$.3s\"))\n",
        "        )\n",
        "\n",
        "        (chart+text).configure_view(\n",
        "          strokeWidth=0\n",
        "        ).configure_title(fontSize=18, anchor='start',\n",
        "                color= \"#91D739\", font='Helvetica', fontWeight=400)\n"
      ],
      "execution_count": 10,
      "outputs": [
        {
          "output_type": "execute_result",
          "data": {
            "text/plain": [
              "alt.LayerChart(...)"
            ],
            "text/html": [
              "\n",
              "<div id=\"altair-viz-8dc8f3029d0d4dbab5a238198201580a\"></div>\n",
              "<script type=\"text/javascript\">\n",
              "  (function(spec, embedOpt){\n",
              "    let outputDiv = document.currentScript.previousElementSibling;\n",
              "    if (outputDiv.id !== \"altair-viz-8dc8f3029d0d4dbab5a238198201580a\") {\n",
              "      outputDiv = document.getElementById(\"altair-viz-8dc8f3029d0d4dbab5a238198201580a\");\n",
              "    }\n",
              "    const paths = {\n",
              "      \"vega\": \"https://cdn.jsdelivr.net/npm//vega@5?noext\",\n",
              "      \"vega-lib\": \"https://cdn.jsdelivr.net/npm//vega-lib?noext\",\n",
              "      \"vega-lite\": \"https://cdn.jsdelivr.net/npm//vega-lite@4.8.1?noext\",\n",
              "      \"vega-embed\": \"https://cdn.jsdelivr.net/npm//vega-embed@6?noext\",\n",
              "    };\n",
              "\n",
              "    function loadScript(lib) {\n",
              "      return new Promise(function(resolve, reject) {\n",
              "        var s = document.createElement('script');\n",
              "        s.src = paths[lib];\n",
              "        s.async = true;\n",
              "        s.onload = () => resolve(paths[lib]);\n",
              "        s.onerror = () => reject(`Error loading script: ${paths[lib]}`);\n",
              "        document.getElementsByTagName(\"head\")[0].appendChild(s);\n",
              "      });\n",
              "    }\n",
              "\n",
              "    function showError(err) {\n",
              "      outputDiv.innerHTML = `<div class=\"error\" style=\"color:red;\">${err}</div>`;\n",
              "      throw err;\n",
              "    }\n",
              "\n",
              "    function displayChart(vegaEmbed) {\n",
              "      vegaEmbed(outputDiv, spec, embedOpt)\n",
              "        .catch(err => showError(`Javascript Error: ${err.message}<br>This usually means there's a typo in your chart specification. See the javascript console for the full traceback.`));\n",
              "    }\n",
              "\n",
              "    if(typeof define === \"function\" && define.amd) {\n",
              "      requirejs.config({paths});\n",
              "      require([\"vega-embed\"], displayChart, err => showError(`Error loading script: ${err.message}`));\n",
              "    } else if (typeof vegaEmbed === \"function\") {\n",
              "      displayChart(vegaEmbed);\n",
              "    } else {\n",
              "      loadScript(\"vega\")\n",
              "        .then(() => loadScript(\"vega-lite\"))\n",
              "        .then(() => loadScript(\"vega-embed\"))\n",
              "        .catch(showError)\n",
              "        .then(() => displayChart(vegaEmbed));\n",
              "    }\n",
              "  })({\"config\": {\"view\": {\"continuousWidth\": 400, \"continuousHeight\": 300, \"strokeWidth\": 0}, \"title\": {\"anchor\": \"start\", \"color\": \"#91D739\", \"font\": \"Helvetica\", \"fontSize\": 18, \"fontWeight\": 400}}, \"layer\": [{\"mark\": {\"type\": \"bar\", \"color\": \"#91D739\"}, \"encoding\": {\"tooltip\": [{\"type\": \"quantitative\", \"aggregate\": \"sum\", \"field\": \"amount_sum\", \"format\": \"$.4r\", \"title\": \"Total value\"}, {\"type\": \"quantitative\", \"aggregate\": \"sum\", \"field\": \"trans_id_count\", \"title\": \"Total transactions\"}], \"x\": {\"type\": \"ordinal\", \"axis\": {\"grid\": false, \"labelAngle\": 0, \"labelFont\": \"Helvetica\", \"labelFontSize\": 12, \"title\": \"Source: https://openopps.com\", \"titleAlign\": \"left\", \"titleAnchor\": \"start\", \"titleFont\": \"Helvetica\", \"titleFontSize\": 11, \"titleFontWeight\": 300, \"titleX\": 0, \"titleY\": 30}, \"field\": \"date\", \"timeUnit\": \"yearmonth\"}, \"y\": {\"type\": \"quantitative\", \"aggregate\": \"sum\", \"axis\": {\"format\": \".2s\", \"title\": \"\\u25bc -12% decrease this year in comparison with the previous year.\", \"titleAlign\": \"left\", \"titleAnchor\": \"start\", \"titleAngle\": 0, \"titleFont\": \"Helvetica\", \"titleFontSize\": 12, \"titleFontWeight\": 400, \"titleX\": 0, \"titleY\": -30}, \"field\": \"amount_sum\"}}, \"height\": 250, \"title\": \"Total value of spend by Deloitte LLP\", \"width\": 1200}, {\"mark\": {\"type\": \"text\", \"align\": \"center\", \"baseline\": \"bottom\"}, \"encoding\": {\"text\": {\"type\": \"nominal\", \"aggregate\": \"sum\", \"field\": \"amount_sum\", \"format\": \"$.3s\"}, \"tooltip\": [{\"type\": \"quantitative\", \"aggregate\": \"sum\", \"field\": \"amount_sum\", \"format\": \"$.4r\", \"title\": \"Total value\"}, {\"type\": \"quantitative\", \"aggregate\": \"sum\", \"field\": \"trans_id_count\", \"title\": \"Total transactions\"}], \"x\": {\"type\": \"ordinal\", \"axis\": {\"grid\": false, \"labelAngle\": 0, \"labelFont\": \"Helvetica\", \"labelFontSize\": 12, \"title\": \"Source: https://openopps.com\", \"titleAlign\": \"left\", \"titleAnchor\": \"start\", \"titleFont\": \"Helvetica\", \"titleFontSize\": 11, \"titleFontWeight\": 300, \"titleX\": 0, \"titleY\": 30}, \"field\": \"date\", \"timeUnit\": \"yearmonth\"}, \"y\": {\"type\": \"quantitative\", \"aggregate\": \"sum\", \"axis\": {\"format\": \".2s\", \"title\": \"\\u25bc -12% decrease this year in comparison with the previous year.\", \"titleAlign\": \"left\", \"titleAnchor\": \"start\", \"titleAngle\": 0, \"titleFont\": \"Helvetica\", \"titleFontSize\": 12, \"titleFontWeight\": 400, \"titleX\": 0, \"titleY\": -30}, \"field\": \"amount_sum\"}}, \"height\": 250, \"title\": \"Total value of spend by Deloitte LLP\", \"width\": 1200}], \"data\": {\"name\": \"data-565744ccb6898745e0f545edfac52983\"}, \"$schema\": \"https://vega.github.io/schema/vega-lite/v4.8.1.json\", \"datasets\": {\"data-565744ccb6898745e0f545edfac52983\": [{\"date\": \"2017-01-01T00:00:00\", \"trans_id_count\": 48, \"amount_sum\": 5483544.97}, {\"date\": \"2018-01-01T00:00:00\", \"trans_id_count\": 64, \"amount_sum\": 4543572.43}, {\"date\": \"2019-01-01T00:00:00\", \"trans_id_count\": 26, \"amount_sum\": 2780434.59}, {\"date\": \"2017-02-01T00:00:00\", \"trans_id_count\": 31, \"amount_sum\": 2021097.49}, {\"date\": \"2018-02-01T00:00:00\", \"trans_id_count\": 40, \"amount_sum\": 2131924.1399999997}, {\"date\": \"2019-02-01T00:00:00\", \"trans_id_count\": 46, \"amount_sum\": 8514420.65}, {\"date\": \"2017-03-01T00:00:00\", \"trans_id_count\": 62, \"amount_sum\": 12565177.050000003}, {\"date\": \"2018-03-01T00:00:00\", \"trans_id_count\": 72, \"amount_sum\": 8181189.069999999}, {\"date\": \"2019-03-01T00:00:00\", \"trans_id_count\": 77, \"amount_sum\": 10623234.750000002}, {\"date\": \"2017-04-01T00:00:00\", \"trans_id_count\": 35, \"amount_sum\": 2575117.519999999}, {\"date\": \"2018-04-01T00:00:00\", \"trans_id_count\": 34, \"amount_sum\": 3827050.5000000005}, {\"date\": \"2019-04-01T00:00:00\", \"trans_id_count\": 83, \"amount_sum\": 10090947.959999997}, {\"date\": \"2017-05-01T00:00:00\", \"trans_id_count\": 43, \"amount_sum\": 4727934.7700000005}, {\"date\": \"2018-05-01T00:00:00\", \"trans_id_count\": 41, \"amount_sum\": 2910448.19}, {\"date\": \"2019-05-01T00:00:00\", \"trans_id_count\": 57, \"amount_sum\": 9496291.580000002}, {\"date\": \"2017-06-01T00:00:00\", \"trans_id_count\": 51, \"amount_sum\": 4225210.45}, {\"date\": \"2018-06-01T00:00:00\", \"trans_id_count\": 59, \"amount_sum\": 7586971.260000002}, {\"date\": \"2019-06-01T00:00:00\", \"trans_id_count\": 64, \"amount_sum\": 4775659.64}, {\"date\": \"2017-07-01T00:00:00\", \"trans_id_count\": 60, \"amount_sum\": 3781501.9899999993}, {\"date\": \"2018-07-01T00:00:00\", \"trans_id_count\": 50, \"amount_sum\": 5569438.39}, {\"date\": \"2019-07-01T00:00:00\", \"trans_id_count\": 131, \"amount_sum\": 20125651.01}, {\"date\": \"2017-08-01T00:00:00\", \"trans_id_count\": 46, \"amount_sum\": 3007630.1700000004}, {\"date\": \"2018-08-01T00:00:00\", \"trans_id_count\": 48, \"amount_sum\": 7428583.300000001}, {\"date\": \"2019-08-01T00:00:00\", \"trans_id_count\": 51, \"amount_sum\": 4855080.899999999}, {\"date\": \"2017-09-01T00:00:00\", \"trans_id_count\": 33, \"amount_sum\": 2969646.4899999998}, {\"date\": \"2018-09-01T00:00:00\", \"trans_id_count\": 49, \"amount_sum\": 6252629.950000001}, {\"date\": \"2019-09-01T00:00:00\", \"trans_id_count\": 68, \"amount_sum\": 6688801.760000001}, {\"date\": \"2017-10-01T00:00:00\", \"trans_id_count\": 43, \"amount_sum\": 4575243.68}, {\"date\": \"2018-10-01T00:00:00\", \"trans_id_count\": 54, \"amount_sum\": 3245751.0500000003}, {\"date\": \"2019-10-01T00:00:00\", \"trans_id_count\": 92, \"amount_sum\": 10413661.279999996}, {\"date\": \"2017-11-01T00:00:00\", \"trans_id_count\": 49, \"amount_sum\": 3340382.17}, {\"date\": \"2018-11-01T00:00:00\", \"trans_id_count\": 59, \"amount_sum\": 10034418.219999999}, {\"date\": \"2019-11-01T00:00:00\", \"trans_id_count\": 87, \"amount_sum\": 9319504.38}, {\"date\": \"2017-12-01T00:00:00\", \"trans_id_count\": 37, \"amount_sum\": 3355672.54}, {\"date\": \"2018-12-01T00:00:00\", \"trans_id_count\": 67, \"amount_sum\": 9941845.51}, {\"date\": \"2019-12-01T00:00:00\", \"trans_id_count\": 84, \"amount_sum\": 8302469.199999999}]}}, {\"mode\": \"vega-lite\"});\n",
              "</script>"
            ]
          },
          "metadata": {
            "tags": []
          },
          "execution_count": 10
        }
      ]
    }
  ]
}