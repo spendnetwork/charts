{
  "nbformat": 4,
  "nbformat_minor": 0,
  "metadata": {
    "colab": {
      "name": "number_of_buyers_deloitte_chart_opensourced.ipynb",
      "provenance": [],
      "collapsed_sections": [],
      "include_colab_link": true
    },
    "kernelspec": {
      "name": "python3",
      "display_name": "Python 3"
    }
  },
  "cells": [
    {
      "cell_type": "markdown",
      "metadata": {
        "id": "view-in-github",
        "colab_type": "text"
      },
      "source": [
        "<a href=\"https://colab.research.google.com/github/spendnetwork/charts/blob/master/number_of_buyers_deloitte_chart_opensourced.ipynb\" target=\"_parent\"><img src=\"https://colab.research.google.com/assets/colab-badge.svg\" alt=\"Open In Colab\"/></a>"
      ]
    },
    {
      "cell_type": "code",
      "metadata": {
        "id": "tqc2iXLl8hTN",
        "colab_type": "code",
        "colab": {}
      },
      "source": [
        "import pandas as pd\n",
        "import altair as alt"
      ],
      "execution_count": 0,
      "outputs": []
    },
    {
      "cell_type": "code",
      "metadata": {
        "id": "dfMVbVJs7f-3",
        "colab_type": "code",
        "colab": {}
      },
      "source": [
        "url = 'https://raw.githubusercontent.com/spendnetwork/charts/master/number_of_buyers_deloitte.csv'\n",
        "df = pd.read_csv(url)\n",
        "#print(df)"
      ],
      "execution_count": 0,
      "outputs": []
    },
    {
      "cell_type": "code",
      "metadata": {
        "id": "ocvP41ZMahE8",
        "colab_type": "code",
        "colab": {}
      },
      "source": [
        "df['releasedate']=pd.to_datetime(df['releasedate']).dt.strftime('%m/%d/%Y')"
      ],
      "execution_count": 0,
      "outputs": []
    },
    {
      "cell_type": "code",
      "metadata": {
        "id": "3UEM3xRs8tMF",
        "colab_type": "code",
        "colab": {}
      },
      "source": [
        "df1=(df.groupby('releasedate').agg({'buyer': ['count']}))\n",
        "#df1.head()"
      ],
      "execution_count": 0,
      "outputs": []
    },
    {
      "cell_type": "code",
      "metadata": {
        "id": "DqsTJ_0lJFMl",
        "colab_type": "code",
        "colab": {}
      },
      "source": [
        "df1.columns = df1.columns.map('_'.join)\n",
        "df1 = df1.reset_index()\n",
        "#df1.head()"
      ],
      "execution_count": 0,
      "outputs": []
    },
    {
      "cell_type": "code",
      "metadata": {
        "id": "o74MSUwJZzgX",
        "colab_type": "code",
        "colab": {}
      },
      "source": [
        "#df1['releasedate']=pd.to_datetime(df1['releasedate'].dt.strftime('%m/%d/%Y'))\n",
        "#df1['releasedate']=pd.to_datetime(df1['releasedate']).dt.strftime('%m/%d/%Y') \n",
        "#df1.head()"
      ],
      "execution_count": 0,
      "outputs": []
    },
    {
      "cell_type": "code",
      "metadata": {
        "id": "J28YEEbs_cl2",
        "colab_type": "code",
        "colab": {}
      },
      "source": [
        "  nearest = alt.selection(type='single', nearest=True, on='mouseover',fields=['releasedate'], empty='none')"
      ],
      "execution_count": 0,
      "outputs": []
    },
    {
      "cell_type": "code",
      "metadata": {
        "id": "mwmeRRD5_ZSp",
        "colab_type": "code",
        "outputId": "c631a910-51f5-4ada-cec1-45dc4035e096",
        "colab": {
          "base_uri": "https://localhost:8080/",
          "height": 349
        }
      },
      "source": [
        "        line=alt.Chart(df1, width=1200, height=250, title=\"Count of buyers of Deloitte LLP\").mark_line(color='#91D739').encode(\n",
        "            x=alt.X('yearmonth(releasedate):O',\n",
        "                    axis=alt.Axis(tickCount=12, title=\"https://openopps.com\", \n",
        "                grid=False, \n",
        "                labelFont='Helvetica', \n",
        "                labelFontSize=12, \n",
        "                labelAngle=0, \n",
        "                titleAlign='left',\n",
        "                titleAnchor='start',\n",
        "                titleFont='Helvetica',\n",
        "                titleFontSize= 11,\n",
        "                titleFontWeight= 300,\n",
        "                titleX= -0,\n",
        "                titleY= 30) \n",
        "                   ),\n",
        "            y=alt.Y('sum(buyer_count):Q',\n",
        "                     axis=alt.Axis(title=\"\",\n",
        "                                    format=\".0s\",)\n",
        "                   ),\n",
        "            )\n",
        "        selectors = alt.Chart(df1).mark_point().encode(\n",
        "            x='yearmonth(releasedate):O',\n",
        "            opacity=alt.value(0),\n",
        "        ).add_selection(\n",
        "            nearest\n",
        "        )\n",
        "\n",
        "        points = line.mark_point().encode(\n",
        "            opacity=alt.condition(nearest, alt.value(1), alt.value(0))\n",
        "        )\n",
        "\n",
        "\n",
        "        text = line.mark_text(align='left', dx=10, dy=-10).encode(\n",
        "            text=alt.condition(nearest, 'sum(buyer_count):Q', alt.value(' '))\n",
        "        )\n",
        "\n",
        "        rules = alt.Chart(df1).mark_rule(color='gray').encode(\n",
        "            x='yearmonth(releasedate):O',\n",
        "        ).transform_filter(\n",
        "            nearest\n",
        "        )\n",
        "\n",
        "        chart = alt.layer(\n",
        "            line, selectors, points, rules, text\n",
        "        ).configure_view(\n",
        "          strokeWidth=0\n",
        "        ).configure_title(fontSize=18, anchor='start',\n",
        "                color= \"#91D739\", font='Helvetica', fontWeight=400)\n",
        "\n",
        "        chart"
      ],
      "execution_count": 0,
      "outputs": [
        {
          "output_type": "execute_result",
          "data": {
            "text/plain": [
              "alt.LayerChart(...)"
            ],
            "text/html": [
              "\n",
              "<div id=\"altair-viz-c61d2db81bc248df8668ed4ed568ecd1\"></div>\n",
              "<script type=\"text/javascript\">\n",
              "  (function(spec, embedOpt){\n",
              "    const outputDiv = document.getElementById(\"altair-viz-c61d2db81bc248df8668ed4ed568ecd1\");\n",
              "    const paths = {\n",
              "      \"vega\": \"https://cdn.jsdelivr.net/npm//vega@5?noext\",\n",
              "      \"vega-lib\": \"https://cdn.jsdelivr.net/npm//vega-lib?noext\",\n",
              "      \"vega-lite\": \"https://cdn.jsdelivr.net/npm//vega-lite@4.0.2?noext\",\n",
              "      \"vega-embed\": \"https://cdn.jsdelivr.net/npm//vega-embed@6?noext\",\n",
              "    };\n",
              "\n",
              "    function loadScript(lib) {\n",
              "      return new Promise(function(resolve, reject) {\n",
              "        var s = document.createElement('script');\n",
              "        s.src = paths[lib];\n",
              "        s.async = true;\n",
              "        s.onload = () => resolve(paths[lib]);\n",
              "        s.onerror = () => reject(`Error loading script: ${paths[lib]}`);\n",
              "        document.getElementsByTagName(\"head\")[0].appendChild(s);\n",
              "      });\n",
              "    }\n",
              "\n",
              "    function showError(err) {\n",
              "      outputDiv.innerHTML = `<div class=\"error\" style=\"color:red;\">${err}</div>`;\n",
              "      throw err;\n",
              "    }\n",
              "\n",
              "    function displayChart(vegaEmbed) {\n",
              "      vegaEmbed(outputDiv, spec, embedOpt)\n",
              "        .catch(err => showError(`Javascript Error: ${err.message}<br>This usually means there's a typo in your chart specification. See the javascript console for the full traceback.`));\n",
              "    }\n",
              "\n",
              "    if(typeof define === \"function\" && define.amd) {\n",
              "      requirejs.config({paths});\n",
              "      require([\"vega-embed\"], displayChart, err => showError(`Error loading script: ${err.message}`));\n",
              "    } else if (typeof vegaEmbed === \"function\") {\n",
              "      displayChart(vegaEmbed);\n",
              "    } else {\n",
              "      loadScript(\"vega\")\n",
              "        .then(() => loadScript(\"vega-lite\"))\n",
              "        .then(() => loadScript(\"vega-embed\"))\n",
              "        .catch(showError)\n",
              "        .then(() => displayChart(vegaEmbed));\n",
              "    }\n",
              "  })({\"config\": {\"view\": {\"continuousWidth\": 400, \"continuousHeight\": 300, \"strokeWidth\": 0}, \"title\": {\"anchor\": \"start\", \"color\": \"#91D739\", \"font\": \"Helvetica\", \"fontSize\": 18, \"fontWeight\": 400}}, \"layer\": [{\"mark\": {\"type\": \"line\", \"color\": \"#91D739\"}, \"encoding\": {\"x\": {\"type\": \"ordinal\", \"axis\": {\"grid\": false, \"labelAngle\": 0, \"labelFont\": \"Helvetica\", \"labelFontSize\": 12, \"tickCount\": 12, \"title\": \"https://openopps.com\", \"titleAlign\": \"left\", \"titleAnchor\": \"start\", \"titleFont\": \"Helvetica\", \"titleFontSize\": 11, \"titleFontWeight\": 300, \"titleX\": 0, \"titleY\": 30}, \"field\": \"releasedate\", \"timeUnit\": \"yearmonth\"}, \"y\": {\"type\": \"quantitative\", \"aggregate\": \"sum\", \"axis\": {\"format\": \".0s\", \"title\": \"\"}, \"field\": \"buyer_count\"}}, \"height\": 250, \"title\": \"Count of buyers of Deloitte LLP\", \"width\": 1200}, {\"mark\": \"point\", \"encoding\": {\"opacity\": {\"value\": 0}, \"x\": {\"type\": \"ordinal\", \"field\": \"releasedate\", \"timeUnit\": \"yearmonth\"}}, \"selection\": {\"selector003\": {\"type\": \"single\", \"nearest\": true, \"on\": \"mouseover\", \"fields\": [\"releasedate\"], \"empty\": \"none\"}}}, {\"mark\": \"point\", \"encoding\": {\"opacity\": {\"condition\": {\"value\": 1, \"selection\": \"selector003\"}, \"value\": 0}, \"x\": {\"type\": \"ordinal\", \"axis\": {\"grid\": false, \"labelAngle\": 0, \"labelFont\": \"Helvetica\", \"labelFontSize\": 12, \"tickCount\": 12, \"title\": \"https://openopps.com\", \"titleAlign\": \"left\", \"titleAnchor\": \"start\", \"titleFont\": \"Helvetica\", \"titleFontSize\": 11, \"titleFontWeight\": 300, \"titleX\": 0, \"titleY\": 30}, \"field\": \"releasedate\", \"timeUnit\": \"yearmonth\"}, \"y\": {\"type\": \"quantitative\", \"aggregate\": \"sum\", \"axis\": {\"format\": \".0s\", \"title\": \"\"}, \"field\": \"buyer_count\"}}, \"height\": 250, \"title\": \"Count of buyers of Deloitte LLP\", \"width\": 1200}, {\"mark\": {\"type\": \"rule\", \"color\": \"gray\"}, \"encoding\": {\"x\": {\"type\": \"ordinal\", \"field\": \"releasedate\", \"timeUnit\": \"yearmonth\"}}, \"transform\": [{\"filter\": {\"selection\": \"selector003\"}}]}, {\"mark\": {\"type\": \"text\", \"align\": \"left\", \"dx\": 10, \"dy\": -10}, \"encoding\": {\"text\": {\"condition\": {\"type\": \"quantitative\", \"aggregate\": \"sum\", \"field\": \"buyer_count\", \"selection\": \"selector003\"}, \"value\": \" \"}, \"x\": {\"type\": \"ordinal\", \"axis\": {\"grid\": false, \"labelAngle\": 0, \"labelFont\": \"Helvetica\", \"labelFontSize\": 12, \"tickCount\": 12, \"title\": \"https://openopps.com\", \"titleAlign\": \"left\", \"titleAnchor\": \"start\", \"titleFont\": \"Helvetica\", \"titleFontSize\": 11, \"titleFontWeight\": 300, \"titleX\": 0, \"titleY\": 30}, \"field\": \"releasedate\", \"timeUnit\": \"yearmonth\"}, \"y\": {\"type\": \"quantitative\", \"aggregate\": \"sum\", \"axis\": {\"format\": \".0s\", \"title\": \"\"}, \"field\": \"buyer_count\"}}, \"height\": 250, \"title\": \"Count of buyers of Deloitte LLP\", \"width\": 1200}], \"data\": {\"name\": \"data-6531aec30738c961362d6f6801fe0356\"}, \"$schema\": \"https://vega.github.io/schema/vega-lite/v4.0.2.json\", \"datasets\": {\"data-6531aec30738c961362d6f6801fe0356\": [{\"releasedate\": \"01/02/2019\", \"buyer_count\": 1}, {\"releasedate\": \"01/04/2018\", \"buyer_count\": 1}, {\"releasedate\": \"01/04/2019\", \"buyer_count\": 1}, {\"releasedate\": \"01/06/2017\", \"buyer_count\": 2}, {\"releasedate\": \"01/08/2019\", \"buyer_count\": 2}, {\"releasedate\": \"01/10/2018\", \"buyer_count\": 1}, {\"releasedate\": \"01/10/2019\", \"buyer_count\": 1}, {\"releasedate\": \"01/11/2017\", \"buyer_count\": 1}, {\"releasedate\": \"01/15/2018\", \"buyer_count\": 2}, {\"releasedate\": \"01/15/2019\", \"buyer_count\": 1}, {\"releasedate\": \"01/17/2017\", \"buyer_count\": 1}, {\"releasedate\": \"01/17/2019\", \"buyer_count\": 1}, {\"releasedate\": \"01/18/2017\", \"buyer_count\": 2}, {\"releasedate\": \"01/19/2017\", \"buyer_count\": 1}, {\"releasedate\": \"01/20/2017\", \"buyer_count\": 1}, {\"releasedate\": \"01/24/2018\", \"buyer_count\": 1}, {\"releasedate\": \"01/27/2017\", \"buyer_count\": 1}, {\"releasedate\": \"01/28/2019\", \"buyer_count\": 1}, {\"releasedate\": \"01/30/2018\", \"buyer_count\": 4}, {\"releasedate\": \"01/31/2018\", \"buyer_count\": 1}, {\"releasedate\": \"01/31/2019\", \"buyer_count\": 1}, {\"releasedate\": \"02/01/2017\", \"buyer_count\": 3}, {\"releasedate\": \"02/01/2018\", \"buyer_count\": 1}, {\"releasedate\": \"02/04/2019\", \"buyer_count\": 1}, {\"releasedate\": \"02/06/2018\", \"buyer_count\": 2}, {\"releasedate\": \"02/08/2018\", \"buyer_count\": 1}, {\"releasedate\": \"02/09/2018\", \"buyer_count\": 1}, {\"releasedate\": \"02/13/2018\", \"buyer_count\": 1}, {\"releasedate\": \"02/13/2019\", \"buyer_count\": 1}, {\"releasedate\": \"02/15/2018\", \"buyer_count\": 1}, {\"releasedate\": \"02/21/2018\", \"buyer_count\": 1}, {\"releasedate\": \"02/21/2019\", \"buyer_count\": 2}, {\"releasedate\": \"02/22/2017\", \"buyer_count\": 2}, {\"releasedate\": \"02/26/2018\", \"buyer_count\": 1}, {\"releasedate\": \"02/26/2019\", \"buyer_count\": 1}, {\"releasedate\": \"02/27/2019\", \"buyer_count\": 1}, {\"releasedate\": \"02/28/2018\", \"buyer_count\": 2}, {\"releasedate\": \"03/01/2019\", \"buyer_count\": 3}, {\"releasedate\": \"03/02/2018\", \"buyer_count\": 1}, {\"releasedate\": \"03/04/2019\", \"buyer_count\": 3}, {\"releasedate\": \"03/05/2019\", \"buyer_count\": 1}, {\"releasedate\": \"03/06/2018\", \"buyer_count\": 1}, {\"releasedate\": \"03/07/2019\", \"buyer_count\": 1}, {\"releasedate\": \"03/10/2019\", \"buyer_count\": 1}, {\"releasedate\": \"03/11/2019\", \"buyer_count\": 1}, {\"releasedate\": \"03/12/2019\", \"buyer_count\": 1}, {\"releasedate\": \"03/13/2019\", \"buyer_count\": 1}, {\"releasedate\": \"03/14/2018\", \"buyer_count\": 2}, {\"releasedate\": \"03/15/2018\", \"buyer_count\": 11}, {\"releasedate\": \"03/20/2019\", \"buyer_count\": 2}, {\"releasedate\": \"03/22/2017\", \"buyer_count\": 2}, {\"releasedate\": \"03/22/2018\", \"buyer_count\": 1}, {\"releasedate\": \"03/23/2018\", \"buyer_count\": 1}, {\"releasedate\": \"03/28/2018\", \"buyer_count\": 3}, {\"releasedate\": \"03/28/2019\", \"buyer_count\": 1}, {\"releasedate\": \"04/01/2019\", \"buyer_count\": 1}, {\"releasedate\": \"04/02/2019\", \"buyer_count\": 2}, {\"releasedate\": \"04/04/2017\", \"buyer_count\": 1}, {\"releasedate\": \"04/04/2019\", \"buyer_count\": 1}, {\"releasedate\": \"04/05/2018\", \"buyer_count\": 1}, {\"releasedate\": \"04/10/2018\", \"buyer_count\": 1}, {\"releasedate\": \"04/11/2019\", \"buyer_count\": 1}, {\"releasedate\": \"04/14/2018\", \"buyer_count\": 2}, {\"releasedate\": \"04/15/2019\", \"buyer_count\": 2}, {\"releasedate\": \"04/16/2019\", \"buyer_count\": 2}, {\"releasedate\": \"04/19/2019\", \"buyer_count\": 1}, {\"releasedate\": \"04/21/2017\", \"buyer_count\": 1}, {\"releasedate\": \"04/24/2019\", \"buyer_count\": 1}, {\"releasedate\": \"04/25/2019\", \"buyer_count\": 1}, {\"releasedate\": \"04/26/2019\", \"buyer_count\": 1}, {\"releasedate\": \"05/02/2019\", \"buyer_count\": 1}, {\"releasedate\": \"05/03/2018\", \"buyer_count\": 1}, {\"releasedate\": \"05/06/2018\", \"buyer_count\": 0}, {\"releasedate\": \"05/08/2017\", \"buyer_count\": 1}, {\"releasedate\": \"05/09/2019\", \"buyer_count\": 2}, {\"releasedate\": \"05/10/2017\", \"buyer_count\": 1}, {\"releasedate\": \"05/11/2017\", \"buyer_count\": 1}, {\"releasedate\": \"05/11/2018\", \"buyer_count\": 1}, {\"releasedate\": \"05/12/2018\", \"buyer_count\": 1}, {\"releasedate\": \"05/14/2018\", \"buyer_count\": 1}, {\"releasedate\": \"05/14/2019\", \"buyer_count\": 1}, {\"releasedate\": \"05/16/2018\", \"buyer_count\": 1}, {\"releasedate\": \"05/18/2018\", \"buyer_count\": 1}, {\"releasedate\": \"05/19/2017\", \"buyer_count\": 6}, {\"releasedate\": \"05/21/2018\", \"buyer_count\": 1}, {\"releasedate\": \"05/22/2018\", \"buyer_count\": 2}, {\"releasedate\": \"05/22/2019\", \"buyer_count\": 1}, {\"releasedate\": \"05/23/2018\", \"buyer_count\": 2}, {\"releasedate\": \"05/23/2019\", \"buyer_count\": 1}, {\"releasedate\": \"05/24/2018\", \"buyer_count\": 4}, {\"releasedate\": \"05/29/2018\", \"buyer_count\": 3}, {\"releasedate\": \"05/29/2019\", \"buyer_count\": 1}, {\"releasedate\": \"05/30/2019\", \"buyer_count\": 1}, {\"releasedate\": \"05/31/2017\", \"buyer_count\": 1}, {\"releasedate\": \"05/31/2018\", \"buyer_count\": 4}, {\"releasedate\": \"06/05/2017\", \"buyer_count\": 1}, {\"releasedate\": \"06/07/2019\", \"buyer_count\": 1}, {\"releasedate\": \"06/15/2017\", \"buyer_count\": 1}, {\"releasedate\": \"06/20/2019\", \"buyer_count\": 2}, {\"releasedate\": \"06/21/2018\", \"buyer_count\": 2}, {\"releasedate\": \"06/21/2019\", \"buyer_count\": 2}, {\"releasedate\": \"06/22/2017\", \"buyer_count\": 1}, {\"releasedate\": \"06/24/2017\", \"buyer_count\": 2}, {\"releasedate\": \"06/25/2019\", \"buyer_count\": 2}, {\"releasedate\": \"06/26/2019\", \"buyer_count\": 1}, {\"releasedate\": \"06/27/2018\", \"buyer_count\": 1}, {\"releasedate\": \"06/27/2019\", \"buyer_count\": 1}, {\"releasedate\": \"06/28/2019\", \"buyer_count\": 1}, {\"releasedate\": \"06/29/2018\", \"buyer_count\": 1}, {\"releasedate\": \"07/03/2019\", \"buyer_count\": 1}, {\"releasedate\": \"07/04/2018\", \"buyer_count\": 1}, {\"releasedate\": \"07/05/2018\", \"buyer_count\": 2}, {\"releasedate\": \"07/06/2018\", \"buyer_count\": 1}, {\"releasedate\": \"07/07/2017\", \"buyer_count\": 1}, {\"releasedate\": \"07/08/2019\", \"buyer_count\": 1}, {\"releasedate\": \"07/10/2018\", \"buyer_count\": 1}, {\"releasedate\": \"07/11/2017\", \"buyer_count\": 1}, {\"releasedate\": \"07/12/2019\", \"buyer_count\": 1}, {\"releasedate\": \"07/13/2017\", \"buyer_count\": 1}, {\"releasedate\": \"07/13/2018\", \"buyer_count\": 1}, {\"releasedate\": \"07/15/2019\", \"buyer_count\": 1}, {\"releasedate\": \"07/18/2017\", \"buyer_count\": 1}, {\"releasedate\": \"07/18/2018\", \"buyer_count\": 1}, {\"releasedate\": \"07/19/2019\", \"buyer_count\": 3}, {\"releasedate\": \"07/20/2017\", \"buyer_count\": 1}, {\"releasedate\": \"07/22/2019\", \"buyer_count\": 1}, {\"releasedate\": \"07/23/2019\", \"buyer_count\": 2}, {\"releasedate\": \"07/24/2018\", \"buyer_count\": 1}, {\"releasedate\": \"07/25/2019\", \"buyer_count\": 1}, {\"releasedate\": \"07/30/2018\", \"buyer_count\": 1}, {\"releasedate\": \"08/02/2017\", \"buyer_count\": 2}, {\"releasedate\": \"08/02/2018\", \"buyer_count\": 1}, {\"releasedate\": \"08/02/2019\", \"buyer_count\": 1}, {\"releasedate\": \"08/06/2018\", \"buyer_count\": 1}, {\"releasedate\": \"08/08/2019\", \"buyer_count\": 7}, {\"releasedate\": \"08/09/2017\", \"buyer_count\": 2}, {\"releasedate\": \"08/09/2018\", \"buyer_count\": 1}, {\"releasedate\": \"08/11/2017\", \"buyer_count\": 1}, {\"releasedate\": \"08/12/2019\", \"buyer_count\": 1}, {\"releasedate\": \"08/13/2019\", \"buyer_count\": 2}, {\"releasedate\": \"08/14/2019\", \"buyer_count\": 1}, {\"releasedate\": \"08/15/2019\", \"buyer_count\": 1}, {\"releasedate\": \"08/17/2017\", \"buyer_count\": 2}, {\"releasedate\": \"08/18/2017\", \"buyer_count\": 1}, {\"releasedate\": \"08/18/2018\", \"buyer_count\": 5}, {\"releasedate\": \"08/19/2019\", \"buyer_count\": 1}, {\"releasedate\": \"08/20/2018\", \"buyer_count\": 1}, {\"releasedate\": \"08/20/2019\", \"buyer_count\": 1}, {\"releasedate\": \"08/23/2019\", \"buyer_count\": 1}, {\"releasedate\": \"08/27/2019\", \"buyer_count\": 1}, {\"releasedate\": \"08/29/2018\", \"buyer_count\": 1}, {\"releasedate\": \"08/30/2018\", \"buyer_count\": 1}, {\"releasedate\": \"09/04/2017\", \"buyer_count\": 1}, {\"releasedate\": \"09/05/2017\", \"buyer_count\": 1}, {\"releasedate\": \"09/05/2018\", \"buyer_count\": 3}, {\"releasedate\": \"09/05/2019\", \"buyer_count\": 2}, {\"releasedate\": \"09/06/2018\", \"buyer_count\": 1}, {\"releasedate\": \"09/07/2018\", \"buyer_count\": 2}, {\"releasedate\": \"09/08/2017\", \"buyer_count\": 2}, {\"releasedate\": \"09/09/2017\", \"buyer_count\": 1}, {\"releasedate\": \"09/09/2019\", \"buyer_count\": 1}, {\"releasedate\": \"09/10/2017\", \"buyer_count\": 1}, {\"releasedate\": \"09/10/2018\", \"buyer_count\": 1}, {\"releasedate\": \"09/13/2017\", \"buyer_count\": 1}, {\"releasedate\": \"09/14/2018\", \"buyer_count\": 1}, {\"releasedate\": \"09/20/2019\", \"buyer_count\": 1}, {\"releasedate\": \"09/26/2017\", \"buyer_count\": 2}, {\"releasedate\": \"09/28/2018\", \"buyer_count\": 1}, {\"releasedate\": \"09/29/2017\", \"buyer_count\": 1}, {\"releasedate\": \"10/03/2017\", \"buyer_count\": 1}, {\"releasedate\": \"10/04/2019\", \"buyer_count\": 1}, {\"releasedate\": \"10/05/2018\", \"buyer_count\": 2}, {\"releasedate\": \"10/06/2017\", \"buyer_count\": 1}, {\"releasedate\": \"10/09/2018\", \"buyer_count\": 2}, {\"releasedate\": \"10/13/2017\", \"buyer_count\": 1}, {\"releasedate\": \"10/15/2019\", \"buyer_count\": 1}, {\"releasedate\": \"10/16/2017\", \"buyer_count\": 1}, {\"releasedate\": \"10/19/2017\", \"buyer_count\": 1}, {\"releasedate\": \"10/19/2018\", \"buyer_count\": 1}, {\"releasedate\": \"10/21/2019\", \"buyer_count\": 80}, {\"releasedate\": \"10/23/2018\", \"buyer_count\": 1}, {\"releasedate\": \"10/23/2019\", \"buyer_count\": 3}, {\"releasedate\": \"10/24/2019\", \"buyer_count\": 1}, {\"releasedate\": \"10/25/2017\", \"buyer_count\": 1}, {\"releasedate\": \"10/25/2019\", \"buyer_count\": 2}, {\"releasedate\": \"10/28/2019\", \"buyer_count\": 1}, {\"releasedate\": \"10/31/2017\", \"buyer_count\": 1}, {\"releasedate\": \"10/31/2019\", \"buyer_count\": 4}, {\"releasedate\": \"11/01/2019\", \"buyer_count\": 1}, {\"releasedate\": \"11/03/2019\", \"buyer_count\": 1}, {\"releasedate\": \"11/08/2018\", \"buyer_count\": 1}, {\"releasedate\": \"11/09/2018\", \"buyer_count\": 3}, {\"releasedate\": \"11/11/2019\", \"buyer_count\": 47}, {\"releasedate\": \"11/12/2019\", \"buyer_count\": 195}, {\"releasedate\": \"11/13/2018\", \"buyer_count\": 1}, {\"releasedate\": \"11/13/2019\", \"buyer_count\": 27}, {\"releasedate\": \"11/14/2018\", \"buyer_count\": 1}, {\"releasedate\": \"11/14/2019\", \"buyer_count\": 5}, {\"releasedate\": \"11/15/2017\", \"buyer_count\": 1}, {\"releasedate\": \"11/15/2019\", \"buyer_count\": 2}, {\"releasedate\": \"11/16/2017\", \"buyer_count\": 1}, {\"releasedate\": \"11/16/2019\", \"buyer_count\": 11}, {\"releasedate\": \"11/17/2019\", \"buyer_count\": 18}, {\"releasedate\": \"11/19/2019\", \"buyer_count\": 3}, {\"releasedate\": \"11/20/2019\", \"buyer_count\": 1}, {\"releasedate\": \"11/23/2018\", \"buyer_count\": 6}, {\"releasedate\": \"11/25/2019\", \"buyer_count\": 1}, {\"releasedate\": \"11/27/2019\", \"buyer_count\": 1}, {\"releasedate\": \"11/28/2018\", \"buyer_count\": 1}, {\"releasedate\": \"11/29/2017\", \"buyer_count\": 1}, {\"releasedate\": \"12/01/2017\", \"buyer_count\": 1}, {\"releasedate\": \"12/05/2018\", \"buyer_count\": 1}, {\"releasedate\": \"12/07/2017\", \"buyer_count\": 1}, {\"releasedate\": \"12/08/2017\", \"buyer_count\": 6}, {\"releasedate\": \"12/10/2018\", \"buyer_count\": 1}, {\"releasedate\": \"12/14/2018\", \"buyer_count\": 1}, {\"releasedate\": \"12/17/2018\", \"buyer_count\": 1}, {\"releasedate\": \"12/18/2018\", \"buyer_count\": 4}, {\"releasedate\": \"12/19/2019\", \"buyer_count\": 1}, {\"releasedate\": \"12/21/2017\", \"buyer_count\": 2}, {\"releasedate\": \"12/21/2018\", \"buyer_count\": 1}, {\"releasedate\": \"12/22/2017\", \"buyer_count\": 1}, {\"releasedate\": \"12/23/2019\", \"buyer_count\": 1}]}}, {\"mode\": \"vega-lite\"});\n",
              "</script>"
            ]
          },
          "metadata": {
            "tags": []
          },
          "execution_count": 24
        }
      ]
    }
  ]
}