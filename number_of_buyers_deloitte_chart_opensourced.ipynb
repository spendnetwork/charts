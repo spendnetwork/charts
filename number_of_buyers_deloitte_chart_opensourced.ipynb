{
  "nbformat": 4,
  "nbformat_minor": 0,
  "metadata": {
    "colab": {
      "name": "number_of_buyers_deloitte_chart_opensourced.ipynb",
      "provenance": [],
      "collapsed_sections": [],
      "include_colab_link": true
    },
    "kernelspec": {
      "name": "python3",
      "display_name": "Python 3"
    }
  },
  "cells": [
    {
      "cell_type": "markdown",
      "metadata": {
        "id": "view-in-github",
        "colab_type": "text"
      },
      "source": [
        "<a href=\"https://colab.research.google.com/github/spendnetwork/charts/blob/master/number_of_buyers_deloitte_chart_opensourced.ipynb\" target=\"_parent\"><img src=\"https://colab.research.google.com/assets/colab-badge.svg\" alt=\"Open In Colab\"/></a>"
      ]
    },
    {
      "cell_type": "code",
      "metadata": {
        "id": "tqc2iXLl8hTN",
        "colab_type": "code",
        "colab": {}
      },
      "source": [
        "import pandas as pd\n",
        "import altair as alt\n",
        "from datetime import datetime, timedelta\n",
        "from dateutil.relativedelta import relativedelta"
      ],
      "execution_count": 0,
      "outputs": []
    },
    {
      "cell_type": "code",
      "metadata": {
        "id": "dfMVbVJs7f-3",
        "colab_type": "code",
        "colab": {}
      },
      "source": [
        "url = 'https://raw.githubusercontent.com/spendnetwork/charts/master/number_of_buyers_deloitte.csv'\n",
        "df = pd.read_csv(url)\n",
        "#print(df)"
      ],
      "execution_count": 0,
      "outputs": []
    },
    {
      "cell_type": "code",
      "metadata": {
        "id": "ocvP41ZMahE8",
        "colab_type": "code",
        "colab": {}
      },
      "source": [
        "df['releasedate']=pd.to_datetime(df['releasedate']).dt.strftime('%m/%d/%Y')"
      ],
      "execution_count": 0,
      "outputs": []
    },
    {
      "cell_type": "code",
      "metadata": {
        "id": "3UEM3xRs8tMF",
        "colab_type": "code",
        "colab": {}
      },
      "source": [
        "df1=(df.groupby('releasedate').agg({'buyer': pd.Series.nunique}))\n",
        "#df1.head()"
      ],
      "execution_count": 0,
      "outputs": []
    },
    {
      "cell_type": "code",
      "metadata": {
        "id": "DqsTJ_0lJFMl",
        "colab_type": "code",
        "outputId": "2ceca450-9b21-4800-83db-a4939c53bc34",
        "colab": {
          "base_uri": "https://localhost:8080/",
          "height": 206
        }
      },
      "source": [
        "#df1.columns = df1.columns.map('_'.join)\n",
        "df1 = df1.reset_index()\n",
        "df1.head()"
      ],
      "execution_count": 16,
      "outputs": [
        {
          "output_type": "execute_result",
          "data": {
            "text/html": [
              "<div>\n",
              "<style scoped>\n",
              "    .dataframe tbody tr th:only-of-type {\n",
              "        vertical-align: middle;\n",
              "    }\n",
              "\n",
              "    .dataframe tbody tr th {\n",
              "        vertical-align: top;\n",
              "    }\n",
              "\n",
              "    .dataframe thead th {\n",
              "        text-align: right;\n",
              "    }\n",
              "</style>\n",
              "<table border=\"1\" class=\"dataframe\">\n",
              "  <thead>\n",
              "    <tr style=\"text-align: right;\">\n",
              "      <th></th>\n",
              "      <th>releasedate</th>\n",
              "      <th>buyer</th>\n",
              "    </tr>\n",
              "  </thead>\n",
              "  <tbody>\n",
              "    <tr>\n",
              "      <th>0</th>\n",
              "      <td>01/02/2019</td>\n",
              "      <td>1</td>\n",
              "    </tr>\n",
              "    <tr>\n",
              "      <th>1</th>\n",
              "      <td>01/04/2018</td>\n",
              "      <td>1</td>\n",
              "    </tr>\n",
              "    <tr>\n",
              "      <th>2</th>\n",
              "      <td>01/04/2019</td>\n",
              "      <td>1</td>\n",
              "    </tr>\n",
              "    <tr>\n",
              "      <th>3</th>\n",
              "      <td>01/06/2017</td>\n",
              "      <td>2</td>\n",
              "    </tr>\n",
              "    <tr>\n",
              "      <th>4</th>\n",
              "      <td>01/08/2019</td>\n",
              "      <td>1</td>\n",
              "    </tr>\n",
              "  </tbody>\n",
              "</table>\n",
              "</div>"
            ],
            "text/plain": [
              "  releasedate  buyer\n",
              "0  01/02/2019      1\n",
              "1  01/04/2018      1\n",
              "2  01/04/2019      1\n",
              "3  01/06/2017      2\n",
              "4  01/08/2019      1"
            ]
          },
          "metadata": {
            "tags": []
          },
          "execution_count": 16
        }
      ]
    },
    {
      "cell_type": "code",
      "metadata": {
        "id": "o74MSUwJZzgX",
        "colab_type": "code",
        "colab": {}
      },
      "source": [
        "#df1['releasedate']=pd.to_datetime(df1['releasedate'].dt.strftime('%m/%d/%Y'))\n",
        "#df1['releasedate']=pd.to_datetime(df1['releasedate']).dt.strftime('%m/%d/%Y') \n",
        "#df1.head()"
      ],
      "execution_count": 0,
      "outputs": []
    },
    {
      "cell_type": "code",
      "metadata": {
        "id": "np9Y6qr148gh",
        "colab_type": "code",
        "colab": {}
      },
      "source": [
        "def which_caret(stat_value):\n",
        "        stat_value = int(stat_value)\n",
        "        ## returning html that deploys Font Awesome icons, can be changed according to icon set in use\n",
        "        if stat_value > 0:\n",
        "            caret = u\"\\u25B2\"\n",
        "        elif stat_value < 0:\n",
        "            caret = u\"\\u25BC\"\n",
        "        else:\n",
        "            caret = u\"\\u003D\"\n",
        "        return caret\n",
        "\n",
        "def rolling_twelve_month_trend(df, colname, agg_type):        \n",
        "        df2=df1['releasedate'] = pd.to_datetime(df1['releasedate'])\n",
        "        p2mask = (df1['releasedate'] > datetime.today() - relativedelta(years=1)) & (df1['releasedate'] <= datetime.today())\n",
        "        p1mask = (df1['releasedate'] > datetime.today() - relativedelta(years=2)) & (\n",
        "                    df1['releasedate'] <= datetime.today() - relativedelta(years=1))\n",
        "        p2 = df.loc[p2mask]\n",
        "        p1 = df.loc[p1mask]\n",
        "\n",
        "        perc = None\n",
        "        if agg_type == 'sum':\n",
        "            perc = float(p2[colname].sum() - p1[colname].sum()) / abs(p1[colname].sum()) * 100\n",
        "        elif agg_type == 'mean':\n",
        "            perc = float(p2[colname].mean() - p1[colname].mean()) / abs(p1[colname].mean()) * 100\n",
        "        return perc\n",
        "  \n",
        "def inc_dec(stat_value):\n",
        "        stat_value = int(stat_value)\n",
        "        ## returning html that deploys Font Awesome icons, can be changed according to icon set in use\n",
        "        if stat_value > 0:\n",
        "            change = 'increase'\n",
        "        elif stat_value < 0:\n",
        "            change = 'decrease'\n",
        "        else:\n",
        "            change = 'no change'\n",
        "        return change"
      ],
      "execution_count": 0,
      "outputs": []
    },
    {
      "cell_type": "code",
      "metadata": {
        "id": "KHxKy_r548jx",
        "colab_type": "code",
        "colab": {}
      },
      "source": [
        "perc = rolling_twelve_month_trend(df1, 'buyer', 'sum')\n",
        "caret = which_caret(perc)\n",
        "change = inc_dec(perc)"
      ],
      "execution_count": 0,
      "outputs": []
    },
    {
      "cell_type": "code",
      "metadata": {
        "id": "A-FkqbWZ5EtC",
        "colab_type": "code",
        "colab": {
          "base_uri": "https://localhost:8080/",
          "height": 34
        },
        "outputId": "0b530321-46fa-4e66-d698-d46d4fc886bf"
      },
      "source": [
        "perc, caret"
      ],
      "execution_count": 20,
      "outputs": [
        {
          "output_type": "execute_result",
          "data": {
            "text/plain": [
              "(45.0, '▲')"
            ]
          },
          "metadata": {
            "tags": []
          },
          "execution_count": 20
        }
      ]
    },
    {
      "cell_type": "code",
      "metadata": {
        "id": "J28YEEbs_cl2",
        "colab_type": "code",
        "colab": {}
      },
      "source": [
        "  nearest = alt.selection(type='single', nearest=True, on='mouseover',fields=['releasedate'], empty='none')"
      ],
      "execution_count": 0,
      "outputs": []
    },
    {
      "cell_type": "code",
      "metadata": {
        "id": "mwmeRRD5_ZSp",
        "colab_type": "code",
        "outputId": "36f217c2-425f-4526-9553-6f694bd76d4c",
        "colab": {
          "base_uri": "https://localhost:8080/",
          "height": 388
        }
      },
      "source": [
        "        line=alt.Chart(df1, width=1200, height=250, title=\"Count of buyers of Deloitte LLP\").mark_line(color='#91D739').encode(\n",
        "            x=alt.X('yearmonth(releasedate):O',\n",
        "                    axis=alt.Axis(tickCount=12, title=\"https://openopps.com\", \n",
        "                grid=False, \n",
        "                labelFont='Helvetica', \n",
        "                labelFontSize=12, \n",
        "                labelAngle=0, \n",
        "                titleAlign='left',\n",
        "                titleAnchor='start',\n",
        "                titleFont='Helvetica',\n",
        "                titleFontSize= 11,\n",
        "                titleFontWeight= 300,\n",
        "                titleX= -0,\n",
        "                titleY= 30) \n",
        "                   ),\n",
        "            y=alt.Y('sum(buyer):Q',\n",
        "                     axis=alt.Axis(title=(caret +' '+ str(int(perc))+'% ' + change + ' this year in comparison with the previous year.' ),\n",
        "                                    format=\".0s\",\n",
        "                                    titleAlign= 'left',\n",
        "                                    titleAnchor='start',\n",
        "                                    titleAngle= 0,\n",
        "                                    titleFont= 'Helvetica',\n",
        "                                    titleFontSize= 12,\n",
        "                                    titleFontWeight= 400,\n",
        "                                    titleX= -0,\n",
        "                                    titleY= -30,)\n",
        "                   ),\n",
        "            )\n",
        "        selectors = alt.Chart(df1).mark_point().encode(\n",
        "            x='yearmonth(releasedate):O',\n",
        "            opacity=alt.value(0),\n",
        "        ).add_selection(\n",
        "            nearest\n",
        "        )\n",
        "\n",
        "        points = line.mark_point().encode(\n",
        "            opacity=alt.condition(nearest, alt.value(1), alt.value(0))\n",
        "        )\n",
        "\n",
        "\n",
        "        text = line.mark_text(align='left', dx=10, dy=-10).encode(\n",
        "            text=alt.condition(nearest, 'sum(buyer):Q', alt.value(' '))\n",
        "        )\n",
        "\n",
        "        rules = alt.Chart(df1).mark_rule(color='gray').encode(\n",
        "            x='yearmonth(releasedate):O',\n",
        "        ).transform_filter(\n",
        "            nearest\n",
        "        )\n",
        "\n",
        "        chart = alt.layer(\n",
        "            line, selectors, points, rules, text\n",
        "        ).configure_view(\n",
        "          strokeWidth=0\n",
        "        ).configure_title(fontSize=18, anchor='start',\n",
        "                color= \"#91D739\", font='Helvetica', fontWeight=400)\n",
        "\n",
        "        chart"
      ],
      "execution_count": 22,
      "outputs": [
        {
          "output_type": "execute_result",
          "data": {
            "text/plain": [
              "alt.LayerChart(...)"
            ],
            "text/html": [
              "\n",
              "<div id=\"altair-viz-f6fc5587428745f7bb47a4f88c002a85\"></div>\n",
              "<script type=\"text/javascript\">\n",
              "  (function(spec, embedOpt){\n",
              "    const outputDiv = document.getElementById(\"altair-viz-f6fc5587428745f7bb47a4f88c002a85\");\n",
              "    const paths = {\n",
              "      \"vega\": \"https://cdn.jsdelivr.net/npm//vega@5?noext\",\n",
              "      \"vega-lib\": \"https://cdn.jsdelivr.net/npm//vega-lib?noext\",\n",
              "      \"vega-lite\": \"https://cdn.jsdelivr.net/npm//vega-lite@4.0.2?noext\",\n",
              "      \"vega-embed\": \"https://cdn.jsdelivr.net/npm//vega-embed@6?noext\",\n",
              "    };\n",
              "\n",
              "    function loadScript(lib) {\n",
              "      return new Promise(function(resolve, reject) {\n",
              "        var s = document.createElement('script');\n",
              "        s.src = paths[lib];\n",
              "        s.async = true;\n",
              "        s.onload = () => resolve(paths[lib]);\n",
              "        s.onerror = () => reject(`Error loading script: ${paths[lib]}`);\n",
              "        document.getElementsByTagName(\"head\")[0].appendChild(s);\n",
              "      });\n",
              "    }\n",
              "\n",
              "    function showError(err) {\n",
              "      outputDiv.innerHTML = `<div class=\"error\" style=\"color:red;\">${err}</div>`;\n",
              "      throw err;\n",
              "    }\n",
              "\n",
              "    function displayChart(vegaEmbed) {\n",
              "      vegaEmbed(outputDiv, spec, embedOpt)\n",
              "        .catch(err => showError(`Javascript Error: ${err.message}<br>This usually means there's a typo in your chart specification. See the javascript console for the full traceback.`));\n",
              "    }\n",
              "\n",
              "    if(typeof define === \"function\" && define.amd) {\n",
              "      requirejs.config({paths});\n",
              "      require([\"vega-embed\"], displayChart, err => showError(`Error loading script: ${err.message}`));\n",
              "    } else if (typeof vegaEmbed === \"function\") {\n",
              "      displayChart(vegaEmbed);\n",
              "    } else {\n",
              "      loadScript(\"vega\")\n",
              "        .then(() => loadScript(\"vega-lite\"))\n",
              "        .then(() => loadScript(\"vega-embed\"))\n",
              "        .catch(showError)\n",
              "        .then(() => displayChart(vegaEmbed));\n",
              "    }\n",
              "  })({\"config\": {\"view\": {\"continuousWidth\": 400, \"continuousHeight\": 300, \"strokeWidth\": 0}, \"title\": {\"anchor\": \"start\", \"color\": \"#91D739\", \"font\": \"Helvetica\", \"fontSize\": 18, \"fontWeight\": 400}}, \"layer\": [{\"mark\": {\"type\": \"line\", \"color\": \"#91D739\"}, \"encoding\": {\"x\": {\"type\": \"ordinal\", \"axis\": {\"grid\": false, \"labelAngle\": 0, \"labelFont\": \"Helvetica\", \"labelFontSize\": 12, \"tickCount\": 12, \"title\": \"https://openopps.com\", \"titleAlign\": \"left\", \"titleAnchor\": \"start\", \"titleFont\": \"Helvetica\", \"titleFontSize\": 11, \"titleFontWeight\": 300, \"titleX\": 0, \"titleY\": 30}, \"field\": \"releasedate\", \"timeUnit\": \"yearmonth\"}, \"y\": {\"type\": \"quantitative\", \"aggregate\": \"sum\", \"axis\": {\"format\": \".0s\", \"title\": \"\\u25b2 45% increase this year in comparison with the previous year.\", \"titleAlign\": \"left\", \"titleAnchor\": \"start\", \"titleAngle\": 0, \"titleFont\": \"Helvetica\", \"titleFontSize\": 12, \"titleFontWeight\": 400, \"titleX\": 0, \"titleY\": -30}, \"field\": \"buyer\"}}, \"height\": 250, \"title\": \"Count of buyers of Deloitte LLP\", \"width\": 1200}, {\"mark\": \"point\", \"encoding\": {\"opacity\": {\"value\": 0}, \"x\": {\"type\": \"ordinal\", \"field\": \"releasedate\", \"timeUnit\": \"yearmonth\"}}, \"selection\": {\"selector002\": {\"type\": \"single\", \"nearest\": true, \"on\": \"mouseover\", \"fields\": [\"releasedate\"], \"empty\": \"none\"}}}, {\"mark\": \"point\", \"encoding\": {\"opacity\": {\"condition\": {\"value\": 1, \"selection\": \"selector002\"}, \"value\": 0}, \"x\": {\"type\": \"ordinal\", \"axis\": {\"grid\": false, \"labelAngle\": 0, \"labelFont\": \"Helvetica\", \"labelFontSize\": 12, \"tickCount\": 12, \"title\": \"https://openopps.com\", \"titleAlign\": \"left\", \"titleAnchor\": \"start\", \"titleFont\": \"Helvetica\", \"titleFontSize\": 11, \"titleFontWeight\": 300, \"titleX\": 0, \"titleY\": 30}, \"field\": \"releasedate\", \"timeUnit\": \"yearmonth\"}, \"y\": {\"type\": \"quantitative\", \"aggregate\": \"sum\", \"axis\": {\"format\": \".0s\", \"title\": \"\\u25b2 45% increase this year in comparison with the previous year.\", \"titleAlign\": \"left\", \"titleAnchor\": \"start\", \"titleAngle\": 0, \"titleFont\": \"Helvetica\", \"titleFontSize\": 12, \"titleFontWeight\": 400, \"titleX\": 0, \"titleY\": -30}, \"field\": \"buyer\"}}, \"height\": 250, \"title\": \"Count of buyers of Deloitte LLP\", \"width\": 1200}, {\"mark\": {\"type\": \"rule\", \"color\": \"gray\"}, \"encoding\": {\"x\": {\"type\": \"ordinal\", \"field\": \"releasedate\", \"timeUnit\": \"yearmonth\"}}, \"transform\": [{\"filter\": {\"selection\": \"selector002\"}}]}, {\"mark\": {\"type\": \"text\", \"align\": \"left\", \"dx\": 10, \"dy\": -10}, \"encoding\": {\"text\": {\"condition\": {\"type\": \"quantitative\", \"aggregate\": \"sum\", \"field\": \"buyer\", \"selection\": \"selector002\"}, \"value\": \" \"}, \"x\": {\"type\": \"ordinal\", \"axis\": {\"grid\": false, \"labelAngle\": 0, \"labelFont\": \"Helvetica\", \"labelFontSize\": 12, \"tickCount\": 12, \"title\": \"https://openopps.com\", \"titleAlign\": \"left\", \"titleAnchor\": \"start\", \"titleFont\": \"Helvetica\", \"titleFontSize\": 11, \"titleFontWeight\": 300, \"titleX\": 0, \"titleY\": 30}, \"field\": \"releasedate\", \"timeUnit\": \"yearmonth\"}, \"y\": {\"type\": \"quantitative\", \"aggregate\": \"sum\", \"axis\": {\"format\": \".0s\", \"title\": \"\\u25b2 45% increase this year in comparison with the previous year.\", \"titleAlign\": \"left\", \"titleAnchor\": \"start\", \"titleAngle\": 0, \"titleFont\": \"Helvetica\", \"titleFontSize\": 12, \"titleFontWeight\": 400, \"titleX\": 0, \"titleY\": -30}, \"field\": \"buyer\"}}, \"height\": 250, \"title\": \"Count of buyers of Deloitte LLP\", \"width\": 1200}], \"data\": {\"name\": \"data-627e8c6af8539f795ac85816320a5171\"}, \"$schema\": \"https://vega.github.io/schema/vega-lite/v4.0.2.json\", \"datasets\": {\"data-627e8c6af8539f795ac85816320a5171\": [{\"releasedate\": \"2019-01-02T00:00:00\", \"buyer\": 1}, {\"releasedate\": \"2018-01-04T00:00:00\", \"buyer\": 1}, {\"releasedate\": \"2019-01-04T00:00:00\", \"buyer\": 1}, {\"releasedate\": \"2017-01-06T00:00:00\", \"buyer\": 2}, {\"releasedate\": \"2019-01-08T00:00:00\", \"buyer\": 1}, {\"releasedate\": \"2018-01-10T00:00:00\", \"buyer\": 1}, {\"releasedate\": \"2019-01-10T00:00:00\", \"buyer\": 1}, {\"releasedate\": \"2017-01-11T00:00:00\", \"buyer\": 1}, {\"releasedate\": \"2018-01-15T00:00:00\", \"buyer\": 1}, {\"releasedate\": \"2019-01-15T00:00:00\", \"buyer\": 1}, {\"releasedate\": \"2017-01-17T00:00:00\", \"buyer\": 1}, {\"releasedate\": \"2019-01-17T00:00:00\", \"buyer\": 1}, {\"releasedate\": \"2017-01-18T00:00:00\", \"buyer\": 2}, {\"releasedate\": \"2017-01-19T00:00:00\", \"buyer\": 1}, {\"releasedate\": \"2017-01-20T00:00:00\", \"buyer\": 1}, {\"releasedate\": \"2018-01-24T00:00:00\", \"buyer\": 1}, {\"releasedate\": \"2017-01-27T00:00:00\", \"buyer\": 1}, {\"releasedate\": \"2019-01-28T00:00:00\", \"buyer\": 1}, {\"releasedate\": \"2018-01-30T00:00:00\", \"buyer\": 1}, {\"releasedate\": \"2018-01-31T00:00:00\", \"buyer\": 1}, {\"releasedate\": \"2019-01-31T00:00:00\", \"buyer\": 1}, {\"releasedate\": \"2017-02-01T00:00:00\", \"buyer\": 2}, {\"releasedate\": \"2018-02-01T00:00:00\", \"buyer\": 1}, {\"releasedate\": \"2019-02-04T00:00:00\", \"buyer\": 1}, {\"releasedate\": \"2018-02-06T00:00:00\", \"buyer\": 2}, {\"releasedate\": \"2018-02-08T00:00:00\", \"buyer\": 1}, {\"releasedate\": \"2018-02-09T00:00:00\", \"buyer\": 1}, {\"releasedate\": \"2018-02-13T00:00:00\", \"buyer\": 1}, {\"releasedate\": \"2019-02-13T00:00:00\", \"buyer\": 1}, {\"releasedate\": \"2018-02-15T00:00:00\", \"buyer\": 1}, {\"releasedate\": \"2018-02-21T00:00:00\", \"buyer\": 1}, {\"releasedate\": \"2019-02-21T00:00:00\", \"buyer\": 2}, {\"releasedate\": \"2017-02-22T00:00:00\", \"buyer\": 2}, {\"releasedate\": \"2018-02-26T00:00:00\", \"buyer\": 1}, {\"releasedate\": \"2019-02-26T00:00:00\", \"buyer\": 1}, {\"releasedate\": \"2019-02-27T00:00:00\", \"buyer\": 1}, {\"releasedate\": \"2018-02-28T00:00:00\", \"buyer\": 2}, {\"releasedate\": \"2019-03-01T00:00:00\", \"buyer\": 2}, {\"releasedate\": \"2018-03-02T00:00:00\", \"buyer\": 1}, {\"releasedate\": \"2019-03-04T00:00:00\", \"buyer\": 3}, {\"releasedate\": \"2019-03-05T00:00:00\", \"buyer\": 1}, {\"releasedate\": \"2018-03-06T00:00:00\", \"buyer\": 1}, {\"releasedate\": \"2019-03-07T00:00:00\", \"buyer\": 1}, {\"releasedate\": \"2019-03-10T00:00:00\", \"buyer\": 1}, {\"releasedate\": \"2019-03-11T00:00:00\", \"buyer\": 1}, {\"releasedate\": \"2019-03-12T00:00:00\", \"buyer\": 1}, {\"releasedate\": \"2019-03-13T00:00:00\", \"buyer\": 1}, {\"releasedate\": \"2018-03-14T00:00:00\", \"buyer\": 2}, {\"releasedate\": \"2018-03-15T00:00:00\", \"buyer\": 1}, {\"releasedate\": \"2019-03-20T00:00:00\", \"buyer\": 2}, {\"releasedate\": \"2017-03-22T00:00:00\", \"buyer\": 2}, {\"releasedate\": \"2018-03-22T00:00:00\", \"buyer\": 1}, {\"releasedate\": \"2018-03-23T00:00:00\", \"buyer\": 1}, {\"releasedate\": \"2018-03-28T00:00:00\", \"buyer\": 1}, {\"releasedate\": \"2019-03-28T00:00:00\", \"buyer\": 1}, {\"releasedate\": \"2019-04-01T00:00:00\", \"buyer\": 1}, {\"releasedate\": \"2019-04-02T00:00:00\", \"buyer\": 1}, {\"releasedate\": \"2017-04-04T00:00:00\", \"buyer\": 1}, {\"releasedate\": \"2019-04-04T00:00:00\", \"buyer\": 1}, {\"releasedate\": \"2018-04-05T00:00:00\", \"buyer\": 1}, {\"releasedate\": \"2018-04-10T00:00:00\", \"buyer\": 1}, {\"releasedate\": \"2019-04-11T00:00:00\", \"buyer\": 1}, {\"releasedate\": \"2018-04-14T00:00:00\", \"buyer\": 1}, {\"releasedate\": \"2019-04-15T00:00:00\", \"buyer\": 2}, {\"releasedate\": \"2019-04-16T00:00:00\", \"buyer\": 2}, {\"releasedate\": \"2019-04-19T00:00:00\", \"buyer\": 1}, {\"releasedate\": \"2017-04-21T00:00:00\", \"buyer\": 1}, {\"releasedate\": \"2019-04-24T00:00:00\", \"buyer\": 1}, {\"releasedate\": \"2019-04-25T00:00:00\", \"buyer\": 1}, {\"releasedate\": \"2019-04-26T00:00:00\", \"buyer\": 1}, {\"releasedate\": \"2019-05-02T00:00:00\", \"buyer\": 1}, {\"releasedate\": \"2018-05-03T00:00:00\", \"buyer\": 1}, {\"releasedate\": \"2018-05-06T00:00:00\", \"buyer\": 0}, {\"releasedate\": \"2017-05-08T00:00:00\", \"buyer\": 1}, {\"releasedate\": \"2019-05-09T00:00:00\", \"buyer\": 2}, {\"releasedate\": \"2017-05-10T00:00:00\", \"buyer\": 1}, {\"releasedate\": \"2017-05-11T00:00:00\", \"buyer\": 1}, {\"releasedate\": \"2018-05-11T00:00:00\", \"buyer\": 1}, {\"releasedate\": \"2018-05-12T00:00:00\", \"buyer\": 1}, {\"releasedate\": \"2018-05-14T00:00:00\", \"buyer\": 1}, {\"releasedate\": \"2019-05-14T00:00:00\", \"buyer\": 1}, {\"releasedate\": \"2018-05-16T00:00:00\", \"buyer\": 1}, {\"releasedate\": \"2018-05-18T00:00:00\", \"buyer\": 1}, {\"releasedate\": \"2017-05-19T00:00:00\", \"buyer\": 1}, {\"releasedate\": \"2018-05-21T00:00:00\", \"buyer\": 1}, {\"releasedate\": \"2018-05-22T00:00:00\", \"buyer\": 2}, {\"releasedate\": \"2019-05-22T00:00:00\", \"buyer\": 1}, {\"releasedate\": \"2018-05-23T00:00:00\", \"buyer\": 2}, {\"releasedate\": \"2019-05-23T00:00:00\", \"buyer\": 1}, {\"releasedate\": \"2018-05-24T00:00:00\", \"buyer\": 3}, {\"releasedate\": \"2018-05-29T00:00:00\", \"buyer\": 1}, {\"releasedate\": \"2019-05-29T00:00:00\", \"buyer\": 1}, {\"releasedate\": \"2019-05-30T00:00:00\", \"buyer\": 1}, {\"releasedate\": \"2017-05-31T00:00:00\", \"buyer\": 1}, {\"releasedate\": \"2018-05-31T00:00:00\", \"buyer\": 2}, {\"releasedate\": \"2017-06-05T00:00:00\", \"buyer\": 1}, {\"releasedate\": \"2019-06-07T00:00:00\", \"buyer\": 1}, {\"releasedate\": \"2017-06-15T00:00:00\", \"buyer\": 1}, {\"releasedate\": \"2019-06-20T00:00:00\", \"buyer\": 2}, {\"releasedate\": \"2018-06-21T00:00:00\", \"buyer\": 2}, {\"releasedate\": \"2019-06-21T00:00:00\", \"buyer\": 2}, {\"releasedate\": \"2017-06-22T00:00:00\", \"buyer\": 1}, {\"releasedate\": \"2017-06-24T00:00:00\", \"buyer\": 1}, {\"releasedate\": \"2019-06-25T00:00:00\", \"buyer\": 2}, {\"releasedate\": \"2019-06-26T00:00:00\", \"buyer\": 1}, {\"releasedate\": \"2018-06-27T00:00:00\", \"buyer\": 1}, {\"releasedate\": \"2019-06-27T00:00:00\", \"buyer\": 1}, {\"releasedate\": \"2019-06-28T00:00:00\", \"buyer\": 1}, {\"releasedate\": \"2018-06-29T00:00:00\", \"buyer\": 1}, {\"releasedate\": \"2019-07-03T00:00:00\", \"buyer\": 1}, {\"releasedate\": \"2018-07-04T00:00:00\", \"buyer\": 1}, {\"releasedate\": \"2018-07-05T00:00:00\", \"buyer\": 2}, {\"releasedate\": \"2018-07-06T00:00:00\", \"buyer\": 1}, {\"releasedate\": \"2017-07-07T00:00:00\", \"buyer\": 1}, {\"releasedate\": \"2019-07-08T00:00:00\", \"buyer\": 1}, {\"releasedate\": \"2018-07-10T00:00:00\", \"buyer\": 1}, {\"releasedate\": \"2017-07-11T00:00:00\", \"buyer\": 1}, {\"releasedate\": \"2019-07-12T00:00:00\", \"buyer\": 1}, {\"releasedate\": \"2017-07-13T00:00:00\", \"buyer\": 1}, {\"releasedate\": \"2018-07-13T00:00:00\", \"buyer\": 1}, {\"releasedate\": \"2019-07-15T00:00:00\", \"buyer\": 1}, {\"releasedate\": \"2017-07-18T00:00:00\", \"buyer\": 1}, {\"releasedate\": \"2018-07-18T00:00:00\", \"buyer\": 1}, {\"releasedate\": \"2019-07-19T00:00:00\", \"buyer\": 1}, {\"releasedate\": \"2017-07-20T00:00:00\", \"buyer\": 1}, {\"releasedate\": \"2019-07-22T00:00:00\", \"buyer\": 1}, {\"releasedate\": \"2019-07-23T00:00:00\", \"buyer\": 1}, {\"releasedate\": \"2018-07-24T00:00:00\", \"buyer\": 1}, {\"releasedate\": \"2019-07-25T00:00:00\", \"buyer\": 1}, {\"releasedate\": \"2018-07-30T00:00:00\", \"buyer\": 1}, {\"releasedate\": \"2017-08-02T00:00:00\", \"buyer\": 2}, {\"releasedate\": \"2018-08-02T00:00:00\", \"buyer\": 1}, {\"releasedate\": \"2019-08-02T00:00:00\", \"buyer\": 1}, {\"releasedate\": \"2018-08-06T00:00:00\", \"buyer\": 1}, {\"releasedate\": \"2019-08-08T00:00:00\", \"buyer\": 1}, {\"releasedate\": \"2017-08-09T00:00:00\", \"buyer\": 1}, {\"releasedate\": \"2018-08-09T00:00:00\", \"buyer\": 1}, {\"releasedate\": \"2017-08-11T00:00:00\", \"buyer\": 1}, {\"releasedate\": \"2019-08-12T00:00:00\", \"buyer\": 1}, {\"releasedate\": \"2019-08-13T00:00:00\", \"buyer\": 2}, {\"releasedate\": \"2019-08-14T00:00:00\", \"buyer\": 1}, {\"releasedate\": \"2019-08-15T00:00:00\", \"buyer\": 1}, {\"releasedate\": \"2017-08-17T00:00:00\", \"buyer\": 2}, {\"releasedate\": \"2017-08-18T00:00:00\", \"buyer\": 1}, {\"releasedate\": \"2018-08-18T00:00:00\", \"buyer\": 1}, {\"releasedate\": \"2019-08-19T00:00:00\", \"buyer\": 1}, {\"releasedate\": \"2018-08-20T00:00:00\", \"buyer\": 1}, {\"releasedate\": \"2019-08-20T00:00:00\", \"buyer\": 1}, {\"releasedate\": \"2019-08-23T00:00:00\", \"buyer\": 1}, {\"releasedate\": \"2019-08-27T00:00:00\", \"buyer\": 1}, {\"releasedate\": \"2018-08-29T00:00:00\", \"buyer\": 1}, {\"releasedate\": \"2018-08-30T00:00:00\", \"buyer\": 1}, {\"releasedate\": \"2017-09-04T00:00:00\", \"buyer\": 1}, {\"releasedate\": \"2017-09-05T00:00:00\", \"buyer\": 1}, {\"releasedate\": \"2018-09-05T00:00:00\", \"buyer\": 2}, {\"releasedate\": \"2019-09-05T00:00:00\", \"buyer\": 2}, {\"releasedate\": \"2018-09-06T00:00:00\", \"buyer\": 1}, {\"releasedate\": \"2018-09-07T00:00:00\", \"buyer\": 1}, {\"releasedate\": \"2017-09-08T00:00:00\", \"buyer\": 1}, {\"releasedate\": \"2017-09-09T00:00:00\", \"buyer\": 1}, {\"releasedate\": \"2019-09-09T00:00:00\", \"buyer\": 1}, {\"releasedate\": \"2017-09-10T00:00:00\", \"buyer\": 1}, {\"releasedate\": \"2018-09-10T00:00:00\", \"buyer\": 1}, {\"releasedate\": \"2017-09-13T00:00:00\", \"buyer\": 1}, {\"releasedate\": \"2018-09-14T00:00:00\", \"buyer\": 1}, {\"releasedate\": \"2019-09-20T00:00:00\", \"buyer\": 1}, {\"releasedate\": \"2017-09-26T00:00:00\", \"buyer\": 2}, {\"releasedate\": \"2018-09-28T00:00:00\", \"buyer\": 1}, {\"releasedate\": \"2017-09-29T00:00:00\", \"buyer\": 1}, {\"releasedate\": \"2017-10-03T00:00:00\", \"buyer\": 1}, {\"releasedate\": \"2019-10-04T00:00:00\", \"buyer\": 1}, {\"releasedate\": \"2018-10-05T00:00:00\", \"buyer\": 2}, {\"releasedate\": \"2017-10-06T00:00:00\", \"buyer\": 1}, {\"releasedate\": \"2018-10-09T00:00:00\", \"buyer\": 2}, {\"releasedate\": \"2017-10-13T00:00:00\", \"buyer\": 1}, {\"releasedate\": \"2019-10-15T00:00:00\", \"buyer\": 1}, {\"releasedate\": \"2017-10-16T00:00:00\", \"buyer\": 1}, {\"releasedate\": \"2017-10-19T00:00:00\", \"buyer\": 1}, {\"releasedate\": \"2018-10-19T00:00:00\", \"buyer\": 1}, {\"releasedate\": \"2019-10-21T00:00:00\", \"buyer\": 15}, {\"releasedate\": \"2018-10-23T00:00:00\", \"buyer\": 1}, {\"releasedate\": \"2019-10-23T00:00:00\", \"buyer\": 3}, {\"releasedate\": \"2019-10-24T00:00:00\", \"buyer\": 1}, {\"releasedate\": \"2017-10-25T00:00:00\", \"buyer\": 1}, {\"releasedate\": \"2019-10-25T00:00:00\", \"buyer\": 2}, {\"releasedate\": \"2019-10-28T00:00:00\", \"buyer\": 1}, {\"releasedate\": \"2017-10-31T00:00:00\", \"buyer\": 1}, {\"releasedate\": \"2019-10-31T00:00:00\", \"buyer\": 2}, {\"releasedate\": \"2019-11-01T00:00:00\", \"buyer\": 1}, {\"releasedate\": \"2019-11-03T00:00:00\", \"buyer\": 1}, {\"releasedate\": \"2018-11-08T00:00:00\", \"buyer\": 1}, {\"releasedate\": \"2018-11-09T00:00:00\", \"buyer\": 1}, {\"releasedate\": \"2019-11-11T00:00:00\", \"buyer\": 12}, {\"releasedate\": \"2019-11-12T00:00:00\", \"buyer\": 19}, {\"releasedate\": \"2018-11-13T00:00:00\", \"buyer\": 1}, {\"releasedate\": \"2019-11-13T00:00:00\", \"buyer\": 12}, {\"releasedate\": \"2018-11-14T00:00:00\", \"buyer\": 1}, {\"releasedate\": \"2019-11-14T00:00:00\", \"buyer\": 5}, {\"releasedate\": \"2017-11-15T00:00:00\", \"buyer\": 1}, {\"releasedate\": \"2019-11-15T00:00:00\", \"buyer\": 2}, {\"releasedate\": \"2017-11-16T00:00:00\", \"buyer\": 1}, {\"releasedate\": \"2019-11-16T00:00:00\", \"buyer\": 4}, {\"releasedate\": \"2019-11-17T00:00:00\", \"buyer\": 5}, {\"releasedate\": \"2019-11-19T00:00:00\", \"buyer\": 3}, {\"releasedate\": \"2019-11-20T00:00:00\", \"buyer\": 1}, {\"releasedate\": \"2018-11-23T00:00:00\", \"buyer\": 4}, {\"releasedate\": \"2019-11-25T00:00:00\", \"buyer\": 1}, {\"releasedate\": \"2019-11-27T00:00:00\", \"buyer\": 1}, {\"releasedate\": \"2018-11-28T00:00:00\", \"buyer\": 1}, {\"releasedate\": \"2017-11-29T00:00:00\", \"buyer\": 1}, {\"releasedate\": \"2017-12-01T00:00:00\", \"buyer\": 1}, {\"releasedate\": \"2018-12-05T00:00:00\", \"buyer\": 1}, {\"releasedate\": \"2017-12-07T00:00:00\", \"buyer\": 1}, {\"releasedate\": \"2017-12-08T00:00:00\", \"buyer\": 1}, {\"releasedate\": \"2018-12-10T00:00:00\", \"buyer\": 1}, {\"releasedate\": \"2018-12-14T00:00:00\", \"buyer\": 1}, {\"releasedate\": \"2018-12-17T00:00:00\", \"buyer\": 1}, {\"releasedate\": \"2018-12-18T00:00:00\", \"buyer\": 3}, {\"releasedate\": \"2019-12-19T00:00:00\", \"buyer\": 1}, {\"releasedate\": \"2017-12-21T00:00:00\", \"buyer\": 2}, {\"releasedate\": \"2018-12-21T00:00:00\", \"buyer\": 1}, {\"releasedate\": \"2017-12-22T00:00:00\", \"buyer\": 1}, {\"releasedate\": \"2019-12-23T00:00:00\", \"buyer\": 1}]}}, {\"mode\": \"vega-lite\"});\n",
              "</script>"
            ]
          },
          "metadata": {
            "tags": []
          },
          "execution_count": 22
        }
      ]
    }
  ]
}