{
  "nbformat": 4,
  "nbformat_minor": 0,
  "metadata": {
    "colab": {
      "name": " number_of_contracts_with_deloitte_chart_opensourced.ipynb",
      "provenance": [],
      "collapsed_sections": [],
      "include_colab_link": true
    },
    "kernelspec": {
      "name": "python3",
      "display_name": "Python 3"
    }
  },
  "cells": [
    {
      "cell_type": "markdown",
      "metadata": {
        "id": "view-in-github",
        "colab_type": "text"
      },
      "source": [
        "<a href=\"https://colab.research.google.com/github/spendnetwork/charts/blob/master/number_of_contracts_with_deloitte_chart_opensourced.ipynb\" target=\"_parent\"><img src=\"https://colab.research.google.com/assets/colab-badge.svg\" alt=\"Open In Colab\"/></a>"
      ]
    },
    {
      "cell_type": "code",
      "metadata": {
        "id": "tqc2iXLl8hTN",
        "colab_type": "code",
        "colab": {}
      },
      "source": [
        "import pandas as pd\n",
        "import altair as alt"
      ],
      "execution_count": 0,
      "outputs": []
    },
    {
      "cell_type": "code",
      "metadata": {
        "id": "dfMVbVJs7f-3",
        "colab_type": "code",
        "colab": {}
      },
      "source": [
        "url = 'https://raw.githubusercontent.com/spendnetwork/charts/master/contracts_data_deloitte.csv'\n",
        "df = pd.read_csv(url)\n",
        "#print(df)"
      ],
      "execution_count": 0,
      "outputs": []
    },
    {
      "cell_type": "code",
      "metadata": {
        "id": "ocvP41ZMahE8",
        "colab_type": "code",
        "colab": {}
      },
      "source": [
        "df['releasedate']=pd.to_datetime(df['releasedate']).dt.strftime('%m/%d/%Y')"
      ],
      "execution_count": 0,
      "outputs": []
    },
    {
      "cell_type": "code",
      "metadata": {
        "id": "3UEM3xRs8tMF",
        "colab_type": "code",
        "colab": {}
      },
      "source": [
        "df1=(df.groupby('releasedate').agg({'ocid': ['count'], 'aw_value': 'sum'}))\n",
        "#df1.head()"
      ],
      "execution_count": 0,
      "outputs": []
    },
    {
      "cell_type": "code",
      "metadata": {
        "id": "DqsTJ_0lJFMl",
        "colab_type": "code",
        "colab": {}
      },
      "source": [
        "df1.columns = df1.columns.map('_'.join)\n",
        "df1 = df1.reset_index()\n",
        "#df1.head()"
      ],
      "execution_count": 0,
      "outputs": []
    },
    {
      "cell_type": "code",
      "metadata": {
        "id": "o74MSUwJZzgX",
        "colab_type": "code",
        "colab": {}
      },
      "source": [
        "#df1['releasedate']=pd.to_datetime(df1['releasedate'].dt.strftime('%m/%d/%Y'))\n",
        "#df1['releasedate']=pd.to_datetime(df1['releasedate']).dt.strftime('%m/%d/%Y') \n",
        "#df1.head()"
      ],
      "execution_count": 0,
      "outputs": []
    },
    {
      "cell_type": "code",
      "metadata": {
        "id": "J28YEEbs_cl2",
        "colab_type": "code",
        "colab": {}
      },
      "source": [
        "  nearest = alt.selection(type='single', nearest=True, on='mouseover',fields=['releasedate'], empty='none')"
      ],
      "execution_count": 0,
      "outputs": []
    },
    {
      "cell_type": "code",
      "metadata": {
        "id": "mwmeRRD5_ZSp",
        "colab_type": "code",
        "outputId": "c8fe178f-491c-47b9-9a4a-abee90b61c32",
        "colab": {
          "base_uri": "https://localhost:8080/",
          "height": 350
        }
      },
      "source": [
        "        line=alt.Chart(df1, width=1200, height=250, title=\"Count of contracts of Deloitte LLP\").mark_line(color='#91D739').encode(\n",
        "            x=alt.X('yearmonth(releasedate):O',\n",
        "                    axis=alt.Axis(tickCount=12, title=\"https://openopps.com\", \n",
        "                grid=False, \n",
        "                labelFont='Helvetica', \n",
        "                labelFontSize=12, \n",
        "                labelAngle=0, \n",
        "                titleAlign='left',\n",
        "                titleAnchor='start',\n",
        "                titleFont='Helvetica',\n",
        "                titleFontSize= 11,\n",
        "                titleFontWeight= 300,\n",
        "                titleX= -0,\n",
        "                titleY= 30) \n",
        "                   ),\n",
        "            y=alt.Y('sum(ocid_count):Q',\n",
        "                     axis=alt.Axis(title=\"\",\n",
        "                                    format=\".0s\",)\n",
        "                   ),\n",
        "            )\n",
        "        selectors = alt.Chart(df1).mark_point().encode(\n",
        "            x='yearmonth(releasedate):O',\n",
        "            opacity=alt.value(0),\n",
        "        ).add_selection(\n",
        "            nearest\n",
        "        )\n",
        "\n",
        "        points = line.mark_point().encode(\n",
        "            opacity=alt.condition(nearest, alt.value(1), alt.value(0))\n",
        "        )\n",
        "\n",
        "\n",
        "        text = line.mark_text(align='left', dx=10, dy=-10).encode(\n",
        "            text=alt.condition(nearest, 'sum(ocid_count):Q', alt.value(' '))\n",
        "        )\n",
        "\n",
        "        rules = alt.Chart(df1).mark_rule(color='gray').encode(\n",
        "            x='yearmonth(releasedate):O',\n",
        "        ).transform_filter(\n",
        "            nearest\n",
        "        )\n",
        "\n",
        "        chart = alt.layer(\n",
        "            line, selectors, points, rules, text\n",
        "        ).configure_view(\n",
        "          strokeWidth=0\n",
        "        ).configure_title(fontSize=18, anchor='start',\n",
        "                color= \"#91D739\", font='Helvetica', fontWeight=400)\n",
        "\n",
        "        chart"
      ],
      "execution_count": 9,
      "outputs": [
        {
          "output_type": "execute_result",
          "data": {
            "text/plain": [
              "alt.LayerChart(...)"
            ],
            "text/html": [
              "\n",
              "<div id=\"altair-viz-3618b78c8ba340f0b5c0f0486ca5c5af\"></div>\n",
              "<script type=\"text/javascript\">\n",
              "  (function(spec, embedOpt){\n",
              "    const outputDiv = document.getElementById(\"altair-viz-3618b78c8ba340f0b5c0f0486ca5c5af\");\n",
              "    const paths = {\n",
              "      \"vega\": \"https://cdn.jsdelivr.net/npm//vega@5?noext\",\n",
              "      \"vega-lib\": \"https://cdn.jsdelivr.net/npm//vega-lib?noext\",\n",
              "      \"vega-lite\": \"https://cdn.jsdelivr.net/npm//vega-lite@4.0.2?noext\",\n",
              "      \"vega-embed\": \"https://cdn.jsdelivr.net/npm//vega-embed@6?noext\",\n",
              "    };\n",
              "\n",
              "    function loadScript(lib) {\n",
              "      return new Promise(function(resolve, reject) {\n",
              "        var s = document.createElement('script');\n",
              "        s.src = paths[lib];\n",
              "        s.async = true;\n",
              "        s.onload = () => resolve(paths[lib]);\n",
              "        s.onerror = () => reject(`Error loading script: ${paths[lib]}`);\n",
              "        document.getElementsByTagName(\"head\")[0].appendChild(s);\n",
              "      });\n",
              "    }\n",
              "\n",
              "    function showError(err) {\n",
              "      outputDiv.innerHTML = `<div class=\"error\" style=\"color:red;\">${err}</div>`;\n",
              "      throw err;\n",
              "    }\n",
              "\n",
              "    function displayChart(vegaEmbed) {\n",
              "      vegaEmbed(outputDiv, spec, embedOpt)\n",
              "        .catch(err => showError(`Javascript Error: ${err.message}<br>This usually means there's a typo in your chart specification. See the javascript console for the full traceback.`));\n",
              "    }\n",
              "\n",
              "    if(typeof define === \"function\" && define.amd) {\n",
              "      requirejs.config({paths});\n",
              "      require([\"vega-embed\"], displayChart, err => showError(`Error loading script: ${err.message}`));\n",
              "    } else if (typeof vegaEmbed === \"function\") {\n",
              "      displayChart(vegaEmbed);\n",
              "    } else {\n",
              "      loadScript(\"vega\")\n",
              "        .then(() => loadScript(\"vega-lite\"))\n",
              "        .then(() => loadScript(\"vega-embed\"))\n",
              "        .catch(showError)\n",
              "        .then(() => displayChart(vegaEmbed));\n",
              "    }\n",
              "  })({\"config\": {\"view\": {\"continuousWidth\": 400, \"continuousHeight\": 300, \"strokeWidth\": 0}, \"title\": {\"anchor\": \"start\", \"color\": \"#91D739\", \"font\": \"Helvetica\", \"fontSize\": 18, \"fontWeight\": 400}}, \"layer\": [{\"mark\": {\"type\": \"line\", \"color\": \"#91D739\"}, \"encoding\": {\"x\": {\"type\": \"ordinal\", \"axis\": {\"grid\": false, \"labelAngle\": 0, \"labelFont\": \"Helvetica\", \"labelFontSize\": 12, \"tickCount\": 12, \"title\": \"https://openopps.com\", \"titleAlign\": \"left\", \"titleAnchor\": \"start\", \"titleFont\": \"Helvetica\", \"titleFontSize\": 11, \"titleFontWeight\": 300, \"titleX\": 0, \"titleY\": 30}, \"field\": \"releasedate\", \"timeUnit\": \"yearmonth\"}, \"y\": {\"type\": \"quantitative\", \"aggregate\": \"sum\", \"axis\": {\"format\": \".0s\", \"title\": \"\"}, \"field\": \"ocid_count\"}}, \"height\": 250, \"title\": \"Count of contracts of Deloitte LLP\", \"width\": 1200}, {\"mark\": \"point\", \"encoding\": {\"opacity\": {\"value\": 0}, \"x\": {\"type\": \"ordinal\", \"field\": \"releasedate\", \"timeUnit\": \"yearmonth\"}}, \"selection\": {\"selector001\": {\"type\": \"single\", \"nearest\": true, \"on\": \"mouseover\", \"fields\": [\"releasedate\"], \"empty\": \"none\"}}}, {\"mark\": \"point\", \"encoding\": {\"opacity\": {\"condition\": {\"value\": 1, \"selection\": \"selector001\"}, \"value\": 0}, \"x\": {\"type\": \"ordinal\", \"axis\": {\"grid\": false, \"labelAngle\": 0, \"labelFont\": \"Helvetica\", \"labelFontSize\": 12, \"tickCount\": 12, \"title\": \"https://openopps.com\", \"titleAlign\": \"left\", \"titleAnchor\": \"start\", \"titleFont\": \"Helvetica\", \"titleFontSize\": 11, \"titleFontWeight\": 300, \"titleX\": 0, \"titleY\": 30}, \"field\": \"releasedate\", \"timeUnit\": \"yearmonth\"}, \"y\": {\"type\": \"quantitative\", \"aggregate\": \"sum\", \"axis\": {\"format\": \".0s\", \"title\": \"\"}, \"field\": \"ocid_count\"}}, \"height\": 250, \"title\": \"Count of contracts of Deloitte LLP\", \"width\": 1200}, {\"mark\": {\"type\": \"rule\", \"color\": \"gray\"}, \"encoding\": {\"x\": {\"type\": \"ordinal\", \"field\": \"releasedate\", \"timeUnit\": \"yearmonth\"}}, \"transform\": [{\"filter\": {\"selection\": \"selector001\"}}]}, {\"mark\": {\"type\": \"text\", \"align\": \"left\", \"dx\": 10, \"dy\": -10}, \"encoding\": {\"text\": {\"condition\": {\"type\": \"quantitative\", \"aggregate\": \"sum\", \"field\": \"ocid_count\", \"selection\": \"selector001\"}, \"value\": \" \"}, \"x\": {\"type\": \"ordinal\", \"axis\": {\"grid\": false, \"labelAngle\": 0, \"labelFont\": \"Helvetica\", \"labelFontSize\": 12, \"tickCount\": 12, \"title\": \"https://openopps.com\", \"titleAlign\": \"left\", \"titleAnchor\": \"start\", \"titleFont\": \"Helvetica\", \"titleFontSize\": 11, \"titleFontWeight\": 300, \"titleX\": 0, \"titleY\": 30}, \"field\": \"releasedate\", \"timeUnit\": \"yearmonth\"}, \"y\": {\"type\": \"quantitative\", \"aggregate\": \"sum\", \"axis\": {\"format\": \".0s\", \"title\": \"\"}, \"field\": \"ocid_count\"}}, \"height\": 250, \"title\": \"Count of contracts of Deloitte LLP\", \"width\": 1200}], \"data\": {\"name\": \"data-a57c075fd2a59f3b9155f728200a493f\"}, \"$schema\": \"https://vega.github.io/schema/vega-lite/v4.0.2.json\", \"datasets\": {\"data-a57c075fd2a59f3b9155f728200a493f\": [{\"releasedate\": \"01/02/2019\", \"ocid_count\": 1, \"aw_value_sum\": 320000.0}, {\"releasedate\": \"01/04/2018\", \"ocid_count\": 1, \"aw_value_sum\": 50000.0}, {\"releasedate\": \"01/04/2019\", \"ocid_count\": 1, \"aw_value_sum\": 32130.0}, {\"releasedate\": \"01/06/2017\", \"ocid_count\": 2, \"aw_value_sum\": 24000.0}, {\"releasedate\": \"01/08/2019\", \"ocid_count\": 2, \"aw_value_sum\": 196820.0}, {\"releasedate\": \"01/10/2018\", \"ocid_count\": 1, \"aw_value_sum\": 0.0}, {\"releasedate\": \"01/10/2019\", \"ocid_count\": 1, \"aw_value_sum\": 155960.0}, {\"releasedate\": \"01/11/2017\", \"ocid_count\": 1, \"aw_value_sum\": 18997.0}, {\"releasedate\": \"01/15/2018\", \"ocid_count\": 2, \"aw_value_sum\": 3640000.0}, {\"releasedate\": \"01/15/2019\", \"ocid_count\": 1, \"aw_value_sum\": 9300000.0}, {\"releasedate\": \"01/17/2017\", \"ocid_count\": 1, \"aw_value_sum\": 580000.0}, {\"releasedate\": \"01/17/2019\", \"ocid_count\": 1, \"aw_value_sum\": 710170.0}, {\"releasedate\": \"01/18/2017\", \"ocid_count\": 2, \"aw_value_sum\": 269590.0}, {\"releasedate\": \"01/19/2017\", \"ocid_count\": 1, \"aw_value_sum\": 98600.0}, {\"releasedate\": \"01/20/2017\", \"ocid_count\": 1, \"aw_value_sum\": 1698523.0}, {\"releasedate\": \"01/24/2018\", \"ocid_count\": 1, \"aw_value_sum\": 235114.0}, {\"releasedate\": \"01/27/2017\", \"ocid_count\": 1, \"aw_value_sum\": 538560.0}, {\"releasedate\": \"01/28/2019\", \"ocid_count\": 1, \"aw_value_sum\": 449951.0}, {\"releasedate\": \"01/30/2018\", \"ocid_count\": 4, \"aw_value_sum\": 15562282.0}, {\"releasedate\": \"01/31/2018\", \"ocid_count\": 1, \"aw_value_sum\": 939000.0}, {\"releasedate\": \"01/31/2019\", \"ocid_count\": 1, \"aw_value_sum\": 99938.0}, {\"releasedate\": \"02/01/2017\", \"ocid_count\": 3, \"aw_value_sum\": 3400000.0}, {\"releasedate\": \"02/01/2018\", \"ocid_count\": 1, \"aw_value_sum\": 1461870.0}, {\"releasedate\": \"02/04/2019\", \"ocid_count\": 1, \"aw_value_sum\": 497520.0}, {\"releasedate\": \"02/06/2018\", \"ocid_count\": 2, \"aw_value_sum\": 3780366.0}, {\"releasedate\": \"02/08/2018\", \"ocid_count\": 1, \"aw_value_sum\": 69513.0}, {\"releasedate\": \"02/09/2018\", \"ocid_count\": 1, \"aw_value_sum\": 1933400.0}, {\"releasedate\": \"02/13/2018\", \"ocid_count\": 1, \"aw_value_sum\": 300000.0}, {\"releasedate\": \"02/13/2019\", \"ocid_count\": 1, \"aw_value_sum\": 308010.0}, {\"releasedate\": \"02/15/2018\", \"ocid_count\": 1, \"aw_value_sum\": 240000.0}, {\"releasedate\": \"02/21/2018\", \"ocid_count\": 1, \"aw_value_sum\": 600000.0}, {\"releasedate\": \"02/21/2019\", \"ocid_count\": 2, \"aw_value_sum\": 133900.0}, {\"releasedate\": \"02/22/2017\", \"ocid_count\": 2, \"aw_value_sum\": 328538.0}, {\"releasedate\": \"02/26/2018\", \"ocid_count\": 1, \"aw_value_sum\": 2500000.0}, {\"releasedate\": \"02/26/2019\", \"ocid_count\": 1, \"aw_value_sum\": 2000000.0}, {\"releasedate\": \"02/27/2019\", \"ocid_count\": 1, \"aw_value_sum\": 50000.0}, {\"releasedate\": \"02/28/2018\", \"ocid_count\": 2, \"aw_value_sum\": 373250.0}, {\"releasedate\": \"03/01/2019\", \"ocid_count\": 3, \"aw_value_sum\": 1895100.0}, {\"releasedate\": \"03/02/2018\", \"ocid_count\": 1, \"aw_value_sum\": 151200.0}, {\"releasedate\": \"03/04/2019\", \"ocid_count\": 3, \"aw_value_sum\": 1538569.0}, {\"releasedate\": \"03/05/2019\", \"ocid_count\": 1, \"aw_value_sum\": 400400.0}, {\"releasedate\": \"03/06/2018\", \"ocid_count\": 1, \"aw_value_sum\": 6100646.0}, {\"releasedate\": \"03/07/2019\", \"ocid_count\": 1, \"aw_value_sum\": 100000.0}, {\"releasedate\": \"03/10/2019\", \"ocid_count\": 1, \"aw_value_sum\": 2000000.0}, {\"releasedate\": \"03/11/2019\", \"ocid_count\": 1, \"aw_value_sum\": 2000000.0}, {\"releasedate\": \"03/12/2019\", \"ocid_count\": 1, \"aw_value_sum\": 2000000.0}, {\"releasedate\": \"03/13/2019\", \"ocid_count\": 1, \"aw_value_sum\": 2000000.0}, {\"releasedate\": \"03/14/2018\", \"ocid_count\": 2, \"aw_value_sum\": 33000.1}, {\"releasedate\": \"03/15/2018\", \"ocid_count\": 11, \"aw_value_sum\": 1.0999999999999999}, {\"releasedate\": \"03/20/2019\", \"ocid_count\": 2, \"aw_value_sum\": 508000.0}, {\"releasedate\": \"03/22/2017\", \"ocid_count\": 2, \"aw_value_sum\": 163119.0}, {\"releasedate\": \"03/22/2018\", \"ocid_count\": 1, \"aw_value_sum\": 1000000.0}, {\"releasedate\": \"03/23/2018\", \"ocid_count\": 1, \"aw_value_sum\": 90000000.0}, {\"releasedate\": \"03/28/2018\", \"ocid_count\": 3, \"aw_value_sum\": 362163.0}, {\"releasedate\": \"03/28/2019\", \"ocid_count\": 1, \"aw_value_sum\": 219990.0}, {\"releasedate\": \"04/01/2019\", \"ocid_count\": 1, \"aw_value_sum\": 4550000.0}, {\"releasedate\": \"04/02/2019\", \"ocid_count\": 2, \"aw_value_sum\": 2009098.0}, {\"releasedate\": \"04/04/2017\", \"ocid_count\": 1, \"aw_value_sum\": 125000.0}, {\"releasedate\": \"04/04/2019\", \"ocid_count\": 1, \"aw_value_sum\": 68300.0}, {\"releasedate\": \"04/05/2018\", \"ocid_count\": 1, \"aw_value_sum\": 674070.0}, {\"releasedate\": \"04/10/2018\", \"ocid_count\": 1, \"aw_value_sum\": 1933400.0}, {\"releasedate\": \"04/11/2019\", \"ocid_count\": 1, \"aw_value_sum\": 105200.0}, {\"releasedate\": \"04/14/2018\", \"ocid_count\": 2, \"aw_value_sum\": 20000000.0}, {\"releasedate\": \"04/15/2019\", \"ocid_count\": 2, \"aw_value_sum\": 605444200.0}, {\"releasedate\": \"04/16/2019\", \"ocid_count\": 2, \"aw_value_sum\": 1027000.0}, {\"releasedate\": \"04/19/2019\", \"ocid_count\": 1, \"aw_value_sum\": 95000000.0}, {\"releasedate\": \"04/21/2017\", \"ocid_count\": 1, \"aw_value_sum\": 50000.0}, {\"releasedate\": \"04/24/2019\", \"ocid_count\": 1, \"aw_value_sum\": 11590971.0}, {\"releasedate\": \"04/25/2019\", \"ocid_count\": 1, \"aw_value_sum\": 9000000.0}, {\"releasedate\": \"04/26/2019\", \"ocid_count\": 1, \"aw_value_sum\": 242200.0}, {\"releasedate\": \"05/02/2019\", \"ocid_count\": 1, \"aw_value_sum\": 15000000.0}, {\"releasedate\": \"05/03/2018\", \"ocid_count\": 1, \"aw_value_sum\": 49962.0}, {\"releasedate\": \"05/06/2018\", \"ocid_count\": 1, \"aw_value_sum\": 50000.0}, {\"releasedate\": \"05/08/2017\", \"ocid_count\": 1, \"aw_value_sum\": 1600000.0}, {\"releasedate\": \"05/09/2019\", \"ocid_count\": 2, \"aw_value_sum\": 329682.0}, {\"releasedate\": \"05/10/2017\", \"ocid_count\": 1, \"aw_value_sum\": 129400.0}, {\"releasedate\": \"05/11/2017\", \"ocid_count\": 1, \"aw_value_sum\": 4205309.35}, {\"releasedate\": \"05/11/2018\", \"ocid_count\": 1, \"aw_value_sum\": 1500000.0}, {\"releasedate\": \"05/12/2018\", \"ocid_count\": 1, \"aw_value_sum\": 1500000.0}, {\"releasedate\": \"05/14/2018\", \"ocid_count\": 1, \"aw_value_sum\": 50000.0}, {\"releasedate\": \"05/14/2019\", \"ocid_count\": 1, \"aw_value_sum\": 980000.0}, {\"releasedate\": \"05/16/2018\", \"ocid_count\": 1, \"aw_value_sum\": 694080.0}, {\"releasedate\": \"05/18/2018\", \"ocid_count\": 1, \"aw_value_sum\": 1150000.0}, {\"releasedate\": \"05/19/2017\", \"ocid_count\": 6, \"aw_value_sum\": 235000000.0}, {\"releasedate\": \"05/21/2018\", \"ocid_count\": 1, \"aw_value_sum\": 874692.0}, {\"releasedate\": \"05/22/2018\", \"ocid_count\": 2, \"aw_value_sum\": 2493338.0}, {\"releasedate\": \"05/22/2019\", \"ocid_count\": 1, \"aw_value_sum\": 4200000.0}, {\"releasedate\": \"05/23/2018\", \"ocid_count\": 2, \"aw_value_sum\": 3826363.0}, {\"releasedate\": \"05/23/2019\", \"ocid_count\": 1, \"aw_value_sum\": 9850.0}, {\"releasedate\": \"05/24/2018\", \"ocid_count\": 4, \"aw_value_sum\": 400342.0}, {\"releasedate\": \"05/29/2018\", \"ocid_count\": 3, \"aw_value_sum\": 598025.0}, {\"releasedate\": \"05/29/2019\", \"ocid_count\": 1, \"aw_value_sum\": 980040.0}, {\"releasedate\": \"05/30/2019\", \"ocid_count\": 1, \"aw_value_sum\": 1000000.0}, {\"releasedate\": \"05/31/2017\", \"ocid_count\": 1, \"aw_value_sum\": 73700.0}, {\"releasedate\": \"05/31/2018\", \"ocid_count\": 4, \"aw_value_sum\": 125075000.01}, {\"releasedate\": \"06/05/2017\", \"ocid_count\": 1, \"aw_value_sum\": 100000.0}, {\"releasedate\": \"06/07/2019\", \"ocid_count\": 1, \"aw_value_sum\": 1500000.0}, {\"releasedate\": \"06/15/2017\", \"ocid_count\": 1, \"aw_value_sum\": 166240.0}, {\"releasedate\": \"06/20/2019\", \"ocid_count\": 2, \"aw_value_sum\": 500000.0}, {\"releasedate\": \"06/21/2018\", \"ocid_count\": 2, \"aw_value_sum\": 300000000.0}, {\"releasedate\": \"06/21/2019\", \"ocid_count\": 2, \"aw_value_sum\": 6000000.0}, {\"releasedate\": \"06/22/2017\", \"ocid_count\": 1, \"aw_value_sum\": 500000.0}, {\"releasedate\": \"06/24/2017\", \"ocid_count\": 2, \"aw_value_sum\": 47500000.0}, {\"releasedate\": \"06/25/2019\", \"ocid_count\": 2, \"aw_value_sum\": 34000000.0}, {\"releasedate\": \"06/26/2019\", \"ocid_count\": 1, \"aw_value_sum\": 950000.0}, {\"releasedate\": \"06/27/2018\", \"ocid_count\": 1, \"aw_value_sum\": 998582.0}, {\"releasedate\": \"06/27/2019\", \"ocid_count\": 1, \"aw_value_sum\": 0.0}, {\"releasedate\": \"06/28/2019\", \"ocid_count\": 1, \"aw_value_sum\": 48000.0}, {\"releasedate\": \"06/29/2018\", \"ocid_count\": 1, \"aw_value_sum\": 1000000.0}, {\"releasedate\": \"07/03/2019\", \"ocid_count\": 1, \"aw_value_sum\": 430000.0}, {\"releasedate\": \"07/04/2018\", \"ocid_count\": 1, \"aw_value_sum\": 111858.0}, {\"releasedate\": \"07/05/2018\", \"ocid_count\": 2, \"aw_value_sum\": 600000.0}, {\"releasedate\": \"07/06/2018\", \"ocid_count\": 1, \"aw_value_sum\": 250000.0}, {\"releasedate\": \"07/07/2017\", \"ocid_count\": 1, \"aw_value_sum\": 75000.0}, {\"releasedate\": \"07/08/2019\", \"ocid_count\": 1, \"aw_value_sum\": 10000000.0}, {\"releasedate\": \"07/10/2018\", \"ocid_count\": 1, \"aw_value_sum\": 85000.0}, {\"releasedate\": \"07/11/2017\", \"ocid_count\": 1, \"aw_value_sum\": 0.0}, {\"releasedate\": \"07/12/2019\", \"ocid_count\": 1, \"aw_value_sum\": 354922.0}, {\"releasedate\": \"07/13/2017\", \"ocid_count\": 1, \"aw_value_sum\": 0.0}, {\"releasedate\": \"07/13/2018\", \"ocid_count\": 1, \"aw_value_sum\": 6030000.0}, {\"releasedate\": \"07/15/2019\", \"ocid_count\": 1, \"aw_value_sum\": 122400.0}, {\"releasedate\": \"07/18/2017\", \"ocid_count\": 1, \"aw_value_sum\": 0.0}, {\"releasedate\": \"07/18/2018\", \"ocid_count\": 1, \"aw_value_sum\": 750000000.0}, {\"releasedate\": \"07/19/2019\", \"ocid_count\": 3, \"aw_value_sum\": 2773640.0}, {\"releasedate\": \"07/20/2017\", \"ocid_count\": 1, \"aw_value_sum\": 0.0}, {\"releasedate\": \"07/22/2019\", \"ocid_count\": 1, \"aw_value_sum\": 23029.0}, {\"releasedate\": \"07/23/2019\", \"ocid_count\": 2, \"aw_value_sum\": 1.0}, {\"releasedate\": \"07/24/2018\", \"ocid_count\": 1, \"aw_value_sum\": 35000.0}, {\"releasedate\": \"07/25/2019\", \"ocid_count\": 1, \"aw_value_sum\": 85000.0}, {\"releasedate\": \"07/30/2018\", \"ocid_count\": 1, \"aw_value_sum\": 649098.0}, {\"releasedate\": \"08/02/2017\", \"ocid_count\": 2, \"aw_value_sum\": 617884.0}, {\"releasedate\": \"08/02/2018\", \"ocid_count\": 1, \"aw_value_sum\": 1.0}, {\"releasedate\": \"08/02/2019\", \"ocid_count\": 1, \"aw_value_sum\": 75000.0}, {\"releasedate\": \"08/06/2018\", \"ocid_count\": 1, \"aw_value_sum\": 1.0}, {\"releasedate\": \"08/08/2019\", \"ocid_count\": 7, \"aw_value_sum\": 490000000.0}, {\"releasedate\": \"08/09/2017\", \"ocid_count\": 2, \"aw_value_sum\": 5100000.0}, {\"releasedate\": \"08/09/2018\", \"ocid_count\": 1, \"aw_value_sum\": 244453.0}, {\"releasedate\": \"08/11/2017\", \"ocid_count\": 1, \"aw_value_sum\": 106130.0}, {\"releasedate\": \"08/12/2019\", \"ocid_count\": 1, \"aw_value_sum\": 1453807.0}, {\"releasedate\": \"08/13/2019\", \"ocid_count\": 2, \"aw_value_sum\": 1013000.0}, {\"releasedate\": \"08/14/2019\", \"ocid_count\": 1, \"aw_value_sum\": 660000.0}, {\"releasedate\": \"08/15/2019\", \"ocid_count\": 1, \"aw_value_sum\": 2450000.0}, {\"releasedate\": \"08/17/2017\", \"ocid_count\": 2, \"aw_value_sum\": 5052720.0}, {\"releasedate\": \"08/18/2017\", \"ocid_count\": 1, \"aw_value_sum\": 80000.0}, {\"releasedate\": \"08/18/2018\", \"ocid_count\": 5, \"aw_value_sum\": 30000000.0}, {\"releasedate\": \"08/19/2019\", \"ocid_count\": 1, \"aw_value_sum\": 426150.0}, {\"releasedate\": \"08/20/2018\", \"ocid_count\": 1, \"aw_value_sum\": 41000.0}, {\"releasedate\": \"08/20/2019\", \"ocid_count\": 1, \"aw_value_sum\": 6000000.0}, {\"releasedate\": \"08/23/2019\", \"ocid_count\": 1, \"aw_value_sum\": 30000.0}, {\"releasedate\": \"08/27/2019\", \"ocid_count\": 1, \"aw_value_sum\": 250000.0}, {\"releasedate\": \"08/29/2018\", \"ocid_count\": 1, \"aw_value_sum\": 99121.0}, {\"releasedate\": \"08/30/2018\", \"ocid_count\": 1, \"aw_value_sum\": 448300.0}, {\"releasedate\": \"09/04/2017\", \"ocid_count\": 1, \"aw_value_sum\": 641080.0}, {\"releasedate\": \"09/05/2017\", \"ocid_count\": 1, \"aw_value_sum\": 26680.0}, {\"releasedate\": \"09/05/2018\", \"ocid_count\": 3, \"aw_value_sum\": 6423570.0}, {\"releasedate\": \"09/05/2019\", \"ocid_count\": 2, \"aw_value_sum\": 1330500.0}, {\"releasedate\": \"09/06/2018\", \"ocid_count\": 1, \"aw_value_sum\": 499875.0}, {\"releasedate\": \"09/07/2018\", \"ocid_count\": 2, \"aw_value_sum\": 550000.0}, {\"releasedate\": \"09/08/2017\", \"ocid_count\": 2, \"aw_value_sum\": 9000000.0}, {\"releasedate\": \"09/09/2017\", \"ocid_count\": 1, \"aw_value_sum\": 60000.0}, {\"releasedate\": \"09/09/2019\", \"ocid_count\": 1, \"aw_value_sum\": 50000.0}, {\"releasedate\": \"09/10/2017\", \"ocid_count\": 1, \"aw_value_sum\": 538390.0}, {\"releasedate\": \"09/10/2018\", \"ocid_count\": 1, \"aw_value_sum\": 180000.0}, {\"releasedate\": \"09/13/2017\", \"ocid_count\": 1, \"aw_value_sum\": 7385255.0}, {\"releasedate\": \"09/14/2018\", \"ocid_count\": 1, \"aw_value_sum\": 180000.0}, {\"releasedate\": \"09/20/2019\", \"ocid_count\": 1, \"aw_value_sum\": 779300.0}, {\"releasedate\": \"09/26/2017\", \"ocid_count\": 2, \"aw_value_sum\": 690159995.0}, {\"releasedate\": \"09/28/2018\", \"ocid_count\": 1, \"aw_value_sum\": 158000.0}, {\"releasedate\": \"09/29/2017\", \"ocid_count\": 1, \"aw_value_sum\": 200000.0}, {\"releasedate\": \"10/03/2017\", \"ocid_count\": 1, \"aw_value_sum\": 1000000.0}, {\"releasedate\": \"10/04/2019\", \"ocid_count\": 1, \"aw_value_sum\": 1500000.0}, {\"releasedate\": \"10/05/2018\", \"ocid_count\": 2, \"aw_value_sum\": 875636.0}, {\"releasedate\": \"10/06/2017\", \"ocid_count\": 1, \"aw_value_sum\": 23500000.0}, {\"releasedate\": \"10/09/2018\", \"ocid_count\": 2, \"aw_value_sum\": 110280.0}, {\"releasedate\": \"10/13/2017\", \"ocid_count\": 1, \"aw_value_sum\": 66152.0}, {\"releasedate\": \"10/15/2019\", \"ocid_count\": 1, \"aw_value_sum\": 250000.0}, {\"releasedate\": \"10/16/2017\", \"ocid_count\": 1, \"aw_value_sum\": 440000.0}, {\"releasedate\": \"10/19/2017\", \"ocid_count\": 1, \"aw_value_sum\": 100000.0}, {\"releasedate\": \"10/19/2018\", \"ocid_count\": 1, \"aw_value_sum\": 498990.0}, {\"releasedate\": \"10/21/2019\", \"ocid_count\": 80, \"aw_value_sum\": 494765012.37999994}, {\"releasedate\": \"10/23/2018\", \"ocid_count\": 1, \"aw_value_sum\": 498575.0}, {\"releasedate\": \"10/23/2019\", \"ocid_count\": 3, \"aw_value_sum\": 5864409.37}, {\"releasedate\": \"10/24/2019\", \"ocid_count\": 1, \"aw_value_sum\": 60000000.0}, {\"releasedate\": \"10/25/2017\", \"ocid_count\": 1, \"aw_value_sum\": 0.0}, {\"releasedate\": \"10/25/2019\", \"ocid_count\": 2, \"aw_value_sum\": 4524560.0}, {\"releasedate\": \"10/28/2019\", \"ocid_count\": 1, \"aw_value_sum\": 2091346.0}, {\"releasedate\": \"10/31/2017\", \"ocid_count\": 1, \"aw_value_sum\": 708333.0}, {\"releasedate\": \"10/31/2019\", \"ocid_count\": 4, \"aw_value_sum\": 22762706.58}, {\"releasedate\": \"11/01/2019\", \"ocid_count\": 1, \"aw_value_sum\": 10000.0}, {\"releasedate\": \"11/03/2019\", \"ocid_count\": 1, \"aw_value_sum\": 55914.72}, {\"releasedate\": \"11/08/2018\", \"ocid_count\": 1, \"aw_value_sum\": 180500.0}, {\"releasedate\": \"11/09/2018\", \"ocid_count\": 3, \"aw_value_sum\": 450200.0}, {\"releasedate\": \"11/11/2019\", \"ocid_count\": 47, \"aw_value_sum\": 393381138.77000004}, {\"releasedate\": \"11/12/2019\", \"ocid_count\": 195, \"aw_value_sum\": 1327790502.3900006}, {\"releasedate\": \"11/13/2018\", \"ocid_count\": 1, \"aw_value_sum\": 1397640.0}, {\"releasedate\": \"11/13/2019\", \"ocid_count\": 27, \"aw_value_sum\": 498192951.26}, {\"releasedate\": \"11/14/2018\", \"ocid_count\": 1, \"aw_value_sum\": 5720797.0}, {\"releasedate\": \"11/14/2019\", \"ocid_count\": 5, \"aw_value_sum\": 130554841.74000001}, {\"releasedate\": \"11/15/2017\", \"ocid_count\": 1, \"aw_value_sum\": 280000.0}, {\"releasedate\": \"11/15/2019\", \"ocid_count\": 2, \"aw_value_sum\": 2235164.8}, {\"releasedate\": \"11/16/2017\", \"ocid_count\": 1, \"aw_value_sum\": 280000.0}, {\"releasedate\": \"11/16/2019\", \"ocid_count\": 11, \"aw_value_sum\": 3922663.71}, {\"releasedate\": \"11/17/2019\", \"ocid_count\": 18, \"aw_value_sum\": 229061970.86}, {\"releasedate\": \"11/19/2019\", \"ocid_count\": 3, \"aw_value_sum\": 21560560.6}, {\"releasedate\": \"11/20/2019\", \"ocid_count\": 1, \"aw_value_sum\": 1500000.0}, {\"releasedate\": \"11/23/2018\", \"ocid_count\": 6, \"aw_value_sum\": 66549413.0}, {\"releasedate\": \"11/25/2019\", \"ocid_count\": 1, \"aw_value_sum\": 736308.94}, {\"releasedate\": \"11/27/2019\", \"ocid_count\": 1, \"aw_value_sum\": 0.0}, {\"releasedate\": \"11/28/2018\", \"ocid_count\": 1, \"aw_value_sum\": 178598.0}, {\"releasedate\": \"11/29/2017\", \"ocid_count\": 1, \"aw_value_sum\": 192568.0}, {\"releasedate\": \"12/01/2017\", \"ocid_count\": 1, \"aw_value_sum\": 121160.0}, {\"releasedate\": \"12/05/2018\", \"ocid_count\": 1, \"aw_value_sum\": 83000.0}, {\"releasedate\": \"12/07/2017\", \"ocid_count\": 1, \"aw_value_sum\": 0.0}, {\"releasedate\": \"12/08/2017\", \"ocid_count\": 6, \"aw_value_sum\": 800057.0}, {\"releasedate\": \"12/10/2018\", \"ocid_count\": 1, \"aw_value_sum\": 50000.0}, {\"releasedate\": \"12/14/2018\", \"ocid_count\": 1, \"aw_value_sum\": 75636.0}, {\"releasedate\": \"12/17/2018\", \"ocid_count\": 1, \"aw_value_sum\": 500000.0}, {\"releasedate\": \"12/18/2018\", \"ocid_count\": 4, \"aw_value_sum\": 10125961.0}, {\"releasedate\": \"12/19/2019\", \"ocid_count\": 1, \"aw_value_sum\": 371250.0}, {\"releasedate\": \"12/21/2017\", \"ocid_count\": 2, \"aw_value_sum\": 161380.0}, {\"releasedate\": \"12/21/2018\", \"ocid_count\": 1, \"aw_value_sum\": 175800.0}, {\"releasedate\": \"12/22/2017\", \"ocid_count\": 1, \"aw_value_sum\": 564500.0}, {\"releasedate\": \"12/23/2019\", \"ocid_count\": 1, \"aw_value_sum\": 375600.0}]}}, {\"mode\": \"vega-lite\"});\n",
              "</script>"
            ]
          },
          "metadata": {
            "tags": []
          },
          "execution_count": 9
        }
      ]
    }
  ]
}