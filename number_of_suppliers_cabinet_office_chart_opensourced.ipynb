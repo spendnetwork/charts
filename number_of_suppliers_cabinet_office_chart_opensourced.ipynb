{
  "nbformat": 4,
  "nbformat_minor": 0,
  "metadata": {
    "colab": {
      "name": "number_of_suppliers_cabinet_office_chart_opensourced.ipynb",
      "provenance": [],
      "collapsed_sections": [],
      "include_colab_link": true
    },
    "kernelspec": {
      "name": "python3",
      "display_name": "Python 3"
    }
  },
  "cells": [
    {
      "cell_type": "markdown",
      "metadata": {
        "id": "view-in-github",
        "colab_type": "text"
      },
      "source": [
        "<a href=\"https://colab.research.google.com/github/spendnetwork/charts/blob/master/number_of_suppliers_cabinet_office_chart_opensourced.ipynb\" target=\"_parent\"><img src=\"https://colab.research.google.com/assets/colab-badge.svg\" alt=\"Open In Colab\"/></a>"
      ]
    },
    {
      "cell_type": "code",
      "metadata": {
        "id": "tqc2iXLl8hTN",
        "colab_type": "code",
        "colab": {}
      },
      "source": [
        "import pandas as pd\n",
        "import altair as alt"
      ],
      "execution_count": 0,
      "outputs": []
    },
    {
      "cell_type": "code",
      "metadata": {
        "id": "dfMVbVJs7f-3",
        "colab_type": "code",
        "colab": {}
      },
      "source": [
        "url = 'https://raw.githubusercontent.com/spendnetwork/charts/master/number_of_suppliers_cabinet_office.csv'\n",
        "df = pd.read_csv(url)\n",
        "#print(df)"
      ],
      "execution_count": 0,
      "outputs": []
    },
    {
      "cell_type": "code",
      "metadata": {
        "id": "ocvP41ZMahE8",
        "colab_type": "code",
        "colab": {}
      },
      "source": [
        "df['releasedate']=pd.to_datetime(df['releasedate']).dt.strftime('%m/%d/%Y')"
      ],
      "execution_count": 0,
      "outputs": []
    },
    {
      "cell_type": "code",
      "metadata": {
        "id": "3UEM3xRs8tMF",
        "colab_type": "code",
        "colab": {}
      },
      "source": [
        "df1=(df.groupby('releasedate').agg({'supplier': ['count']}))\n",
        "#df1.head()"
      ],
      "execution_count": 0,
      "outputs": []
    },
    {
      "cell_type": "code",
      "metadata": {
        "id": "DqsTJ_0lJFMl",
        "colab_type": "code",
        "colab": {}
      },
      "source": [
        "df1.columns = df1.columns.map('_'.join)\n",
        "df1 = df1.reset_index()\n",
        "#df1.head()"
      ],
      "execution_count": 0,
      "outputs": []
    },
    {
      "cell_type": "code",
      "metadata": {
        "id": "o74MSUwJZzgX",
        "colab_type": "code",
        "colab": {}
      },
      "source": [
        "#df1['releasedate']=pd.to_datetime(df1['releasedate'].dt.strftime('%m/%d/%Y'))\n",
        "#df1['releasedate']=pd.to_datetime(df1['releasedate']).dt.strftime('%m/%d/%Y') \n",
        "#df1.head()"
      ],
      "execution_count": 0,
      "outputs": []
    },
    {
      "cell_type": "code",
      "metadata": {
        "id": "J28YEEbs_cl2",
        "colab_type": "code",
        "colab": {}
      },
      "source": [
        "  nearest = alt.selection(type='single', nearest=True, on='mouseover',fields=['releasedate'], empty='none')"
      ],
      "execution_count": 0,
      "outputs": []
    },
    {
      "cell_type": "code",
      "metadata": {
        "id": "mwmeRRD5_ZSp",
        "colab_type": "code",
        "outputId": "86acb521-a095-432c-cedd-c1ec30dcc1bc",
        "colab": {
          "base_uri": "https://localhost:8080/",
          "height": 361
        }
      },
      "source": [
        "        line=alt.Chart(df1, width=1200, height=250, title=\"Count of suppliers of Cabinet Office\").mark_line(color='#91D739').encode(\n",
        "            x=alt.X('yearmonth(releasedate):O',\n",
        "                    axis=alt.Axis(tickCount=12, title=\"https://openopps.com\", \n",
        "                grid=False, \n",
        "                labelFont='Helvetica', \n",
        "                labelFontSize=12, \n",
        "                labelAngle=0, \n",
        "                titleAlign='left',\n",
        "                titleAnchor='start',\n",
        "                titleFont='Helvetica',\n",
        "                titleFontSize= 11,\n",
        "                titleFontWeight= 300,\n",
        "                titleX= -0,\n",
        "                titleY= 30) \n",
        "                   ),\n",
        "            y=alt.Y('sum(supplier_count):Q',\n",
        "                     axis=alt.Axis(title=\"\",\n",
        "                                    format=\".0s\",)\n",
        "                   ),\n",
        "            )\n",
        "        selectors = alt.Chart(df1).mark_point().encode(\n",
        "            x='yearmonth(releasedate):O',\n",
        "            opacity=alt.value(0),\n",
        "        ).add_selection(\n",
        "            nearest\n",
        "        )\n",
        "\n",
        "        points = line.mark_point().encode(\n",
        "            opacity=alt.condition(nearest, alt.value(1), alt.value(0))\n",
        "        )\n",
        "\n",
        "\n",
        "        text = line.mark_text(align='left', dx=10, dy=-10).encode(\n",
        "            text=alt.condition(nearest, 'sum(supplier_count):Q', alt.value(' '))\n",
        "        )\n",
        "\n",
        "        rules = alt.Chart(df1).mark_rule(color='gray').encode(\n",
        "            x='yearmonth(releasedate):O',\n",
        "        ).transform_filter(\n",
        "            nearest\n",
        "        )\n",
        "\n",
        "        chart = alt.layer(\n",
        "            line, selectors, points, rules, text\n",
        "        ).configure_view(\n",
        "          strokeWidth=0\n",
        "        ).configure_title(fontSize=18, anchor='start',\n",
        "                color= \"#91D739\", font='Helvetica', fontWeight=400)\n",
        "\n",
        "        chart"
      ],
      "execution_count": 21,
      "outputs": [
        {
          "output_type": "execute_result",
          "data": {
            "text/plain": [
              "alt.LayerChart(...)"
            ],
            "text/html": [
              "\n",
              "<div id=\"altair-viz-8d2cd464c7cf44c58340ba649799ca94\"></div>\n",
              "<script type=\"text/javascript\">\n",
              "  (function(spec, embedOpt){\n",
              "    const outputDiv = document.getElementById(\"altair-viz-8d2cd464c7cf44c58340ba649799ca94\");\n",
              "    const paths = {\n",
              "      \"vega\": \"https://cdn.jsdelivr.net/npm//vega@5?noext\",\n",
              "      \"vega-lib\": \"https://cdn.jsdelivr.net/npm//vega-lib?noext\",\n",
              "      \"vega-lite\": \"https://cdn.jsdelivr.net/npm//vega-lite@4.0.2?noext\",\n",
              "      \"vega-embed\": \"https://cdn.jsdelivr.net/npm//vega-embed@6?noext\",\n",
              "    };\n",
              "\n",
              "    function loadScript(lib) {\n",
              "      return new Promise(function(resolve, reject) {\n",
              "        var s = document.createElement('script');\n",
              "        s.src = paths[lib];\n",
              "        s.async = true;\n",
              "        s.onload = () => resolve(paths[lib]);\n",
              "        s.onerror = () => reject(`Error loading script: ${paths[lib]}`);\n",
              "        document.getElementsByTagName(\"head\")[0].appendChild(s);\n",
              "      });\n",
              "    }\n",
              "\n",
              "    function showError(err) {\n",
              "      outputDiv.innerHTML = `<div class=\"error\" style=\"color:red;\">${err}</div>`;\n",
              "      throw err;\n",
              "    }\n",
              "\n",
              "    function displayChart(vegaEmbed) {\n",
              "      vegaEmbed(outputDiv, spec, embedOpt)\n",
              "        .catch(err => showError(`Javascript Error: ${err.message}<br>This usually means there's a typo in your chart specification. See the javascript console for the full traceback.`));\n",
              "    }\n",
              "\n",
              "    if(typeof define === \"function\" && define.amd) {\n",
              "      requirejs.config({paths});\n",
              "      require([\"vega-embed\"], displayChart, err => showError(`Error loading script: ${err.message}`));\n",
              "    } else if (typeof vegaEmbed === \"function\") {\n",
              "      displayChart(vegaEmbed);\n",
              "    } else {\n",
              "      loadScript(\"vega\")\n",
              "        .then(() => loadScript(\"vega-lite\"))\n",
              "        .then(() => loadScript(\"vega-embed\"))\n",
              "        .catch(showError)\n",
              "        .then(() => displayChart(vegaEmbed));\n",
              "    }\n",
              "  })({\"config\": {\"view\": {\"continuousWidth\": 400, \"continuousHeight\": 300, \"strokeWidth\": 0}, \"title\": {\"anchor\": \"start\", \"color\": \"#91D739\", \"font\": \"Helvetica\", \"fontSize\": 18, \"fontWeight\": 400}}, \"layer\": [{\"mark\": {\"type\": \"line\", \"color\": \"#91D739\"}, \"encoding\": {\"x\": {\"type\": \"ordinal\", \"axis\": {\"grid\": false, \"labelAngle\": 0, \"labelFont\": \"Helvetica\", \"labelFontSize\": 12, \"tickCount\": 12, \"title\": \"https://openopps.com\", \"titleAlign\": \"left\", \"titleAnchor\": \"start\", \"titleFont\": \"Helvetica\", \"titleFontSize\": 11, \"titleFontWeight\": 300, \"titleX\": 0, \"titleY\": 30}, \"field\": \"releasedate\", \"timeUnit\": \"yearmonth\"}, \"y\": {\"type\": \"quantitative\", \"aggregate\": \"sum\", \"axis\": {\"format\": \".0s\", \"title\": \"\"}, \"field\": \"supplier_count\"}}, \"height\": 250, \"title\": \"Count of suppliers of Cabinet Office\", \"width\": 1200}, {\"mark\": \"point\", \"encoding\": {\"opacity\": {\"value\": 0}, \"x\": {\"type\": \"ordinal\", \"field\": \"releasedate\", \"timeUnit\": \"yearmonth\"}}, \"selection\": {\"selector002\": {\"type\": \"single\", \"nearest\": true, \"on\": \"mouseover\", \"fields\": [\"releasedate\"], \"empty\": \"none\"}}}, {\"mark\": \"point\", \"encoding\": {\"opacity\": {\"condition\": {\"value\": 1, \"selection\": \"selector002\"}, \"value\": 0}, \"x\": {\"type\": \"ordinal\", \"axis\": {\"grid\": false, \"labelAngle\": 0, \"labelFont\": \"Helvetica\", \"labelFontSize\": 12, \"tickCount\": 12, \"title\": \"https://openopps.com\", \"titleAlign\": \"left\", \"titleAnchor\": \"start\", \"titleFont\": \"Helvetica\", \"titleFontSize\": 11, \"titleFontWeight\": 300, \"titleX\": 0, \"titleY\": 30}, \"field\": \"releasedate\", \"timeUnit\": \"yearmonth\"}, \"y\": {\"type\": \"quantitative\", \"aggregate\": \"sum\", \"axis\": {\"format\": \".0s\", \"title\": \"\"}, \"field\": \"supplier_count\"}}, \"height\": 250, \"title\": \"Count of suppliers of Cabinet Office\", \"width\": 1200}, {\"mark\": {\"type\": \"rule\", \"color\": \"gray\"}, \"encoding\": {\"x\": {\"type\": \"ordinal\", \"field\": \"releasedate\", \"timeUnit\": \"yearmonth\"}}, \"transform\": [{\"filter\": {\"selection\": \"selector002\"}}]}, {\"mark\": {\"type\": \"text\", \"align\": \"left\", \"dx\": 10, \"dy\": -10}, \"encoding\": {\"text\": {\"condition\": {\"type\": \"quantitative\", \"aggregate\": \"sum\", \"field\": \"supplier_count\", \"selection\": \"selector002\"}, \"value\": \" \"}, \"x\": {\"type\": \"ordinal\", \"axis\": {\"grid\": false, \"labelAngle\": 0, \"labelFont\": \"Helvetica\", \"labelFontSize\": 12, \"tickCount\": 12, \"title\": \"https://openopps.com\", \"titleAlign\": \"left\", \"titleAnchor\": \"start\", \"titleFont\": \"Helvetica\", \"titleFontSize\": 11, \"titleFontWeight\": 300, \"titleX\": 0, \"titleY\": 30}, \"field\": \"releasedate\", \"timeUnit\": \"yearmonth\"}, \"y\": {\"type\": \"quantitative\", \"aggregate\": \"sum\", \"axis\": {\"format\": \".0s\", \"title\": \"\"}, \"field\": \"supplier_count\"}}, \"height\": 250, \"title\": \"Count of suppliers of Cabinet Office\", \"width\": 1200}], \"data\": {\"name\": \"data-c19dc35a700f3ff87ac1f1f579a92030\"}, \"$schema\": \"https://vega.github.io/schema/vega-lite/v4.0.2.json\", \"datasets\": {\"data-c19dc35a700f3ff87ac1f1f579a92030\": [{\"releasedate\": \"01/30/2019\", \"supplier_count\": 1}, {\"releasedate\": \"02/22/2019\", \"supplier_count\": 2}, {\"releasedate\": \"02/26/2019\", \"supplier_count\": 1}, {\"releasedate\": \"04/02/2019\", \"supplier_count\": 3}, {\"releasedate\": \"04/24/2019\", \"supplier_count\": 1}, {\"releasedate\": \"05/13/2019\", \"supplier_count\": 1}, {\"releasedate\": \"06/03/2019\", \"supplier_count\": 1}, {\"releasedate\": \"06/18/2018\", \"supplier_count\": 1}, {\"releasedate\": \"08/06/2018\", \"supplier_count\": 1}, {\"releasedate\": \"08/20/2019\", \"supplier_count\": 1}, {\"releasedate\": \"09/19/2019\", \"supplier_count\": 1}, {\"releasedate\": \"09/25/2019\", \"supplier_count\": 2}, {\"releasedate\": \"09/26/2019\", \"supplier_count\": 8}, {\"releasedate\": \"09/27/2019\", \"supplier_count\": 1}, {\"releasedate\": \"10/17/2019\", \"supplier_count\": 1}, {\"releasedate\": \"10/23/2017\", \"supplier_count\": 3}, {\"releasedate\": \"11/10/2017\", \"supplier_count\": 1}, {\"releasedate\": \"11/11/2019\", \"supplier_count\": 8}, {\"releasedate\": \"12/05/2018\", \"supplier_count\": 1}]}}, {\"mode\": \"vega-lite\"});\n",
              "</script>"
            ]
          },
          "metadata": {
            "tags": []
          },
          "execution_count": 21
        }
      ]
    }
  ]
}