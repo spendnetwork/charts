{
  "nbformat": 4,
  "nbformat_minor": 0,
  "metadata": {
    "colab": {
      "name": "number_of_suppliers_ministry_of_defence_chart_opensourced.ipynb",
      "provenance": [],
      "collapsed_sections": [],
      "include_colab_link": true
    },
    "kernelspec": {
      "name": "python3",
      "display_name": "Python 3"
    }
  },
  "cells": [
    {
      "cell_type": "markdown",
      "metadata": {
        "id": "view-in-github",
        "colab_type": "text"
      },
      "source": [
        "<a href=\"https://colab.research.google.com/github/spendnetwork/charts/blob/master/number_of_suppliers_ministry_of_defence_chart_opensourced.ipynb\" target=\"_parent\"><img src=\"https://colab.research.google.com/assets/colab-badge.svg\" alt=\"Open In Colab\"/></a>"
      ]
    },
    {
      "cell_type": "code",
      "metadata": {
        "id": "tqc2iXLl8hTN",
        "colab_type": "code",
        "colab": {}
      },
      "source": [
        "import pandas as pd\n",
        "import altair as alt"
      ],
      "execution_count": 0,
      "outputs": []
    },
    {
      "cell_type": "code",
      "metadata": {
        "id": "dfMVbVJs7f-3",
        "colab_type": "code",
        "colab": {}
      },
      "source": [
        "url = 'https://raw.githubusercontent.com/spendnetwork/charts/master/ministry_of_defence_contract_data.csv'\n",
        "df = pd.read_csv(url)\n",
        "#print(df)"
      ],
      "execution_count": 0,
      "outputs": []
    },
    {
      "cell_type": "code",
      "metadata": {
        "id": "ocvP41ZMahE8",
        "colab_type": "code",
        "colab": {}
      },
      "source": [
        "df['releasedate']=pd.to_datetime(df['releasedate']).dt.strftime('%m/%d/%Y')"
      ],
      "execution_count": 0,
      "outputs": []
    },
    {
      "cell_type": "code",
      "metadata": {
        "id": "3UEM3xRs8tMF",
        "colab_type": "code",
        "colab": {}
      },
      "source": [
        "df1=(df.groupby('releasedate').agg({'supplier': pd.Series.nunique}))\n",
        "#df1.head()"
      ],
      "execution_count": 0,
      "outputs": []
    },
    {
      "cell_type": "code",
      "metadata": {
        "id": "DqsTJ_0lJFMl",
        "colab_type": "code",
        "colab": {}
      },
      "source": [
        "#df1.columns = df1.columns.map('_'.join)\n",
        "df1 = df1.reset_index()\n",
        "#df1.head()"
      ],
      "execution_count": 0,
      "outputs": []
    },
    {
      "cell_type": "code",
      "metadata": {
        "id": "o74MSUwJZzgX",
        "colab_type": "code",
        "outputId": "d9654441-dfbc-4873-dbfa-fe23c32ebaa4",
        "colab": {
          "base_uri": "https://localhost:8080/",
          "height": 206
        }
      },
      "source": [
        "#df1['releasedate']=pd.to_datetime(df1['releasedate'].dt.strftime('%m/%d/%Y'))\n",
        "#df1['releasedate']=pd.to_datetime(df1['releasedate']).dt.strftime('%m/%d/%Y') \n",
        "df1.head()"
      ],
      "execution_count": 14,
      "outputs": [
        {
          "output_type": "execute_result",
          "data": {
            "text/html": [
              "<div>\n",
              "<style scoped>\n",
              "    .dataframe tbody tr th:only-of-type {\n",
              "        vertical-align: middle;\n",
              "    }\n",
              "\n",
              "    .dataframe tbody tr th {\n",
              "        vertical-align: top;\n",
              "    }\n",
              "\n",
              "    .dataframe thead th {\n",
              "        text-align: right;\n",
              "    }\n",
              "</style>\n",
              "<table border=\"1\" class=\"dataframe\">\n",
              "  <thead>\n",
              "    <tr style=\"text-align: right;\">\n",
              "      <th></th>\n",
              "      <th>releasedate</th>\n",
              "      <th>supplier</th>\n",
              "    </tr>\n",
              "  </thead>\n",
              "  <tbody>\n",
              "    <tr>\n",
              "      <th>0</th>\n",
              "      <td>01/02/2019</td>\n",
              "      <td>1</td>\n",
              "    </tr>\n",
              "    <tr>\n",
              "      <th>1</th>\n",
              "      <td>01/03/2018</td>\n",
              "      <td>5</td>\n",
              "    </tr>\n",
              "    <tr>\n",
              "      <th>2</th>\n",
              "      <td>01/03/2019</td>\n",
              "      <td>2</td>\n",
              "    </tr>\n",
              "    <tr>\n",
              "      <th>3</th>\n",
              "      <td>01/04/2017</td>\n",
              "      <td>1</td>\n",
              "    </tr>\n",
              "    <tr>\n",
              "      <th>4</th>\n",
              "      <td>01/04/2018</td>\n",
              "      <td>1</td>\n",
              "    </tr>\n",
              "  </tbody>\n",
              "</table>\n",
              "</div>"
            ],
            "text/plain": [
              "  releasedate  supplier\n",
              "0  01/02/2019         1\n",
              "1  01/03/2018         5\n",
              "2  01/03/2019         2\n",
              "3  01/04/2017         1\n",
              "4  01/04/2018         1"
            ]
          },
          "metadata": {
            "tags": []
          },
          "execution_count": 14
        }
      ]
    },
    {
      "cell_type": "code",
      "metadata": {
        "id": "J28YEEbs_cl2",
        "colab_type": "code",
        "colab": {}
      },
      "source": [
        "  nearest = alt.selection(type='single', nearest=True, on='mouseover',fields=['releasedate'], empty='none')"
      ],
      "execution_count": 0,
      "outputs": []
    },
    {
      "cell_type": "code",
      "metadata": {
        "id": "mwmeRRD5_ZSp",
        "colab_type": "code",
        "outputId": "61fef1f3-36ef-41f8-e774-76fb2125e6a0",
        "colab": {
          "base_uri": "https://localhost:8080/",
          "height": 350
        }
      },
      "source": [
        "        line=alt.Chart(df1, width=1200, height=250, title=\"Count of suppliers of Minsitry of Defence\").mark_line(color='#91D739').encode(\n",
        "            x=alt.X('yearmonth(releasedate):O',\n",
        "                    axis=alt.Axis(tickCount=12, title=\"https://openopps.com\", \n",
        "                grid=False, \n",
        "                labelFont='Helvetica', \n",
        "                labelFontSize=12, \n",
        "                labelAngle=0, \n",
        "                titleAlign='left',\n",
        "                titleAnchor='start',\n",
        "                titleFont='Helvetica',\n",
        "                titleFontSize= 11,\n",
        "                titleFontWeight= 300,\n",
        "                titleX= -0,\n",
        "                titleY= 30) \n",
        "                   ),\n",
        "            y=alt.Y('sum(supplier):Q',\n",
        "                     axis=alt.Axis(title=\"\",\n",
        "                                    format=\".0s\",)\n",
        "                   ),\n",
        "            )\n",
        "        selectors = alt.Chart(df1).mark_point().encode(\n",
        "            x='yearmonth(releasedate):O',\n",
        "            opacity=alt.value(0),\n",
        "        ).add_selection(\n",
        "            nearest\n",
        "        )\n",
        "\n",
        "        points = line.mark_point().encode(\n",
        "            opacity=alt.condition(nearest, alt.value(1), alt.value(0))\n",
        "        )\n",
        "\n",
        "\n",
        "        text = line.mark_text(align='left', dx=10, dy=-10).encode(\n",
        "            text=alt.condition(nearest, 'sum(supplier):Q', alt.value(' '))\n",
        "        )\n",
        "\n",
        "        rules = alt.Chart(df1).mark_rule(color='gray').encode(\n",
        "            x='yearmonth(releasedate):O',\n",
        "        ).transform_filter(\n",
        "            nearest\n",
        "        )\n",
        "\n",
        "        chart = alt.layer(\n",
        "            line, selectors, points, rules, text\n",
        "        ).configure_view(\n",
        "          strokeWidth=0\n",
        "        ).configure_title(fontSize=18, anchor='start',\n",
        "                color= \"#91D739\", font='Helvetica', fontWeight=400)\n",
        "\n",
        "        chart"
      ],
      "execution_count": 16,
      "outputs": [
        {
          "output_type": "execute_result",
          "data": {
            "text/plain": [
              "alt.LayerChart(...)"
            ],
            "text/html": [
              "\n",
              "<div id=\"altair-viz-d3c0c90a58744b94bb26f6b88ab83976\"></div>\n",
              "<script type=\"text/javascript\">\n",
              "  (function(spec, embedOpt){\n",
              "    const outputDiv = document.getElementById(\"altair-viz-d3c0c90a58744b94bb26f6b88ab83976\");\n",
              "    const paths = {\n",
              "      \"vega\": \"https://cdn.jsdelivr.net/npm//vega@5?noext\",\n",
              "      \"vega-lib\": \"https://cdn.jsdelivr.net/npm//vega-lib?noext\",\n",
              "      \"vega-lite\": \"https://cdn.jsdelivr.net/npm//vega-lite@4.0.2?noext\",\n",
              "      \"vega-embed\": \"https://cdn.jsdelivr.net/npm//vega-embed@6?noext\",\n",
              "    };\n",
              "\n",
              "    function loadScript(lib) {\n",
              "      return new Promise(function(resolve, reject) {\n",
              "        var s = document.createElement('script');\n",
              "        s.src = paths[lib];\n",
              "        s.async = true;\n",
              "        s.onload = () => resolve(paths[lib]);\n",
              "        s.onerror = () => reject(`Error loading script: ${paths[lib]}`);\n",
              "        document.getElementsByTagName(\"head\")[0].appendChild(s);\n",
              "      });\n",
              "    }\n",
              "\n",
              "    function showError(err) {\n",
              "      outputDiv.innerHTML = `<div class=\"error\" style=\"color:red;\">${err}</div>`;\n",
              "      throw err;\n",
              "    }\n",
              "\n",
              "    function displayChart(vegaEmbed) {\n",
              "      vegaEmbed(outputDiv, spec, embedOpt)\n",
              "        .catch(err => showError(`Javascript Error: ${err.message}<br>This usually means there's a typo in your chart specification. See the javascript console for the full traceback.`));\n",
              "    }\n",
              "\n",
              "    if(typeof define === \"function\" && define.amd) {\n",
              "      requirejs.config({paths});\n",
              "      require([\"vega-embed\"], displayChart, err => showError(`Error loading script: ${err.message}`));\n",
              "    } else if (typeof vegaEmbed === \"function\") {\n",
              "      displayChart(vegaEmbed);\n",
              "    } else {\n",
              "      loadScript(\"vega\")\n",
              "        .then(() => loadScript(\"vega-lite\"))\n",
              "        .then(() => loadScript(\"vega-embed\"))\n",
              "        .catch(showError)\n",
              "        .then(() => displayChart(vegaEmbed));\n",
              "    }\n",
              "  })({\"config\": {\"view\": {\"continuousWidth\": 400, \"continuousHeight\": 300, \"strokeWidth\": 0}, \"title\": {\"anchor\": \"start\", \"color\": \"#91D739\", \"font\": \"Helvetica\", \"fontSize\": 18, \"fontWeight\": 400}}, \"layer\": [{\"mark\": {\"type\": \"line\", \"color\": \"#91D739\"}, \"encoding\": {\"x\": {\"type\": \"ordinal\", \"axis\": {\"grid\": false, \"labelAngle\": 0, \"labelFont\": \"Helvetica\", \"labelFontSize\": 12, \"tickCount\": 12, \"title\": \"https://openopps.com\", \"titleAlign\": \"left\", \"titleAnchor\": \"start\", \"titleFont\": \"Helvetica\", \"titleFontSize\": 11, \"titleFontWeight\": 300, \"titleX\": 0, \"titleY\": 30}, \"field\": \"releasedate\", \"timeUnit\": \"yearmonth\"}, \"y\": {\"type\": \"quantitative\", \"aggregate\": \"sum\", \"axis\": {\"format\": \".0s\", \"title\": \"\"}, \"field\": \"supplier\"}}, \"height\": 250, \"title\": \"Count of suppliers of Minsitry of Defence\", \"width\": 1200}, {\"mark\": \"point\", \"encoding\": {\"opacity\": {\"value\": 0}, \"x\": {\"type\": \"ordinal\", \"field\": \"releasedate\", \"timeUnit\": \"yearmonth\"}}, \"selection\": {\"selector002\": {\"type\": \"single\", \"nearest\": true, \"on\": \"mouseover\", \"fields\": [\"releasedate\"], \"empty\": \"none\"}}}, {\"mark\": \"point\", \"encoding\": {\"opacity\": {\"condition\": {\"value\": 1, \"selection\": \"selector002\"}, \"value\": 0}, \"x\": {\"type\": \"ordinal\", \"axis\": {\"grid\": false, \"labelAngle\": 0, \"labelFont\": \"Helvetica\", \"labelFontSize\": 12, \"tickCount\": 12, \"title\": \"https://openopps.com\", \"titleAlign\": \"left\", \"titleAnchor\": \"start\", \"titleFont\": \"Helvetica\", \"titleFontSize\": 11, \"titleFontWeight\": 300, \"titleX\": 0, \"titleY\": 30}, \"field\": \"releasedate\", \"timeUnit\": \"yearmonth\"}, \"y\": {\"type\": \"quantitative\", \"aggregate\": \"sum\", \"axis\": {\"format\": \".0s\", \"title\": \"\"}, \"field\": \"supplier\"}}, \"height\": 250, \"title\": \"Count of suppliers of Minsitry of Defence\", \"width\": 1200}, {\"mark\": {\"type\": \"rule\", \"color\": \"gray\"}, \"encoding\": {\"x\": {\"type\": \"ordinal\", \"field\": \"releasedate\", \"timeUnit\": \"yearmonth\"}}, \"transform\": [{\"filter\": {\"selection\": \"selector002\"}}]}, {\"mark\": {\"type\": \"text\", \"align\": \"left\", \"dx\": 10, \"dy\": -10}, \"encoding\": {\"text\": {\"condition\": {\"type\": \"quantitative\", \"aggregate\": \"sum\", \"field\": \"supplier\", \"selection\": \"selector002\"}, \"value\": \" \"}, \"x\": {\"type\": \"ordinal\", \"axis\": {\"grid\": false, \"labelAngle\": 0, \"labelFont\": \"Helvetica\", \"labelFontSize\": 12, \"tickCount\": 12, \"title\": \"https://openopps.com\", \"titleAlign\": \"left\", \"titleAnchor\": \"start\", \"titleFont\": \"Helvetica\", \"titleFontSize\": 11, \"titleFontWeight\": 300, \"titleX\": 0, \"titleY\": 30}, \"field\": \"releasedate\", \"timeUnit\": \"yearmonth\"}, \"y\": {\"type\": \"quantitative\", \"aggregate\": \"sum\", \"axis\": {\"format\": \".0s\", \"title\": \"\"}, \"field\": \"supplier\"}}, \"height\": 250, \"title\": \"Count of suppliers of Minsitry of Defence\", \"width\": 1200}], \"data\": {\"name\": \"data-31f4f3cbd7ca5534be54f7f7b4dd4ee2\"}, \"$schema\": \"https://vega.github.io/schema/vega-lite/v4.0.2.json\", \"datasets\": {\"data-31f4f3cbd7ca5534be54f7f7b4dd4ee2\": [{\"releasedate\": \"01/02/2019\", \"supplier\": 1}, {\"releasedate\": \"01/03/2018\", \"supplier\": 5}, {\"releasedate\": \"01/03/2019\", \"supplier\": 2}, {\"releasedate\": \"01/04/2017\", \"supplier\": 1}, {\"releasedate\": \"01/04/2018\", \"supplier\": 1}, {\"releasedate\": \"01/04/2019\", \"supplier\": 2}, {\"releasedate\": \"01/05/2017\", \"supplier\": 3}, {\"releasedate\": \"01/05/2018\", \"supplier\": 2}, {\"releasedate\": \"01/06/2017\", \"supplier\": 2}, {\"releasedate\": \"01/07/2017\", \"supplier\": 2}, {\"releasedate\": \"01/08/2017\", \"supplier\": 1}, {\"releasedate\": \"01/08/2019\", \"supplier\": 1}, {\"releasedate\": \"01/09/2017\", \"supplier\": 1}, {\"releasedate\": \"01/09/2018\", \"supplier\": 1}, {\"releasedate\": \"01/09/2019\", \"supplier\": 4}, {\"releasedate\": \"01/10/2017\", \"supplier\": 2}, {\"releasedate\": \"01/10/2018\", \"supplier\": 1}, {\"releasedate\": \"01/10/2019\", \"supplier\": 3}, {\"releasedate\": \"01/11/2017\", \"supplier\": 5}, {\"releasedate\": \"01/11/2019\", \"supplier\": 4}, {\"releasedate\": \"01/12/2017\", \"supplier\": 1}, {\"releasedate\": \"01/12/2018\", \"supplier\": 1}, {\"releasedate\": \"01/12/2019\", \"supplier\": 1}, {\"releasedate\": \"01/13/2017\", \"supplier\": 1}, {\"releasedate\": \"01/13/2018\", \"supplier\": 2}, {\"releasedate\": \"01/14/2017\", \"supplier\": 6}, {\"releasedate\": \"01/14/2019\", \"supplier\": 3}, {\"releasedate\": \"01/15/2018\", \"supplier\": 3}, {\"releasedate\": \"01/15/2019\", \"supplier\": 4}, {\"releasedate\": \"01/16/2018\", \"supplier\": 3}, {\"releasedate\": \"01/16/2019\", \"supplier\": 7}, {\"releasedate\": \"01/17/2017\", \"supplier\": 1}, {\"releasedate\": \"01/17/2018\", \"supplier\": 2}, {\"releasedate\": \"01/17/2019\", \"supplier\": 5}, {\"releasedate\": \"01/18/2018\", \"supplier\": 2}, {\"releasedate\": \"01/18/2019\", \"supplier\": 5}, {\"releasedate\": \"01/19/2018\", \"supplier\": 1}, {\"releasedate\": \"01/20/2017\", \"supplier\": 4}, {\"releasedate\": \"01/20/2019\", \"supplier\": 1}, {\"releasedate\": \"01/22/2019\", \"supplier\": 3}, {\"releasedate\": \"01/23/2017\", \"supplier\": 1}, {\"releasedate\": \"01/23/2018\", \"supplier\": 1}, {\"releasedate\": \"01/23/2019\", \"supplier\": 3}, {\"releasedate\": \"01/24/2017\", \"supplier\": 1}, {\"releasedate\": \"01/24/2019\", \"supplier\": 3}, {\"releasedate\": \"01/25/2017\", \"supplier\": 14}, {\"releasedate\": \"01/25/2018\", \"supplier\": 3}, {\"releasedate\": \"01/25/2019\", \"supplier\": 4}, {\"releasedate\": \"01/26/2017\", \"supplier\": 4}, {\"releasedate\": \"01/26/2018\", \"supplier\": 1}, {\"releasedate\": \"01/26/2019\", \"supplier\": 4}, {\"releasedate\": \"01/27/2017\", \"supplier\": 6}, {\"releasedate\": \"01/27/2019\", \"supplier\": 1}, {\"releasedate\": \"01/28/2017\", \"supplier\": 1}, {\"releasedate\": \"01/28/2019\", \"supplier\": 3}, {\"releasedate\": \"01/29/2018\", \"supplier\": 1}, {\"releasedate\": \"01/30/2018\", \"supplier\": 5}, {\"releasedate\": \"01/30/2019\", \"supplier\": 6}, {\"releasedate\": \"01/31/2018\", \"supplier\": 4}, {\"releasedate\": \"01/31/2019\", \"supplier\": 2}, {\"releasedate\": \"02/01/2017\", \"supplier\": 1}, {\"releasedate\": \"02/01/2018\", \"supplier\": 6}, {\"releasedate\": \"02/02/2017\", \"supplier\": 5}, {\"releasedate\": \"02/02/2018\", \"supplier\": 1}, {\"releasedate\": \"02/03/2017\", \"supplier\": 6}, {\"releasedate\": \"02/04/2019\", \"supplier\": 7}, {\"releasedate\": \"02/05/2018\", \"supplier\": 2}, {\"releasedate\": \"02/05/2019\", \"supplier\": 3}, {\"releasedate\": \"02/06/2017\", \"supplier\": 2}, {\"releasedate\": \"02/07/2018\", \"supplier\": 9}, {\"releasedate\": \"02/07/2019\", \"supplier\": 1}, {\"releasedate\": \"02/08/2018\", \"supplier\": 3}, {\"releasedate\": \"02/08/2019\", \"supplier\": 2}, {\"releasedate\": \"02/09/2017\", \"supplier\": 12}, {\"releasedate\": \"02/09/2018\", \"supplier\": 1}, {\"releasedate\": \"02/09/2019\", \"supplier\": 1}, {\"releasedate\": \"02/10/2017\", \"supplier\": 6}, {\"releasedate\": \"02/11/2017\", \"supplier\": 1}, {\"releasedate\": \"02/11/2019\", \"supplier\": 3}, {\"releasedate\": \"02/12/2018\", \"supplier\": 6}, {\"releasedate\": \"02/12/2019\", \"supplier\": 6}, {\"releasedate\": \"02/13/2017\", \"supplier\": 1}, {\"releasedate\": \"02/13/2018\", \"supplier\": 2}, {\"releasedate\": \"02/13/2019\", \"supplier\": 2}, {\"releasedate\": \"02/14/2017\", \"supplier\": 2}, {\"releasedate\": \"02/14/2018\", \"supplier\": 1}, {\"releasedate\": \"02/14/2019\", \"supplier\": 4}, {\"releasedate\": \"02/15/2017\", \"supplier\": 2}, {\"releasedate\": \"02/15/2018\", \"supplier\": 6}, {\"releasedate\": \"02/16/2017\", \"supplier\": 2}, {\"releasedate\": \"02/16/2018\", \"supplier\": 2}, {\"releasedate\": \"02/16/2019\", \"supplier\": 2}, {\"releasedate\": \"02/17/2018\", \"supplier\": 1}, {\"releasedate\": \"02/17/2019\", \"supplier\": 3}, {\"releasedate\": \"02/18/2017\", \"supplier\": 1}, {\"releasedate\": \"02/18/2019\", \"supplier\": 1}, {\"releasedate\": \"02/19/2018\", \"supplier\": 1}, {\"releasedate\": \"02/19/2019\", \"supplier\": 5}, {\"releasedate\": \"02/20/2017\", \"supplier\": 2}, {\"releasedate\": \"02/20/2019\", \"supplier\": 6}, {\"releasedate\": \"02/21/2017\", \"supplier\": 1}, {\"releasedate\": \"02/21/2018\", \"supplier\": 2}, {\"releasedate\": \"02/21/2019\", \"supplier\": 2}, {\"releasedate\": \"02/22/2017\", \"supplier\": 5}, {\"releasedate\": \"02/22/2018\", \"supplier\": 3}, {\"releasedate\": \"02/22/2019\", \"supplier\": 4}, {\"releasedate\": \"02/23/2017\", \"supplier\": 4}, {\"releasedate\": \"02/23/2018\", \"supplier\": 3}, {\"releasedate\": \"02/23/2019\", \"supplier\": 2}, {\"releasedate\": \"02/24/2017\", \"supplier\": 7}, {\"releasedate\": \"02/24/2018\", \"supplier\": 1}, {\"releasedate\": \"02/25/2017\", \"supplier\": 1}, {\"releasedate\": \"02/25/2019\", \"supplier\": 2}, {\"releasedate\": \"02/26/2018\", \"supplier\": 1}, {\"releasedate\": \"02/26/2019\", \"supplier\": 5}, {\"releasedate\": \"02/27/2017\", \"supplier\": 4}, {\"releasedate\": \"02/27/2018\", \"supplier\": 1}, {\"releasedate\": \"02/27/2019\", \"supplier\": 3}, {\"releasedate\": \"02/28/2017\", \"supplier\": 1}, {\"releasedate\": \"02/28/2018\", \"supplier\": 2}, {\"releasedate\": \"02/28/2019\", \"supplier\": 8}, {\"releasedate\": \"03/01/2017\", \"supplier\": 3}, {\"releasedate\": \"03/01/2018\", \"supplier\": 2}, {\"releasedate\": \"03/01/2019\", \"supplier\": 3}, {\"releasedate\": \"03/02/2017\", \"supplier\": 1}, {\"releasedate\": \"03/02/2018\", \"supplier\": 3}, {\"releasedate\": \"03/02/2019\", \"supplier\": 3}, {\"releasedate\": \"03/03/2017\", \"supplier\": 1}, {\"releasedate\": \"03/03/2019\", \"supplier\": 1}, {\"releasedate\": \"03/04/2017\", \"supplier\": 1}, {\"releasedate\": \"03/04/2019\", \"supplier\": 8}, {\"releasedate\": \"03/05/2018\", \"supplier\": 1}, {\"releasedate\": \"03/05/2019\", \"supplier\": 5}, {\"releasedate\": \"03/06/2018\", \"supplier\": 3}, {\"releasedate\": \"03/06/2019\", \"supplier\": 2}, {\"releasedate\": \"03/07/2018\", \"supplier\": 4}, {\"releasedate\": \"03/07/2019\", \"supplier\": 4}, {\"releasedate\": \"03/08/2017\", \"supplier\": 6}, {\"releasedate\": \"03/08/2018\", \"supplier\": 8}, {\"releasedate\": \"03/08/2019\", \"supplier\": 1}, {\"releasedate\": \"03/09/2017\", \"supplier\": 4}, {\"releasedate\": \"03/09/2018\", \"supplier\": 5}, {\"releasedate\": \"03/10/2017\", \"supplier\": 3}, {\"releasedate\": \"03/10/2018\", \"supplier\": 1}, {\"releasedate\": \"03/11/2017\", \"supplier\": 4}, {\"releasedate\": \"03/11/2018\", \"supplier\": 1}, {\"releasedate\": \"03/12/2018\", \"supplier\": 2}, {\"releasedate\": \"03/12/2019\", \"supplier\": 2}, {\"releasedate\": \"03/13/2017\", \"supplier\": 2}, {\"releasedate\": \"03/13/2018\", \"supplier\": 4}, {\"releasedate\": \"03/13/2019\", \"supplier\": 5}, {\"releasedate\": \"03/14/2017\", \"supplier\": 6}, {\"releasedate\": \"03/14/2018\", \"supplier\": 4}, {\"releasedate\": \"03/14/2019\", \"supplier\": 2}, {\"releasedate\": \"03/15/2017\", \"supplier\": 2}, {\"releasedate\": \"03/15/2018\", \"supplier\": 3}, {\"releasedate\": \"03/15/2019\", \"supplier\": 1}, {\"releasedate\": \"03/16/2017\", \"supplier\": 2}, {\"releasedate\": \"03/16/2018\", \"supplier\": 5}, {\"releasedate\": \"03/16/2019\", \"supplier\": 1}, {\"releasedate\": \"03/17/2017\", \"supplier\": 3}, {\"releasedate\": \"03/17/2018\", \"supplier\": 1}, {\"releasedate\": \"03/18/2017\", \"supplier\": 4}, {\"releasedate\": \"03/18/2019\", \"supplier\": 4}, {\"releasedate\": \"03/19/2018\", \"supplier\": 1}, {\"releasedate\": \"03/19/2019\", \"supplier\": 3}, {\"releasedate\": \"03/20/2017\", \"supplier\": 4}, {\"releasedate\": \"03/20/2018\", \"supplier\": 2}, {\"releasedate\": \"03/20/2019\", \"supplier\": 2}, {\"releasedate\": \"03/21/2017\", \"supplier\": 8}, {\"releasedate\": \"03/21/2019\", \"supplier\": 2}, {\"releasedate\": \"03/22/2017\", \"supplier\": 4}, {\"releasedate\": \"03/22/2018\", \"supplier\": 3}, {\"releasedate\": \"03/22/2019\", \"supplier\": 2}, {\"releasedate\": \"03/23/2017\", \"supplier\": 6}, {\"releasedate\": \"03/23/2018\", \"supplier\": 1}, {\"releasedate\": \"03/24/2018\", \"supplier\": 3}, {\"releasedate\": \"03/25/2019\", \"supplier\": 7}, {\"releasedate\": \"03/26/2018\", \"supplier\": 4}, {\"releasedate\": \"03/26/2019\", \"supplier\": 7}, {\"releasedate\": \"03/27/2018\", \"supplier\": 3}, {\"releasedate\": \"03/27/2019\", \"supplier\": 3}, {\"releasedate\": \"03/28/2017\", \"supplier\": 1}, {\"releasedate\": \"03/28/2018\", \"supplier\": 5}, {\"releasedate\": \"03/28/2019\", \"supplier\": 4}, {\"releasedate\": \"03/29/2018\", \"supplier\": 5}, {\"releasedate\": \"03/29/2019\", \"supplier\": 2}, {\"releasedate\": \"03/30/2018\", \"supplier\": 2}, {\"releasedate\": \"03/31/2017\", \"supplier\": 3}, {\"releasedate\": \"03/31/2018\", \"supplier\": 1}, {\"releasedate\": \"03/31/2019\", \"supplier\": 2}, {\"releasedate\": \"04/01/2019\", \"supplier\": 2}, {\"releasedate\": \"04/02/2017\", \"supplier\": 2}, {\"releasedate\": \"04/02/2019\", \"supplier\": 6}, {\"releasedate\": \"04/03/2017\", \"supplier\": 2}, {\"releasedate\": \"04/03/2018\", \"supplier\": 1}, {\"releasedate\": \"04/03/2019\", \"supplier\": 7}, {\"releasedate\": \"04/04/2017\", \"supplier\": 2}, {\"releasedate\": \"04/04/2018\", \"supplier\": 1}, {\"releasedate\": \"04/04/2019\", \"supplier\": 1}, {\"releasedate\": \"04/05/2017\", \"supplier\": 1}, {\"releasedate\": \"04/05/2018\", \"supplier\": 3}, {\"releasedate\": \"04/05/2019\", \"supplier\": 5}, {\"releasedate\": \"04/06/2017\", \"supplier\": 6}, {\"releasedate\": \"04/06/2018\", \"supplier\": 1}, {\"releasedate\": \"04/06/2019\", \"supplier\": 1}, {\"releasedate\": \"04/07/2017\", \"supplier\": 2}, {\"releasedate\": \"04/07/2018\", \"supplier\": 2}, {\"releasedate\": \"04/07/2019\", \"supplier\": 1}, {\"releasedate\": \"04/08/2017\", \"supplier\": 1}, {\"releasedate\": \"04/08/2018\", \"supplier\": 2}, {\"releasedate\": \"04/08/2019\", \"supplier\": 10}, {\"releasedate\": \"04/09/2017\", \"supplier\": 2}, {\"releasedate\": \"04/09/2018\", \"supplier\": 2}, {\"releasedate\": \"04/09/2019\", \"supplier\": 1}, {\"releasedate\": \"04/10/2017\", \"supplier\": 1}, {\"releasedate\": \"04/10/2018\", \"supplier\": 4}, {\"releasedate\": \"04/10/2019\", \"supplier\": 9}, {\"releasedate\": \"04/11/2017\", \"supplier\": 1}, {\"releasedate\": \"04/11/2018\", \"supplier\": 3}, {\"releasedate\": \"04/11/2019\", \"supplier\": 8}, {\"releasedate\": \"04/12/2018\", \"supplier\": 5}, {\"releasedate\": \"04/12/2019\", \"supplier\": 4}, {\"releasedate\": \"04/13/2017\", \"supplier\": 2}, {\"releasedate\": \"04/13/2018\", \"supplier\": 1}, {\"releasedate\": \"04/14/2017\", \"supplier\": 1}, {\"releasedate\": \"04/15/2019\", \"supplier\": 5}, {\"releasedate\": \"04/16/2018\", \"supplier\": 1}, {\"releasedate\": \"04/16/2019\", \"supplier\": 8}, {\"releasedate\": \"04/17/2018\", \"supplier\": 3}, {\"releasedate\": \"04/17/2019\", \"supplier\": 2}, {\"releasedate\": \"04/18/2017\", \"supplier\": 1}, {\"releasedate\": \"04/18/2018\", \"supplier\": 1}, {\"releasedate\": \"04/19/2017\", \"supplier\": 2}, {\"releasedate\": \"04/19/2018\", \"supplier\": 6}, {\"releasedate\": \"04/19/2019\", \"supplier\": 1}, {\"releasedate\": \"04/20/2017\", \"supplier\": 4}, {\"releasedate\": \"04/20/2018\", \"supplier\": 1}, {\"releasedate\": \"04/21/2017\", \"supplier\": 2}, {\"releasedate\": \"04/21/2018\", \"supplier\": 1}, {\"releasedate\": \"04/22/2017\", \"supplier\": 2}, {\"releasedate\": \"04/23/2017\", \"supplier\": 1}, {\"releasedate\": \"04/23/2019\", \"supplier\": 2}, {\"releasedate\": \"04/24/2017\", \"supplier\": 2}, {\"releasedate\": \"04/24/2018\", \"supplier\": 1}, {\"releasedate\": \"04/24/2019\", \"supplier\": 3}, {\"releasedate\": \"04/25/2017\", \"supplier\": 1}, {\"releasedate\": \"04/25/2018\", \"supplier\": 1}, {\"releasedate\": \"04/25/2019\", \"supplier\": 2}, {\"releasedate\": \"04/26/2017\", \"supplier\": 4}, {\"releasedate\": \"04/26/2018\", \"supplier\": 2}, {\"releasedate\": \"04/26/2019\", \"supplier\": 6}, {\"releasedate\": \"04/27/2017\", \"supplier\": 3}, {\"releasedate\": \"04/27/2018\", \"supplier\": 3}, {\"releasedate\": \"04/27/2019\", \"supplier\": 1}, {\"releasedate\": \"04/28/2017\", \"supplier\": 2}, {\"releasedate\": \"04/28/2018\", \"supplier\": 3}, {\"releasedate\": \"04/29/2017\", \"supplier\": 2}, {\"releasedate\": \"04/29/2018\", \"supplier\": 1}, {\"releasedate\": \"04/29/2019\", \"supplier\": 2}, {\"releasedate\": \"04/30/2018\", \"supplier\": 1}, {\"releasedate\": \"04/30/2019\", \"supplier\": 2}, {\"releasedate\": \"05/01/2019\", \"supplier\": 3}, {\"releasedate\": \"05/02/2017\", \"supplier\": 2}, {\"releasedate\": \"05/02/2019\", \"supplier\": 3}, {\"releasedate\": \"05/03/2017\", \"supplier\": 2}, {\"releasedate\": \"05/03/2019\", \"supplier\": 3}, {\"releasedate\": \"05/04/2018\", \"supplier\": 1}, {\"releasedate\": \"05/05/2017\", \"supplier\": 3}, {\"releasedate\": \"05/08/2019\", \"supplier\": 2}, {\"releasedate\": \"05/09/2017\", \"supplier\": 4}, {\"releasedate\": \"05/09/2018\", \"supplier\": 2}, {\"releasedate\": \"05/09/2019\", \"supplier\": 2}, {\"releasedate\": \"05/10/2017\", \"supplier\": 2}, {\"releasedate\": \"05/10/2019\", \"supplier\": 2}, {\"releasedate\": \"05/11/2017\", \"supplier\": 1}, {\"releasedate\": \"05/11/2018\", \"supplier\": 2}, {\"releasedate\": \"05/12/2017\", \"supplier\": 1}, {\"releasedate\": \"05/12/2018\", \"supplier\": 2}, {\"releasedate\": \"05/13/2017\", \"supplier\": 3}, {\"releasedate\": \"05/13/2019\", \"supplier\": 6}, {\"releasedate\": \"05/14/2018\", \"supplier\": 3}, {\"releasedate\": \"05/14/2019\", \"supplier\": 5}, {\"releasedate\": \"05/15/2017\", \"supplier\": 3}, {\"releasedate\": \"05/15/2018\", \"supplier\": 4}, {\"releasedate\": \"05/15/2019\", \"supplier\": 4}, {\"releasedate\": \"05/16/2017\", \"supplier\": 1}, {\"releasedate\": \"05/16/2018\", \"supplier\": 2}, {\"releasedate\": \"05/16/2019\", \"supplier\": 6}, {\"releasedate\": \"05/17/2017\", \"supplier\": 4}, {\"releasedate\": \"05/17/2018\", \"supplier\": 1}, {\"releasedate\": \"05/17/2019\", \"supplier\": 4}, {\"releasedate\": \"05/18/2017\", \"supplier\": 6}, {\"releasedate\": \"05/18/2018\", \"supplier\": 3}, {\"releasedate\": \"05/19/2017\", \"supplier\": 6}, {\"releasedate\": \"05/19/2018\", \"supplier\": 2}, {\"releasedate\": \"05/20/2019\", \"supplier\": 2}, {\"releasedate\": \"05/21/2018\", \"supplier\": 3}, {\"releasedate\": \"05/21/2019\", \"supplier\": 2}, {\"releasedate\": \"05/22/2017\", \"supplier\": 1}, {\"releasedate\": \"05/22/2018\", \"supplier\": 1}, {\"releasedate\": \"05/22/2019\", \"supplier\": 2}, {\"releasedate\": \"05/23/2017\", \"supplier\": 2}, {\"releasedate\": \"05/23/2018\", \"supplier\": 4}, {\"releasedate\": \"05/23/2019\", \"supplier\": 4}, {\"releasedate\": \"05/24/2017\", \"supplier\": 5}, {\"releasedate\": \"05/24/2018\", \"supplier\": 3}, {\"releasedate\": \"05/24/2019\", \"supplier\": 3}, {\"releasedate\": \"05/25/2017\", \"supplier\": 5}, {\"releasedate\": \"05/25/2018\", \"supplier\": 3}, {\"releasedate\": \"05/26/2017\", \"supplier\": 2}, {\"releasedate\": \"05/27/2017\", \"supplier\": 3}, {\"releasedate\": \"05/27/2018\", \"supplier\": 1}, {\"releasedate\": \"05/27/2019\", \"supplier\": 2}, {\"releasedate\": \"05/28/2019\", \"supplier\": 3}, {\"releasedate\": \"05/29/2018\", \"supplier\": 1}, {\"releasedate\": \"05/29/2019\", \"supplier\": 2}, {\"releasedate\": \"05/30/2017\", \"supplier\": 3}, {\"releasedate\": \"05/30/2018\", \"supplier\": 1}, {\"releasedate\": \"05/31/2017\", \"supplier\": 1}, {\"releasedate\": \"05/31/2018\", \"supplier\": 4}, {\"releasedate\": \"05/31/2019\", \"supplier\": 2}, {\"releasedate\": \"06/01/2017\", \"supplier\": 2}, {\"releasedate\": \"06/01/2018\", \"supplier\": 2}, {\"releasedate\": \"06/03/2019\", \"supplier\": 1}, {\"releasedate\": \"06/04/2018\", \"supplier\": 1}, {\"releasedate\": \"06/04/2019\", \"supplier\": 2}, {\"releasedate\": \"06/05/2017\", \"supplier\": 2}, {\"releasedate\": \"06/05/2018\", \"supplier\": 1}, {\"releasedate\": \"06/05/2019\", \"supplier\": 2}, {\"releasedate\": \"06/06/2017\", \"supplier\": 2}, {\"releasedate\": \"06/06/2018\", \"supplier\": 1}, {\"releasedate\": \"06/06/2019\", \"supplier\": 2}, {\"releasedate\": \"06/07/2017\", \"supplier\": 2}, {\"releasedate\": \"06/07/2018\", \"supplier\": 5}, {\"releasedate\": \"06/07/2019\", \"supplier\": 2}, {\"releasedate\": \"06/08/2017\", \"supplier\": 3}, {\"releasedate\": \"06/08/2018\", \"supplier\": 2}, {\"releasedate\": \"06/09/2017\", \"supplier\": 2}, {\"releasedate\": \"06/09/2018\", \"supplier\": 1}, {\"releasedate\": \"06/10/2018\", \"supplier\": 1}, {\"releasedate\": \"06/10/2019\", \"supplier\": 1}, {\"releasedate\": \"06/11/2018\", \"supplier\": 9}, {\"releasedate\": \"06/12/2017\", \"supplier\": 1}, {\"releasedate\": \"06/12/2018\", \"supplier\": 4}, {\"releasedate\": \"06/12/2019\", \"supplier\": 4}, {\"releasedate\": \"06/13/2017\", \"supplier\": 1}, {\"releasedate\": \"06/13/2018\", \"supplier\": 4}, {\"releasedate\": \"06/13/2019\", \"supplier\": 5}, {\"releasedate\": \"06/14/2017\", \"supplier\": 3}, {\"releasedate\": \"06/14/2018\", \"supplier\": 3}, {\"releasedate\": \"06/14/2019\", \"supplier\": 2}, {\"releasedate\": \"06/15/2017\", \"supplier\": 4}, {\"releasedate\": \"06/15/2018\", \"supplier\": 3}, {\"releasedate\": \"06/16/2017\", \"supplier\": 1}, {\"releasedate\": \"06/17/2017\", \"supplier\": 1}, {\"releasedate\": \"06/17/2019\", \"supplier\": 2}, {\"releasedate\": \"06/18/2018\", \"supplier\": 8}, {\"releasedate\": \"06/18/2019\", \"supplier\": 3}, {\"releasedate\": \"06/19/2017\", \"supplier\": 2}, {\"releasedate\": \"06/19/2018\", \"supplier\": 5}, {\"releasedate\": \"06/19/2019\", \"supplier\": 3}, {\"releasedate\": \"06/20/2018\", \"supplier\": 2}, {\"releasedate\": \"06/20/2019\", \"supplier\": 5}, {\"releasedate\": \"06/21/2017\", \"supplier\": 1}, {\"releasedate\": \"06/21/2018\", \"supplier\": 1}, {\"releasedate\": \"06/21/2019\", \"supplier\": 3}, {\"releasedate\": \"06/22/2017\", \"supplier\": 5}, {\"releasedate\": \"06/22/2018\", \"supplier\": 5}, {\"releasedate\": \"06/22/2019\", \"supplier\": 1}, {\"releasedate\": \"06/23/2017\", \"supplier\": 2}, {\"releasedate\": \"06/23/2019\", \"supplier\": 2}, {\"releasedate\": \"06/24/2019\", \"supplier\": 4}, {\"releasedate\": \"06/25/2019\", \"supplier\": 3}, {\"releasedate\": \"06/26/2017\", \"supplier\": 2}, {\"releasedate\": \"06/26/2018\", \"supplier\": 4}, {\"releasedate\": \"06/26/2019\", \"supplier\": 3}, {\"releasedate\": \"06/27/2017\", \"supplier\": 5}, {\"releasedate\": \"06/27/2018\", \"supplier\": 2}, {\"releasedate\": \"06/27/2019\", \"supplier\": 1}, {\"releasedate\": \"06/28/2017\", \"supplier\": 1}, {\"releasedate\": \"06/28/2018\", \"supplier\": 3}, {\"releasedate\": \"06/29/2017\", \"supplier\": 2}, {\"releasedate\": \"06/29/2018\", \"supplier\": 2}, {\"releasedate\": \"06/30/2017\", \"supplier\": 5}, {\"releasedate\": \"06/30/2018\", \"supplier\": 1}, {\"releasedate\": \"07/01/2017\", \"supplier\": 1}, {\"releasedate\": \"07/01/2018\", \"supplier\": 1}, {\"releasedate\": \"07/01/2019\", \"supplier\": 3}, {\"releasedate\": \"07/02/2018\", \"supplier\": 3}, {\"releasedate\": \"07/02/2019\", \"supplier\": 2}, {\"releasedate\": \"07/03/2017\", \"supplier\": 2}, {\"releasedate\": \"07/03/2018\", \"supplier\": 2}, {\"releasedate\": \"07/03/2019\", \"supplier\": 2}, {\"releasedate\": \"07/04/2017\", \"supplier\": 2}, {\"releasedate\": \"07/04/2018\", \"supplier\": 1}, {\"releasedate\": \"07/04/2019\", \"supplier\": 24}, {\"releasedate\": \"07/05/2018\", \"supplier\": 1}, {\"releasedate\": \"07/05/2019\", \"supplier\": 4}, {\"releasedate\": \"07/06/2017\", \"supplier\": 5}, {\"releasedate\": \"07/06/2018\", \"supplier\": 5}, {\"releasedate\": \"07/07/2017\", \"supplier\": 2}, {\"releasedate\": \"07/07/2018\", \"supplier\": 1}, {\"releasedate\": \"07/07/2019\", \"supplier\": 23}, {\"releasedate\": \"07/08/2017\", \"supplier\": 3}, {\"releasedate\": \"07/08/2019\", \"supplier\": 22}, {\"releasedate\": \"07/09/2018\", \"supplier\": 3}, {\"releasedate\": \"07/09/2019\", \"supplier\": 5}, {\"releasedate\": \"07/10/2017\", \"supplier\": 2}, {\"releasedate\": \"07/10/2018\", \"supplier\": 1}, {\"releasedate\": \"07/10/2019\", \"supplier\": 4}, {\"releasedate\": \"07/11/2017\", \"supplier\": 4}, {\"releasedate\": \"07/11/2018\", \"supplier\": 3}, {\"releasedate\": \"07/11/2019\", \"supplier\": 2}, {\"releasedate\": \"07/12/2017\", \"supplier\": 2}, {\"releasedate\": \"07/12/2018\", \"supplier\": 1}, {\"releasedate\": \"07/12/2019\", \"supplier\": 2}, {\"releasedate\": \"07/13/2017\", \"supplier\": 5}, {\"releasedate\": \"07/13/2018\", \"supplier\": 1}, {\"releasedate\": \"07/14/2017\", \"supplier\": 1}, {\"releasedate\": \"07/14/2018\", \"supplier\": 3}, {\"releasedate\": \"07/14/2019\", \"supplier\": 4}, {\"releasedate\": \"07/15/2017\", \"supplier\": 1}, {\"releasedate\": \"07/15/2019\", \"supplier\": 5}, {\"releasedate\": \"07/16/2017\", \"supplier\": 1}, {\"releasedate\": \"07/16/2018\", \"supplier\": 1}, {\"releasedate\": \"07/16/2019\", \"supplier\": 6}, {\"releasedate\": \"07/17/2018\", \"supplier\": 3}, {\"releasedate\": \"07/17/2019\", \"supplier\": 3}, {\"releasedate\": \"07/18/2018\", \"supplier\": 1}, {\"releasedate\": \"07/18/2019\", \"supplier\": 7}, {\"releasedate\": \"07/19/2017\", \"supplier\": 2}, {\"releasedate\": \"07/19/2018\", \"supplier\": 2}, {\"releasedate\": \"07/19/2019\", \"supplier\": 3}, {\"releasedate\": \"07/20/2017\", \"supplier\": 1}, {\"releasedate\": \"07/20/2018\", \"supplier\": 2}, {\"releasedate\": \"07/21/2017\", \"supplier\": 2}, {\"releasedate\": \"07/22/2017\", \"supplier\": 1}, {\"releasedate\": \"07/22/2019\", \"supplier\": 4}, {\"releasedate\": \"07/23/2017\", \"supplier\": 1}, {\"releasedate\": \"07/23/2018\", \"supplier\": 3}, {\"releasedate\": \"07/23/2019\", \"supplier\": 7}, {\"releasedate\": \"07/24/2017\", \"supplier\": 2}, {\"releasedate\": \"07/24/2018\", \"supplier\": 3}, {\"releasedate\": \"07/24/2019\", \"supplier\": 3}, {\"releasedate\": \"07/25/2017\", \"supplier\": 2}, {\"releasedate\": \"07/25/2018\", \"supplier\": 1}, {\"releasedate\": \"07/25/2019\", \"supplier\": 4}, {\"releasedate\": \"07/26/2017\", \"supplier\": 1}, {\"releasedate\": \"07/26/2018\", \"supplier\": 6}, {\"releasedate\": \"07/27/2017\", \"supplier\": 3}, {\"releasedate\": \"07/27/2018\", \"supplier\": 5}, {\"releasedate\": \"07/27/2019\", \"supplier\": 1}, {\"releasedate\": \"07/28/2017\", \"supplier\": 2}, {\"releasedate\": \"07/29/2017\", \"supplier\": 1}, {\"releasedate\": \"07/29/2019\", \"supplier\": 13}, {\"releasedate\": \"07/30/2018\", \"supplier\": 7}, {\"releasedate\": \"07/30/2019\", \"supplier\": 11}, {\"releasedate\": \"07/31/2018\", \"supplier\": 1}, {\"releasedate\": \"07/31/2019\", \"supplier\": 6}, {\"releasedate\": \"08/01/2017\", \"supplier\": 2}, {\"releasedate\": \"08/01/2019\", \"supplier\": 7}, {\"releasedate\": \"08/02/2017\", \"supplier\": 2}, {\"releasedate\": \"08/02/2018\", \"supplier\": 2}, {\"releasedate\": \"08/02/2019\", \"supplier\": 11}, {\"releasedate\": \"08/03/2017\", \"supplier\": 2}, {\"releasedate\": \"08/03/2018\", \"supplier\": 6}, {\"releasedate\": \"08/04/2017\", \"supplier\": 1}, {\"releasedate\": \"08/04/2019\", \"supplier\": 1}, {\"releasedate\": \"08/05/2019\", \"supplier\": 2}, {\"releasedate\": \"08/06/2019\", \"supplier\": 1}, {\"releasedate\": \"08/07/2018\", \"supplier\": 4}, {\"releasedate\": \"08/07/2019\", \"supplier\": 2}, {\"releasedate\": \"08/08/2017\", \"supplier\": 1}, {\"releasedate\": \"08/08/2018\", \"supplier\": 2}, {\"releasedate\": \"08/09/2017\", \"supplier\": 1}, {\"releasedate\": \"08/09/2019\", \"supplier\": 1}, {\"releasedate\": \"08/10/2017\", \"supplier\": 6}, {\"releasedate\": \"08/10/2018\", \"supplier\": 2}, {\"releasedate\": \"08/12/2017\", \"supplier\": 1}, {\"releasedate\": \"08/12/2019\", \"supplier\": 3}, {\"releasedate\": \"08/13/2018\", \"supplier\": 1}, {\"releasedate\": \"08/13/2019\", \"supplier\": 3}, {\"releasedate\": \"08/14/2017\", \"supplier\": 2}, {\"releasedate\": \"08/14/2018\", \"supplier\": 3}, {\"releasedate\": \"08/14/2019\", \"supplier\": 6}, {\"releasedate\": \"08/15/2017\", \"supplier\": 2}, {\"releasedate\": \"08/15/2019\", \"supplier\": 1}, {\"releasedate\": \"08/16/2017\", \"supplier\": 1}, {\"releasedate\": \"08/16/2018\", \"supplier\": 3}, {\"releasedate\": \"08/16/2019\", \"supplier\": 4}, {\"releasedate\": \"08/18/2017\", \"supplier\": 1}, {\"releasedate\": \"08/18/2018\", \"supplier\": 4}, {\"releasedate\": \"08/19/2017\", \"supplier\": 1}, {\"releasedate\": \"08/19/2019\", \"supplier\": 2}, {\"releasedate\": \"08/20/2017\", \"supplier\": 1}, {\"releasedate\": \"08/20/2019\", \"supplier\": 4}, {\"releasedate\": \"08/21/2017\", \"supplier\": 3}, {\"releasedate\": \"08/21/2018\", \"supplier\": 6}, {\"releasedate\": \"08/21/2019\", \"supplier\": 2}, {\"releasedate\": \"08/22/2019\", \"supplier\": 3}, {\"releasedate\": \"08/23/2018\", \"supplier\": 14}, {\"releasedate\": \"08/24/2017\", \"supplier\": 1}, {\"releasedate\": \"08/24/2018\", \"supplier\": 3}, {\"releasedate\": \"08/25/2017\", \"supplier\": 2}, {\"releasedate\": \"08/25/2018\", \"supplier\": 2}, {\"releasedate\": \"08/25/2019\", \"supplier\": 1}, {\"releasedate\": \"08/26/2017\", \"supplier\": 2}, {\"releasedate\": \"08/26/2019\", \"supplier\": 2}, {\"releasedate\": \"08/27/2017\", \"supplier\": 1}, {\"releasedate\": \"08/27/2018\", \"supplier\": 1}, {\"releasedate\": \"08/27/2019\", \"supplier\": 4}, {\"releasedate\": \"08/28/2018\", \"supplier\": 5}, {\"releasedate\": \"08/28/2019\", \"supplier\": 7}, {\"releasedate\": \"08/29/2017\", \"supplier\": 4}, {\"releasedate\": \"08/29/2018\", \"supplier\": 1}, {\"releasedate\": \"08/29/2019\", \"supplier\": 2}, {\"releasedate\": \"08/30/2017\", \"supplier\": 1}, {\"releasedate\": \"08/30/2018\", \"supplier\": 5}, {\"releasedate\": \"08/30/2019\", \"supplier\": 1}, {\"releasedate\": \"08/31/2017\", \"supplier\": 2}, {\"releasedate\": \"08/31/2018\", \"supplier\": 1}, {\"releasedate\": \"09/02/2019\", \"supplier\": 3}, {\"releasedate\": \"09/03/2018\", \"supplier\": 3}, {\"releasedate\": \"09/03/2019\", \"supplier\": 4}, {\"releasedate\": \"09/04/2018\", \"supplier\": 5}, {\"releasedate\": \"09/04/2019\", \"supplier\": 2}, {\"releasedate\": \"09/05/2018\", \"supplier\": 2}, {\"releasedate\": \"09/05/2019\", \"supplier\": 1}, {\"releasedate\": \"09/06/2018\", \"supplier\": 1}, {\"releasedate\": \"09/06/2019\", \"supplier\": 4}, {\"releasedate\": \"09/07/2017\", \"supplier\": 2}, {\"releasedate\": \"09/07/2018\", \"supplier\": 2}, {\"releasedate\": \"09/07/2019\", \"supplier\": 1}, {\"releasedate\": \"09/08/2017\", \"supplier\": 1}, {\"releasedate\": \"09/08/2018\", \"supplier\": 1}, {\"releasedate\": \"09/09/2019\", \"supplier\": 2}, {\"releasedate\": \"09/10/2019\", \"supplier\": 4}, {\"releasedate\": \"09/11/2017\", \"supplier\": 2}, {\"releasedate\": \"09/11/2018\", \"supplier\": 2}, {\"releasedate\": \"09/11/2019\", \"supplier\": 1}, {\"releasedate\": \"09/12/2017\", \"supplier\": 4}, {\"releasedate\": \"09/12/2018\", \"supplier\": 1}, {\"releasedate\": \"09/12/2019\", \"supplier\": 2}, {\"releasedate\": \"09/13/2017\", \"supplier\": 4}, {\"releasedate\": \"09/13/2018\", \"supplier\": 2}, {\"releasedate\": \"09/13/2019\", \"supplier\": 4}, {\"releasedate\": \"09/14/2017\", \"supplier\": 4}, {\"releasedate\": \"09/14/2018\", \"supplier\": 2}, {\"releasedate\": \"09/15/2017\", \"supplier\": 3}, {\"releasedate\": \"09/16/2017\", \"supplier\": 3}, {\"releasedate\": \"09/16/2019\", \"supplier\": 3}, {\"releasedate\": \"09/17/2018\", \"supplier\": 4}, {\"releasedate\": \"09/17/2019\", \"supplier\": 1}, {\"releasedate\": \"09/18/2018\", \"supplier\": 1}, {\"releasedate\": \"09/18/2019\", \"supplier\": 5}, {\"releasedate\": \"09/19/2017\", \"supplier\": 2}, {\"releasedate\": \"09/19/2019\", \"supplier\": 2}, {\"releasedate\": \"09/20/2017\", \"supplier\": 1}, {\"releasedate\": \"09/20/2018\", \"supplier\": 1}, {\"releasedate\": \"09/20/2019\", \"supplier\": 5}, {\"releasedate\": \"09/21/2017\", \"supplier\": 2}, {\"releasedate\": \"09/21/2018\", \"supplier\": 2}, {\"releasedate\": \"09/22/2017\", \"supplier\": 1}, {\"releasedate\": \"09/22/2018\", \"supplier\": 1}, {\"releasedate\": \"09/23/2017\", \"supplier\": 2}, {\"releasedate\": \"09/23/2019\", \"supplier\": 1}, {\"releasedate\": \"09/24/2017\", \"supplier\": 1}, {\"releasedate\": \"09/24/2018\", \"supplier\": 1}, {\"releasedate\": \"09/24/2019\", \"supplier\": 7}, {\"releasedate\": \"09/25/2017\", \"supplier\": 3}, {\"releasedate\": \"09/25/2018\", \"supplier\": 4}, {\"releasedate\": \"09/25/2019\", \"supplier\": 4}, {\"releasedate\": \"09/26/2017\", \"supplier\": 2}, {\"releasedate\": \"09/26/2019\", \"supplier\": 1}, {\"releasedate\": \"09/27/2017\", \"supplier\": 4}, {\"releasedate\": \"09/27/2018\", \"supplier\": 3}, {\"releasedate\": \"09/27/2019\", \"supplier\": 3}, {\"releasedate\": \"09/28/2017\", \"supplier\": 5}, {\"releasedate\": \"09/28/2018\", \"supplier\": 3}, {\"releasedate\": \"09/28/2019\", \"supplier\": 1}, {\"releasedate\": \"09/29/2017\", \"supplier\": 5}, {\"releasedate\": \"09/29/2018\", \"supplier\": 2}, {\"releasedate\": \"09/29/2019\", \"supplier\": 1}, {\"releasedate\": \"09/30/2017\", \"supplier\": 3}, {\"releasedate\": \"09/30/2019\", \"supplier\": 4}, {\"releasedate\": \"10/01/2019\", \"supplier\": 2}, {\"releasedate\": \"10/02/2017\", \"supplier\": 3}, {\"releasedate\": \"10/02/2018\", \"supplier\": 2}, {\"releasedate\": \"10/02/2019\", \"supplier\": 1}, {\"releasedate\": \"10/03/2017\", \"supplier\": 2}, {\"releasedate\": \"10/03/2018\", \"supplier\": 2}, {\"releasedate\": \"10/03/2019\", \"supplier\": 2}, {\"releasedate\": \"10/04/2017\", \"supplier\": 3}, {\"releasedate\": \"10/04/2019\", \"supplier\": 5}, {\"releasedate\": \"10/05/2017\", \"supplier\": 2}, {\"releasedate\": \"10/05/2018\", \"supplier\": 3}, {\"releasedate\": \"10/06/2017\", \"supplier\": 10}, {\"releasedate\": \"10/06/2018\", \"supplier\": 1}, {\"releasedate\": \"10/07/2017\", \"supplier\": 9}, {\"releasedate\": \"10/07/2019\", \"supplier\": 4}, {\"releasedate\": \"10/08/2018\", \"supplier\": 3}, {\"releasedate\": \"10/08/2019\", \"supplier\": 6}, {\"releasedate\": \"10/09/2017\", \"supplier\": 1}, {\"releasedate\": \"10/09/2018\", \"supplier\": 5}, {\"releasedate\": \"10/09/2019\", \"supplier\": 2}, {\"releasedate\": \"10/10/2017\", \"supplier\": 2}, {\"releasedate\": \"10/10/2018\", \"supplier\": 5}, {\"releasedate\": \"10/10/2019\", \"supplier\": 3}, {\"releasedate\": \"10/11/2017\", \"supplier\": 2}, {\"releasedate\": \"10/11/2018\", \"supplier\": 1}, {\"releasedate\": \"10/12/2017\", \"supplier\": 1}, {\"releasedate\": \"10/12/2018\", \"supplier\": 2}, {\"releasedate\": \"10/13/2019\", \"supplier\": 1}, {\"releasedate\": \"10/14/2017\", \"supplier\": 1}, {\"releasedate\": \"10/14/2019\", \"supplier\": 2}, {\"releasedate\": \"10/15/2017\", \"supplier\": 1}, {\"releasedate\": \"10/15/2018\", \"supplier\": 2}, {\"releasedate\": \"10/15/2019\", \"supplier\": 3}, {\"releasedate\": \"10/16/2017\", \"supplier\": 1}, {\"releasedate\": \"10/16/2018\", \"supplier\": 3}, {\"releasedate\": \"10/16/2019\", \"supplier\": 5}, {\"releasedate\": \"10/17/2017\", \"supplier\": 4}, {\"releasedate\": \"10/17/2018\", \"supplier\": 6}, {\"releasedate\": \"10/17/2019\", \"supplier\": 7}, {\"releasedate\": \"10/18/2017\", \"supplier\": 1}, {\"releasedate\": \"10/18/2018\", \"supplier\": 2}, {\"releasedate\": \"10/18/2019\", \"supplier\": 3}, {\"releasedate\": \"10/19/2017\", \"supplier\": 2}, {\"releasedate\": \"10/19/2018\", \"supplier\": 2}, {\"releasedate\": \"10/19/2019\", \"supplier\": 1}, {\"releasedate\": \"10/20/2017\", \"supplier\": 2}, {\"releasedate\": \"10/21/2017\", \"supplier\": 5}, {\"releasedate\": \"10/21/2019\", \"supplier\": 4}, {\"releasedate\": \"10/22/2017\", \"supplier\": 2}, {\"releasedate\": \"10/22/2018\", \"supplier\": 3}, {\"releasedate\": \"10/22/2019\", \"supplier\": 4}, {\"releasedate\": \"10/23/2017\", \"supplier\": 1}, {\"releasedate\": \"10/23/2018\", \"supplier\": 2}, {\"releasedate\": \"10/23/2019\", \"supplier\": 1}, {\"releasedate\": \"10/24/2017\", \"supplier\": 2}, {\"releasedate\": \"10/24/2018\", \"supplier\": 3}, {\"releasedate\": \"10/24/2019\", \"supplier\": 6}, {\"releasedate\": \"10/25/2017\", \"supplier\": 3}, {\"releasedate\": \"10/25/2018\", \"supplier\": 1}, {\"releasedate\": \"10/25/2019\", \"supplier\": 3}, {\"releasedate\": \"10/26/2018\", \"supplier\": 1}, {\"releasedate\": \"10/27/2017\", \"supplier\": 2}, {\"releasedate\": \"10/28/2019\", \"supplier\": 4}, {\"releasedate\": \"10/29/2018\", \"supplier\": 3}, {\"releasedate\": \"10/29/2019\", \"supplier\": 8}, {\"releasedate\": \"10/30/2017\", \"supplier\": 2}, {\"releasedate\": \"10/30/2018\", \"supplier\": 6}, {\"releasedate\": \"10/30/2019\", \"supplier\": 2}, {\"releasedate\": \"10/31/2017\", \"supplier\": 4}, {\"releasedate\": \"10/31/2019\", \"supplier\": 1}, {\"releasedate\": \"11/01/2017\", \"supplier\": 3}, {\"releasedate\": \"11/01/2019\", \"supplier\": 6}, {\"releasedate\": \"11/02/2018\", \"supplier\": 3}, {\"releasedate\": \"11/03/2017\", \"supplier\": 2}, {\"releasedate\": \"11/03/2018\", \"supplier\": 3}, {\"releasedate\": \"11/04/2017\", \"supplier\": 1}, {\"releasedate\": \"11/04/2019\", \"supplier\": 2}, {\"releasedate\": \"11/05/2018\", \"supplier\": 3}, {\"releasedate\": \"11/05/2019\", \"supplier\": 5}, {\"releasedate\": \"11/06/2017\", \"supplier\": 2}, {\"releasedate\": \"11/06/2018\", \"supplier\": 2}, {\"releasedate\": \"11/06/2019\", \"supplier\": 2}, {\"releasedate\": \"11/07/2018\", \"supplier\": 1}, {\"releasedate\": \"11/07/2019\", \"supplier\": 5}, {\"releasedate\": \"11/08/2017\", \"supplier\": 1}, {\"releasedate\": \"11/08/2019\", \"supplier\": 3}, {\"releasedate\": \"11/09/2018\", \"supplier\": 4}, {\"releasedate\": \"11/10/2017\", \"supplier\": 4}, {\"releasedate\": \"11/11/2017\", \"supplier\": 1}, {\"releasedate\": \"11/11/2019\", \"supplier\": 4}, {\"releasedate\": \"11/12/2017\", \"supplier\": 1}, {\"releasedate\": \"11/12/2018\", \"supplier\": 1}, {\"releasedate\": \"11/12/2019\", \"supplier\": 6}, {\"releasedate\": \"11/13/2017\", \"supplier\": 1}, {\"releasedate\": \"11/13/2018\", \"supplier\": 1}, {\"releasedate\": \"11/13/2019\", \"supplier\": 2}, {\"releasedate\": \"11/14/2017\", \"supplier\": 3}, {\"releasedate\": \"11/14/2018\", \"supplier\": 1}, {\"releasedate\": \"11/14/2019\", \"supplier\": 3}, {\"releasedate\": \"11/15/2017\", \"supplier\": 1}, {\"releasedate\": \"11/15/2019\", \"supplier\": 4}, {\"releasedate\": \"11/16/2018\", \"supplier\": 2}, {\"releasedate\": \"11/17/2017\", \"supplier\": 2}, {\"releasedate\": \"11/18/2017\", \"supplier\": 2}, {\"releasedate\": \"11/18/2019\", \"supplier\": 4}, {\"releasedate\": \"11/19/2018\", \"supplier\": 1}, {\"releasedate\": \"11/19/2019\", \"supplier\": 4}, {\"releasedate\": \"11/20/2017\", \"supplier\": 2}, {\"releasedate\": \"11/20/2019\", \"supplier\": 9}, {\"releasedate\": \"11/21/2017\", \"supplier\": 4}, {\"releasedate\": \"11/21/2018\", \"supplier\": 1}, {\"releasedate\": \"11/21/2019\", \"supplier\": 14}, {\"releasedate\": \"11/22/2017\", \"supplier\": 3}, {\"releasedate\": \"11/22/2018\", \"supplier\": 1}, {\"releasedate\": \"11/22/2019\", \"supplier\": 1}, {\"releasedate\": \"11/23/2017\", \"supplier\": 4}, {\"releasedate\": \"11/25/2017\", \"supplier\": 3}, {\"releasedate\": \"11/25/2018\", \"supplier\": 1}, {\"releasedate\": \"11/25/2019\", \"supplier\": 7}, {\"releasedate\": \"11/26/2018\", \"supplier\": 1}, {\"releasedate\": \"11/26/2019\", \"supplier\": 2}, {\"releasedate\": \"11/27/2017\", \"supplier\": 4}, {\"releasedate\": \"11/27/2018\", \"supplier\": 4}, {\"releasedate\": \"11/27/2019\", \"supplier\": 3}, {\"releasedate\": \"11/28/2017\", \"supplier\": 2}, {\"releasedate\": \"11/28/2018\", \"supplier\": 1}, {\"releasedate\": \"11/29/2017\", \"supplier\": 5}, {\"releasedate\": \"11/29/2018\", \"supplier\": 2}, {\"releasedate\": \"11/29/2019\", \"supplier\": 6}, {\"releasedate\": \"11/30/2017\", \"supplier\": 3}, {\"releasedate\": \"11/30/2018\", \"supplier\": 4}, {\"releasedate\": \"11/30/2019\", \"supplier\": 4}, {\"releasedate\": \"12/01/2017\", \"supplier\": 2}, {\"releasedate\": \"12/01/2018\", \"supplier\": 3}, {\"releasedate\": \"12/01/2019\", \"supplier\": 1}, {\"releasedate\": \"12/02/2019\", \"supplier\": 2}, {\"releasedate\": \"12/03/2017\", \"supplier\": 1}, {\"releasedate\": \"12/03/2018\", \"supplier\": 1}, {\"releasedate\": \"12/03/2019\", \"supplier\": 3}, {\"releasedate\": \"12/04/2017\", \"supplier\": 1}, {\"releasedate\": \"12/04/2018\", \"supplier\": 1}, {\"releasedate\": \"12/04/2019\", \"supplier\": 1}, {\"releasedate\": \"12/05/2017\", \"supplier\": 1}, {\"releasedate\": \"12/05/2018\", \"supplier\": 3}, {\"releasedate\": \"12/05/2019\", \"supplier\": 4}, {\"releasedate\": \"12/06/2017\", \"supplier\": 3}, {\"releasedate\": \"12/06/2018\", \"supplier\": 1}, {\"releasedate\": \"12/06/2019\", \"supplier\": 1}, {\"releasedate\": \"12/07/2017\", \"supplier\": 1}, {\"releasedate\": \"12/07/2018\", \"supplier\": 2}, {\"releasedate\": \"12/08/2017\", \"supplier\": 1}, {\"releasedate\": \"12/08/2018\", \"supplier\": 1}, {\"releasedate\": \"12/09/2019\", \"supplier\": 2}, {\"releasedate\": \"12/10/2017\", \"supplier\": 1}, {\"releasedate\": \"12/10/2018\", \"supplier\": 2}, {\"releasedate\": \"12/10/2019\", \"supplier\": 8}, {\"releasedate\": \"12/11/2017\", \"supplier\": 1}, {\"releasedate\": \"12/11/2018\", \"supplier\": 1}, {\"releasedate\": \"12/11/2019\", \"supplier\": 1}, {\"releasedate\": \"12/12/2017\", \"supplier\": 2}, {\"releasedate\": \"12/12/2018\", \"supplier\": 2}, {\"releasedate\": \"12/13/2017\", \"supplier\": 2}, {\"releasedate\": \"12/13/2018\", \"supplier\": 5}, {\"releasedate\": \"12/13/2019\", \"supplier\": 4}, {\"releasedate\": \"12/14/2017\", \"supplier\": 3}, {\"releasedate\": \"12/14/2018\", \"supplier\": 4}, {\"releasedate\": \"12/15/2017\", \"supplier\": 3}, {\"releasedate\": \"12/16/2017\", \"supplier\": 3}, {\"releasedate\": \"12/16/2019\", \"supplier\": 2}, {\"releasedate\": \"12/17/2018\", \"supplier\": 1}, {\"releasedate\": \"12/17/2019\", \"supplier\": 3}, {\"releasedate\": \"12/18/2017\", \"supplier\": 4}, {\"releasedate\": \"12/18/2018\", \"supplier\": 3}, {\"releasedate\": \"12/18/2019\", \"supplier\": 3}, {\"releasedate\": \"12/19/2017\", \"supplier\": 4}, {\"releasedate\": \"12/19/2018\", \"supplier\": 1}, {\"releasedate\": \"12/19/2019\", \"supplier\": 1}, {\"releasedate\": \"12/20/2017\", \"supplier\": 2}, {\"releasedate\": \"12/20/2018\", \"supplier\": 5}, {\"releasedate\": \"12/20/2019\", \"supplier\": 7}, {\"releasedate\": \"12/21/2017\", \"supplier\": 3}, {\"releasedate\": \"12/21/2018\", \"supplier\": 9}, {\"releasedate\": \"12/21/2019\", \"supplier\": 5}, {\"releasedate\": \"12/22/2017\", \"supplier\": 2}, {\"releasedate\": \"12/22/2018\", \"supplier\": 2}, {\"releasedate\": \"12/23/2017\", \"supplier\": 1}, {\"releasedate\": \"12/24/2019\", \"supplier\": 1}, {\"releasedate\": \"12/26/2018\", \"supplier\": 1}, {\"releasedate\": \"12/27/2018\", \"supplier\": 2}, {\"releasedate\": \"12/28/2018\", \"supplier\": 2}]}}, {\"mode\": \"vega-lite\"});\n",
              "</script>"
            ]
          },
          "metadata": {
            "tags": []
          },
          "execution_count": 16
        }
      ]
    }
  ]
}
