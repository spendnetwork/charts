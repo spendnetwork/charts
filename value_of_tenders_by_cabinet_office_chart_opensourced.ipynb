{
  "nbformat": 4,
  "nbformat_minor": 0,
  "metadata": {
    "colab": {
      "name": "value_of_tenders_by_cabinet_office_chart_opensourced.ipynb",
      "provenance": [],
      "include_colab_link": true
    },
    "kernelspec": {
      "name": "python3",
      "display_name": "Python 3"
    }
  },
  "cells": [
    {
      "cell_type": "markdown",
      "metadata": {
        "id": "view-in-github",
        "colab_type": "text"
      },
      "source": [
        "<a href=\"https://colab.research.google.com/github/spendnetwork/charts/blob/master/value_of_tenders_by_cabinet_office_chart_opensourced.ipynb\" target=\"_parent\"><img src=\"https://colab.research.google.com/assets/colab-badge.svg\" alt=\"Open In Colab\"/></a>"
      ]
    },
    {
      "cell_type": "code",
      "metadata": {
        "id": "tqc2iXLl8hTN",
        "colab_type": "code",
        "colab": {}
      },
      "source": [
        "import pandas as pd\n",
        "import altair as alt"
      ],
      "execution_count": 0,
      "outputs": []
    },
    {
      "cell_type": "code",
      "metadata": {
        "id": "dfMVbVJs7f-3",
        "colab_type": "code",
        "colab": {}
      },
      "source": [
        "url = 'https://raw.githubusercontent.com/dorahomoki/hello-world/master/tender_by_buyer_cabinet_office.csv?token=9fcbd8d8883fdd886e2c3ddc09534633cef0f350'\n",
        "df = pd.read_csv(url)\n",
        "#print(df)"
      ],
      "execution_count": 0,
      "outputs": []
    },
    {
      "cell_type": "code",
      "metadata": {
        "id": "ocvP41ZMahE8",
        "colab_type": "code",
        "colab": {}
      },
      "source": [
        "df['releasedate']=pd.to_datetime(df['releasedate']).dt.strftime('%m/%d/%Y')"
      ],
      "execution_count": 0,
      "outputs": []
    },
    {
      "cell_type": "code",
      "metadata": {
        "id": "3UEM3xRs8tMF",
        "colab_type": "code",
        "colab": {}
      },
      "source": [
        "df1=(df.groupby('releasedate').agg({'ocid': ['count'], 'value': 'sum'}))\n",
        "#df1.head()"
      ],
      "execution_count": 0,
      "outputs": []
    },
    {
      "cell_type": "code",
      "metadata": {
        "id": "5gdAxvc0y75p",
        "colab_type": "code",
        "colab": {}
      },
      "source": [
        ""
      ],
      "execution_count": 0,
      "outputs": []
    },
    {
      "cell_type": "code",
      "metadata": {
        "id": "DqsTJ_0lJFMl",
        "colab_type": "code",
        "colab": {}
      },
      "source": [
        "df1.columns = df1.columns.map('_'.join)\n",
        "df1 = df1.reset_index()\n",
        "#df1.head()"
      ],
      "execution_count": 0,
      "outputs": []
    },
    {
      "cell_type": "code",
      "metadata": {
        "id": "o74MSUwJZzgX",
        "colab_type": "code",
        "colab": {}
      },
      "source": [
        "#df1['releasedate']=pd.to_datetime(df1['releasedate'].dt.strftime('%m/%d/%Y'))\n",
        "#df1['releasedate']=pd.to_datetime(df1['releasedate']).dt.strftime('%m/%d/%Y') \n",
        "#df1.head()"
      ],
      "execution_count": 0,
      "outputs": []
    },
    {
      "cell_type": "code",
      "metadata": {
        "id": "d4jaGJLz5oo-",
        "colab_type": "code",
        "outputId": "c60c3e8d-fea5-4c5e-ee87-2056f80bcb2d",
        "colab": {
          "base_uri": "https://localhost:8080/",
          "height": 367
        }
      },
      "source": [
        "        chart = (\n",
        "            alt.Chart(df1, width=1200, height=250, title=\"Total value of of tenders by Cabinet Office\")\n",
        "                .mark_bar(color='#91D739')\n",
        "                .encode(\n",
        "                alt.X(\n",
        "                    \"yearmonth(releasedate):O\",\n",
        "                    ## xAxis title must be \"Source: https://openopps.com\"\n",
        "                    axis=alt.Axis(title=\"Source: https://openopps.com\", grid=False, \n",
        "                labelFont='Helvetica', \n",
        "                labelFontSize=12, \n",
        "                labelAngle=0, \n",
        "                titleAlign='left',\n",
        "                titleAnchor='start',\n",
        "                titleFont='Helvetica',\n",
        "                titleFontSize= 11,\n",
        "                titleFontWeight= 300,\n",
        "                titleX= -0,\n",
        "                titleY= 30)\n",
        "                ),\n",
        "                alt.Y(\"sum(value_sum):Q\",\n",
        "                      axis=alt.Axis(title=\"\",\n",
        "                                    format=\"$,.0s\"),\n",
        "                      ),\n",
        "                tooltip=[\n",
        "                    alt.Tooltip('sum(value_sum):Q', title=\"Total value\", format=\"$,.4r\"),\n",
        "                    alt.Tooltip('sum(ocid_count):Q', title=\"Total tenders\")\n",
        "                ],\n",
        "                  # suppress the legend for now.\n",
        "            )\n",
        "        )\n",
        "\n",
        "        text = (\n",
        "            chart.mark_text(align=\"center\", baseline=\"bottom\")\n",
        "                .encode(text=alt.Text('sum(value_sum):Q', format='$,.1s'))\n",
        "        )\n",
        "\n",
        "        (chart+text).configure_view(\n",
        "          strokeWidth=0\n",
        "        ).configure_title(fontSize=18, anchor='start',\n",
        "                color= \"#91D739\", font='Helvetica', fontWeight=400)\n"
      ],
      "execution_count": 0,
      "outputs": [
        {
          "output_type": "stream",
          "text": [
            "ERROR! Session/line number was not unique in database. History logging moved to new session 59\n"
          ],
          "name": "stdout"
        },
        {
          "output_type": "execute_result",
          "data": {
            "text/plain": [
              "alt.LayerChart(...)"
            ],
            "text/html": [
              "\n",
              "<div id=\"altair-viz-0216f9ceeb6b4e9dbd3da5aa48800340\"></div>\n",
              "<script type=\"text/javascript\">\n",
              "  (function(spec, embedOpt){\n",
              "    const outputDiv = document.getElementById(\"altair-viz-0216f9ceeb6b4e9dbd3da5aa48800340\");\n",
              "    const paths = {\n",
              "      \"vega\": \"https://cdn.jsdelivr.net/npm//vega@5?noext\",\n",
              "      \"vega-lib\": \"https://cdn.jsdelivr.net/npm//vega-lib?noext\",\n",
              "      \"vega-lite\": \"https://cdn.jsdelivr.net/npm//vega-lite@4.0.2?noext\",\n",
              "      \"vega-embed\": \"https://cdn.jsdelivr.net/npm//vega-embed@6?noext\",\n",
              "    };\n",
              "\n",
              "    function loadScript(lib) {\n",
              "      return new Promise(function(resolve, reject) {\n",
              "        var s = document.createElement('script');\n",
              "        s.src = paths[lib];\n",
              "        s.async = true;\n",
              "        s.onload = () => resolve(paths[lib]);\n",
              "        s.onerror = () => reject(`Error loading script: ${paths[lib]}`);\n",
              "        document.getElementsByTagName(\"head\")[0].appendChild(s);\n",
              "      });\n",
              "    }\n",
              "\n",
              "    function showError(err) {\n",
              "      outputDiv.innerHTML = `<div class=\"error\" style=\"color:red;\">${err}</div>`;\n",
              "      throw err;\n",
              "    }\n",
              "\n",
              "    function displayChart(vegaEmbed) {\n",
              "      vegaEmbed(outputDiv, spec, embedOpt)\n",
              "        .catch(err => showError(`Javascript Error: ${err.message}<br>This usually means there's a typo in your chart specification. See the javascript console for the full traceback.`));\n",
              "    }\n",
              "\n",
              "    if(typeof define === \"function\" && define.amd) {\n",
              "      requirejs.config({paths});\n",
              "      require([\"vega-embed\"], displayChart, err => showError(`Error loading script: ${err.message}`));\n",
              "    } else if (typeof vegaEmbed === \"function\") {\n",
              "      displayChart(vegaEmbed);\n",
              "    } else {\n",
              "      loadScript(\"vega\")\n",
              "        .then(() => loadScript(\"vega-lite\"))\n",
              "        .then(() => loadScript(\"vega-embed\"))\n",
              "        .catch(showError)\n",
              "        .then(() => displayChart(vegaEmbed));\n",
              "    }\n",
              "  })({\"config\": {\"view\": {\"continuousWidth\": 400, \"continuousHeight\": 300, \"strokeWidth\": 0}, \"title\": {\"anchor\": \"start\", \"color\": \"#91D739\", \"font\": \"Helvetica\", \"fontSize\": 18, \"fontWeight\": 400}}, \"layer\": [{\"mark\": {\"type\": \"bar\", \"color\": \"#91D739\"}, \"encoding\": {\"tooltip\": [{\"type\": \"quantitative\", \"aggregate\": \"sum\", \"field\": \"value_sum\", \"format\": \"$,.4r\", \"title\": \"Total value\"}, {\"type\": \"quantitative\", \"aggregate\": \"sum\", \"field\": \"ocid_count\", \"title\": \"Total tenders\"}], \"x\": {\"type\": \"ordinal\", \"axis\": {\"grid\": false, \"labelAngle\": 0, \"labelFont\": \"Helvetica\", \"labelFontSize\": 12, \"title\": \"Source: https://openopps.com\", \"titleAlign\": \"left\", \"titleAnchor\": \"start\", \"titleFont\": \"Helvetica\", \"titleFontSize\": 11, \"titleFontWeight\": 300, \"titleX\": 0, \"titleY\": 30}, \"field\": \"releasedate\", \"timeUnit\": \"yearmonth\"}, \"y\": {\"type\": \"quantitative\", \"aggregate\": \"sum\", \"axis\": {\"format\": \"$,.0s\", \"title\": \"\"}, \"field\": \"value_sum\"}}, \"height\": 250, \"title\": \"Total value of of tenders by Cabinet Office\", \"width\": 1200}, {\"mark\": {\"type\": \"text\", \"align\": \"center\", \"baseline\": \"bottom\"}, \"encoding\": {\"text\": {\"type\": \"quantitative\", \"aggregate\": \"sum\", \"field\": \"value_sum\", \"format\": \"$,.1s\"}, \"tooltip\": [{\"type\": \"quantitative\", \"aggregate\": \"sum\", \"field\": \"value_sum\", \"format\": \"$,.4r\", \"title\": \"Total value\"}, {\"type\": \"quantitative\", \"aggregate\": \"sum\", \"field\": \"ocid_count\", \"title\": \"Total tenders\"}], \"x\": {\"type\": \"ordinal\", \"axis\": {\"grid\": false, \"labelAngle\": 0, \"labelFont\": \"Helvetica\", \"labelFontSize\": 12, \"title\": \"Source: https://openopps.com\", \"titleAlign\": \"left\", \"titleAnchor\": \"start\", \"titleFont\": \"Helvetica\", \"titleFontSize\": 11, \"titleFontWeight\": 300, \"titleX\": 0, \"titleY\": 30}, \"field\": \"releasedate\", \"timeUnit\": \"yearmonth\"}, \"y\": {\"type\": \"quantitative\", \"aggregate\": \"sum\", \"axis\": {\"format\": \"$,.0s\", \"title\": \"\"}, \"field\": \"value_sum\"}}, \"height\": 250, \"title\": \"Total value of of tenders by Cabinet Office\", \"width\": 1200}], \"data\": {\"name\": \"data-9168a4f268e140573be9b7ec76b51c6c\"}, \"$schema\": \"https://vega.github.io/schema/vega-lite/v4.0.2.json\", \"datasets\": {\"data-9168a4f268e140573be9b7ec76b51c6c\": [{\"releasedate\": \"01/02/2018\", \"ocid_count\": 1, \"value_sum\": 0.0}, {\"releasedate\": \"01/06/2017\", \"ocid_count\": 3, \"value_sum\": 0.0}, {\"releasedate\": \"01/07/2017\", \"ocid_count\": 1, \"value_sum\": 0.0}, {\"releasedate\": \"01/07/2019\", \"ocid_count\": 1, \"value_sum\": 0.0}, {\"releasedate\": \"01/08/2019\", \"ocid_count\": 1, \"value_sum\": 0.0}, {\"releasedate\": \"01/09/2018\", \"ocid_count\": 3, \"value_sum\": 12000000000.0}, {\"releasedate\": \"01/10/2019\", \"ocid_count\": 4, \"value_sum\": 3600000.0}, {\"releasedate\": \"01/11/2017\", \"ocid_count\": 1, \"value_sum\": 0.0}, {\"releasedate\": \"01/11/2018\", \"ocid_count\": 2, \"value_sum\": 0.0}, {\"releasedate\": \"01/13/2017\", \"ocid_count\": 10, \"value_sum\": 0.0}, {\"releasedate\": \"01/16/2019\", \"ocid_count\": 1, \"value_sum\": 0.0}, {\"releasedate\": \"01/17/2018\", \"ocid_count\": 2, \"value_sum\": 170000000.0}, {\"releasedate\": \"01/18/2019\", \"ocid_count\": 1, \"value_sum\": 0.0}, {\"releasedate\": \"01/20/2017\", \"ocid_count\": 1, \"value_sum\": 0.0}, {\"releasedate\": \"01/21/2019\", \"ocid_count\": 1, \"value_sum\": 0.0}, {\"releasedate\": \"01/22/2019\", \"ocid_count\": 1, \"value_sum\": 0.0}, {\"releasedate\": \"01/23/2019\", \"ocid_count\": 2, \"value_sum\": 78000.0}, {\"releasedate\": \"01/24/2017\", \"ocid_count\": 3, \"value_sum\": 0.0}, {\"releasedate\": \"01/25/2017\", \"ocid_count\": 1, \"value_sum\": 0.0}, {\"releasedate\": \"01/25/2019\", \"ocid_count\": 1, \"value_sum\": 90000.0}, {\"releasedate\": \"01/28/2017\", \"ocid_count\": 1, \"value_sum\": 0.0}, {\"releasedate\": \"01/28/2019\", \"ocid_count\": 6, \"value_sum\": 3200000.0}, {\"releasedate\": \"01/30/2018\", \"ocid_count\": 1, \"value_sum\": 0.0}, {\"releasedate\": \"01/30/2019\", \"ocid_count\": 10, \"value_sum\": 0.0}, {\"releasedate\": \"01/31/2018\", \"ocid_count\": 5, \"value_sum\": 3700000000.0}, {\"releasedate\": \"02/03/2018\", \"ocid_count\": 1, \"value_sum\": 0.0}, {\"releasedate\": \"02/05/2019\", \"ocid_count\": 2, \"value_sum\": 0.0}, {\"releasedate\": \"02/06/2018\", \"ocid_count\": 4, \"value_sum\": 0.0}, {\"releasedate\": \"02/07/2018\", \"ocid_count\": 1, \"value_sum\": 0.0}, {\"releasedate\": \"02/07/2019\", \"ocid_count\": 1, \"value_sum\": 0.0}, {\"releasedate\": \"02/10/2017\", \"ocid_count\": 3, \"value_sum\": 26000000.0}, {\"releasedate\": \"02/12/2018\", \"ocid_count\": 4, \"value_sum\": 32500000000.0}, {\"releasedate\": \"02/14/2019\", \"ocid_count\": 2, \"value_sum\": 4000000.0}, {\"releasedate\": \"02/15/2018\", \"ocid_count\": 1, \"value_sum\": 0.0}, {\"releasedate\": \"02/15/2019\", \"ocid_count\": 1, \"value_sum\": 0.0}, {\"releasedate\": \"02/17/2017\", \"ocid_count\": 6, \"value_sum\": 189000000.0}, {\"releasedate\": \"02/19/2019\", \"ocid_count\": 1, \"value_sum\": 0.0}, {\"releasedate\": \"02/20/2018\", \"ocid_count\": 1, \"value_sum\": 0.0}, {\"releasedate\": \"02/20/2019\", \"ocid_count\": 1, \"value_sum\": 100000000.0}, {\"releasedate\": \"02/21/2017\", \"ocid_count\": 1, \"value_sum\": 0.0}, {\"releasedate\": \"02/22/2018\", \"ocid_count\": 3, \"value_sum\": 6500000000.0}, {\"releasedate\": \"02/22/2019\", \"ocid_count\": 22, \"value_sum\": 0.0}, {\"releasedate\": \"02/24/2017\", \"ocid_count\": 2, \"value_sum\": 28000000.0}, {\"releasedate\": \"02/25/2017\", \"ocid_count\": 1, \"value_sum\": 0.0}, {\"releasedate\": \"02/25/2019\", \"ocid_count\": 1, \"value_sum\": 50000.0}, {\"releasedate\": \"02/26/2019\", \"ocid_count\": 12, \"value_sum\": 5000000.0}, {\"releasedate\": \"02/27/2019\", \"ocid_count\": 1, \"value_sum\": 0.0}, {\"releasedate\": \"03/01/2018\", \"ocid_count\": 2, \"value_sum\": 0.0}, {\"releasedate\": \"03/01/2019\", \"ocid_count\": 1, \"value_sum\": 0.0}, {\"releasedate\": \"03/04/2017\", \"ocid_count\": 2, \"value_sum\": 120000000.0}, {\"releasedate\": \"03/05/2019\", \"ocid_count\": 2, \"value_sum\": 0.0}, {\"releasedate\": \"03/06/2018\", \"ocid_count\": 1, \"value_sum\": 0.0}, {\"releasedate\": \"03/06/2019\", \"ocid_count\": 3, \"value_sum\": 80000000.0}, {\"releasedate\": \"03/07/2017\", \"ocid_count\": 4, \"value_sum\": 2600000000.0}, {\"releasedate\": \"03/08/2019\", \"ocid_count\": 2, \"value_sum\": 25000.0}, {\"releasedate\": \"03/09/2017\", \"ocid_count\": 4, \"value_sum\": 0.0}, {\"releasedate\": \"03/10/2017\", \"ocid_count\": 10, \"value_sum\": 0.0}, {\"releasedate\": \"03/10/2018\", \"ocid_count\": 4, \"value_sum\": 1500000000.0}, {\"releasedate\": \"03/12/2019\", \"ocid_count\": 1, \"value_sum\": 0.0}, {\"releasedate\": \"03/13/2017\", \"ocid_count\": 1, \"value_sum\": 0.0}, {\"releasedate\": \"03/13/2018\", \"ocid_count\": 1, \"value_sum\": 0.0}, {\"releasedate\": \"03/13/2019\", \"ocid_count\": 1, \"value_sum\": 0.0}, {\"releasedate\": \"03/14/2019\", \"ocid_count\": 4, \"value_sum\": 0.0}, {\"releasedate\": \"03/15/2017\", \"ocid_count\": 1, \"value_sum\": 0.0}, {\"releasedate\": \"03/15/2019\", \"ocid_count\": 3, \"value_sum\": 0.0}, {\"releasedate\": \"03/16/2017\", \"ocid_count\": 2, \"value_sum\": 0.0}, {\"releasedate\": \"03/17/2017\", \"ocid_count\": 2, \"value_sum\": 6000000000.0}, {\"releasedate\": \"03/19/2019\", \"ocid_count\": 1, \"value_sum\": 0.0}, {\"releasedate\": \"03/21/2017\", \"ocid_count\": 1, \"value_sum\": 0.0}, {\"releasedate\": \"03/22/2017\", \"ocid_count\": 2, \"value_sum\": 0.0}, {\"releasedate\": \"03/23/2018\", \"ocid_count\": 1, \"value_sum\": 0.0}, {\"releasedate\": \"03/24/2017\", \"ocid_count\": 2, \"value_sum\": 0.0}, {\"releasedate\": \"03/25/2019\", \"ocid_count\": 2, \"value_sum\": 0.0}, {\"releasedate\": \"03/26/2019\", \"ocid_count\": 2, \"value_sum\": 0.0}, {\"releasedate\": \"03/28/2019\", \"ocid_count\": 1, \"value_sum\": 0.0}, {\"releasedate\": \"03/29/2019\", \"ocid_count\": 1, \"value_sum\": 0.0}, {\"releasedate\": \"03/30/2017\", \"ocid_count\": 3, \"value_sum\": 0.0}, {\"releasedate\": \"04/01/2017\", \"ocid_count\": 2, \"value_sum\": 0.0}, {\"releasedate\": \"04/02/2019\", \"ocid_count\": 34, \"value_sum\": 0.0}, {\"releasedate\": \"04/04/2019\", \"ocid_count\": 2, \"value_sum\": 0.0}, {\"releasedate\": \"04/05/2018\", \"ocid_count\": 3, \"value_sum\": 300000000.0}, {\"releasedate\": \"04/07/2017\", \"ocid_count\": 4, \"value_sum\": 3000000000.0}, {\"releasedate\": \"04/07/2018\", \"ocid_count\": 3, \"value_sum\": 5000000000.0}, {\"releasedate\": \"04/08/2017\", \"ocid_count\": 2, \"value_sum\": 0.0}, {\"releasedate\": \"04/08/2019\", \"ocid_count\": 3, \"value_sum\": 0.0}, {\"releasedate\": \"04/09/2019\", \"ocid_count\": 5, \"value_sum\": 0.0}, {\"releasedate\": \"04/11/2018\", \"ocid_count\": 3, \"value_sum\": 2300000000.0}, {\"releasedate\": \"04/11/2019\", \"ocid_count\": 1, \"value_sum\": 0.0}, {\"releasedate\": \"04/12/2017\", \"ocid_count\": 2, \"value_sum\": 0.0}, {\"releasedate\": \"04/12/2018\", \"ocid_count\": 11, \"value_sum\": 0.0}, {\"releasedate\": \"04/12/2019\", \"ocid_count\": 1, \"value_sum\": 0.0}, {\"releasedate\": \"04/13/2018\", \"ocid_count\": 3, \"value_sum\": 6000000000.0}, {\"releasedate\": \"04/14/2017\", \"ocid_count\": 2, \"value_sum\": 400000000.0}, {\"releasedate\": \"04/15/2017\", \"ocid_count\": 2, \"value_sum\": 860000000.0}, {\"releasedate\": \"04/15/2019\", \"ocid_count\": 1, \"value_sum\": 0.0}, {\"releasedate\": \"04/17/2018\", \"ocid_count\": 3, \"value_sum\": 0.0}, {\"releasedate\": \"04/17/2019\", \"ocid_count\": 2, \"value_sum\": 309000.0}, {\"releasedate\": \"04/18/2019\", \"ocid_count\": 1, \"value_sum\": 0.0}, {\"releasedate\": \"04/19/2018\", \"ocid_count\": 1, \"value_sum\": 600000000.0}, {\"releasedate\": \"04/22/2017\", \"ocid_count\": 1, \"value_sum\": 0.0}, {\"releasedate\": \"04/23/2018\", \"ocid_count\": 2, \"value_sum\": 0.0}, {\"releasedate\": \"04/23/2019\", \"ocid_count\": 1, \"value_sum\": 0.0}, {\"releasedate\": \"04/24/2019\", \"ocid_count\": 10, \"value_sum\": 0.0}, {\"releasedate\": \"04/25/2018\", \"ocid_count\": 4, \"value_sum\": 250000000.0}, {\"releasedate\": \"04/25/2019\", \"ocid_count\": 1, \"value_sum\": 0.0}, {\"releasedate\": \"04/26/2017\", \"ocid_count\": 1, \"value_sum\": 0.0}, {\"releasedate\": \"04/26/2018\", \"ocid_count\": 3, \"value_sum\": 0.0}, {\"releasedate\": \"04/26/2019\", \"ocid_count\": 3, \"value_sum\": 2000000000.0}, {\"releasedate\": \"04/27/2017\", \"ocid_count\": 1, \"value_sum\": 0.0}, {\"releasedate\": \"04/29/2019\", \"ocid_count\": 5, \"value_sum\": 6500000000.0}, {\"releasedate\": \"04/30/2019\", \"ocid_count\": 1, \"value_sum\": 0.0}, {\"releasedate\": \"05/01/2019\", \"ocid_count\": 1, \"value_sum\": 0.0}, {\"releasedate\": \"05/02/2017\", \"ocid_count\": 13, \"value_sum\": 0.0}, {\"releasedate\": \"05/03/2019\", \"ocid_count\": 4, \"value_sum\": 0.0}, {\"releasedate\": \"05/05/2017\", \"ocid_count\": 3, \"value_sum\": 0.0}, {\"releasedate\": \"05/06/2019\", \"ocid_count\": 2, \"value_sum\": 0.0}, {\"releasedate\": \"05/08/2018\", \"ocid_count\": 10, \"value_sum\": 0.0}, {\"releasedate\": \"05/08/2019\", \"ocid_count\": 1, \"value_sum\": 0.0}, {\"releasedate\": \"05/09/2018\", \"ocid_count\": 10, \"value_sum\": 0.0}, {\"releasedate\": \"05/09/2019\", \"ocid_count\": 1, \"value_sum\": 0.0}, {\"releasedate\": \"05/10/2017\", \"ocid_count\": 3, \"value_sum\": 0.0}, {\"releasedate\": \"05/10/2019\", \"ocid_count\": 2, \"value_sum\": 750000.0}, {\"releasedate\": \"05/12/2017\", \"ocid_count\": 4, \"value_sum\": 0.0}, {\"releasedate\": \"05/13/2019\", \"ocid_count\": 10, \"value_sum\": 0.0}, {\"releasedate\": \"05/14/2018\", \"ocid_count\": 1, \"value_sum\": 0.0}, {\"releasedate\": \"05/14/2019\", \"ocid_count\": 4, \"value_sum\": 0.0}, {\"releasedate\": \"05/15/2017\", \"ocid_count\": 1, \"value_sum\": 0.0}, {\"releasedate\": \"05/15/2019\", \"ocid_count\": 2, \"value_sum\": 0.0}, {\"releasedate\": \"05/17/2017\", \"ocid_count\": 4, \"value_sum\": 0.0}, {\"releasedate\": \"05/17/2018\", \"ocid_count\": 1, \"value_sum\": 0.0}, {\"releasedate\": \"05/18/2017\", \"ocid_count\": 3, \"value_sum\": 4000000.0}, {\"releasedate\": \"05/19/2017\", \"ocid_count\": 3, \"value_sum\": 90000000.0}, {\"releasedate\": \"05/19/2018\", \"ocid_count\": 1, \"value_sum\": 0.0}, {\"releasedate\": \"05/20/2017\", \"ocid_count\": 2, \"value_sum\": 0.0}, {\"releasedate\": \"05/20/2019\", \"ocid_count\": 3, \"value_sum\": 4140000000.0}, {\"releasedate\": \"05/21/2019\", \"ocid_count\": 2, \"value_sum\": 0.0}, {\"releasedate\": \"05/22/2019\", \"ocid_count\": 1, \"value_sum\": 0.0}, {\"releasedate\": \"05/23/2017\", \"ocid_count\": 2, \"value_sum\": 0.0}, {\"releasedate\": \"05/23/2019\", \"ocid_count\": 1, \"value_sum\": 0.0}, {\"releasedate\": \"05/24/2019\", \"ocid_count\": 1, \"value_sum\": 0.0}, {\"releasedate\": \"05/25/2018\", \"ocid_count\": 3, \"value_sum\": 0.0}, {\"releasedate\": \"05/27/2017\", \"ocid_count\": 3, \"value_sum\": 16000000.0}, {\"releasedate\": \"05/28/2019\", \"ocid_count\": 2, \"value_sum\": 34000000.0}, {\"releasedate\": \"05/29/2019\", \"ocid_count\": 1, \"value_sum\": 0.0}, {\"releasedate\": \"05/30/2019\", \"ocid_count\": 1, \"value_sum\": 0.0}, {\"releasedate\": \"05/31/2018\", \"ocid_count\": 1, \"value_sum\": 320000000.0}, {\"releasedate\": \"05/31/2019\", \"ocid_count\": 3, \"value_sum\": 0.0}, {\"releasedate\": \"06/01/2017\", \"ocid_count\": 1, \"value_sum\": 0.0}, {\"releasedate\": \"06/03/2019\", \"ocid_count\": 10, \"value_sum\": 0.0}, {\"releasedate\": \"06/04/2019\", \"ocid_count\": 2, \"value_sum\": 0.0}, {\"releasedate\": \"06/05/2019\", \"ocid_count\": 2, \"value_sum\": 0.0}, {\"releasedate\": \"06/06/2019\", \"ocid_count\": 1, \"value_sum\": 24975.0}, {\"releasedate\": \"06/08/2018\", \"ocid_count\": 1, \"value_sum\": 0.0}, {\"releasedate\": \"06/10/2019\", \"ocid_count\": 2, \"value_sum\": 0.0}, {\"releasedate\": \"06/11/2019\", \"ocid_count\": 1, \"value_sum\": 0.0}, {\"releasedate\": \"06/12/2017\", \"ocid_count\": 5, \"value_sum\": 0.0}, {\"releasedate\": \"06/12/2019\", \"ocid_count\": 2, \"value_sum\": 0.0}, {\"releasedate\": \"06/13/2017\", \"ocid_count\": 1, \"value_sum\": 0.0}, {\"releasedate\": \"06/14/2017\", \"ocid_count\": 1, \"value_sum\": 0.0}, {\"releasedate\": \"06/15/2017\", \"ocid_count\": 4, \"value_sum\": 360000000.0}, {\"releasedate\": \"06/15/2018\", \"ocid_count\": 2, \"value_sum\": 0.0}, {\"releasedate\": \"06/17/2019\", \"ocid_count\": 4, \"value_sum\": 0.0}, {\"releasedate\": \"06/18/2018\", \"ocid_count\": 10, \"value_sum\": 0.0}, {\"releasedate\": \"06/18/2019\", \"ocid_count\": 2, \"value_sum\": 0.0}, {\"releasedate\": \"06/21/2019\", \"ocid_count\": 13, \"value_sum\": 0.0}, {\"releasedate\": \"06/24/2017\", \"ocid_count\": 1, \"value_sum\": 0.0}, {\"releasedate\": \"06/24/2019\", \"ocid_count\": 1, \"value_sum\": 0.0}, {\"releasedate\": \"06/25/2019\", \"ocid_count\": 3, \"value_sum\": 1500000.0}, {\"releasedate\": \"06/26/2018\", \"ocid_count\": 1, \"value_sum\": 0.0}, {\"releasedate\": \"06/26/2019\", \"ocid_count\": 3, \"value_sum\": 0.0}, {\"releasedate\": \"06/27/2017\", \"ocid_count\": 2, \"value_sum\": 0.0}, {\"releasedate\": \"06/28/2017\", \"ocid_count\": 1, \"value_sum\": 0.0}, {\"releasedate\": \"07/03/2018\", \"ocid_count\": 2, \"value_sum\": 0.0}, {\"releasedate\": \"07/05/2018\", \"ocid_count\": 2, \"value_sum\": 0.0}, {\"releasedate\": \"07/07/2017\", \"ocid_count\": 2, \"value_sum\": 0.0}, {\"releasedate\": \"07/08/2019\", \"ocid_count\": 8, \"value_sum\": 0.0}, {\"releasedate\": \"07/10/2019\", \"ocid_count\": 2, \"value_sum\": 0.0}, {\"releasedate\": \"07/11/2018\", \"ocid_count\": 2, \"value_sum\": 0.0}, {\"releasedate\": \"07/12/2018\", \"ocid_count\": 2, \"value_sum\": 0.0}, {\"releasedate\": \"07/12/2019\", \"ocid_count\": 1, \"value_sum\": 0.0}, {\"releasedate\": \"07/13/2017\", \"ocid_count\": 1, \"value_sum\": 0.0}, {\"releasedate\": \"07/14/2017\", \"ocid_count\": 2, \"value_sum\": 0.0}, {\"releasedate\": \"07/15/2017\", \"ocid_count\": 1, \"value_sum\": 0.0}, {\"releasedate\": \"07/16/2019\", \"ocid_count\": 1, \"value_sum\": 0.0}, {\"releasedate\": \"07/17/2019\", \"ocid_count\": 3, \"value_sum\": 0.0}, {\"releasedate\": \"07/18/2017\", \"ocid_count\": 1, \"value_sum\": 0.0}, {\"releasedate\": \"07/18/2018\", \"ocid_count\": 4, \"value_sum\": 1201500000.0}, {\"releasedate\": \"07/19/2017\", \"ocid_count\": 2, \"value_sum\": 0.0}, {\"releasedate\": \"07/20/2018\", \"ocid_count\": 1, \"value_sum\": 0.0}, {\"releasedate\": \"07/22/2019\", \"ocid_count\": 3, \"value_sum\": 0.0}, {\"releasedate\": \"07/23/2019\", \"ocid_count\": 1, \"value_sum\": 0.0}, {\"releasedate\": \"07/24/2018\", \"ocid_count\": 5, \"value_sum\": 10037900000.0}, {\"releasedate\": \"07/24/2019\", \"ocid_count\": 3, \"value_sum\": 0.0}, {\"releasedate\": \"07/25/2017\", \"ocid_count\": 1, \"value_sum\": 0.0}, {\"releasedate\": \"07/25/2018\", \"ocid_count\": 1, \"value_sum\": 0.0}, {\"releasedate\": \"07/25/2019\", \"ocid_count\": 1, \"value_sum\": 0.0}, {\"releasedate\": \"07/30/2019\", \"ocid_count\": 2, \"value_sum\": 0.0}, {\"releasedate\": \"07/31/2018\", \"ocid_count\": 2, \"value_sum\": 0.0}, {\"releasedate\": \"07/31/2019\", \"ocid_count\": 1, \"value_sum\": 0.0}, {\"releasedate\": \"08/01/2017\", \"ocid_count\": 2, \"value_sum\": 0.0}, {\"releasedate\": \"08/01/2019\", \"ocid_count\": 2, \"value_sum\": 3891384.0}, {\"releasedate\": \"08/02/2019\", \"ocid_count\": 4, \"value_sum\": 2815230.0}, {\"releasedate\": \"08/03/2017\", \"ocid_count\": 1, \"value_sum\": 0.0}, {\"releasedate\": \"08/03/2018\", \"ocid_count\": 1, \"value_sum\": 0.0}, {\"releasedate\": \"08/04/2017\", \"ocid_count\": 2, \"value_sum\": 0.0}, {\"releasedate\": \"08/06/2018\", \"ocid_count\": 10, \"value_sum\": 0.0}, {\"releasedate\": \"08/06/2019\", \"ocid_count\": 2, \"value_sum\": 0.0}, {\"releasedate\": \"08/08/2019\", \"ocid_count\": 1, \"value_sum\": 49700.0}, {\"releasedate\": \"08/09/2017\", \"ocid_count\": 1, \"value_sum\": 0.0}, {\"releasedate\": \"08/09/2018\", \"ocid_count\": 2, \"value_sum\": 0.0}, {\"releasedate\": \"08/10/2018\", \"ocid_count\": 3, \"value_sum\": 29014400.0}, {\"releasedate\": \"08/11/2018\", \"ocid_count\": 2, \"value_sum\": 0.0}, {\"releasedate\": \"08/12/2017\", \"ocid_count\": 1, \"value_sum\": 0.0}, {\"releasedate\": \"08/13/2019\", \"ocid_count\": 2, \"value_sum\": 0.0}, {\"releasedate\": \"08/14/2019\", \"ocid_count\": 14, \"value_sum\": 0.0}, {\"releasedate\": \"08/16/2017\", \"ocid_count\": 2, \"value_sum\": 0.0}, {\"releasedate\": \"08/16/2018\", \"ocid_count\": 1, \"value_sum\": 0.0}, {\"releasedate\": \"08/16/2019\", \"ocid_count\": 1, \"value_sum\": 0.0}, {\"releasedate\": \"08/17/2018\", \"ocid_count\": 1, \"value_sum\": 0.0}, {\"releasedate\": \"08/18/2017\", \"ocid_count\": 1, \"value_sum\": 0.0}, {\"releasedate\": \"08/19/2017\", \"ocid_count\": 2, \"value_sum\": 0.0}, {\"releasedate\": \"08/19/2019\", \"ocid_count\": 4, \"value_sum\": 0.0}, {\"releasedate\": \"08/20/2019\", \"ocid_count\": 13, \"value_sum\": 0.0}, {\"releasedate\": \"08/21/2019\", \"ocid_count\": 3, \"value_sum\": 0.0}, {\"releasedate\": \"08/22/2017\", \"ocid_count\": 1, \"value_sum\": 0.0}, {\"releasedate\": \"08/23/2017\", \"ocid_count\": 3, \"value_sum\": 0.0}, {\"releasedate\": \"08/27/2019\", \"ocid_count\": 5, \"value_sum\": 0.0}, {\"releasedate\": \"08/29/2017\", \"ocid_count\": 1, \"value_sum\": 0.0}, {\"releasedate\": \"09/01/2018\", \"ocid_count\": 2, \"value_sum\": 0.0}, {\"releasedate\": \"09/02/2017\", \"ocid_count\": 2, \"value_sum\": 0.0}, {\"releasedate\": \"09/02/2019\", \"ocid_count\": 1, \"value_sum\": 0.0}, {\"releasedate\": \"09/03/2019\", \"ocid_count\": 1, \"value_sum\": 0.0}, {\"releasedate\": \"09/04/2019\", \"ocid_count\": 3, \"value_sum\": 15000.0}, {\"releasedate\": \"09/05/2019\", \"ocid_count\": 1, \"value_sum\": 0.0}, {\"releasedate\": \"09/06/2017\", \"ocid_count\": 2, \"value_sum\": 0.0}, {\"releasedate\": \"09/06/2018\", \"ocid_count\": 3, \"value_sum\": 0.0}, {\"releasedate\": \"09/06/2019\", \"ocid_count\": 6, \"value_sum\": 0.0}, {\"releasedate\": \"09/07/2017\", \"ocid_count\": 1, \"value_sum\": 0.0}, {\"releasedate\": \"09/09/2019\", \"ocid_count\": 1, \"value_sum\": 0.0}, {\"releasedate\": \"09/10/2019\", \"ocid_count\": 1, \"value_sum\": 0.0}, {\"releasedate\": \"09/12/2019\", \"ocid_count\": 10, \"value_sum\": 0.0}, {\"releasedate\": \"09/13/2018\", \"ocid_count\": 2, \"value_sum\": 0.0}, {\"releasedate\": \"09/13/2019\", \"ocid_count\": 5, \"value_sum\": 0.0}, {\"releasedate\": \"09/16/2019\", \"ocid_count\": 3, \"value_sum\": 400000000.0}, {\"releasedate\": \"09/19/2019\", \"ocid_count\": 10, \"value_sum\": 0.0}, {\"releasedate\": \"09/20/2018\", \"ocid_count\": 2, \"value_sum\": 0.0}, {\"releasedate\": \"09/20/2019\", \"ocid_count\": 2, \"value_sum\": 260000000.0}, {\"releasedate\": \"09/23/2019\", \"ocid_count\": 4, \"value_sum\": 500000000.0}, {\"releasedate\": \"09/24/2018\", \"ocid_count\": 3, \"value_sum\": 161000.0}, {\"releasedate\": \"09/24/2019\", \"ocid_count\": 2, \"value_sum\": 0.0}, {\"releasedate\": \"09/25/2019\", \"ocid_count\": 20, \"value_sum\": 0.0}, {\"releasedate\": \"09/26/2017\", \"ocid_count\": 1, \"value_sum\": 0.0}, {\"releasedate\": \"09/26/2018\", \"ocid_count\": 1, \"value_sum\": 2000000.0}, {\"releasedate\": \"09/26/2019\", \"ocid_count\": 80, \"value_sum\": 0.0}, {\"releasedate\": \"09/27/2018\", \"ocid_count\": 1, \"value_sum\": 0.0}, {\"releasedate\": \"09/27/2019\", \"ocid_count\": 10, \"value_sum\": 0.0}, {\"releasedate\": \"09/30/2019\", \"ocid_count\": 1, \"value_sum\": 0.0}, {\"releasedate\": \"10/01/2018\", \"ocid_count\": 1, \"value_sum\": 0.0}, {\"releasedate\": \"10/01/2019\", \"ocid_count\": 3, \"value_sum\": 0.0}, {\"releasedate\": \"10/02/2017\", \"ocid_count\": 1, \"value_sum\": 0.0}, {\"releasedate\": \"10/02/2019\", \"ocid_count\": 1, \"value_sum\": 0.0}, {\"releasedate\": \"10/03/2017\", \"ocid_count\": 4, \"value_sum\": 5100000000.0}, {\"releasedate\": \"10/04/2019\", \"ocid_count\": 1, \"value_sum\": 0.0}, {\"releasedate\": \"10/05/2017\", \"ocid_count\": 3, \"value_sum\": 800000000.0}, {\"releasedate\": \"10/06/2017\", \"ocid_count\": 6, \"value_sum\": 16000000.0}, {\"releasedate\": \"10/06/2018\", \"ocid_count\": 3, \"value_sum\": 10000000.0}, {\"releasedate\": \"10/10/2018\", \"ocid_count\": 21, \"value_sum\": 0.0}, {\"releasedate\": \"10/10/2019\", \"ocid_count\": 2, \"value_sum\": 0.0}, {\"releasedate\": \"10/11/2017\", \"ocid_count\": 3, \"value_sum\": 360000000.0}, {\"releasedate\": \"10/13/2017\", \"ocid_count\": 1, \"value_sum\": 0.0}, {\"releasedate\": \"10/14/2017\", \"ocid_count\": 3, \"value_sum\": 4000000.0}, {\"releasedate\": \"10/14/2019\", \"ocid_count\": 6, \"value_sum\": 0.0}, {\"releasedate\": \"10/15/2019\", \"ocid_count\": 1, \"value_sum\": 0.0}, {\"releasedate\": \"10/17/2017\", \"ocid_count\": 3, \"value_sum\": 500000000.0}, {\"releasedate\": \"10/17/2019\", \"ocid_count\": 10, \"value_sum\": 0.0}, {\"releasedate\": \"10/18/2017\", \"ocid_count\": 1, \"value_sum\": 0.0}, {\"releasedate\": \"10/18/2018\", \"ocid_count\": 1, \"value_sum\": 0.0}, {\"releasedate\": \"10/19/2017\", \"ocid_count\": 3, \"value_sum\": 0.0}, {\"releasedate\": \"10/21/2019\", \"ocid_count\": 2, \"value_sum\": 0.0}, {\"releasedate\": \"10/22/2019\", \"ocid_count\": 2, \"value_sum\": 0.0}, {\"releasedate\": \"10/23/2017\", \"ocid_count\": 30, \"value_sum\": 0.0}, {\"releasedate\": \"10/23/2019\", \"ocid_count\": 1, \"value_sum\": 0.0}, {\"releasedate\": \"10/24/2019\", \"ocid_count\": 4, \"value_sum\": 0.0}, {\"releasedate\": \"10/25/2019\", \"ocid_count\": 4, \"value_sum\": 0.0}, {\"releasedate\": \"10/26/2017\", \"ocid_count\": 1, \"value_sum\": 0.0}, {\"releasedate\": \"10/26/2018\", \"ocid_count\": 3, \"value_sum\": 0.0}, {\"releasedate\": \"10/29/2019\", \"ocid_count\": 1, \"value_sum\": 0.0}, {\"releasedate\": \"10/30/2018\", \"ocid_count\": 3, \"value_sum\": 450000.0}, {\"releasedate\": \"10/30/2019\", \"ocid_count\": 2, \"value_sum\": 0.0}, {\"releasedate\": \"10/31/2018\", \"ocid_count\": 1, \"value_sum\": 0.0}, {\"releasedate\": \"10/31/2019\", \"ocid_count\": 2, \"value_sum\": 0.0}, {\"releasedate\": \"11/01/2019\", \"ocid_count\": 1, \"value_sum\": 150000.0}, {\"releasedate\": \"11/02/2017\", \"ocid_count\": 10, \"value_sum\": 0.0}, {\"releasedate\": \"11/02/2018\", \"ocid_count\": 1, \"value_sum\": 90000.0}, {\"releasedate\": \"11/04/2019\", \"ocid_count\": 3, \"value_sum\": 400000000.0}, {\"releasedate\": \"11/05/2019\", \"ocid_count\": 7, \"value_sum\": 166000000.0}, {\"releasedate\": \"11/06/2018\", \"ocid_count\": 6, \"value_sum\": 4000002.0}, {\"releasedate\": \"11/06/2019\", \"ocid_count\": 3, \"value_sum\": 0.0}, {\"releasedate\": \"11/07/2018\", \"ocid_count\": 2, \"value_sum\": 0.0}, {\"releasedate\": \"11/07/2019\", \"ocid_count\": 1, \"value_sum\": 0.0}, {\"releasedate\": \"11/08/2019\", \"ocid_count\": 1, \"value_sum\": 12500.0}, {\"releasedate\": \"11/10/2017\", \"ocid_count\": 10, \"value_sum\": 0.0}, {\"releasedate\": \"11/11/2017\", \"ocid_count\": 2, \"value_sum\": 0.0}, {\"releasedate\": \"11/11/2019\", \"ocid_count\": 80, \"value_sum\": 0.0}, {\"releasedate\": \"11/12/2019\", \"ocid_count\": 1, \"value_sum\": 0.0}, {\"releasedate\": \"11/14/2019\", \"ocid_count\": 4, \"value_sum\": 1523000000.0}, {\"releasedate\": \"11/15/2018\", \"ocid_count\": 1, \"value_sum\": 0.0}, {\"releasedate\": \"11/15/2019\", \"ocid_count\": 1, \"value_sum\": 0.0}, {\"releasedate\": \"11/16/2018\", \"ocid_count\": 3, \"value_sum\": 0.0}, {\"releasedate\": \"11/18/2019\", \"ocid_count\": 2, \"value_sum\": 0.0}, {\"releasedate\": \"11/19/2019\", \"ocid_count\": 1, \"value_sum\": 0.0}, {\"releasedate\": \"11/20/2019\", \"ocid_count\": 7, \"value_sum\": 6000000.0}, {\"releasedate\": \"11/21/2017\", \"ocid_count\": 2, \"value_sum\": 0.0}, {\"releasedate\": \"11/21/2018\", \"ocid_count\": 3, \"value_sum\": 0.0}, {\"releasedate\": \"11/22/2017\", \"ocid_count\": 10, \"value_sum\": 0.0}, {\"releasedate\": \"11/22/2018\", \"ocid_count\": 1, \"value_sum\": 0.0}, {\"releasedate\": \"11/23/2017\", \"ocid_count\": 2, \"value_sum\": 0.0}, {\"releasedate\": \"11/23/2018\", \"ocid_count\": 1, \"value_sum\": 0.0}, {\"releasedate\": \"11/24/2017\", \"ocid_count\": 2, \"value_sum\": 0.0}, {\"releasedate\": \"11/25/2019\", \"ocid_count\": 1, \"value_sum\": 0.0}, {\"releasedate\": \"11/26/2018\", \"ocid_count\": 1, \"value_sum\": 0.0}, {\"releasedate\": \"11/27/2018\", \"ocid_count\": 1, \"value_sum\": 0.0}, {\"releasedate\": \"11/28/2017\", \"ocid_count\": 10, \"value_sum\": 0.0}, {\"releasedate\": \"11/28/2018\", \"ocid_count\": 1, \"value_sum\": 0.0}, {\"releasedate\": \"11/28/2019\", \"ocid_count\": 1, \"value_sum\": 0.0}, {\"releasedate\": \"11/29/2017\", \"ocid_count\": 3, \"value_sum\": 4000000.0}, {\"releasedate\": \"11/29/2018\", \"ocid_count\": 1, \"value_sum\": 0.0}, {\"releasedate\": \"11/29/2019\", \"ocid_count\": 1, \"value_sum\": 0.0}, {\"releasedate\": \"11/30/2017\", \"ocid_count\": 3, \"value_sum\": 1500000000.0}, {\"releasedate\": \"11/30/2018\", \"ocid_count\": 4, \"value_sum\": 0.0}, {\"releasedate\": \"12/01/2018\", \"ocid_count\": 5, \"value_sum\": 1500000000.0}, {\"releasedate\": \"12/03/2019\", \"ocid_count\": 1, \"value_sum\": 0.0}, {\"releasedate\": \"12/04/2017\", \"ocid_count\": 30, \"value_sum\": 0.0}, {\"releasedate\": \"12/04/2019\", \"ocid_count\": 1, \"value_sum\": 0.0}, {\"releasedate\": \"12/05/2018\", \"ocid_count\": 13, \"value_sum\": 550000000.0}, {\"releasedate\": \"12/06/2017\", \"ocid_count\": 3, \"value_sum\": 1500000000.0}, {\"releasedate\": \"12/06/2018\", \"ocid_count\": 3, \"value_sum\": 20000.0}, {\"releasedate\": \"12/06/2019\", \"ocid_count\": 11, \"value_sum\": 0.0}, {\"releasedate\": \"12/07/2017\", \"ocid_count\": 3, \"value_sum\": 8000000.0}, {\"releasedate\": \"12/07/2018\", \"ocid_count\": 2, \"value_sum\": 0.0}, {\"releasedate\": \"12/08/2018\", \"ocid_count\": 3, \"value_sum\": 5000000000.0}, {\"releasedate\": \"12/09/2019\", \"ocid_count\": 7, \"value_sum\": 95000.0}, {\"releasedate\": \"12/11/2018\", \"ocid_count\": 2, \"value_sum\": 0.0}, {\"releasedate\": \"12/11/2019\", \"ocid_count\": 4, \"value_sum\": 0.0}, {\"releasedate\": \"12/12/2017\", \"ocid_count\": 6, \"value_sum\": 50000000.0}, {\"releasedate\": \"12/13/2019\", \"ocid_count\": 3, \"value_sum\": 460000000.0}, {\"releasedate\": \"12/14/2018\", \"ocid_count\": 3, \"value_sum\": 0.0}, {\"releasedate\": \"12/15/2017\", \"ocid_count\": 1, \"value_sum\": 0.0}, {\"releasedate\": \"12/16/2019\", \"ocid_count\": 2, \"value_sum\": 196000000.0}, {\"releasedate\": \"12/18/2017\", \"ocid_count\": 10, \"value_sum\": 0.0}, {\"releasedate\": \"12/18/2018\", \"ocid_count\": 2, \"value_sum\": 0.0}, {\"releasedate\": \"12/18/2019\", \"ocid_count\": 4, \"value_sum\": 0.0}, {\"releasedate\": \"12/19/2017\", \"ocid_count\": 3, \"value_sum\": 350000.0}, {\"releasedate\": \"12/19/2019\", \"ocid_count\": 1, \"value_sum\": 0.0}, {\"releasedate\": \"12/20/2019\", \"ocid_count\": 1, \"value_sum\": 0.0}, {\"releasedate\": \"12/21/2018\", \"ocid_count\": 1, \"value_sum\": 0.0}, {\"releasedate\": \"12/22/2018\", \"ocid_count\": 3, \"value_sum\": 235000000.0}, {\"releasedate\": \"12/23/2017\", \"ocid_count\": 2, \"value_sum\": 0.0}, {\"releasedate\": \"12/23/2019\", \"ocid_count\": 2, \"value_sum\": 0.0}, {\"releasedate\": \"12/24/2018\", \"ocid_count\": 10, \"value_sum\": 0.0}, {\"releasedate\": \"12/27/2019\", \"ocid_count\": 2, \"value_sum\": 0.0}, {\"releasedate\": \"12/30/2017\", \"ocid_count\": 3, \"value_sum\": 765000.0}, {\"releasedate\": \"12/31/2018\", \"ocid_count\": 1, \"value_sum\": 268599.9}]}}, {\"mode\": \"vega-lite\"});\n",
              "</script>"
            ]
          },
          "metadata": {
            "tags": []
          },
          "execution_count": 15
        }
      ]
    }
  ]
}