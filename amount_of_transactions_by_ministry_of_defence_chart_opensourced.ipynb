{
  "nbformat": 4,
  "nbformat_minor": 0,
  "metadata": {
    "colab": {
      "name": "amount_of_transactions_by_ministry_of_defence_chart_opensourced.ipynb",
      "provenance": [],
      "collapsed_sections": [],
      "authorship_tag": "ABX9TyP5gznO2OEY22TL56fAfIwy",
      "include_colab_link": true
    },
    "kernelspec": {
      "name": "python3",
      "display_name": "Python 3"
    }
  },
  "cells": [
    {
      "cell_type": "markdown",
      "metadata": {
        "id": "view-in-github",
        "colab_type": "text"
      },
      "source": [
        "<a href=\"https://colab.research.google.com/github/spendnetwork/charts/blob/master/amount_of_transactions_by_ministry_of_defence_chart_opensourced.ipynb\" target=\"_parent\"><img src=\"https://colab.research.google.com/assets/colab-badge.svg\" alt=\"Open In Colab\"/></a>"
      ]
    },
    {
      "cell_type": "code",
      "metadata": {
        "id": "tqc2iXLl8hTN",
        "colab_type": "code",
        "colab": {}
      },
      "source": [
        "import pandas as pd\n",
        "import altair as alt\n",
        "from datetime import datetime, timedelta\n",
        "from dateutil.relativedelta import relativedelta"
      ],
      "execution_count": 0,
      "outputs": []
    },
    {
      "cell_type": "code",
      "metadata": {
        "id": "dfMVbVJs7f-3",
        "colab_type": "code",
        "colab": {
          "base_uri": "https://localhost:8080/",
          "height": 260
        },
        "outputId": "fc666377-f77c-421d-d098-65d8d4d3b7ae"
      },
      "source": [
        "url = 'https://raw.githubusercontent.com/spendnetwork/charts/master/ministry_of_defence_spend.csv'\n",
        "df = pd.read_csv(url)\n",
        "print(df)"
      ],
      "execution_count": 57,
      "outputs": [
        {
          "output_type": "stream",
          "text": [
            "                          trans_id        buyer_id  ...        date        amount\n",
            "0      MOD017_MOD_gov_2017_03_1879  MOD017_MOD_gov  ...  2017-03-01  4.500000e+04\n",
            "1      MOD017_MOD_gov_2019_01_2562  MOD017_MOD_gov  ...  2019-01-01  5.005894e+08\n",
            "2      MOD017_MOD_gov_2019_04_1193  MOD017_MOD_gov  ...  2019-04-01  4.200000e+04\n",
            "3      MOD017_MOD_gov_2018_05_1124  MOD017_MOD_gov  ...  2018-05-01  3.854000e+04\n",
            "4       MOD017_MOD_gov_2018_10_840  MOD017_MOD_gov  ...  2018-10-01  6.132240e+04\n",
            "...                            ...             ...  ...         ...           ...\n",
            "94186   MOD017_MOD_gov_2017_09_329  MOD017_MOD_gov  ...  2017-09-01  2.660568e+05\n",
            "94187   MOD017_MOD_gov_2017_10_848  MOD017_MOD_gov  ...  2017-10-01  4.583300e+04\n",
            "94188  MOD017_MOD_gov_2017_11_1012  MOD017_MOD_gov  ...  2017-11-01  4.496420e+04\n",
            "94189   MOD017_MOD_gov_2017_01_199  MOD017_MOD_gov  ...  2017-01-01  2.142146e+05\n",
            "94190   MOD017_MOD_gov_2017_11_591  MOD017_MOD_gov  ...  2017-11-01  1.123472e+05\n",
            "\n",
            "[94191 rows x 15 columns]\n"
          ],
          "name": "stdout"
        }
      ]
    },
    {
      "cell_type": "code",
      "metadata": {
        "id": "ocvP41ZMahE8",
        "colab_type": "code",
        "colab": {}
      },
      "source": [
        "df['date']=pd.to_datetime(df['date']).dt.strftime('%m/%d/%Y')"
      ],
      "execution_count": 0,
      "outputs": []
    },
    {
      "cell_type": "code",
      "metadata": {
        "id": "3UEM3xRs8tMF",
        "colab_type": "code",
        "colab": {}
      },
      "source": [
        "df1=(df.groupby('date').agg({'trans_id': ['count'], 'amount': 'sum'}))\n",
        "#df1.head()"
      ],
      "execution_count": 0,
      "outputs": []
    },
    {
      "cell_type": "code",
      "metadata": {
        "id": "DqsTJ_0lJFMl",
        "colab_type": "code",
        "colab": {}
      },
      "source": [
        "df1.columns = df1.columns.map('_'.join)\n",
        "df1 = df1.reset_index()\n",
        "#df1.head()"
      ],
      "execution_count": 0,
      "outputs": []
    },
    {
      "cell_type": "code",
      "metadata": {
        "id": "o74MSUwJZzgX",
        "colab_type": "code",
        "colab": {}
      },
      "source": [
        "#df1['releasedate']=pd.to_datetime(df1['releasedate'].dt.strftime('%m/%d/%Y'))\n",
        "#df1['releasedate']=pd.to_datetime(df1['releasedate']).dt.strftime('%m/%d/%Y') \n",
        "#df1.head()"
      ],
      "execution_count": 0,
      "outputs": []
    },
    {
      "cell_type": "code",
      "metadata": {
        "id": "JrSOkMCtdjFU",
        "colab_type": "code",
        "colab": {}
      },
      "source": [
        "def rolling_twelve_month_trend(df, colname, agg_type):        \n",
        "        df2=df1['date'] = pd.to_datetime(df1['date'])\n",
        "        p2mask = (df1['date'] > datetime.today() - relativedelta(years=1)) & (df1['date'] <= datetime.today())\n",
        "        p1mask = (df1['date'] > datetime.today() - relativedelta(years=2)) & (\n",
        "                    df1['date'] <= datetime.today() - relativedelta(years=1))\n",
        "        p2 = df.loc[p2mask]\n",
        "        p1 = df.loc[p1mask]\n",
        "\n",
        "        perc = None\n",
        "        if agg_type == 'sum':\n",
        "            perc = float(p2[colname].sum() - p1[colname].sum()) / abs(p1[colname].sum()) * 100\n",
        "        elif agg_type == 'mean':\n",
        "            perc = float(p2[colname].mean() - p1[colname].mean()) / abs(p1[colname].mean()) * 100\n",
        "        return perc\n",
        "  \n",
        "def which_caret(stat_value):\n",
        "        stat_value = int(stat_value)\n",
        "        ## returning html that deploys Font Awesome icons, can be changed according to icon set in use\n",
        "        if stat_value > 0:\n",
        "            caret = u\"\\u25B2\"\n",
        "        elif stat_value < 0:\n",
        "            caret = u\"\\u25BC\"\n",
        "        else:\n",
        "            caret = u\"\\u003D\"\n",
        "        return caret\n",
        "\n",
        "def inc_dec(stat_value):\n",
        "        stat_value = int(stat_value)\n",
        "        ## returning html that deploys Font Awesome icons, can be changed according to icon set in use\n",
        "        if stat_value > 0:\n",
        "            change = 'increase'\n",
        "        elif stat_value < 0:\n",
        "            change = 'decrease'\n",
        "        else:\n",
        "            change = 'change'\n",
        "        return change"
      ],
      "execution_count": 0,
      "outputs": []
    },
    {
      "cell_type": "code",
      "metadata": {
        "id": "m5kPNIBYdp5m",
        "colab_type": "code",
        "colab": {
          "base_uri": "https://localhost:8080/",
          "height": 34
        },
        "outputId": "c198b9fd-36c4-4237-a6e9-1717899acfbb"
      },
      "source": [
        "perc = rolling_twelve_month_trend(df1, 'amount_sum', 'sum')\n",
        "caret = which_caret(perc)\n",
        "change = inc_dec(perc)\n",
        "\n",
        "caret+str(perc)+change"
      ],
      "execution_count": 63,
      "outputs": [
        {
          "output_type": "execute_result",
          "data": {
            "text/plain": [
              "'▼-31.22337500452054decrease'"
            ]
          },
          "metadata": {
            "tags": []
          },
          "execution_count": 63
        }
      ]
    },
    {
      "cell_type": "code",
      "metadata": {
        "id": "km6J-8euyboY",
        "colab_type": "code",
        "outputId": "f95e0143-090a-4efc-94aa-dbd0c5e083f2",
        "colab": {
          "base_uri": "https://localhost:8080/",
          "height": 388
        }
      },
      "source": [
        "        chart = (\n",
        "            alt.Chart(df1, width=1200, height=250, title=\"Total value of spend by Ministry of Defence\")\n",
        "                .mark_bar(color='#91D739')\n",
        "                .encode(\n",
        "                alt.X(\n",
        "                    \"yearmonth(date):O\",\n",
        "                    ## xAxis title must be \"Source: https://openopps.com\"\n",
        "                    axis=alt.Axis(title=\"Source: https://openopps.com\", grid=False, \n",
        "                labelFont='Helvetica', \n",
        "                labelFontSize=12, \n",
        "                labelAngle=0, \n",
        "                titleAlign='left',\n",
        "                titleAnchor='start',\n",
        "                titleFont='Helvetica',\n",
        "                titleFontSize= 11,\n",
        "                titleFontWeight= 300,\n",
        "                titleX= -0,\n",
        "                titleY= 30)\n",
        "                ),\n",
        "                alt.Y(\"sum(amount_sum):Q\",\n",
        "                      axis=alt.Axis(title=(caret +' '+ str(int(perc))+'% ' + change + ' this year in comparison with the previous year.' ),\n",
        "                                    format=\".2s\",\n",
        "                                    titleAlign= 'left',\n",
        "                                    titleAnchor='start',\n",
        "                                    titleAngle= 0,\n",
        "                                    titleFont= 'Helvetica',\n",
        "                                    titleFontSize= 12,\n",
        "                                    titleFontWeight= 400,\n",
        "                                    titleX= -0,\n",
        "                                    titleY= -30,),\n",
        "                      ),\n",
        "                tooltip=[\n",
        "                    alt.Tooltip('sum(amount_sum):Q', title=\"Total value\", format=\"$.4r\"),\n",
        "                    alt.Tooltip('sum(trans_id_count):Q', title=\"Total transactions\")\n",
        "                ],\n",
        "                  # suppress the legend for now.\n",
        "            )\n",
        "        )\n",
        "\n",
        "        text = (\n",
        "            chart.mark_text(align=\"center\", baseline=\"bottom\")\n",
        "                .encode(text=alt.Text('sum(amount_sum):N', format=\"$.3s\"))\n",
        "        )\n",
        "\n",
        "        (chart+text).configure_view(\n",
        "          strokeWidth=0\n",
        "        ).configure_title(fontSize=18, anchor='start',\n",
        "                color= \"#91D739\", font='Helvetica', fontWeight=400)\n"
      ],
      "execution_count": 64,
      "outputs": [
        {
          "output_type": "execute_result",
          "data": {
            "text/plain": [
              "alt.LayerChart(...)"
            ],
            "text/html": [
              "\n",
              "<div id=\"altair-viz-c6e635b05095497890dc82a69f124fa4\"></div>\n",
              "<script type=\"text/javascript\">\n",
              "  (function(spec, embedOpt){\n",
              "    let outputDiv = document.currentScript.previousElementSibling;\n",
              "    if (outputDiv.id !== \"altair-viz-c6e635b05095497890dc82a69f124fa4\") {\n",
              "      outputDiv = document.getElementById(\"altair-viz-c6e635b05095497890dc82a69f124fa4\");\n",
              "    }\n",
              "    const paths = {\n",
              "      \"vega\": \"https://cdn.jsdelivr.net/npm//vega@5?noext\",\n",
              "      \"vega-lib\": \"https://cdn.jsdelivr.net/npm//vega-lib?noext\",\n",
              "      \"vega-lite\": \"https://cdn.jsdelivr.net/npm//vega-lite@4.8.1?noext\",\n",
              "      \"vega-embed\": \"https://cdn.jsdelivr.net/npm//vega-embed@6?noext\",\n",
              "    };\n",
              "\n",
              "    function loadScript(lib) {\n",
              "      return new Promise(function(resolve, reject) {\n",
              "        var s = document.createElement('script');\n",
              "        s.src = paths[lib];\n",
              "        s.async = true;\n",
              "        s.onload = () => resolve(paths[lib]);\n",
              "        s.onerror = () => reject(`Error loading script: ${paths[lib]}`);\n",
              "        document.getElementsByTagName(\"head\")[0].appendChild(s);\n",
              "      });\n",
              "    }\n",
              "\n",
              "    function showError(err) {\n",
              "      outputDiv.innerHTML = `<div class=\"error\" style=\"color:red;\">${err}</div>`;\n",
              "      throw err;\n",
              "    }\n",
              "\n",
              "    function displayChart(vegaEmbed) {\n",
              "      vegaEmbed(outputDiv, spec, embedOpt)\n",
              "        .catch(err => showError(`Javascript Error: ${err.message}<br>This usually means there's a typo in your chart specification. See the javascript console for the full traceback.`));\n",
              "    }\n",
              "\n",
              "    if(typeof define === \"function\" && define.amd) {\n",
              "      requirejs.config({paths});\n",
              "      require([\"vega-embed\"], displayChart, err => showError(`Error loading script: ${err.message}`));\n",
              "    } else if (typeof vegaEmbed === \"function\") {\n",
              "      displayChart(vegaEmbed);\n",
              "    } else {\n",
              "      loadScript(\"vega\")\n",
              "        .then(() => loadScript(\"vega-lite\"))\n",
              "        .then(() => loadScript(\"vega-embed\"))\n",
              "        .catch(showError)\n",
              "        .then(() => displayChart(vegaEmbed));\n",
              "    }\n",
              "  })({\"config\": {\"view\": {\"continuousWidth\": 400, \"continuousHeight\": 300, \"strokeWidth\": 0}, \"title\": {\"anchor\": \"start\", \"color\": \"#91D739\", \"font\": \"Helvetica\", \"fontSize\": 18, \"fontWeight\": 400}}, \"layer\": [{\"mark\": {\"type\": \"bar\", \"color\": \"#91D739\"}, \"encoding\": {\"tooltip\": [{\"type\": \"quantitative\", \"aggregate\": \"sum\", \"field\": \"amount_sum\", \"format\": \"$.4r\", \"title\": \"Total value\"}, {\"type\": \"quantitative\", \"aggregate\": \"sum\", \"field\": \"trans_id_count\", \"title\": \"Total transactions\"}], \"x\": {\"type\": \"ordinal\", \"axis\": {\"grid\": false, \"labelAngle\": 0, \"labelFont\": \"Helvetica\", \"labelFontSize\": 12, \"title\": \"Source: https://openopps.com\", \"titleAlign\": \"left\", \"titleAnchor\": \"start\", \"titleFont\": \"Helvetica\", \"titleFontSize\": 11, \"titleFontWeight\": 300, \"titleX\": 0, \"titleY\": 30}, \"field\": \"date\", \"timeUnit\": \"yearmonth\"}, \"y\": {\"type\": \"quantitative\", \"aggregate\": \"sum\", \"axis\": {\"format\": \".2s\", \"title\": \"\\u25bc -31% decrease this year in comparison with the previous year.\", \"titleAlign\": \"left\", \"titleAnchor\": \"start\", \"titleAngle\": 0, \"titleFont\": \"Helvetica\", \"titleFontSize\": 12, \"titleFontWeight\": 400, \"titleX\": 0, \"titleY\": -30}, \"field\": \"amount_sum\"}}, \"height\": 250, \"title\": \"Total value of spend by Ministry of Defence\", \"width\": 1200}, {\"mark\": {\"type\": \"text\", \"align\": \"center\", \"baseline\": \"bottom\"}, \"encoding\": {\"text\": {\"type\": \"nominal\", \"aggregate\": \"sum\", \"field\": \"amount_sum\", \"format\": \"$.3s\"}, \"tooltip\": [{\"type\": \"quantitative\", \"aggregate\": \"sum\", \"field\": \"amount_sum\", \"format\": \"$.4r\", \"title\": \"Total value\"}, {\"type\": \"quantitative\", \"aggregate\": \"sum\", \"field\": \"trans_id_count\", \"title\": \"Total transactions\"}], \"x\": {\"type\": \"ordinal\", \"axis\": {\"grid\": false, \"labelAngle\": 0, \"labelFont\": \"Helvetica\", \"labelFontSize\": 12, \"title\": \"Source: https://openopps.com\", \"titleAlign\": \"left\", \"titleAnchor\": \"start\", \"titleFont\": \"Helvetica\", \"titleFontSize\": 11, \"titleFontWeight\": 300, \"titleX\": 0, \"titleY\": 30}, \"field\": \"date\", \"timeUnit\": \"yearmonth\"}, \"y\": {\"type\": \"quantitative\", \"aggregate\": \"sum\", \"axis\": {\"format\": \".2s\", \"title\": \"\\u25bc -31% decrease this year in comparison with the previous year.\", \"titleAlign\": \"left\", \"titleAnchor\": \"start\", \"titleAngle\": 0, \"titleFont\": \"Helvetica\", \"titleFontSize\": 12, \"titleFontWeight\": 400, \"titleX\": 0, \"titleY\": -30}, \"field\": \"amount_sum\"}}, \"height\": 250, \"title\": \"Total value of spend by Ministry of Defence\", \"width\": 1200}], \"data\": {\"name\": \"data-a2ce79739dc593bfe2db44d21ce7483b\"}, \"$schema\": \"https://vega.github.io/schema/vega-lite/v4.8.1.json\", \"datasets\": {\"data-a2ce79739dc593bfe2db44d21ce7483b\": [{\"date\": \"2017-01-01T00:00:00\", \"trans_id_count\": 1916, \"amount_sum\": 308112899.7600003}, {\"date\": \"2018-01-01T00:00:00\", \"trans_id_count\": 2404, \"amount_sum\": 478276217.1699988}, {\"date\": \"2019-01-01T00:00:00\", \"trans_id_count\": 2562, \"amount_sum\": 1001178795.0399994}, {\"date\": \"2017-02-01T00:00:00\", \"trans_id_count\": 1689, \"amount_sum\": 345257651.39999926}, {\"date\": \"2018-02-01T00:00:00\", \"trans_id_count\": 2818, \"amount_sum\": 581578213.3200012}, {\"date\": \"2019-02-01T00:00:00\", \"trans_id_count\": 2493, \"amount_sum\": 539915731.9600004}, {\"date\": \"2017-03-01T00:00:00\", \"trans_id_count\": 4820, \"amount_sum\": 1288251021.1900039}, {\"date\": \"2018-03-01T00:00:00\", \"trans_id_count\": 3140, \"amount_sum\": 741534487.9599988}, {\"date\": \"2019-03-01T00:00:00\", \"trans_id_count\": 3130, \"amount_sum\": 705161853.2299984}, {\"date\": \"2017-04-01T00:00:00\", \"trans_id_count\": 2451, \"amount_sum\": 585622590.9799991}, {\"date\": \"2018-04-01T00:00:00\", \"trans_id_count\": 2772, \"amount_sum\": 667981495.9100008}, {\"date\": \"2019-04-01T00:00:00\", \"trans_id_count\": 2876, \"amount_sum\": 899944253.1000005}, {\"date\": \"2017-05-01T00:00:00\", \"trans_id_count\": 2656, \"amount_sum\": 675372491.0599991}, {\"date\": \"2018-05-01T00:00:00\", \"trans_id_count\": 2826, \"amount_sum\": 619343793.6900004}, {\"date\": \"2019-05-01T00:00:00\", \"trans_id_count\": 2869, \"amount_sum\": 638145845.8500006}, {\"date\": \"2017-06-01T00:00:00\", \"trans_id_count\": 2865, \"amount_sum\": 748860639.499999}, {\"date\": \"2018-06-01T00:00:00\", \"trans_id_count\": 2219, \"amount_sum\": 628742836.5699993}, {\"date\": \"2019-06-01T00:00:00\", \"trans_id_count\": 2627, \"amount_sum\": 803857853.7399998}, {\"date\": \"2017-07-01T00:00:00\", \"trans_id_count\": 2587, \"amount_sum\": 550216402.1899998}, {\"date\": \"2018-07-01T00:00:00\", \"trans_id_count\": 2248, \"amount_sum\": 564494816.5900009}, {\"date\": \"2019-07-01T00:00:00\", \"trans_id_count\": 2639, \"amount_sum\": 619956946.0800011}, {\"date\": \"2017-08-01T00:00:00\", \"trans_id_count\": 2489, \"amount_sum\": 663640760.1099995}, {\"date\": \"2018-08-01T00:00:00\", \"trans_id_count\": 2536, \"amount_sum\": 576982888.4699988}, {\"date\": \"2019-08-01T00:00:00\", \"trans_id_count\": 2265, \"amount_sum\": 537341580.6200002}, {\"date\": \"2017-09-01T00:00:00\", \"trans_id_count\": 2307, \"amount_sum\": 597671032.1199996}, {\"date\": \"2018-09-01T00:00:00\", \"trans_id_count\": 2184, \"amount_sum\": 569593683.0699997}, {\"date\": \"2019-09-01T00:00:00\", \"trans_id_count\": 2666, \"amount_sum\": 656167443.5099996}, {\"date\": \"2017-10-01T00:00:00\", \"trans_id_count\": 2517, \"amount_sum\": 497062715.9600003}, {\"date\": \"2018-10-01T00:00:00\", \"trans_id_count\": 2755, \"amount_sum\": 622398359.5200005}, {\"date\": \"2019-10-01T00:00:00\", \"trans_id_count\": 3056, \"amount_sum\": 791808900.1999979}, {\"date\": \"2017-11-01T00:00:00\", \"trans_id_count\": 2492, \"amount_sum\": 580831042.51}, {\"date\": \"2018-11-01T00:00:00\", \"trans_id_count\": 2252, \"amount_sum\": 572734624.7}, {\"date\": \"2019-11-01T00:00:00\", \"trans_id_count\": 2832, \"amount_sum\": 684676704.7699997}, {\"date\": \"2017-12-01T00:00:00\", \"trans_id_count\": 2352, \"amount_sum\": 747828605.7300003}, {\"date\": \"2018-12-01T00:00:00\", \"trans_id_count\": 2234, \"amount_sum\": 768069452.3000005}, {\"date\": \"2019-12-01T00:00:00\", \"trans_id_count\": 2647, \"amount_sum\": 817328727.4200019}]}}, {\"mode\": \"vega-lite\"});\n",
              "</script>"
            ]
          },
          "metadata": {
            "tags": []
          },
          "execution_count": 64
        }
      ]
    }
  ]
}