{
  "nbformat": 4,
  "nbformat_minor": 0,
  "metadata": {
    "colab": {
      "name": "number_of_buyers_deloitte_chart_opensourced.ipynb",
      "provenance": [],
      "collapsed_sections": [],
      "include_colab_link": true
    },
    "kernelspec": {
      "name": "python3",
      "display_name": "Python 3"
    }
  },
  "cells": [
    {
      "cell_type": "markdown",
      "metadata": {
        "id": "view-in-github",
        "colab_type": "text"
      },
      "source": [
        "<a href=\"https://colab.research.google.com/github/spendnetwork/charts/blob/master/number_of_buyers_deloitte_chart_opensourced.ipynb\" target=\"_parent\"><img src=\"https://colab.research.google.com/assets/colab-badge.svg\" alt=\"Open In Colab\"/></a>"
      ]
    },
    {
      "cell_type": "code",
      "metadata": {
        "id": "tqc2iXLl8hTN",
        "colab_type": "code",
        "colab": {}
      },
      "source": [
        "import pandas as pd\n",
        "import altair as alt"
      ],
      "execution_count": 0,
      "outputs": []
    },
    {
      "cell_type": "code",
      "metadata": {
        "id": "dfMVbVJs7f-3",
        "colab_type": "code",
        "colab": {}
      },
      "source": [
        "url = 'https://raw.githubusercontent.com/spendnetwork/charts/master/number_of_buyers_deloitte.csv'\n",
        "df = pd.read_csv(url)\n",
        "#print(df)"
      ],
      "execution_count": 0,
      "outputs": []
    },
    {
      "cell_type": "code",
      "metadata": {
        "id": "ocvP41ZMahE8",
        "colab_type": "code",
        "colab": {}
      },
      "source": [
        "df['releasedate']=pd.to_datetime(df['releasedate']).dt.strftime('%m/%d/%Y')"
      ],
      "execution_count": 0,
      "outputs": []
    },
    {
      "cell_type": "code",
      "metadata": {
        "id": "3UEM3xRs8tMF",
        "colab_type": "code",
        "colab": {}
      },
      "source": [
        "df1=(df.groupby('releasedate').agg({'buyer': pd.Series.nunique}))\n",
        "#df1.head()"
      ],
      "execution_count": 0,
      "outputs": []
    },
    {
      "cell_type": "code",
      "metadata": {
        "id": "DqsTJ_0lJFMl",
        "colab_type": "code",
        "colab": {
          "base_uri": "https://localhost:8080/",
          "height": 206
        },
        "outputId": "8ea959cb-a4f6-4434-8618-8d1dbe747d15"
      },
      "source": [
        "#df1.columns = df1.columns.map('_'.join)\n",
        "df1 = df1.reset_index()\n",
        "df1.head()"
      ],
      "execution_count": 9,
      "outputs": [
        {
          "output_type": "execute_result",
          "data": {
            "text/html": [
              "<div>\n",
              "<style scoped>\n",
              "    .dataframe tbody tr th:only-of-type {\n",
              "        vertical-align: middle;\n",
              "    }\n",
              "\n",
              "    .dataframe tbody tr th {\n",
              "        vertical-align: top;\n",
              "    }\n",
              "\n",
              "    .dataframe thead th {\n",
              "        text-align: right;\n",
              "    }\n",
              "</style>\n",
              "<table border=\"1\" class=\"dataframe\">\n",
              "  <thead>\n",
              "    <tr style=\"text-align: right;\">\n",
              "      <th></th>\n",
              "      <th>index</th>\n",
              "      <th>releasedate</th>\n",
              "      <th>buyer</th>\n",
              "    </tr>\n",
              "  </thead>\n",
              "  <tbody>\n",
              "    <tr>\n",
              "      <th>0</th>\n",
              "      <td>0</td>\n",
              "      <td>01/02/2019</td>\n",
              "      <td>1</td>\n",
              "    </tr>\n",
              "    <tr>\n",
              "      <th>1</th>\n",
              "      <td>1</td>\n",
              "      <td>01/04/2018</td>\n",
              "      <td>1</td>\n",
              "    </tr>\n",
              "    <tr>\n",
              "      <th>2</th>\n",
              "      <td>2</td>\n",
              "      <td>01/04/2019</td>\n",
              "      <td>1</td>\n",
              "    </tr>\n",
              "    <tr>\n",
              "      <th>3</th>\n",
              "      <td>3</td>\n",
              "      <td>01/06/2017</td>\n",
              "      <td>2</td>\n",
              "    </tr>\n",
              "    <tr>\n",
              "      <th>4</th>\n",
              "      <td>4</td>\n",
              "      <td>01/08/2019</td>\n",
              "      <td>1</td>\n",
              "    </tr>\n",
              "  </tbody>\n",
              "</table>\n",
              "</div>"
            ],
            "text/plain": [
              "   index releasedate  buyer\n",
              "0      0  01/02/2019      1\n",
              "1      1  01/04/2018      1\n",
              "2      2  01/04/2019      1\n",
              "3      3  01/06/2017      2\n",
              "4      4  01/08/2019      1"
            ]
          },
          "metadata": {
            "tags": []
          },
          "execution_count": 9
        }
      ]
    },
    {
      "cell_type": "code",
      "metadata": {
        "id": "o74MSUwJZzgX",
        "colab_type": "code",
        "colab": {}
      },
      "source": [
        "#df1['releasedate']=pd.to_datetime(df1['releasedate'].dt.strftime('%m/%d/%Y'))\n",
        "#df1['releasedate']=pd.to_datetime(df1['releasedate']).dt.strftime('%m/%d/%Y') \n",
        "#df1.head()"
      ],
      "execution_count": 0,
      "outputs": []
    },
    {
      "cell_type": "code",
      "metadata": {
        "id": "J28YEEbs_cl2",
        "colab_type": "code",
        "colab": {}
      },
      "source": [
        "  nearest = alt.selection(type='single', nearest=True, on='mouseover',fields=['releasedate'], empty='none')"
      ],
      "execution_count": 0,
      "outputs": []
    },
    {
      "cell_type": "code",
      "metadata": {
        "id": "mwmeRRD5_ZSp",
        "colab_type": "code",
        "outputId": "292fb07e-fbca-4372-82fb-0d19d2c948ba",
        "colab": {
          "base_uri": "https://localhost:8080/",
          "height": 351
        }
      },
      "source": [
        "        line=alt.Chart(df1, width=1200, height=250, title=\"Count of buyers of Deloitte LLP\").mark_line(color='#91D739').encode(\n",
        "            x=alt.X('yearmonth(releasedate):O',\n",
        "                    axis=alt.Axis(tickCount=12, title=\"https://openopps.com\", \n",
        "                grid=False, \n",
        "                labelFont='Helvetica', \n",
        "                labelFontSize=12, \n",
        "                labelAngle=0, \n",
        "                titleAlign='left',\n",
        "                titleAnchor='start',\n",
        "                titleFont='Helvetica',\n",
        "                titleFontSize= 11,\n",
        "                titleFontWeight= 300,\n",
        "                titleX= -0,\n",
        "                titleY= 30) \n",
        "                   ),\n",
        "            y=alt.Y('sum(buyer):Q',\n",
        "                     axis=alt.Axis(title=\"\",\n",
        "                                    format=\".0s\",)\n",
        "                   ),\n",
        "            )\n",
        "        selectors = alt.Chart(df1).mark_point().encode(\n",
        "            x='yearmonth(releasedate):O',\n",
        "            opacity=alt.value(0),\n",
        "        ).add_selection(\n",
        "            nearest\n",
        "        )\n",
        "\n",
        "        points = line.mark_point().encode(\n",
        "            opacity=alt.condition(nearest, alt.value(1), alt.value(0))\n",
        "        )\n",
        "\n",
        "\n",
        "        text = line.mark_text(align='left', dx=10, dy=-10).encode(\n",
        "            text=alt.condition(nearest, 'sum(buyer):Q', alt.value(' '))\n",
        "        )\n",
        "\n",
        "        rules = alt.Chart(df1).mark_rule(color='gray').encode(\n",
        "            x='yearmonth(releasedate):O',\n",
        "        ).transform_filter(\n",
        "            nearest\n",
        "        )\n",
        "\n",
        "        chart = alt.layer(\n",
        "            line, selectors, points, rules, text\n",
        "        ).configure_view(\n",
        "          strokeWidth=0\n",
        "        ).configure_title(fontSize=18, anchor='start',\n",
        "                color= \"#91D739\", font='Helvetica', fontWeight=400)\n",
        "\n",
        "        chart"
      ],
      "execution_count": 10,
      "outputs": [
        {
          "output_type": "execute_result",
          "data": {
            "text/plain": [
              "alt.LayerChart(...)"
            ],
            "text/html": [
              "\n",
              "<div id=\"altair-viz-e46941de05194fd09665c3892b48df25\"></div>\n",
              "<script type=\"text/javascript\">\n",
              "  (function(spec, embedOpt){\n",
              "    const outputDiv = document.getElementById(\"altair-viz-e46941de05194fd09665c3892b48df25\");\n",
              "    const paths = {\n",
              "      \"vega\": \"https://cdn.jsdelivr.net/npm//vega@5?noext\",\n",
              "      \"vega-lib\": \"https://cdn.jsdelivr.net/npm//vega-lib?noext\",\n",
              "      \"vega-lite\": \"https://cdn.jsdelivr.net/npm//vega-lite@4.0.2?noext\",\n",
              "      \"vega-embed\": \"https://cdn.jsdelivr.net/npm//vega-embed@6?noext\",\n",
              "    };\n",
              "\n",
              "    function loadScript(lib) {\n",
              "      return new Promise(function(resolve, reject) {\n",
              "        var s = document.createElement('script');\n",
              "        s.src = paths[lib];\n",
              "        s.async = true;\n",
              "        s.onload = () => resolve(paths[lib]);\n",
              "        s.onerror = () => reject(`Error loading script: ${paths[lib]}`);\n",
              "        document.getElementsByTagName(\"head\")[0].appendChild(s);\n",
              "      });\n",
              "    }\n",
              "\n",
              "    function showError(err) {\n",
              "      outputDiv.innerHTML = `<div class=\"error\" style=\"color:red;\">${err}</div>`;\n",
              "      throw err;\n",
              "    }\n",
              "\n",
              "    function displayChart(vegaEmbed) {\n",
              "      vegaEmbed(outputDiv, spec, embedOpt)\n",
              "        .catch(err => showError(`Javascript Error: ${err.message}<br>This usually means there's a typo in your chart specification. See the javascript console for the full traceback.`));\n",
              "    }\n",
              "\n",
              "    if(typeof define === \"function\" && define.amd) {\n",
              "      requirejs.config({paths});\n",
              "      require([\"vega-embed\"], displayChart, err => showError(`Error loading script: ${err.message}`));\n",
              "    } else if (typeof vegaEmbed === \"function\") {\n",
              "      displayChart(vegaEmbed);\n",
              "    } else {\n",
              "      loadScript(\"vega\")\n",
              "        .then(() => loadScript(\"vega-lite\"))\n",
              "        .then(() => loadScript(\"vega-embed\"))\n",
              "        .catch(showError)\n",
              "        .then(() => displayChart(vegaEmbed));\n",
              "    }\n",
              "  })({\"config\": {\"view\": {\"continuousWidth\": 400, \"continuousHeight\": 300, \"strokeWidth\": 0}, \"title\": {\"anchor\": \"start\", \"color\": \"#91D739\", \"font\": \"Helvetica\", \"fontSize\": 18, \"fontWeight\": 400}}, \"layer\": [{\"mark\": {\"type\": \"line\", \"color\": \"#91D739\"}, \"encoding\": {\"x\": {\"type\": \"ordinal\", \"axis\": {\"grid\": false, \"labelAngle\": 0, \"labelFont\": \"Helvetica\", \"labelFontSize\": 12, \"tickCount\": 12, \"title\": \"https://openopps.com\", \"titleAlign\": \"left\", \"titleAnchor\": \"start\", \"titleFont\": \"Helvetica\", \"titleFontSize\": 11, \"titleFontWeight\": 300, \"titleX\": 0, \"titleY\": 30}, \"field\": \"releasedate\", \"timeUnit\": \"yearmonth\"}, \"y\": {\"type\": \"quantitative\", \"aggregate\": \"sum\", \"axis\": {\"format\": \".0s\", \"title\": \"\"}, \"field\": \"buyer\"}}, \"height\": 250, \"title\": \"Count of buyers of Deloitte LLP\", \"width\": 1200}, {\"mark\": \"point\", \"encoding\": {\"opacity\": {\"value\": 0}, \"x\": {\"type\": \"ordinal\", \"field\": \"releasedate\", \"timeUnit\": \"yearmonth\"}}, \"selection\": {\"selector001\": {\"type\": \"single\", \"nearest\": true, \"on\": \"mouseover\", \"fields\": [\"releasedate\"], \"empty\": \"none\"}}}, {\"mark\": \"point\", \"encoding\": {\"opacity\": {\"condition\": {\"value\": 1, \"selection\": \"selector001\"}, \"value\": 0}, \"x\": {\"type\": \"ordinal\", \"axis\": {\"grid\": false, \"labelAngle\": 0, \"labelFont\": \"Helvetica\", \"labelFontSize\": 12, \"tickCount\": 12, \"title\": \"https://openopps.com\", \"titleAlign\": \"left\", \"titleAnchor\": \"start\", \"titleFont\": \"Helvetica\", \"titleFontSize\": 11, \"titleFontWeight\": 300, \"titleX\": 0, \"titleY\": 30}, \"field\": \"releasedate\", \"timeUnit\": \"yearmonth\"}, \"y\": {\"type\": \"quantitative\", \"aggregate\": \"sum\", \"axis\": {\"format\": \".0s\", \"title\": \"\"}, \"field\": \"buyer\"}}, \"height\": 250, \"title\": \"Count of buyers of Deloitte LLP\", \"width\": 1200}, {\"mark\": {\"type\": \"rule\", \"color\": \"gray\"}, \"encoding\": {\"x\": {\"type\": \"ordinal\", \"field\": \"releasedate\", \"timeUnit\": \"yearmonth\"}}, \"transform\": [{\"filter\": {\"selection\": \"selector001\"}}]}, {\"mark\": {\"type\": \"text\", \"align\": \"left\", \"dx\": 10, \"dy\": -10}, \"encoding\": {\"text\": {\"condition\": {\"type\": \"quantitative\", \"aggregate\": \"sum\", \"field\": \"buyer\", \"selection\": \"selector001\"}, \"value\": \" \"}, \"x\": {\"type\": \"ordinal\", \"axis\": {\"grid\": false, \"labelAngle\": 0, \"labelFont\": \"Helvetica\", \"labelFontSize\": 12, \"tickCount\": 12, \"title\": \"https://openopps.com\", \"titleAlign\": \"left\", \"titleAnchor\": \"start\", \"titleFont\": \"Helvetica\", \"titleFontSize\": 11, \"titleFontWeight\": 300, \"titleX\": 0, \"titleY\": 30}, \"field\": \"releasedate\", \"timeUnit\": \"yearmonth\"}, \"y\": {\"type\": \"quantitative\", \"aggregate\": \"sum\", \"axis\": {\"format\": \".0s\", \"title\": \"\"}, \"field\": \"buyer\"}}, \"height\": 250, \"title\": \"Count of buyers of Deloitte LLP\", \"width\": 1200}], \"data\": {\"name\": \"data-0071015300e447a0b6761528ef03d0ce\"}, \"$schema\": \"https://vega.github.io/schema/vega-lite/v4.0.2.json\", \"datasets\": {\"data-0071015300e447a0b6761528ef03d0ce\": [{\"index\": 0, \"releasedate\": \"01/02/2019\", \"buyer\": 1}, {\"index\": 1, \"releasedate\": \"01/04/2018\", \"buyer\": 1}, {\"index\": 2, \"releasedate\": \"01/04/2019\", \"buyer\": 1}, {\"index\": 3, \"releasedate\": \"01/06/2017\", \"buyer\": 2}, {\"index\": 4, \"releasedate\": \"01/08/2019\", \"buyer\": 1}, {\"index\": 5, \"releasedate\": \"01/10/2018\", \"buyer\": 1}, {\"index\": 6, \"releasedate\": \"01/10/2019\", \"buyer\": 1}, {\"index\": 7, \"releasedate\": \"01/11/2017\", \"buyer\": 1}, {\"index\": 8, \"releasedate\": \"01/15/2018\", \"buyer\": 1}, {\"index\": 9, \"releasedate\": \"01/15/2019\", \"buyer\": 1}, {\"index\": 10, \"releasedate\": \"01/17/2017\", \"buyer\": 1}, {\"index\": 11, \"releasedate\": \"01/17/2019\", \"buyer\": 1}, {\"index\": 12, \"releasedate\": \"01/18/2017\", \"buyer\": 2}, {\"index\": 13, \"releasedate\": \"01/19/2017\", \"buyer\": 1}, {\"index\": 14, \"releasedate\": \"01/20/2017\", \"buyer\": 1}, {\"index\": 15, \"releasedate\": \"01/24/2018\", \"buyer\": 1}, {\"index\": 16, \"releasedate\": \"01/27/2017\", \"buyer\": 1}, {\"index\": 17, \"releasedate\": \"01/28/2019\", \"buyer\": 1}, {\"index\": 18, \"releasedate\": \"01/30/2018\", \"buyer\": 1}, {\"index\": 19, \"releasedate\": \"01/31/2018\", \"buyer\": 1}, {\"index\": 20, \"releasedate\": \"01/31/2019\", \"buyer\": 1}, {\"index\": 21, \"releasedate\": \"02/01/2017\", \"buyer\": 2}, {\"index\": 22, \"releasedate\": \"02/01/2018\", \"buyer\": 1}, {\"index\": 23, \"releasedate\": \"02/04/2019\", \"buyer\": 1}, {\"index\": 24, \"releasedate\": \"02/06/2018\", \"buyer\": 2}, {\"index\": 25, \"releasedate\": \"02/08/2018\", \"buyer\": 1}, {\"index\": 26, \"releasedate\": \"02/09/2018\", \"buyer\": 1}, {\"index\": 27, \"releasedate\": \"02/13/2018\", \"buyer\": 1}, {\"index\": 28, \"releasedate\": \"02/13/2019\", \"buyer\": 1}, {\"index\": 29, \"releasedate\": \"02/15/2018\", \"buyer\": 1}, {\"index\": 30, \"releasedate\": \"02/21/2018\", \"buyer\": 1}, {\"index\": 31, \"releasedate\": \"02/21/2019\", \"buyer\": 2}, {\"index\": 32, \"releasedate\": \"02/22/2017\", \"buyer\": 2}, {\"index\": 33, \"releasedate\": \"02/26/2018\", \"buyer\": 1}, {\"index\": 34, \"releasedate\": \"02/26/2019\", \"buyer\": 1}, {\"index\": 35, \"releasedate\": \"02/27/2019\", \"buyer\": 1}, {\"index\": 36, \"releasedate\": \"02/28/2018\", \"buyer\": 2}, {\"index\": 37, \"releasedate\": \"03/01/2019\", \"buyer\": 2}, {\"index\": 38, \"releasedate\": \"03/02/2018\", \"buyer\": 1}, {\"index\": 39, \"releasedate\": \"03/04/2019\", \"buyer\": 3}, {\"index\": 40, \"releasedate\": \"03/05/2019\", \"buyer\": 1}, {\"index\": 41, \"releasedate\": \"03/06/2018\", \"buyer\": 1}, {\"index\": 42, \"releasedate\": \"03/07/2019\", \"buyer\": 1}, {\"index\": 43, \"releasedate\": \"03/10/2019\", \"buyer\": 1}, {\"index\": 44, \"releasedate\": \"03/11/2019\", \"buyer\": 1}, {\"index\": 45, \"releasedate\": \"03/12/2019\", \"buyer\": 1}, {\"index\": 46, \"releasedate\": \"03/13/2019\", \"buyer\": 1}, {\"index\": 47, \"releasedate\": \"03/14/2018\", \"buyer\": 2}, {\"index\": 48, \"releasedate\": \"03/15/2018\", \"buyer\": 1}, {\"index\": 49, \"releasedate\": \"03/20/2019\", \"buyer\": 2}, {\"index\": 50, \"releasedate\": \"03/22/2017\", \"buyer\": 2}, {\"index\": 51, \"releasedate\": \"03/22/2018\", \"buyer\": 1}, {\"index\": 52, \"releasedate\": \"03/23/2018\", \"buyer\": 1}, {\"index\": 53, \"releasedate\": \"03/28/2018\", \"buyer\": 1}, {\"index\": 54, \"releasedate\": \"03/28/2019\", \"buyer\": 1}, {\"index\": 55, \"releasedate\": \"04/01/2019\", \"buyer\": 1}, {\"index\": 56, \"releasedate\": \"04/02/2019\", \"buyer\": 1}, {\"index\": 57, \"releasedate\": \"04/04/2017\", \"buyer\": 1}, {\"index\": 58, \"releasedate\": \"04/04/2019\", \"buyer\": 1}, {\"index\": 59, \"releasedate\": \"04/05/2018\", \"buyer\": 1}, {\"index\": 60, \"releasedate\": \"04/10/2018\", \"buyer\": 1}, {\"index\": 61, \"releasedate\": \"04/11/2019\", \"buyer\": 1}, {\"index\": 62, \"releasedate\": \"04/14/2018\", \"buyer\": 1}, {\"index\": 63, \"releasedate\": \"04/15/2019\", \"buyer\": 2}, {\"index\": 64, \"releasedate\": \"04/16/2019\", \"buyer\": 2}, {\"index\": 65, \"releasedate\": \"04/19/2019\", \"buyer\": 1}, {\"index\": 66, \"releasedate\": \"04/21/2017\", \"buyer\": 1}, {\"index\": 67, \"releasedate\": \"04/24/2019\", \"buyer\": 1}, {\"index\": 68, \"releasedate\": \"04/25/2019\", \"buyer\": 1}, {\"index\": 69, \"releasedate\": \"04/26/2019\", \"buyer\": 1}, {\"index\": 70, \"releasedate\": \"05/02/2019\", \"buyer\": 1}, {\"index\": 71, \"releasedate\": \"05/03/2018\", \"buyer\": 1}, {\"index\": 72, \"releasedate\": \"05/06/2018\", \"buyer\": 0}, {\"index\": 73, \"releasedate\": \"05/08/2017\", \"buyer\": 1}, {\"index\": 74, \"releasedate\": \"05/09/2019\", \"buyer\": 2}, {\"index\": 75, \"releasedate\": \"05/10/2017\", \"buyer\": 1}, {\"index\": 76, \"releasedate\": \"05/11/2017\", \"buyer\": 1}, {\"index\": 77, \"releasedate\": \"05/11/2018\", \"buyer\": 1}, {\"index\": 78, \"releasedate\": \"05/12/2018\", \"buyer\": 1}, {\"index\": 79, \"releasedate\": \"05/14/2018\", \"buyer\": 1}, {\"index\": 80, \"releasedate\": \"05/14/2019\", \"buyer\": 1}, {\"index\": 81, \"releasedate\": \"05/16/2018\", \"buyer\": 1}, {\"index\": 82, \"releasedate\": \"05/18/2018\", \"buyer\": 1}, {\"index\": 83, \"releasedate\": \"05/19/2017\", \"buyer\": 1}, {\"index\": 84, \"releasedate\": \"05/21/2018\", \"buyer\": 1}, {\"index\": 85, \"releasedate\": \"05/22/2018\", \"buyer\": 2}, {\"index\": 86, \"releasedate\": \"05/22/2019\", \"buyer\": 1}, {\"index\": 87, \"releasedate\": \"05/23/2018\", \"buyer\": 2}, {\"index\": 88, \"releasedate\": \"05/23/2019\", \"buyer\": 1}, {\"index\": 89, \"releasedate\": \"05/24/2018\", \"buyer\": 3}, {\"index\": 90, \"releasedate\": \"05/29/2018\", \"buyer\": 1}, {\"index\": 91, \"releasedate\": \"05/29/2019\", \"buyer\": 1}, {\"index\": 92, \"releasedate\": \"05/30/2019\", \"buyer\": 1}, {\"index\": 93, \"releasedate\": \"05/31/2017\", \"buyer\": 1}, {\"index\": 94, \"releasedate\": \"05/31/2018\", \"buyer\": 2}, {\"index\": 95, \"releasedate\": \"06/05/2017\", \"buyer\": 1}, {\"index\": 96, \"releasedate\": \"06/07/2019\", \"buyer\": 1}, {\"index\": 97, \"releasedate\": \"06/15/2017\", \"buyer\": 1}, {\"index\": 98, \"releasedate\": \"06/20/2019\", \"buyer\": 2}, {\"index\": 99, \"releasedate\": \"06/21/2018\", \"buyer\": 2}, {\"index\": 100, \"releasedate\": \"06/21/2019\", \"buyer\": 2}, {\"index\": 101, \"releasedate\": \"06/22/2017\", \"buyer\": 1}, {\"index\": 102, \"releasedate\": \"06/24/2017\", \"buyer\": 1}, {\"index\": 103, \"releasedate\": \"06/25/2019\", \"buyer\": 2}, {\"index\": 104, \"releasedate\": \"06/26/2019\", \"buyer\": 1}, {\"index\": 105, \"releasedate\": \"06/27/2018\", \"buyer\": 1}, {\"index\": 106, \"releasedate\": \"06/27/2019\", \"buyer\": 1}, {\"index\": 107, \"releasedate\": \"06/28/2019\", \"buyer\": 1}, {\"index\": 108, \"releasedate\": \"06/29/2018\", \"buyer\": 1}, {\"index\": 109, \"releasedate\": \"07/03/2019\", \"buyer\": 1}, {\"index\": 110, \"releasedate\": \"07/04/2018\", \"buyer\": 1}, {\"index\": 111, \"releasedate\": \"07/05/2018\", \"buyer\": 2}, {\"index\": 112, \"releasedate\": \"07/06/2018\", \"buyer\": 1}, {\"index\": 113, \"releasedate\": \"07/07/2017\", \"buyer\": 1}, {\"index\": 114, \"releasedate\": \"07/08/2019\", \"buyer\": 1}, {\"index\": 115, \"releasedate\": \"07/10/2018\", \"buyer\": 1}, {\"index\": 116, \"releasedate\": \"07/11/2017\", \"buyer\": 1}, {\"index\": 117, \"releasedate\": \"07/12/2019\", \"buyer\": 1}, {\"index\": 118, \"releasedate\": \"07/13/2017\", \"buyer\": 1}, {\"index\": 119, \"releasedate\": \"07/13/2018\", \"buyer\": 1}, {\"index\": 120, \"releasedate\": \"07/15/2019\", \"buyer\": 1}, {\"index\": 121, \"releasedate\": \"07/18/2017\", \"buyer\": 1}, {\"index\": 122, \"releasedate\": \"07/18/2018\", \"buyer\": 1}, {\"index\": 123, \"releasedate\": \"07/19/2019\", \"buyer\": 1}, {\"index\": 124, \"releasedate\": \"07/20/2017\", \"buyer\": 1}, {\"index\": 125, \"releasedate\": \"07/22/2019\", \"buyer\": 1}, {\"index\": 126, \"releasedate\": \"07/23/2019\", \"buyer\": 1}, {\"index\": 127, \"releasedate\": \"07/24/2018\", \"buyer\": 1}, {\"index\": 128, \"releasedate\": \"07/25/2019\", \"buyer\": 1}, {\"index\": 129, \"releasedate\": \"07/30/2018\", \"buyer\": 1}, {\"index\": 130, \"releasedate\": \"08/02/2017\", \"buyer\": 2}, {\"index\": 131, \"releasedate\": \"08/02/2018\", \"buyer\": 1}, {\"index\": 132, \"releasedate\": \"08/02/2019\", \"buyer\": 1}, {\"index\": 133, \"releasedate\": \"08/06/2018\", \"buyer\": 1}, {\"index\": 134, \"releasedate\": \"08/08/2019\", \"buyer\": 1}, {\"index\": 135, \"releasedate\": \"08/09/2017\", \"buyer\": 1}, {\"index\": 136, \"releasedate\": \"08/09/2018\", \"buyer\": 1}, {\"index\": 137, \"releasedate\": \"08/11/2017\", \"buyer\": 1}, {\"index\": 138, \"releasedate\": \"08/12/2019\", \"buyer\": 1}, {\"index\": 139, \"releasedate\": \"08/13/2019\", \"buyer\": 2}, {\"index\": 140, \"releasedate\": \"08/14/2019\", \"buyer\": 1}, {\"index\": 141, \"releasedate\": \"08/15/2019\", \"buyer\": 1}, {\"index\": 142, \"releasedate\": \"08/17/2017\", \"buyer\": 2}, {\"index\": 143, \"releasedate\": \"08/18/2017\", \"buyer\": 1}, {\"index\": 144, \"releasedate\": \"08/18/2018\", \"buyer\": 1}, {\"index\": 145, \"releasedate\": \"08/19/2019\", \"buyer\": 1}, {\"index\": 146, \"releasedate\": \"08/20/2018\", \"buyer\": 1}, {\"index\": 147, \"releasedate\": \"08/20/2019\", \"buyer\": 1}, {\"index\": 148, \"releasedate\": \"08/23/2019\", \"buyer\": 1}, {\"index\": 149, \"releasedate\": \"08/27/2019\", \"buyer\": 1}, {\"index\": 150, \"releasedate\": \"08/29/2018\", \"buyer\": 1}, {\"index\": 151, \"releasedate\": \"08/30/2018\", \"buyer\": 1}, {\"index\": 152, \"releasedate\": \"09/04/2017\", \"buyer\": 1}, {\"index\": 153, \"releasedate\": \"09/05/2017\", \"buyer\": 1}, {\"index\": 154, \"releasedate\": \"09/05/2018\", \"buyer\": 2}, {\"index\": 155, \"releasedate\": \"09/05/2019\", \"buyer\": 2}, {\"index\": 156, \"releasedate\": \"09/06/2018\", \"buyer\": 1}, {\"index\": 157, \"releasedate\": \"09/07/2018\", \"buyer\": 1}, {\"index\": 158, \"releasedate\": \"09/08/2017\", \"buyer\": 1}, {\"index\": 159, \"releasedate\": \"09/09/2017\", \"buyer\": 1}, {\"index\": 160, \"releasedate\": \"09/09/2019\", \"buyer\": 1}, {\"index\": 161, \"releasedate\": \"09/10/2017\", \"buyer\": 1}, {\"index\": 162, \"releasedate\": \"09/10/2018\", \"buyer\": 1}, {\"index\": 163, \"releasedate\": \"09/13/2017\", \"buyer\": 1}, {\"index\": 164, \"releasedate\": \"09/14/2018\", \"buyer\": 1}, {\"index\": 165, \"releasedate\": \"09/20/2019\", \"buyer\": 1}, {\"index\": 166, \"releasedate\": \"09/26/2017\", \"buyer\": 2}, {\"index\": 167, \"releasedate\": \"09/28/2018\", \"buyer\": 1}, {\"index\": 168, \"releasedate\": \"09/29/2017\", \"buyer\": 1}, {\"index\": 169, \"releasedate\": \"10/03/2017\", \"buyer\": 1}, {\"index\": 170, \"releasedate\": \"10/04/2019\", \"buyer\": 1}, {\"index\": 171, \"releasedate\": \"10/05/2018\", \"buyer\": 2}, {\"index\": 172, \"releasedate\": \"10/06/2017\", \"buyer\": 1}, {\"index\": 173, \"releasedate\": \"10/09/2018\", \"buyer\": 2}, {\"index\": 174, \"releasedate\": \"10/13/2017\", \"buyer\": 1}, {\"index\": 175, \"releasedate\": \"10/15/2019\", \"buyer\": 1}, {\"index\": 176, \"releasedate\": \"10/16/2017\", \"buyer\": 1}, {\"index\": 177, \"releasedate\": \"10/19/2017\", \"buyer\": 1}, {\"index\": 178, \"releasedate\": \"10/19/2018\", \"buyer\": 1}, {\"index\": 179, \"releasedate\": \"10/21/2019\", \"buyer\": 15}, {\"index\": 180, \"releasedate\": \"10/23/2018\", \"buyer\": 1}, {\"index\": 181, \"releasedate\": \"10/23/2019\", \"buyer\": 3}, {\"index\": 182, \"releasedate\": \"10/24/2019\", \"buyer\": 1}, {\"index\": 183, \"releasedate\": \"10/25/2017\", \"buyer\": 1}, {\"index\": 184, \"releasedate\": \"10/25/2019\", \"buyer\": 2}, {\"index\": 185, \"releasedate\": \"10/28/2019\", \"buyer\": 1}, {\"index\": 186, \"releasedate\": \"10/31/2017\", \"buyer\": 1}, {\"index\": 187, \"releasedate\": \"10/31/2019\", \"buyer\": 2}, {\"index\": 188, \"releasedate\": \"11/01/2019\", \"buyer\": 1}, {\"index\": 189, \"releasedate\": \"11/03/2019\", \"buyer\": 1}, {\"index\": 190, \"releasedate\": \"11/08/2018\", \"buyer\": 1}, {\"index\": 191, \"releasedate\": \"11/09/2018\", \"buyer\": 1}, {\"index\": 192, \"releasedate\": \"11/11/2019\", \"buyer\": 12}, {\"index\": 193, \"releasedate\": \"11/12/2019\", \"buyer\": 19}, {\"index\": 194, \"releasedate\": \"11/13/2018\", \"buyer\": 1}, {\"index\": 195, \"releasedate\": \"11/13/2019\", \"buyer\": 12}, {\"index\": 196, \"releasedate\": \"11/14/2018\", \"buyer\": 1}, {\"index\": 197, \"releasedate\": \"11/14/2019\", \"buyer\": 5}, {\"index\": 198, \"releasedate\": \"11/15/2017\", \"buyer\": 1}, {\"index\": 199, \"releasedate\": \"11/15/2019\", \"buyer\": 2}, {\"index\": 200, \"releasedate\": \"11/16/2017\", \"buyer\": 1}, {\"index\": 201, \"releasedate\": \"11/16/2019\", \"buyer\": 4}, {\"index\": 202, \"releasedate\": \"11/17/2019\", \"buyer\": 5}, {\"index\": 203, \"releasedate\": \"11/19/2019\", \"buyer\": 3}, {\"index\": 204, \"releasedate\": \"11/20/2019\", \"buyer\": 1}, {\"index\": 205, \"releasedate\": \"11/23/2018\", \"buyer\": 4}, {\"index\": 206, \"releasedate\": \"11/25/2019\", \"buyer\": 1}, {\"index\": 207, \"releasedate\": \"11/27/2019\", \"buyer\": 1}, {\"index\": 208, \"releasedate\": \"11/28/2018\", \"buyer\": 1}, {\"index\": 209, \"releasedate\": \"11/29/2017\", \"buyer\": 1}, {\"index\": 210, \"releasedate\": \"12/01/2017\", \"buyer\": 1}, {\"index\": 211, \"releasedate\": \"12/05/2018\", \"buyer\": 1}, {\"index\": 212, \"releasedate\": \"12/07/2017\", \"buyer\": 1}, {\"index\": 213, \"releasedate\": \"12/08/2017\", \"buyer\": 1}, {\"index\": 214, \"releasedate\": \"12/10/2018\", \"buyer\": 1}, {\"index\": 215, \"releasedate\": \"12/14/2018\", \"buyer\": 1}, {\"index\": 216, \"releasedate\": \"12/17/2018\", \"buyer\": 1}, {\"index\": 217, \"releasedate\": \"12/18/2018\", \"buyer\": 3}, {\"index\": 218, \"releasedate\": \"12/19/2019\", \"buyer\": 1}, {\"index\": 219, \"releasedate\": \"12/21/2017\", \"buyer\": 2}, {\"index\": 220, \"releasedate\": \"12/21/2018\", \"buyer\": 1}, {\"index\": 221, \"releasedate\": \"12/22/2017\", \"buyer\": 1}, {\"index\": 222, \"releasedate\": \"12/23/2019\", \"buyer\": 1}]}}, {\"mode\": \"vega-lite\"});\n",
              "</script>"
            ]
          },
          "metadata": {
            "tags": []
          },
          "execution_count": 10
        }
      ]
    }
  ]
}