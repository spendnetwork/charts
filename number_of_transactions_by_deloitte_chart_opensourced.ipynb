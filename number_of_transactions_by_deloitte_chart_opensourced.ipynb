{
  "nbformat": 4,
  "nbformat_minor": 0,
  "metadata": {
    "colab": {
      "name": "number_of_transactions_by_deloitte_chart_opensourced.ipynb",
      "provenance": [],
      "collapsed_sections": [],
      "include_colab_link": true
    },
    "kernelspec": {
      "name": "python3",
      "display_name": "Python 3"
    }
  },
  "cells": [
    {
      "cell_type": "markdown",
      "metadata": {
        "id": "view-in-github",
        "colab_type": "text"
      },
      "source": [
        "<a href=\"https://colab.research.google.com/github/spendnetwork/charts/blob/master/number_of_transactions_by_deloitte_chart_opensourced.ipynb\" target=\"_parent\"><img src=\"https://colab.research.google.com/assets/colab-badge.svg\" alt=\"Open In Colab\"/></a>"
      ]
    },
    {
      "cell_type": "code",
      "metadata": {
        "id": "tqc2iXLl8hTN",
        "colab_type": "code",
        "colab": {}
      },
      "source": [
        "import pandas as pd\n",
        "import altair as alt"
      ],
      "execution_count": 0,
      "outputs": []
    },
    {
      "cell_type": "code",
      "metadata": {
        "id": "dfMVbVJs7f-3",
        "colab_type": "code",
        "colab": {}
      },
      "source": [
        "url = 'https://raw.githubusercontent.com/spendnetwork/charts/master/deloitte_spend.csv'\n",
        "df = pd.read_csv(url)\n",
        "#print(df)"
      ],
      "execution_count": 0,
      "outputs": []
    },
    {
      "cell_type": "code",
      "metadata": {
        "id": "ocvP41ZMahE8",
        "colab_type": "code",
        "colab": {}
      },
      "source": [
        "df['date']=pd.to_datetime(df['date']).dt.strftime('%m/%d/%Y')"
      ],
      "execution_count": 0,
      "outputs": []
    },
    {
      "cell_type": "code",
      "metadata": {
        "id": "3UEM3xRs8tMF",
        "colab_type": "code",
        "colab": {}
      },
      "source": [
        "df1=(df.groupby('date').agg({'trans_id': ['count'], 'amount': 'sum'}))\n",
        "#df1.head()"
      ],
      "execution_count": 0,
      "outputs": []
    },
    {
      "cell_type": "code",
      "metadata": {
        "id": "DqsTJ_0lJFMl",
        "colab_type": "code",
        "colab": {}
      },
      "source": [
        "df1.columns = df1.columns.map('_'.join)\n",
        "df1 = df1.reset_index()\n",
        "#df1.head()"
      ],
      "execution_count": 0,
      "outputs": []
    },
    {
      "cell_type": "code",
      "metadata": {
        "id": "o74MSUwJZzgX",
        "colab_type": "code",
        "colab": {}
      },
      "source": [
        "#df1['releasedate']=pd.to_datetime(df1['releasedate'].dt.strftime('%m/%d/%Y'))\n",
        "#df1['releasedate']=pd.to_datetime(df1['releasedate']).dt.strftime('%m/%d/%Y') \n",
        "#df1.head()"
      ],
      "execution_count": 0,
      "outputs": []
    },
    {
      "cell_type": "code",
      "metadata": {
        "id": "J28YEEbs_cl2",
        "colab_type": "code",
        "colab": {}
      },
      "source": [
        "  nearest = alt.selection(type='single', nearest=True, on='mouseover',fields=['date'], empty='none')"
      ],
      "execution_count": 0,
      "outputs": []
    },
    {
      "cell_type": "code",
      "metadata": {
        "id": "mwmeRRD5_ZSp",
        "colab_type": "code",
        "outputId": "09ff5c2c-0198-4af1-888a-036d6931e44b",
        "colab": {
          "base_uri": "https://localhost:8080/",
          "height": 350
        }
      },
      "source": [
        "        line=alt.Chart(df1, width=1200, height=250, title=\"Count of spend transactions of Deloitte LLP\").mark_line(color='#91D739').encode(\n",
        "            x=alt.X('yearmonth(date):O',\n",
        "                    axis=alt.Axis(tickCount=12, title=\"https://openopps.com\", \n",
        "                grid=False, \n",
        "                labelFont='Helvetica', \n",
        "                labelFontSize=12, \n",
        "                labelAngle=0, \n",
        "                titleAlign='left',\n",
        "                titleAnchor='start',\n",
        "                titleFont='Helvetica',\n",
        "                titleFontSize= 11,\n",
        "                titleFontWeight= 300,\n",
        "                titleX= -0,\n",
        "                titleY= 30) \n",
        "                   ),\n",
        "            y=alt.Y('sum(trans_id_count):Q',\n",
        "                     axis=alt.Axis(title=\"\",\n",
        "                                    format=\".0s\",)\n",
        "                   ),\n",
        "            )\n",
        "        selectors = alt.Chart(df1).mark_point().encode(\n",
        "            x='yearmonth(date):O',\n",
        "            opacity=alt.value(0),\n",
        "        ).add_selection(\n",
        "            nearest\n",
        "        )\n",
        "\n",
        "        points = line.mark_point().encode(\n",
        "            opacity=alt.condition(nearest, alt.value(1), alt.value(0))\n",
        "        )\n",
        "\n",
        "\n",
        "        text = line.mark_text(align='left', dx=10, dy=-10).encode(\n",
        "            text=alt.condition(nearest, 'sum(trans_id_count):Q', alt.value(' '))\n",
        "        )\n",
        "\n",
        "        rules = alt.Chart(df1).mark_rule(color='gray').encode(\n",
        "            x='yearmonth(date):O',\n",
        "        ).transform_filter(\n",
        "            nearest\n",
        "        )\n",
        "\n",
        "        chart = alt.layer(\n",
        "            line, selectors, points, rules, text\n",
        "        ).configure_view(\n",
        "          strokeWidth=0\n",
        "        ).configure_title(fontSize=18, anchor='start',\n",
        "                color= \"#91D739\", font='Helvetica', fontWeight=400)\n",
        "\n",
        "        chart"
      ],
      "execution_count": 9,
      "outputs": [
        {
          "output_type": "execute_result",
          "data": {
            "text/plain": [
              "alt.LayerChart(...)"
            ],
            "text/html": [
              "\n",
              "<div id=\"altair-viz-9b136fe3c72346f5918745d0be6e21f3\"></div>\n",
              "<script type=\"text/javascript\">\n",
              "  (function(spec, embedOpt){\n",
              "    let outputDiv = document.currentScript.previousElementSibling;\n",
              "    if (outputDiv.id !== \"altair-viz-9b136fe3c72346f5918745d0be6e21f3\") {\n",
              "      outputDiv = document.getElementById(\"altair-viz-9b136fe3c72346f5918745d0be6e21f3\");\n",
              "    }\n",
              "    const paths = {\n",
              "      \"vega\": \"https://cdn.jsdelivr.net/npm//vega@5?noext\",\n",
              "      \"vega-lib\": \"https://cdn.jsdelivr.net/npm//vega-lib?noext\",\n",
              "      \"vega-lite\": \"https://cdn.jsdelivr.net/npm//vega-lite@4.8.1?noext\",\n",
              "      \"vega-embed\": \"https://cdn.jsdelivr.net/npm//vega-embed@6?noext\",\n",
              "    };\n",
              "\n",
              "    function loadScript(lib) {\n",
              "      return new Promise(function(resolve, reject) {\n",
              "        var s = document.createElement('script');\n",
              "        s.src = paths[lib];\n",
              "        s.async = true;\n",
              "        s.onload = () => resolve(paths[lib]);\n",
              "        s.onerror = () => reject(`Error loading script: ${paths[lib]}`);\n",
              "        document.getElementsByTagName(\"head\")[0].appendChild(s);\n",
              "      });\n",
              "    }\n",
              "\n",
              "    function showError(err) {\n",
              "      outputDiv.innerHTML = `<div class=\"error\" style=\"color:red;\">${err}</div>`;\n",
              "      throw err;\n",
              "    }\n",
              "\n",
              "    function displayChart(vegaEmbed) {\n",
              "      vegaEmbed(outputDiv, spec, embedOpt)\n",
              "        .catch(err => showError(`Javascript Error: ${err.message}<br>This usually means there's a typo in your chart specification. See the javascript console for the full traceback.`));\n",
              "    }\n",
              "\n",
              "    if(typeof define === \"function\" && define.amd) {\n",
              "      requirejs.config({paths});\n",
              "      require([\"vega-embed\"], displayChart, err => showError(`Error loading script: ${err.message}`));\n",
              "    } else if (typeof vegaEmbed === \"function\") {\n",
              "      displayChart(vegaEmbed);\n",
              "    } else {\n",
              "      loadScript(\"vega\")\n",
              "        .then(() => loadScript(\"vega-lite\"))\n",
              "        .then(() => loadScript(\"vega-embed\"))\n",
              "        .catch(showError)\n",
              "        .then(() => displayChart(vegaEmbed));\n",
              "    }\n",
              "  })({\"config\": {\"view\": {\"continuousWidth\": 400, \"continuousHeight\": 300, \"strokeWidth\": 0}, \"title\": {\"anchor\": \"start\", \"color\": \"#91D739\", \"font\": \"Helvetica\", \"fontSize\": 18, \"fontWeight\": 400}}, \"layer\": [{\"mark\": {\"type\": \"line\", \"color\": \"#91D739\"}, \"encoding\": {\"x\": {\"type\": \"ordinal\", \"axis\": {\"grid\": false, \"labelAngle\": 0, \"labelFont\": \"Helvetica\", \"labelFontSize\": 12, \"tickCount\": 12, \"title\": \"https://openopps.com\", \"titleAlign\": \"left\", \"titleAnchor\": \"start\", \"titleFont\": \"Helvetica\", \"titleFontSize\": 11, \"titleFontWeight\": 300, \"titleX\": 0, \"titleY\": 30}, \"field\": \"date\", \"timeUnit\": \"yearmonth\"}, \"y\": {\"type\": \"quantitative\", \"aggregate\": \"sum\", \"axis\": {\"format\": \".0s\", \"title\": \"\"}, \"field\": \"trans_id_count\"}}, \"height\": 250, \"title\": \"Count of spend transactions of Deloitte LLP\", \"width\": 1200}, {\"mark\": \"point\", \"encoding\": {\"opacity\": {\"value\": 0}, \"x\": {\"type\": \"ordinal\", \"field\": \"date\", \"timeUnit\": \"yearmonth\"}}, \"selection\": {\"selector001\": {\"type\": \"single\", \"nearest\": true, \"on\": \"mouseover\", \"fields\": [\"date\"], \"empty\": \"none\"}}}, {\"mark\": \"point\", \"encoding\": {\"opacity\": {\"condition\": {\"value\": 1, \"selection\": \"selector001\"}, \"value\": 0}, \"x\": {\"type\": \"ordinal\", \"axis\": {\"grid\": false, \"labelAngle\": 0, \"labelFont\": \"Helvetica\", \"labelFontSize\": 12, \"tickCount\": 12, \"title\": \"https://openopps.com\", \"titleAlign\": \"left\", \"titleAnchor\": \"start\", \"titleFont\": \"Helvetica\", \"titleFontSize\": 11, \"titleFontWeight\": 300, \"titleX\": 0, \"titleY\": 30}, \"field\": \"date\", \"timeUnit\": \"yearmonth\"}, \"y\": {\"type\": \"quantitative\", \"aggregate\": \"sum\", \"axis\": {\"format\": \".0s\", \"title\": \"\"}, \"field\": \"trans_id_count\"}}, \"height\": 250, \"title\": \"Count of spend transactions of Deloitte LLP\", \"width\": 1200}, {\"mark\": {\"type\": \"rule\", \"color\": \"gray\"}, \"encoding\": {\"x\": {\"type\": \"ordinal\", \"field\": \"date\", \"timeUnit\": \"yearmonth\"}}, \"transform\": [{\"filter\": {\"selection\": \"selector001\"}}]}, {\"mark\": {\"type\": \"text\", \"align\": \"left\", \"dx\": 10, \"dy\": -10}, \"encoding\": {\"text\": {\"condition\": {\"type\": \"quantitative\", \"aggregate\": \"sum\", \"field\": \"trans_id_count\", \"selection\": \"selector001\"}, \"value\": \" \"}, \"x\": {\"type\": \"ordinal\", \"axis\": {\"grid\": false, \"labelAngle\": 0, \"labelFont\": \"Helvetica\", \"labelFontSize\": 12, \"tickCount\": 12, \"title\": \"https://openopps.com\", \"titleAlign\": \"left\", \"titleAnchor\": \"start\", \"titleFont\": \"Helvetica\", \"titleFontSize\": 11, \"titleFontWeight\": 300, \"titleX\": 0, \"titleY\": 30}, \"field\": \"date\", \"timeUnit\": \"yearmonth\"}, \"y\": {\"type\": \"quantitative\", \"aggregate\": \"sum\", \"axis\": {\"format\": \".0s\", \"title\": \"\"}, \"field\": \"trans_id_count\"}}, \"height\": 250, \"title\": \"Count of spend transactions of Deloitte LLP\", \"width\": 1200}], \"data\": {\"name\": \"data-225b590c67779ff3edf864f8a5e170ac\"}, \"$schema\": \"https://vega.github.io/schema/vega-lite/v4.8.1.json\", \"datasets\": {\"data-225b590c67779ff3edf864f8a5e170ac\": [{\"date\": \"01/01/2017\", \"trans_id_count\": 48, \"amount_sum\": 5483544.97}, {\"date\": \"01/01/2018\", \"trans_id_count\": 64, \"amount_sum\": 4543572.43}, {\"date\": \"01/01/2019\", \"trans_id_count\": 26, \"amount_sum\": 2780434.59}, {\"date\": \"02/01/2017\", \"trans_id_count\": 31, \"amount_sum\": 2021097.49}, {\"date\": \"02/01/2018\", \"trans_id_count\": 40, \"amount_sum\": 2131924.1399999997}, {\"date\": \"02/01/2019\", \"trans_id_count\": 46, \"amount_sum\": 8514420.65}, {\"date\": \"03/01/2017\", \"trans_id_count\": 62, \"amount_sum\": 12565177.050000003}, {\"date\": \"03/01/2018\", \"trans_id_count\": 72, \"amount_sum\": 8181189.069999999}, {\"date\": \"03/01/2019\", \"trans_id_count\": 77, \"amount_sum\": 10623234.750000002}, {\"date\": \"04/01/2017\", \"trans_id_count\": 35, \"amount_sum\": 2575117.519999999}, {\"date\": \"04/01/2018\", \"trans_id_count\": 34, \"amount_sum\": 3827050.5000000005}, {\"date\": \"04/01/2019\", \"trans_id_count\": 83, \"amount_sum\": 10090947.959999997}, {\"date\": \"05/01/2017\", \"trans_id_count\": 43, \"amount_sum\": 4727934.7700000005}, {\"date\": \"05/01/2018\", \"trans_id_count\": 41, \"amount_sum\": 2910448.19}, {\"date\": \"05/01/2019\", \"trans_id_count\": 57, \"amount_sum\": 9496291.580000002}, {\"date\": \"06/01/2017\", \"trans_id_count\": 51, \"amount_sum\": 4225210.45}, {\"date\": \"06/01/2018\", \"trans_id_count\": 59, \"amount_sum\": 7586971.260000002}, {\"date\": \"06/01/2019\", \"trans_id_count\": 64, \"amount_sum\": 4775659.64}, {\"date\": \"07/01/2017\", \"trans_id_count\": 60, \"amount_sum\": 3781501.9899999993}, {\"date\": \"07/01/2018\", \"trans_id_count\": 50, \"amount_sum\": 5569438.39}, {\"date\": \"07/01/2019\", \"trans_id_count\": 131, \"amount_sum\": 20125651.01}, {\"date\": \"08/01/2017\", \"trans_id_count\": 46, \"amount_sum\": 3007630.1700000004}, {\"date\": \"08/01/2018\", \"trans_id_count\": 48, \"amount_sum\": 7428583.300000001}, {\"date\": \"08/01/2019\", \"trans_id_count\": 51, \"amount_sum\": 4855080.899999999}, {\"date\": \"09/01/2017\", \"trans_id_count\": 33, \"amount_sum\": 2969646.4899999998}, {\"date\": \"09/01/2018\", \"trans_id_count\": 49, \"amount_sum\": 6252629.950000001}, {\"date\": \"09/01/2019\", \"trans_id_count\": 68, \"amount_sum\": 6688801.760000001}, {\"date\": \"10/01/2017\", \"trans_id_count\": 43, \"amount_sum\": 4575243.68}, {\"date\": \"10/01/2018\", \"trans_id_count\": 54, \"amount_sum\": 3245751.0500000003}, {\"date\": \"10/01/2019\", \"trans_id_count\": 92, \"amount_sum\": 10413661.279999996}, {\"date\": \"11/01/2017\", \"trans_id_count\": 49, \"amount_sum\": 3340382.17}, {\"date\": \"11/01/2018\", \"trans_id_count\": 59, \"amount_sum\": 10034418.219999999}, {\"date\": \"11/01/2019\", \"trans_id_count\": 87, \"amount_sum\": 9319504.38}, {\"date\": \"12/01/2017\", \"trans_id_count\": 37, \"amount_sum\": 3355672.54}, {\"date\": \"12/01/2018\", \"trans_id_count\": 67, \"amount_sum\": 9941845.51}, {\"date\": \"12/01/2019\", \"trans_id_count\": 84, \"amount_sum\": 8302469.199999999}]}}, {\"mode\": \"vega-lite\"});\n",
              "</script>"
            ]
          },
          "metadata": {
            "tags": []
          },
          "execution_count": 9
        }
      ]
    }
  ]
}