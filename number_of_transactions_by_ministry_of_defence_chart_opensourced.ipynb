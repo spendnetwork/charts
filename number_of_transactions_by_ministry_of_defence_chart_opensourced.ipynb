{
  "nbformat": 4,
  "nbformat_minor": 0,
  "metadata": {
    "colab": {
      "name": "number_of_transactions_by_ministry_of_defence_chart_opensourced.ipynb",
      "provenance": [],
      "collapsed_sections": [],
      "include_colab_link": true
    },
    "kernelspec": {
      "name": "python3",
      "display_name": "Python 3"
    }
  },
  "cells": [
    {
      "cell_type": "markdown",
      "metadata": {
        "id": "view-in-github",
        "colab_type": "text"
      },
      "source": [
        "<a href=\"https://colab.research.google.com/github/spendnetwork/charts/blob/master/number_of_transactions_by_ministry_of_defence_chart_opensourced.ipynb\" target=\"_parent\"><img src=\"https://colab.research.google.com/assets/colab-badge.svg\" alt=\"Open In Colab\"/></a>"
      ]
    },
    {
      "cell_type": "code",
      "metadata": {
        "id": "tqc2iXLl8hTN",
        "colab_type": "code",
        "colab": {}
      },
      "source": [
        "import pandas as pd\n",
        "import altair as alt"
      ],
      "execution_count": 0,
      "outputs": []
    },
    {
      "cell_type": "code",
      "metadata": {
        "id": "dfMVbVJs7f-3",
        "colab_type": "code",
        "colab": {}
      },
      "source": [
        "url = 'https://raw.githubusercontent.com/spendnetwork/charts/master/ministry_of_defence_spend.csv'\n",
        "df = pd.read_csv(url)\n",
        "#print(df)"
      ],
      "execution_count": 0,
      "outputs": []
    },
    {
      "cell_type": "code",
      "metadata": {
        "id": "ocvP41ZMahE8",
        "colab_type": "code",
        "colab": {}
      },
      "source": [
        "df['date']=pd.to_datetime(df['date']).dt.strftime('%m/%d/%Y')"
      ],
      "execution_count": 0,
      "outputs": []
    },
    {
      "cell_type": "code",
      "metadata": {
        "id": "3UEM3xRs8tMF",
        "colab_type": "code",
        "colab": {}
      },
      "source": [
        "df1=(df.groupby('date').agg({'trans_id': ['count'], 'amount': 'sum'}))\n",
        "#df1.head()"
      ],
      "execution_count": 0,
      "outputs": []
    },
    {
      "cell_type": "code",
      "metadata": {
        "id": "DqsTJ_0lJFMl",
        "colab_type": "code",
        "colab": {}
      },
      "source": [
        "df1.columns = df1.columns.map('_'.join)\n",
        "df1 = df1.reset_index()\n",
        "#df1.head()"
      ],
      "execution_count": 0,
      "outputs": []
    },
    {
      "cell_type": "code",
      "metadata": {
        "id": "o74MSUwJZzgX",
        "colab_type": "code",
        "colab": {}
      },
      "source": [
        "#df1['releasedate']=pd.to_datetime(df1['releasedate'].dt.strftime('%m/%d/%Y'))\n",
        "#df1['releasedate']=pd.to_datetime(df1['releasedate']).dt.strftime('%m/%d/%Y') \n",
        "#df1.head()"
      ],
      "execution_count": 0,
      "outputs": []
    },
    {
      "cell_type": "code",
      "metadata": {
        "id": "J28YEEbs_cl2",
        "colab_type": "code",
        "colab": {}
      },
      "source": [
        "  nearest = alt.selection(type='single', nearest=True, on='mouseover',fields=['date'], empty='none')"
      ],
      "execution_count": 0,
      "outputs": []
    },
    {
      "cell_type": "code",
      "metadata": {
        "id": "mwmeRRD5_ZSp",
        "colab_type": "code",
        "outputId": "93d36f3a-a91e-47c8-91c5-9911acf8e5ae",
        "colab": {
          "base_uri": "https://localhost:8080/",
          "height": 352
        }
      },
      "source": [
        "        line=alt.Chart(df1, width=1200, height=250, title=\"Count of spend transactions of Ministry of Defence\").mark_line(color='#91D739').encode(\n",
        "            x=alt.X('yearmonth(date):O',\n",
        "                    axis=alt.Axis(tickCount=12, title=\"https://openopps.com\", \n",
        "                grid=False, \n",
        "                labelFont='Helvetica', \n",
        "                labelFontSize=12, \n",
        "                labelAngle=0, \n",
        "                titleAlign='left',\n",
        "                titleAnchor='start',\n",
        "                titleFont='Helvetica',\n",
        "                titleFontSize= 11,\n",
        "                titleFontWeight= 300,\n",
        "                titleX= -0,\n",
        "                titleY= 30) \n",
        "                   ),\n",
        "            y=alt.Y('sum(trans_id_count):Q',\n",
        "                     axis=alt.Axis(title=\"\",\n",
        "                                    format=\".0s\",)\n",
        "                   ),\n",
        "            )\n",
        "        selectors = alt.Chart(df1).mark_point().encode(\n",
        "            x='yearmonth(date):O',\n",
        "            opacity=alt.value(0),\n",
        "        ).add_selection(\n",
        "            nearest\n",
        "        )\n",
        "\n",
        "        points = line.mark_point().encode(\n",
        "            opacity=alt.condition(nearest, alt.value(1), alt.value(0))\n",
        "        )\n",
        "\n",
        "\n",
        "        text = line.mark_text(align='left', dx=10, dy=-10).encode(\n",
        "            text=alt.condition(nearest, 'sum(trans_id_count):Q', alt.value(' '))\n",
        "        )\n",
        "\n",
        "        rules = alt.Chart(df1).mark_rule(color='gray').encode(\n",
        "            x='yearmonth(date):O',\n",
        "        ).transform_filter(\n",
        "            nearest\n",
        "        )\n",
        "\n",
        "        chart = alt.layer(\n",
        "            line, selectors, points, rules, text\n",
        "        ).configure_view(\n",
        "          strokeWidth=0\n",
        "        ).configure_title(fontSize=18, anchor='start',\n",
        "                color= \"#91D739\", font='Helvetica', fontWeight=400)\n",
        "\n",
        "        chart"
      ],
      "execution_count": 8,
      "outputs": [
        {
          "output_type": "execute_result",
          "data": {
            "text/plain": [
              "alt.LayerChart(...)"
            ],
            "text/html": [
              "\n",
              "<div id=\"altair-viz-5db173c2023c475abf2950d600e2bcf4\"></div>\n",
              "<script type=\"text/javascript\">\n",
              "  (function(spec, embedOpt){\n",
              "    let outputDiv = document.currentScript.previousElementSibling;\n",
              "    if (outputDiv.id !== \"altair-viz-5db173c2023c475abf2950d600e2bcf4\") {\n",
              "      outputDiv = document.getElementById(\"altair-viz-5db173c2023c475abf2950d600e2bcf4\");\n",
              "    }\n",
              "    const paths = {\n",
              "      \"vega\": \"https://cdn.jsdelivr.net/npm//vega@5?noext\",\n",
              "      \"vega-lib\": \"https://cdn.jsdelivr.net/npm//vega-lib?noext\",\n",
              "      \"vega-lite\": \"https://cdn.jsdelivr.net/npm//vega-lite@4.8.1?noext\",\n",
              "      \"vega-embed\": \"https://cdn.jsdelivr.net/npm//vega-embed@6?noext\",\n",
              "    };\n",
              "\n",
              "    function loadScript(lib) {\n",
              "      return new Promise(function(resolve, reject) {\n",
              "        var s = document.createElement('script');\n",
              "        s.src = paths[lib];\n",
              "        s.async = true;\n",
              "        s.onload = () => resolve(paths[lib]);\n",
              "        s.onerror = () => reject(`Error loading script: ${paths[lib]}`);\n",
              "        document.getElementsByTagName(\"head\")[0].appendChild(s);\n",
              "      });\n",
              "    }\n",
              "\n",
              "    function showError(err) {\n",
              "      outputDiv.innerHTML = `<div class=\"error\" style=\"color:red;\">${err}</div>`;\n",
              "      throw err;\n",
              "    }\n",
              "\n",
              "    function displayChart(vegaEmbed) {\n",
              "      vegaEmbed(outputDiv, spec, embedOpt)\n",
              "        .catch(err => showError(`Javascript Error: ${err.message}<br>This usually means there's a typo in your chart specification. See the javascript console for the full traceback.`));\n",
              "    }\n",
              "\n",
              "    if(typeof define === \"function\" && define.amd) {\n",
              "      requirejs.config({paths});\n",
              "      require([\"vega-embed\"], displayChart, err => showError(`Error loading script: ${err.message}`));\n",
              "    } else if (typeof vegaEmbed === \"function\") {\n",
              "      displayChart(vegaEmbed);\n",
              "    } else {\n",
              "      loadScript(\"vega\")\n",
              "        .then(() => loadScript(\"vega-lite\"))\n",
              "        .then(() => loadScript(\"vega-embed\"))\n",
              "        .catch(showError)\n",
              "        .then(() => displayChart(vegaEmbed));\n",
              "    }\n",
              "  })({\"config\": {\"view\": {\"continuousWidth\": 400, \"continuousHeight\": 300, \"strokeWidth\": 0}, \"title\": {\"anchor\": \"start\", \"color\": \"#91D739\", \"font\": \"Helvetica\", \"fontSize\": 18, \"fontWeight\": 400}}, \"layer\": [{\"mark\": {\"type\": \"line\", \"color\": \"#91D739\"}, \"encoding\": {\"x\": {\"type\": \"ordinal\", \"axis\": {\"grid\": false, \"labelAngle\": 0, \"labelFont\": \"Helvetica\", \"labelFontSize\": 12, \"tickCount\": 12, \"title\": \"https://openopps.com\", \"titleAlign\": \"left\", \"titleAnchor\": \"start\", \"titleFont\": \"Helvetica\", \"titleFontSize\": 11, \"titleFontWeight\": 300, \"titleX\": 0, \"titleY\": 30}, \"field\": \"date\", \"timeUnit\": \"yearmonth\"}, \"y\": {\"type\": \"quantitative\", \"aggregate\": \"sum\", \"axis\": {\"format\": \".0s\", \"title\": \"\"}, \"field\": \"trans_id_count\"}}, \"height\": 250, \"title\": \"Count of spend transactions of Ministry of Defence\", \"width\": 1200}, {\"mark\": \"point\", \"encoding\": {\"opacity\": {\"value\": 0}, \"x\": {\"type\": \"ordinal\", \"field\": \"date\", \"timeUnit\": \"yearmonth\"}}, \"selection\": {\"selector001\": {\"type\": \"single\", \"nearest\": true, \"on\": \"mouseover\", \"fields\": [\"date\"], \"empty\": \"none\"}}}, {\"mark\": \"point\", \"encoding\": {\"opacity\": {\"condition\": {\"value\": 1, \"selection\": \"selector001\"}, \"value\": 0}, \"x\": {\"type\": \"ordinal\", \"axis\": {\"grid\": false, \"labelAngle\": 0, \"labelFont\": \"Helvetica\", \"labelFontSize\": 12, \"tickCount\": 12, \"title\": \"https://openopps.com\", \"titleAlign\": \"left\", \"titleAnchor\": \"start\", \"titleFont\": \"Helvetica\", \"titleFontSize\": 11, \"titleFontWeight\": 300, \"titleX\": 0, \"titleY\": 30}, \"field\": \"date\", \"timeUnit\": \"yearmonth\"}, \"y\": {\"type\": \"quantitative\", \"aggregate\": \"sum\", \"axis\": {\"format\": \".0s\", \"title\": \"\"}, \"field\": \"trans_id_count\"}}, \"height\": 250, \"title\": \"Count of spend transactions of Ministry of Defence\", \"width\": 1200}, {\"mark\": {\"type\": \"rule\", \"color\": \"gray\"}, \"encoding\": {\"x\": {\"type\": \"ordinal\", \"field\": \"date\", \"timeUnit\": \"yearmonth\"}}, \"transform\": [{\"filter\": {\"selection\": \"selector001\"}}]}, {\"mark\": {\"type\": \"text\", \"align\": \"left\", \"dx\": 10, \"dy\": -10}, \"encoding\": {\"text\": {\"condition\": {\"type\": \"quantitative\", \"aggregate\": \"sum\", \"field\": \"trans_id_count\", \"selection\": \"selector001\"}, \"value\": \" \"}, \"x\": {\"type\": \"ordinal\", \"axis\": {\"grid\": false, \"labelAngle\": 0, \"labelFont\": \"Helvetica\", \"labelFontSize\": 12, \"tickCount\": 12, \"title\": \"https://openopps.com\", \"titleAlign\": \"left\", \"titleAnchor\": \"start\", \"titleFont\": \"Helvetica\", \"titleFontSize\": 11, \"titleFontWeight\": 300, \"titleX\": 0, \"titleY\": 30}, \"field\": \"date\", \"timeUnit\": \"yearmonth\"}, \"y\": {\"type\": \"quantitative\", \"aggregate\": \"sum\", \"axis\": {\"format\": \".0s\", \"title\": \"\"}, \"field\": \"trans_id_count\"}}, \"height\": 250, \"title\": \"Count of spend transactions of Ministry of Defence\", \"width\": 1200}], \"data\": {\"name\": \"data-a798a3a48c24f1e927587a5c6631a459\"}, \"$schema\": \"https://vega.github.io/schema/vega-lite/v4.8.1.json\", \"datasets\": {\"data-a798a3a48c24f1e927587a5c6631a459\": [{\"date\": \"01/01/2017\", \"trans_id_count\": 1916, \"amount_sum\": 308112899.7600003}, {\"date\": \"01/01/2018\", \"trans_id_count\": 2404, \"amount_sum\": 478276217.1699988}, {\"date\": \"01/01/2019\", \"trans_id_count\": 2562, \"amount_sum\": 1001178795.0399994}, {\"date\": \"02/01/2017\", \"trans_id_count\": 1689, \"amount_sum\": 345257651.39999926}, {\"date\": \"02/01/2018\", \"trans_id_count\": 2818, \"amount_sum\": 581578213.3200012}, {\"date\": \"02/01/2019\", \"trans_id_count\": 2493, \"amount_sum\": 539915731.9600004}, {\"date\": \"03/01/2017\", \"trans_id_count\": 4820, \"amount_sum\": 1288251021.1900039}, {\"date\": \"03/01/2018\", \"trans_id_count\": 3140, \"amount_sum\": 741534487.9599988}, {\"date\": \"03/01/2019\", \"trans_id_count\": 3130, \"amount_sum\": 705161853.2299984}, {\"date\": \"04/01/2017\", \"trans_id_count\": 2451, \"amount_sum\": 585622590.9799991}, {\"date\": \"04/01/2018\", \"trans_id_count\": 2772, \"amount_sum\": 667981495.9100008}, {\"date\": \"04/01/2019\", \"trans_id_count\": 2876, \"amount_sum\": 899944253.1000005}, {\"date\": \"05/01/2017\", \"trans_id_count\": 2656, \"amount_sum\": 675372491.0599991}, {\"date\": \"05/01/2018\", \"trans_id_count\": 2826, \"amount_sum\": 619343793.6900004}, {\"date\": \"05/01/2019\", \"trans_id_count\": 2869, \"amount_sum\": 638145845.8500006}, {\"date\": \"06/01/2017\", \"trans_id_count\": 2865, \"amount_sum\": 748860639.499999}, {\"date\": \"06/01/2018\", \"trans_id_count\": 2219, \"amount_sum\": 628742836.5699993}, {\"date\": \"06/01/2019\", \"trans_id_count\": 2627, \"amount_sum\": 803857853.7399998}, {\"date\": \"07/01/2017\", \"trans_id_count\": 2587, \"amount_sum\": 550216402.1899998}, {\"date\": \"07/01/2018\", \"trans_id_count\": 2248, \"amount_sum\": 564494816.5900009}, {\"date\": \"07/01/2019\", \"trans_id_count\": 2639, \"amount_sum\": 619956946.0800011}, {\"date\": \"08/01/2017\", \"trans_id_count\": 2489, \"amount_sum\": 663640760.1099995}, {\"date\": \"08/01/2018\", \"trans_id_count\": 2536, \"amount_sum\": 576982888.4699988}, {\"date\": \"08/01/2019\", \"trans_id_count\": 2265, \"amount_sum\": 537341580.6200002}, {\"date\": \"09/01/2017\", \"trans_id_count\": 2307, \"amount_sum\": 597671032.1199996}, {\"date\": \"09/01/2018\", \"trans_id_count\": 2184, \"amount_sum\": 569593683.0699997}, {\"date\": \"09/01/2019\", \"trans_id_count\": 2666, \"amount_sum\": 656167443.5099996}, {\"date\": \"10/01/2017\", \"trans_id_count\": 2517, \"amount_sum\": 497062715.9600003}, {\"date\": \"10/01/2018\", \"trans_id_count\": 2755, \"amount_sum\": 622398359.5200005}, {\"date\": \"10/01/2019\", \"trans_id_count\": 3056, \"amount_sum\": 791808900.1999979}, {\"date\": \"11/01/2017\", \"trans_id_count\": 2492, \"amount_sum\": 580831042.51}, {\"date\": \"11/01/2018\", \"trans_id_count\": 2252, \"amount_sum\": 572734624.7}, {\"date\": \"11/01/2019\", \"trans_id_count\": 2832, \"amount_sum\": 684676704.7699997}, {\"date\": \"12/01/2017\", \"trans_id_count\": 2352, \"amount_sum\": 747828605.7300003}, {\"date\": \"12/01/2018\", \"trans_id_count\": 2234, \"amount_sum\": 768069452.3000005}, {\"date\": \"12/01/2019\", \"trans_id_count\": 2647, \"amount_sum\": 817328727.4200019}]}}, {\"mode\": \"vega-lite\"});\n",
              "</script>"
            ]
          },
          "metadata": {
            "tags": []
          },
          "execution_count": 8
        }
      ]
    }
  ]
}